{
 "cells": [
  {
   "cell_type": "code",
   "execution_count": 2,
   "id": "1e7ccb72-cb5b-4136-9500-99bcacd35714",
   "metadata": {},
   "outputs": [],
   "source": [
    "import xarray as xr\n",
    "import cftime \n",
    "import numpy as np\n",
    "import pandas as pd\n",
    "import matplotlib.pyplot as plt\n",
    "import re\n",
    "import os\n",
    "import time\n",
    "import logging\n",
    "import cartopy.crs as ccrs\n",
    "import metpy  # accessor needed to parse crs\n",
    "import calendar\n",
    "import argparse\n",
    "import seaborn as sns\n",
    "from shapely.geometry import Point\n",
    "import geopandas\n",
    "from geodatasets import get_path\n",
    "import glob"
   ]
  },
  {
   "cell_type": "code",
   "execution_count": 31,
   "id": "f71f43d5-8566-4747-aae7-73c6c258a10f",
   "metadata": {},
   "outputs": [
    {
     "data": {
      "text/plain": [
       "['/home/smmrrr/TEM_output_processed/historical_run/forest_lon_lat_pfts/forests_VEGC12530.csv',\n",
       " '/home/smmrrr/TEM_output_processed/historical_run/forest_lon_lat_pfts/forests_SOILORGC12530.csv',\n",
       " '/home/smmrrr/TEM_output_processed/historical_run/forest_lon_lat_pfts/forests_VEGC13783.csv',\n",
       " '/home/smmrrr/TEM_output_processed/historical_run/forest_lon_lat_pfts/forests_SOILORGC13783.csv',\n",
       " '/home/smmrrr/TEM_output_processed/historical_run/forest_lon_lat_pfts/forests_VEGC15036.csv',\n",
       " '/home/smmrrr/TEM_output_processed/historical_run/forest_lon_lat_pfts/forests_SOILORGC15036.csv',\n",
       " '/home/smmrrr/TEM_output_processed/historical_run/forest_lon_lat_pfts/forests_VEGC16289.csv',\n",
       " '/home/smmrrr/TEM_output_processed/historical_run/forest_lon_lat_pfts/forests_SOILORGC16289.csv',\n",
       " '/home/smmrrr/TEM_output_processed/historical_run/forest_lon_lat_pfts/forests_VEGC17542.csv',\n",
       " '/home/smmrrr/TEM_output_processed/historical_run/forest_lon_lat_pfts/forests_SOILORGC17542.csv']"
      ]
     },
     "execution_count": 31,
     "metadata": {},
     "output_type": "execute_result"
    }
   ],
   "source": [
    "\n",
    "# vegc_paths = glob.glob(r'/home/smmrrr/TEM_output_processed/historical_run/forest_lon_lat_pfts/forests_'+var+'{12530}/*')\n",
    "# soilc_paths = glob.glob(r'/home/smmrrr/TEM_output_processed/historical_run/forest_lon_lat_pfts/forests_'+var+'12530*')\n",
    "# forest_paths = vegc_paths + soilc_paths\n",
    "# forest_paths\n",
    "# var = '[GPP|NPP]'\n",
    "# number = [12530, 13783, 15036, 16289, 17542]\n",
    "# var = '[SOILORGC|VEGC]'\n",
    "# soilc_paths = glob.glob(r'/home/smmrrr/TEM_output_processed/historical_run/forest_lon_lat_pfts/forests_'+var+'*')\n",
    "# soilc_paths\n",
    "files = [\n",
    " '/home/smmrrr/TEM_output_processed/historical_run/forest_lon_lat_pfts/forests_VEGC12530.csv'   \n",
    ", '/home/smmrrr/TEM_output_processed/historical_run/forest_lon_lat_pfts/forests_SOILORGC12530.csv'   \n",
    ", '/home/smmrrr/TEM_output_processed/historical_run/forest_lon_lat_pfts/forests_VEGC13783.csv'   \n",
    ", '/home/smmrrr/TEM_output_processed/historical_run/forest_lon_lat_pfts/forests_SOILORGC13783.csv'   \n",
    ", '/home/smmrrr/TEM_output_processed/historical_run/forest_lon_lat_pfts/forests_VEGC15036.csv'   \n",
    ", '/home/smmrrr/TEM_output_processed/historical_run/forest_lon_lat_pfts/forests_SOILORGC15036.csv'   \n",
    ", '/home/smmrrr/TEM_output_processed/historical_run/forest_lon_lat_pfts/forests_VEGC16289.csv'   \n",
    ", '/home/smmrrr/TEM_output_processed/historical_run/forest_lon_lat_pfts/forests_SOILORGC16289.csv'   \n",
    ", '/home/smmrrr/TEM_output_processed/historical_run/forest_lon_lat_pfts/forests_VEGC17542.csv'   \n",
    ", '/home/smmrrr/TEM_output_processed/historical_run/forest_lon_lat_pfts/forests_SOILORGC17542.csv'   \n",
    "\n",
    "]\n",
    "files\n",
    "# print(len(vegc_paths), ' ', len(soilc_paths))"
   ]
  },
  {
   "cell_type": "code",
   "execution_count": 33,
   "id": "5f94116b-2a09-4a8d-92fc-99aab15a6ebb",
   "metadata": {},
   "outputs": [
    {
     "name": "stdout",
     "output_type": "stream",
     "text": [
      "11326.046899097038\n",
      "37429.41\n",
      "/home/smmrrr/TEM_output_processed/historical_run/forest_lon_lat_pfts/forests_VEGC12530.csv\n",
      "352090\n",
      "5766.03361230075\n",
      "99053.99\n",
      "/home/smmrrr/TEM_output_processed/historical_run/forest_lon_lat_pfts/forests_SOILORGC12530.csv\n",
      "704180\n",
      "11532.777738814313\n",
      "60236.68\n",
      "/home/smmrrr/TEM_output_processed/historical_run/forest_lon_lat_pfts/forests_VEGC13783.csv\n",
      "1005384\n",
      "9695.934862885195\n",
      "363131.8358333334\n",
      "/home/smmrrr/TEM_output_processed/historical_run/forest_lon_lat_pfts/forests_SOILORGC13783.csv\n",
      "1306588\n",
      "7999.481325613213\n",
      "31485.755\n",
      "/home/smmrrr/TEM_output_processed/historical_run/forest_lon_lat_pfts/forests_VEGC15036.csv\n",
      "1782552\n",
      "3885.1199655640257\n",
      "33347.96\n",
      "/home/smmrrr/TEM_output_processed/historical_run/forest_lon_lat_pfts/forests_SOILORGC15036.csv\n",
      "2258516\n",
      "6667.4740061878665\n",
      "32440.0\n",
      "/home/smmrrr/TEM_output_processed/historical_run/forest_lon_lat_pfts/forests_VEGC16289.csv\n",
      "2658922\n",
      "3542.0595119547884\n",
      "22261.41\n",
      "/home/smmrrr/TEM_output_processed/historical_run/forest_lon_lat_pfts/forests_SOILORGC16289.csv\n",
      "3059328\n",
      "7993.481822798618\n",
      "31120.33\n",
      "/home/smmrrr/TEM_output_processed/historical_run/forest_lon_lat_pfts/forests_VEGC17542.csv\n",
      "3388802\n",
      "3528.101925971789\n",
      "21458.59\n",
      "/home/smmrrr/TEM_output_processed/historical_run/forest_lon_lat_pfts/forests_SOILORGC17542.csv\n",
      "3718276\n"
     ]
    }
   ],
   "source": [
    "all_grids = pd.DataFrame( columns = [ 'year', 'lon', 'lat', 'variable','current_veg',\n",
    "       'cohort_area', 'land_area', 'value',  'temp', 'value_weight'])\n",
    "\n",
    "# a\n",
    "for file in files:\n",
    "    grids = pd.read_csv(file)\n",
    "    \n",
    "    print(grids.value.mean())\n",
    "    print(grids.value.max())\n",
    "\n",
    "    if len(grids) >0:\n",
    "        aggregations = {\n",
    "         'cohort_area':'sum',\n",
    "         'land_area':'sum',\n",
    "         'value':'mean',\n",
    "            'temp':'sum'\n",
    "        }\n",
    "        grids['temp'] = grids['value_weight'] * grids['cohort_area'] \n",
    "\n",
    "\n",
    "        grids = grids.groupby([\n",
    "               'year', 'lon', 'lat', 'variable','current_veg']).agg(\n",
    "        aggregations\n",
    "        )\n",
    "\n",
    "\n",
    "        # all_grids =  all_grids.reset_index()\n",
    "\n",
    "        grids['value_weight'] = grids['temp']/grids['cohort_area']\n",
    "        grids = grids.reset_index()\n",
    "\n",
    "        all_grids = pd.concat([all_grids, grids])\n",
    "        \n",
    "        \n",
    "    print(file)\n",
    "    print(len(all_grids))\n",
    "all_grids.to_csv('amazon_loop_output_vegc_soilc_historical.csv')    "
   ]
  }
 ],
 "metadata": {
  "kernelspec": {
   "display_name": "condaforge",
   "language": "python",
   "name": "condaforge"
  },
  "language_info": {
   "codemirror_mode": {
    "name": "ipython",
    "version": 3
   },
   "file_extension": ".py",
   "mimetype": "text/x-python",
   "name": "python",
   "nbconvert_exporter": "python",
   "pygments_lexer": "ipython3",
   "version": "3.10.6"
  }
 },
 "nbformat": 4,
 "nbformat_minor": 5
}
