{
 "cells": [
  {
   "cell_type": "code",
   "execution_count": 1,
   "id": "c54f036a-ee82-4bef-8189-0ed658242e68",
   "metadata": {},
   "outputs": [],
   "source": [
    "import xarray as xr\n",
    "import cftime \n",
    "import numpy as np\n",
    "import pandas as pd\n",
    "import matplotlib.pyplot as plt\n",
    "import re\n",
    "import os\n",
    "import time\n",
    "import logging\n",
    "import cartopy.crs as ccrs\n",
    "import metpy  # accessor needed to parse crs\n",
    "import calendar\n",
    "import argparse\n",
    "import seaborn as sns\n",
    "from shapely.geometry import Point\n",
    "import geopandas\n",
    "from geodatasets import get_path\n",
    "import glob"
   ]
  }
 ],
 "metadata": {
  "kernelspec": {
   "display_name": "condaforge",
   "language": "python",
   "name": "condaforge"
  },
  "language_info": {
   "codemirror_mode": {
    "name": "ipython",
    "version": 3
   },
   "file_extension": ".py",
   "mimetype": "text/x-python",
   "name": "python",
   "nbconvert_exporter": "python",
   "pygments_lexer": "ipython3",
   "version": "3.10.6"
  }
 },
 "nbformat": 4,
 "nbformat_minor": 5
}
