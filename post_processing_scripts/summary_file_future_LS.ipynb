{
 "cells": [
  {
   "cell_type": "code",
   "execution_count": 1,
   "id": "7f9ac462-ccbb-4a05-a3c8-c9a3735342f2",
   "metadata": {},
   "outputs": [],
   "source": [
    "import xarray as xr\n",
    "import cftime \n",
    "import numpy as np\n",
    "import pandas as pd\n",
    "import matplotlib.pyplot as plt\n",
    "import re\n",
    "import os\n",
    "import time\n",
    "import logging\n",
    "import cartopy.crs as ccrs\n",
    "import metpy  \n",
    "import calendar\n",
    "import argparse\n",
    "import glob"
   ]
  },
  {
   "cell_type": "code",
   "execution_count": 5,
   "id": "64a1f0af-ea35-4df4-867c-4be85e440eaa",
   "metadata": {},
   "outputs": [],
   "source": [
    "ensemble_dir = '/group/moniergrp/TEM_Large_Ensemble/run_support_files/large_ensemble/'\n",
    "region = 'region_5/'\n",
    "scenario_paths = [\n",
    "'ssp126/AWIxxCMxx1xx1xxMR',\n",
    "'ssp245/AWIxxCMxx1xx1xxMR',\n",
    "'ssp370/AWIxxCMxx1xx1xxMR',\n",
    "'ssp585/AWIxxCMxx1xx1xxMR',\n",
    "'ssp126/BCCxxCSM2xxMR',\n",
    "'ssp245/BCCxxCSM2xxMR',\n",
    "'ssp370/BCCxxCSM2xxMR',\n",
    "'ssp585/BCCxxCSM2xxMR',\n",
    "'ssp126/MIROC6',\n",
    "'ssp245/MIROC6',\n",
    "'ssp370/MIROC6',\n",
    "'ssp585/MIROC6',\n",
    "'ssp126/MPIxxESM1xx2xxHR',\n",
    "'ssp245/MPIxxESM1xx2xxHR',\n",
    "'ssp370/MPIxxESM1xx2xxHR',\n",
    "'ssp585/MPIxxESM1xx2xxHR',\n",
    "'ssp126/MPIxxESM1xx2xxLR',\n",
    "'ssp245/MPIxxESM1xx2xxLR',\n",
    "'ssp370/MPIxxESM1xx2xxLR',\n",
    "'ssp585/MPIxxESM1xx2xxLR',\n",
    "'ssp126/MRIxxESM2xx0',\n",
    "'ssp245/MRIxxESM2xx0',\n",
    "'ssp370/MRIxxESM2xx0',\n",
    "'ssp585/MRIxxESM2xx0',\n",
    "'ssp434/MIROC6',\n",
    "'ssp460/MIROC6',\n",
    "'ssp434/MRIxxESM2xx0',\n",
    "'ssp460/MRIxxESM2xx0',\n",
    "'ssp245/CanESM5',\n",
    "'ssp585/CanESM5'\n",
    "]\n",
    "models = ['AWIxxCMxx1xx1xxMR', 'BCCxxCSM2xxMR', 'CanESM5', 'MIROC6', 'MPIxxESM1xx2xxHR', 'MPIxxESM1xx2xxLR', 'MRIxxESM2xx0']\n",
    "output_dir = '/group/moniergrp/TEM_Large_Ensemble/output_files/' "
   ]
  },
  {
   "cell_type": "code",
   "execution_count": 6,
   "id": "afbe3115-d0ce-4b06-baa3-ea95054ccb11",
   "metadata": {},
   "outputs": [
    {
     "data": {
      "text/plain": [
       "30"
      ]
     },
     "execution_count": 6,
     "metadata": {},
     "output_type": "execute_result"
    }
   ],
   "source": [
    "len(scenario_paths)"
   ]
  },
  {
   "cell_type": "code",
   "execution_count": 8,
   "id": "2cee5a13-69f7-4a13-a6a5-c74e2f978298",
   "metadata": {},
   "outputs": [],
   "source": [
    "path_summary = pd.DataFrame(columns=['variable', 'grid_group', 'scenario', 'model', 'time_period'])\n",
    "for i in range(len(models)):\n",
    "    tt = pd.DataFrame(os.listdir(ensemble_dir+region+'pre_data/'+models[i]+'/var_out/'), columns=['path'])\n",
    "    tt[['variable','grid_group']] = tt['path'].str.split('.csv',expand=True)\n",
    "    tt['model'] = models[i]\n",
    "    tt['time_period'] = 'pre_data'\n",
    "    tt['path'] = 'pre_data/'+ models[i] +'/var_out/'+ tt['path'] \n",
    "    path_summary = pd.concat([path_summary, tt])        \n",
    "path_summary.to_csv(output_dir+region+'pre_data_path_summary.csv', index=False )\n",
    "\n",
    "path_summary = pd.DataFrame(columns=['variable', 'grid_group', 'model', 'time_period'])\n",
    "for i in range(len(models)):\n",
    "    tt = pd.DataFrame(os.listdir(ensemble_dir+region+'historical/'+models[i]+'/var_out/'), columns=['path'])\n",
    "    tt[['variable','grid_group']] = tt['path'].str.split('.csv',expand=True)\n",
    "    tt['model'] = models[i]\n",
    "    tt['time_period'] = 'historical'\n",
    "    tt['path'] = 'historical/'+ models[i] +'/var_out/'+ tt['path'] \n",
    "    path_summary = pd.concat([path_summary, tt])        \n",
    "path_summary.to_csv(output_dir+region+'historical_path_summary.csv', index=False )\n",
    "\n",
    "path_summary = pd.DataFrame(columns=['variable', 'grid_group', 'model', 'time_period'])\n",
    "for i in range(len(scenario_paths)):\n",
    "    tt = pd.DataFrame(os.listdir(ensemble_dir+region+'future/'+scenario_paths[i]+'/var_out/'), columns=['path'])\n",
    "    tt[['variable','grid_group']] = tt['path'].str.split('.csv',expand=True)\n",
    "    tt['scenario'] = scenario_paths[i]\n",
    "    tt[['scenario','model']] = tt['scenario'].str.split('/',expand=True)\n",
    "    tt['time_period'] = 'future'\n",
    "    tt['path'] = 'future/'+ scenario_paths[i] +'/var_out/'+ tt['path'] \n",
    "    path_summary = pd.concat([path_summary, tt]) \n",
    "path_summary.to_csv(output_dir+region+'future_path_summary.csv', index=False )\n"
   ]
  }
 ],
 "metadata": {
  "kernelspec": {
   "display_name": "condaforge",
   "language": "python",
   "name": "condaforge"
  },
  "language_info": {
   "codemirror_mode": {
    "name": "ipython",
    "version": 3
   },
   "file_extension": ".py",
   "mimetype": "text/x-python",
   "name": "python",
   "nbconvert_exporter": "python",
   "pygments_lexer": "ipython3",
   "version": "3.10.6"
  }
 },
 "nbformat": 4,
 "nbformat_minor": 5
}
