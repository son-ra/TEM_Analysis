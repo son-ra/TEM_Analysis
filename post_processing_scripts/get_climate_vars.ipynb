{
 "cells": [
  {
   "cell_type": "code",
   "execution_count": 2,
   "id": "04caba5c-6040-43e0-9763-14b6de335c8e",
   "metadata": {},
   "outputs": [],
   "source": [
    "\n",
    "import xarray as xr\n",
    "import cftime \n",
    "import numpy as np\n",
    "import pandas as pd\n",
    "import matplotlib.pyplot as plt\n",
    "import re\n",
    "import os\n",
    "import time\n",
    "import logging\n",
    "import cartopy.crs as ccrs\n",
    "import metpy  # accessor needed to parse crs\n",
    "import calendar\n",
    "import argparse\n",
    "import seaborn as sns\n",
    "from shapely.geometry import Point\n",
    "import geopandas\n",
    "from geodatasets import get_path\n",
    "import glob\n",
    "import os"
   ]
  },
  {
   "cell_type": "code",
   "execution_count": 4,
   "id": "1bb4ff92-9ecc-4bc1-be3a-b5e1f48698fd",
   "metadata": {},
   "outputs": [],
   "source": [
    "input_dir_path = '/group/moniergrp/TEM_Large_Ensemble/input_files/large_ensemble/' \n",
    "output_dir_path = '/group/moniergrp/TEM_Large_Ensemble/output_files/' \n",
    "region = 'region_1/'"
   ]
  },
  {
   "cell_type": "code",
   "execution_count": 8,
   "id": "57590da1-c5c9-44c8-96f8-a7393136a821",
   "metadata": {},
   "outputs": [],
   "source": [
    "clm_files = pd.DataFrame({'path':os.listdir(input_dir_path+region+'climate/future/')})\n",
    "clm_files[['model', 'scenario', 'variable']] = clm_files['path'].str.split('_',expand=True)"
   ]
  },
  {
   "cell_type": "code",
   "execution_count": 18,
   "id": "e314953e-0342-463a-ad23-09f11773b427",
   "metadata": {},
   "outputs": [],
   "source": [
    "clm_files['model_scenario'] = clm_files['model'] + clm_files['scenario']"
   ]
  },
  {
   "cell_type": "code",
   "execution_count": 19,
   "id": "bf23fedd-7330-4038-9cb1-1e77f18cc2c4",
   "metadata": {},
   "outputs": [
    {
     "data": {
      "text/plain": [
       "array(['MPIxxESM1xx2xxHRssp585', 'MRIxxESM2xx0ssp460',\n",
       "       'MPIxxESM1xx2xxHRssp126', 'BCCxxCSM2xxMRssp370',\n",
       "       'AWIxxCMxx1xx1xxMRssp126', 'MPIxxESM1xx2xxLRssp370',\n",
       "       'CanESM5ssp460', 'MPIxxESM1xx2xxLRssp245', 'MRIxxESM2xx0ssp245',\n",
       "       'MIROC6ssp434', 'CanESM5ssp245', 'MIROC6ssp460',\n",
       "       'AWIxxCMxx1xx1xxMRssp585', 'MRIxxESM2xx0ssp434',\n",
       "       'MPIxxESM1xx2xxHRssp245', 'CanESM5ssp585',\n",
       "       'AWIxxCMxx1xx1xxMRssp245', 'MPIxxESM1xx2xxLRssp126',\n",
       "       'AWIxxCMxx1xx1xxMRssp370', 'MPIxxESM1xx2xxHRssp370',\n",
       "       'MPIxxESM1xx2xxLRssp585', 'CanESM5ssp434', 'MIROC6ssp245',\n",
       "       'BCCxxCSM2xxMRssp126', 'BCCxxCSM2xxMRssp585', 'MIROC6ssp370',\n",
       "       'MRIxxESM2xx0ssp370', 'MIROC6ssp119', 'MRIxxESM2xx0ssp119',\n",
       "       'MIROC6ssp585', 'BCCxxCSM2xxMRssp245', 'MRIxxESM2xx0ssp585',\n",
       "       'MRIxxESM2xx0ssp126', 'MIROC6ssp126'], dtype=object)"
      ]
     },
     "execution_count": 19,
     "metadata": {},
     "output_type": "execute_result"
    }
   ],
   "source": [
    "clm_files['model_scenario'].unique()"
   ]
  },
  {
   "cell_type": "code",
   "execution_count": 13,
   "id": "e80acc29-3a18-4d14-94a0-ced8dd3b1795",
   "metadata": {},
   "outputs": [],
   "source": [
    "input_col_names = ['lon', 'lat','var' ,'Area', 'year', 'sum', 'max', 'average'\n",
    "         , 'min', 'Jan', 'Feb', 'Mar', 'Apr', 'May', 'Jun', 'Jul', 'Aug', 'Sep', 'Oct'\n",
    "         , 'Nov', 'Dec', 'Area_Name']"
   ]
  },
  {
   "cell_type": "code",
   "execution_count": 14,
   "id": "64772b7e-f783-4b44-88ff-c8b17f9c9e84",
   "metadata": {},
   "outputs": [],
   "source": [
    "i=0\n",
    "clm = pd.read_csv(input_dir_path+region+'climate/future/'+clm_files.loc[i,'path'], names = input_col_names )\n",
    "# clm\n",
    "var = clm.loc[0,'var'].replace(\" \", \"\")\n",
    "clm = clm[['lon', 'lat', 'Area', 'year', 'average', 'min', 'max']]\n",
    "clm=clm.rename(columns={'average':var+'_avg'\n",
    "                        ,'min':var+'_min'\n",
    "                        ,'max':var+'_max'})"
   ]
  },
  {
   "cell_type": "code",
   "execution_count": 15,
   "id": "3af3a249-9f98-4bbd-ae75-5317cc38238e",
   "metadata": {},
   "outputs": [
    {
     "data": {
      "text/html": [
       "<div>\n",
       "<style scoped>\n",
       "    .dataframe tbody tr th:only-of-type {\n",
       "        vertical-align: middle;\n",
       "    }\n",
       "\n",
       "    .dataframe tbody tr th {\n",
       "        vertical-align: top;\n",
       "    }\n",
       "\n",
       "    .dataframe thead th {\n",
       "        text-align: right;\n",
       "    }\n",
       "</style>\n",
       "<table border=\"1\" class=\"dataframe\">\n",
       "  <thead>\n",
       "    <tr style=\"text-align: right;\">\n",
       "      <th></th>\n",
       "      <th>lon</th>\n",
       "      <th>lat</th>\n",
       "      <th>Area</th>\n",
       "      <th>year</th>\n",
       "      <th>tair_avg</th>\n",
       "      <th>tair_min</th>\n",
       "      <th>tair_max</th>\n",
       "    </tr>\n",
       "  </thead>\n",
       "  <tbody>\n",
       "    <tr>\n",
       "      <th>0</th>\n",
       "      <td>-177.0</td>\n",
       "      <td>-44.0</td>\n",
       "      <td>991</td>\n",
       "      <td>2015</td>\n",
       "      <td>14.08</td>\n",
       "      <td>11.35</td>\n",
       "      <td>16.73</td>\n",
       "    </tr>\n",
       "    <tr>\n",
       "      <th>1</th>\n",
       "      <td>-177.0</td>\n",
       "      <td>-44.0</td>\n",
       "      <td>991</td>\n",
       "      <td>2016</td>\n",
       "      <td>14.21</td>\n",
       "      <td>10.86</td>\n",
       "      <td>18.55</td>\n",
       "    </tr>\n",
       "    <tr>\n",
       "      <th>2</th>\n",
       "      <td>-177.0</td>\n",
       "      <td>-44.0</td>\n",
       "      <td>991</td>\n",
       "      <td>2017</td>\n",
       "      <td>14.09</td>\n",
       "      <td>11.07</td>\n",
       "      <td>17.66</td>\n",
       "    </tr>\n",
       "    <tr>\n",
       "      <th>3</th>\n",
       "      <td>-177.0</td>\n",
       "      <td>-44.0</td>\n",
       "      <td>991</td>\n",
       "      <td>2018</td>\n",
       "      <td>13.94</td>\n",
       "      <td>11.23</td>\n",
       "      <td>17.45</td>\n",
       "    </tr>\n",
       "    <tr>\n",
       "      <th>4</th>\n",
       "      <td>-177.0</td>\n",
       "      <td>-44.0</td>\n",
       "      <td>991</td>\n",
       "      <td>2019</td>\n",
       "      <td>13.49</td>\n",
       "      <td>11.15</td>\n",
       "      <td>17.17</td>\n",
       "    </tr>\n",
       "    <tr>\n",
       "      <th>...</th>\n",
       "      <td>...</td>\n",
       "      <td>...</td>\n",
       "      <td>...</td>\n",
       "      <td>...</td>\n",
       "      <td>...</td>\n",
       "      <td>...</td>\n",
       "      <td>...</td>\n",
       "    </tr>\n",
       "    <tr>\n",
       "      <th>55293</th>\n",
       "      <td>-120.0</td>\n",
       "      <td>54.0</td>\n",
       "      <td>1806</td>\n",
       "      <td>2096</td>\n",
       "      <td>7.02</td>\n",
       "      <td>-8.48</td>\n",
       "      <td>24.29</td>\n",
       "    </tr>\n",
       "    <tr>\n",
       "      <th>55294</th>\n",
       "      <td>-120.0</td>\n",
       "      <td>54.0</td>\n",
       "      <td>1806</td>\n",
       "      <td>2097</td>\n",
       "      <td>7.45</td>\n",
       "      <td>-5.29</td>\n",
       "      <td>21.70</td>\n",
       "    </tr>\n",
       "    <tr>\n",
       "      <th>55295</th>\n",
       "      <td>-120.0</td>\n",
       "      <td>54.0</td>\n",
       "      <td>1806</td>\n",
       "      <td>2098</td>\n",
       "      <td>7.44</td>\n",
       "      <td>-3.74</td>\n",
       "      <td>21.88</td>\n",
       "    </tr>\n",
       "    <tr>\n",
       "      <th>55296</th>\n",
       "      <td>-120.0</td>\n",
       "      <td>54.0</td>\n",
       "      <td>1806</td>\n",
       "      <td>2099</td>\n",
       "      <td>7.68</td>\n",
       "      <td>-6.01</td>\n",
       "      <td>21.38</td>\n",
       "    </tr>\n",
       "    <tr>\n",
       "      <th>55297</th>\n",
       "      <td>-120.0</td>\n",
       "      <td>54.0</td>\n",
       "      <td>1806</td>\n",
       "      <td>2100</td>\n",
       "      <td>7.53</td>\n",
       "      <td>-4.13</td>\n",
       "      <td>19.75</td>\n",
       "    </tr>\n",
       "  </tbody>\n",
       "</table>\n",
       "<p>55298 rows × 7 columns</p>\n",
       "</div>"
      ],
      "text/plain": [
       "         lon   lat  Area  year  tair_avg  tair_min  tair_max\n",
       "0     -177.0 -44.0   991  2015     14.08     11.35     16.73\n",
       "1     -177.0 -44.0   991  2016     14.21     10.86     18.55\n",
       "2     -177.0 -44.0   991  2017     14.09     11.07     17.66\n",
       "3     -177.0 -44.0   991  2018     13.94     11.23     17.45\n",
       "4     -177.0 -44.0   991  2019     13.49     11.15     17.17\n",
       "...      ...   ...   ...   ...       ...       ...       ...\n",
       "55293 -120.0  54.0  1806  2096      7.02     -8.48     24.29\n",
       "55294 -120.0  54.0  1806  2097      7.45     -5.29     21.70\n",
       "55295 -120.0  54.0  1806  2098      7.44     -3.74     21.88\n",
       "55296 -120.0  54.0  1806  2099      7.68     -6.01     21.38\n",
       "55297 -120.0  54.0  1806  2100      7.53     -4.13     19.75\n",
       "\n",
       "[55298 rows x 7 columns]"
      ]
     },
     "execution_count": 15,
     "metadata": {},
     "output_type": "execute_result"
    }
   ],
   "source": [
    "clm"
   ]
  },
  {
   "cell_type": "code",
   "execution_count": 23,
   "id": "b33b9f23-dc91-4d72-a160-71eea6cdb41a",
   "metadata": {},
   "outputs": [
    {
     "data": {
      "text/plain": [
       "Index(['lon', 'lat', 'Area', 'year', 'tair_avg', 'tair_min', 'tair_max',\n",
       "       'trange_avg', 'trange_min', 'trange_max', 'wind_avg', 'wind_min',\n",
       "       'wind_max', 'nirr_avg', 'nirr_min', 'nirr_max', 'vpr_avg', 'vpr_min',\n",
       "       'vpr_max', 'prec_avg', 'prec_min', 'prec_max', 'model', 'scenario'],\n",
       "      dtype='object')"
      ]
     },
     "execution_count": 23,
     "metadata": {},
     "output_type": "execute_result"
    }
   ],
   "source": [
    "clm_merge.columns"
   ]
  },
  {
   "cell_type": "code",
   "execution_count": 26,
   "id": "5856a043-9edb-4f2f-9477-3d73c8ebfbdd",
   "metadata": {},
   "outputs": [
    {
     "name": "stdout",
     "output_type": "stream",
     "text": [
      "6 MPIxxESM1xx2xxHRssp585\n",
      "6 MRIxxESM2xx0ssp460\n",
      "6 MPIxxESM1xx2xxHRssp126\n",
      "6 BCCxxCSM2xxMRssp370\n",
      "6 AWIxxCMxx1xx1xxMRssp126\n",
      "6 MPIxxESM1xx2xxLRssp370\n",
      "6 CanESM5ssp460\n",
      "6 MPIxxESM1xx2xxLRssp245\n",
      "6 MRIxxESM2xx0ssp245\n",
      "6 MIROC6ssp434\n",
      "6 CanESM5ssp245\n",
      "6 MIROC6ssp460\n",
      "6 AWIxxCMxx1xx1xxMRssp585\n",
      "6 MRIxxESM2xx0ssp434\n",
      "6 MPIxxESM1xx2xxHRssp245\n",
      "6 CanESM5ssp585\n",
      "6 AWIxxCMxx1xx1xxMRssp245\n",
      "6 MPIxxESM1xx2xxLRssp126\n",
      "6 AWIxxCMxx1xx1xxMRssp370\n",
      "6 MPIxxESM1xx2xxHRssp370\n",
      "6 MPIxxESM1xx2xxLRssp585\n",
      "6 CanESM5ssp434\n",
      "6 MIROC6ssp245\n",
      "6 BCCxxCSM2xxMRssp126\n",
      "6 BCCxxCSM2xxMRssp585\n",
      "6 MIROC6ssp370\n",
      "6 MRIxxESM2xx0ssp370\n",
      "6 MIROC6ssp119\n",
      "6 MRIxxESM2xx0ssp119\n",
      "6 MIROC6ssp585\n",
      "6 BCCxxCSM2xxMRssp245\n",
      "6 MRIxxESM2xx0ssp585\n",
      "6 MRIxxESM2xx0ssp126\n",
      "6 MIROC6ssp126\n"
     ]
    }
   ],
   "source": [
    "all_model_scenarios = pd.DataFrame(columns = ['model', 'scenario','lon', 'lat', 'Area', 'year', 'tair_avg', 'tair_min', 'tair_max',\n",
    "       'trange_avg', 'trange_min', 'trange_max', 'wind_avg', 'wind_min',\n",
    "       'wind_max', 'nirr_avg', 'nirr_min', 'nirr_max', 'vpr_avg', 'vpr_min',\n",
    "       'vpr_max', 'prec_avg', 'prec_min', 'prec_max'])\n",
    "model_scenarios = clm_files['model_scenario'].unique()\n",
    "\n",
    "for m_s in model_scenarios:\n",
    "    loop_clm_files = clm_files.loc[clm_files['model_scenario'] == m_s].reset_index()\n",
    "    for i in range(len(loop_clm_files)):\n",
    "        clm = pd.read_csv(input_dir_path+region+'climate/future/'+loop_clm_files.loc[i,'path'], names = input_col_names )\n",
    "        var = clm.loc[0,'var'].replace(\" \", \"\")\n",
    "        clm = clm[['lon', 'lat', 'Area', 'year', 'average', 'min', 'max']]\n",
    "        clm=clm.rename(columns={'average':var+'_avg'\n",
    "                                ,'min':var+'_min'\n",
    "                                ,'max':var+'_max'})\n",
    "\n",
    "        if (i==0):\n",
    "            clm_merge = clm\n",
    "        else:\n",
    "            clm_merge = clm_merge.merge(clm, on = ['lon', 'lat', 'Area', 'year'])\n",
    "        # print(len(clm_merge))\n",
    "        # print(clm_merge.columns)\n",
    "    clm_merge['model'] = loop_clm_files.loc[0, 'model']\n",
    "    clm_merge['scenario'] = loop_clm_files.loc[0, 'scenario']\n",
    "    all_model_scenarios = pd.concat([all_model_scenarios, clm_merge])\n",
    "    print(str(len(loop_clm_files)), m_s)\n",
    "all_model_scenarios.to_csv(\n",
    "    output_dir_path+region+'future_climate_inputs.csv'\n",
    ",index=False)"
   ]
  },
  {
   "cell_type": "code",
   "execution_count": 27,
   "id": "d9fe7d9a-64b1-44b8-8a70-17c21ab3aeb3",
   "metadata": {},
   "outputs": [],
   "source": [
    "all_model_scenarios.to_csv(\n",
    "    output_dir_path+region+'future_climate_inputs.csv'\n",
    ",index=False)"
   ]
  }
 ],
 "metadata": {
  "kernelspec": {
   "display_name": "condaforge",
   "language": "python",
   "name": "condaforge"
  },
  "language_info": {
   "codemirror_mode": {
    "name": "ipython",
    "version": 3
   },
   "file_extension": ".py",
   "mimetype": "text/x-python",
   "name": "python",
   "nbconvert_exporter": "python",
   "pygments_lexer": "ipython3",
   "version": "3.10.6"
  }
 },
 "nbformat": 4,
 "nbformat_minor": 5
}
