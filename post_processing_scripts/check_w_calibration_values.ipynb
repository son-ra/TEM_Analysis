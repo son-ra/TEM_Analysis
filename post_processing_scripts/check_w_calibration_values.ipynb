{
 "cells": [
  {
   "cell_type": "code",
   "execution_count": 1,
   "id": "baec8de1-c021-4db7-a345-39b93e35e34f",
   "metadata": {},
   "outputs": [],
   "source": [
    "import xarray as xr\n",
    "import cftime \n",
    "import numpy as np\n",
    "import pandas as pd\n",
    "import matplotlib.pyplot as plt\n",
    "import re\n",
    "import os\n",
    "import time\n",
    "import logging\n",
    "import cartopy.crs as ccrs\n",
    "import metpy  \n",
    "import calendar\n",
    "import argparse\n",
    "import glob"
   ]
  },
  {
   "cell_type": "code",
   "execution_count": 49,
   "id": "312e6988-1f16-4eae-82d1-685513cd20f3",
   "metadata": {},
   "outputs": [],
   "source": [
    "var = 'NPP'\n",
    "paths = glob.glob('/home/smmrrr/TEM_output_processed/first_checks_parallel/lon_lat_pfts/'+var+'*')\n"
   ]
  },
  {
   "cell_type": "code",
   "execution_count": 30,
   "id": "4fb402a2-b9f9-45b8-9cad-2f3c0c9fbe38",
   "metadata": {},
   "outputs": [
    {
     "data": {
      "text/html": [
       "<div>\n",
       "<style scoped>\n",
       "    .dataframe tbody tr th:only-of-type {\n",
       "        vertical-align: middle;\n",
       "    }\n",
       "\n",
       "    .dataframe tbody tr th {\n",
       "        vertical-align: top;\n",
       "    }\n",
       "\n",
       "    .dataframe thead th {\n",
       "        text-align: right;\n",
       "    }\n",
       "</style>\n",
       "<table border=\"1\" class=\"dataframe\">\n",
       "  <thead>\n",
       "    <tr style=\"text-align: right;\">\n",
       "      <th></th>\n",
       "      <th>variable</th>\n",
       "      <th>pft</th>\n",
       "      <th>stand_age_interval_min</th>\n",
       "      <th>cohort_area</th>\n",
       "      <th>land_area</th>\n",
       "      <th>value</th>\n",
       "      <th>temp_weight</th>\n",
       "      <th>value_weight</th>\n",
       "      <th>current_veg</th>\n",
       "      <th>forest_type</th>\n",
       "      <th>...</th>\n",
       "      <th>par</th>\n",
       "      <th>tair</th>\n",
       "      <th>nirr</th>\n",
       "      <th>vpr</th>\n",
       "      <th>lon</th>\n",
       "      <th>lat</th>\n",
       "      <th>Area</th>\n",
       "      <th>year</th>\n",
       "      <th>month</th>\n",
       "      <th>ws10</th>\n",
       "    </tr>\n",
       "  </thead>\n",
       "  <tbody>\n",
       "  </tbody>\n",
       "</table>\n",
       "<p>0 rows × 21 columns</p>\n",
       "</div>"
      ],
      "text/plain": [
       "Empty DataFrame\n",
       "Columns: [variable, pft, stand_age_interval_min, cohort_area, land_area, value, temp_weight, value_weight, current_veg, forest_type, prec, par, tair, nirr, vpr, lon, lat, Area, year, month, ws10]\n",
       "Index: []\n",
       "\n",
       "[0 rows x 21 columns]"
      ]
     },
     "execution_count": 30,
     "metadata": {},
     "output_type": "execute_result"
    }
   ],
   "source": [
    "lonlat"
   ]
  },
  {
   "cell_type": "code",
   "execution_count": 50,
   "id": "5511c051-ec8b-463c-b0ff-ca07d9b273ca",
   "metadata": {},
   "outputs": [
    {
     "name": "stderr",
     "output_type": "stream",
     "text": [
      "/tmp/ipykernel_482020/1831831850.py:4: DtypeWarning: Columns (13) have mixed types. Specify dtype option on import or set low_memory=False.\n",
      "  lonlat = pd.read_csv(path)\n"
     ]
    },
    {
     "name": "stdout",
     "output_type": "stream",
     "text": [
      "/home/smmrrr/TEM_output_processed/first_checks_parallel/lon_lat_pfts/NPP42602.csv\n",
      "/home/smmrrr/TEM_output_processed/first_checks_parallel/lon_lat_pfts/NPP27566.csv\n"
     ]
    },
    {
     "name": "stderr",
     "output_type": "stream",
     "text": [
      "/tmp/ipykernel_482020/1831831850.py:4: DtypeWarning: Columns (13) have mixed types. Specify dtype option on import or set low_memory=False.\n",
      "  lonlat = pd.read_csv(path)\n"
     ]
    },
    {
     "name": "stdout",
     "output_type": "stream",
     "text": [
      "/home/smmrrr/TEM_output_processed/first_checks_parallel/lon_lat_pfts/NPP10024.csv\n"
     ]
    },
    {
     "name": "stderr",
     "output_type": "stream",
     "text": [
      "/tmp/ipykernel_482020/1831831850.py:4: DtypeWarning: Columns (13) have mixed types. Specify dtype option on import or set low_memory=False.\n",
      "  lonlat = pd.read_csv(path)\n"
     ]
    },
    {
     "name": "stdout",
     "output_type": "stream",
     "text": [
      "/home/smmrrr/TEM_output_processed/first_checks_parallel/lon_lat_pfts/NPP38843.csv\n"
     ]
    },
    {
     "name": "stderr",
     "output_type": "stream",
     "text": [
      "/tmp/ipykernel_482020/1831831850.py:4: DtypeWarning: Columns (13) have mixed types. Specify dtype option on import or set low_memory=False.\n",
      "  lonlat = pd.read_csv(path)\n"
     ]
    },
    {
     "name": "stdout",
     "output_type": "stream",
     "text": [
      "/home/smmrrr/TEM_output_processed/first_checks_parallel/lon_lat_pfts/NPP26313.csv\n"
     ]
    },
    {
     "name": "stderr",
     "output_type": "stream",
     "text": [
      "/tmp/ipykernel_482020/1831831850.py:4: DtypeWarning: Columns (13) have mixed types. Specify dtype option on import or set low_memory=False.\n",
      "  lonlat = pd.read_csv(path)\n"
     ]
    },
    {
     "name": "stdout",
     "output_type": "stream",
     "text": [
      "/home/smmrrr/TEM_output_processed/first_checks_parallel/lon_lat_pfts/NPP12530.csv\n"
     ]
    },
    {
     "name": "stderr",
     "output_type": "stream",
     "text": [
      "/tmp/ipykernel_482020/1831831850.py:4: DtypeWarning: Columns (13) have mixed types. Specify dtype option on import or set low_memory=False.\n",
      "  lonlat = pd.read_csv(path)\n"
     ]
    },
    {
     "name": "stdout",
     "output_type": "stream",
     "text": [
      "/home/smmrrr/TEM_output_processed/first_checks_parallel/lon_lat_pfts/NPP11277.csv\n"
     ]
    },
    {
     "name": "stderr",
     "output_type": "stream",
     "text": [
      "/tmp/ipykernel_482020/1831831850.py:4: DtypeWarning: Columns (13) have mixed types. Specify dtype option on import or set low_memory=False.\n",
      "  lonlat = pd.read_csv(path)\n"
     ]
    },
    {
     "name": "stdout",
     "output_type": "stream",
     "text": [
      "/home/smmrrr/TEM_output_processed/first_checks_parallel/lon_lat_pfts/NPP31325.csv\n"
     ]
    },
    {
     "name": "stderr",
     "output_type": "stream",
     "text": [
      "/tmp/ipykernel_482020/1831831850.py:4: DtypeWarning: Columns (13) have mixed types. Specify dtype option on import or set low_memory=False.\n",
      "  lonlat = pd.read_csv(path)\n"
     ]
    },
    {
     "name": "stdout",
     "output_type": "stream",
     "text": [
      "/home/smmrrr/TEM_output_processed/first_checks_parallel/lon_lat_pfts/NPP58891.csv\n"
     ]
    },
    {
     "name": "stderr",
     "output_type": "stream",
     "text": [
      "/tmp/ipykernel_482020/1831831850.py:4: DtypeWarning: Columns (13) have mixed types. Specify dtype option on import or set low_memory=False.\n",
      "  lonlat = pd.read_csv(path)\n"
     ]
    },
    {
     "name": "stdout",
     "output_type": "stream",
     "text": [
      "/home/smmrrr/TEM_output_processed/first_checks_parallel/lon_lat_pfts/NPP8771.csv\n"
     ]
    },
    {
     "name": "stderr",
     "output_type": "stream",
     "text": [
      "/tmp/ipykernel_482020/1831831850.py:4: DtypeWarning: Columns (13) have mixed types. Specify dtype option on import or set low_memory=False.\n",
      "  lonlat = pd.read_csv(path)\n"
     ]
    },
    {
     "name": "stdout",
     "output_type": "stream",
     "text": [
      "/home/smmrrr/TEM_output_processed/first_checks_parallel/lon_lat_pfts/NPP16289.csv\n",
      "/home/smmrrr/TEM_output_processed/first_checks_parallel/lon_lat_pfts/NPP52626.csv\n"
     ]
    },
    {
     "name": "stderr",
     "output_type": "stream",
     "text": [
      "/tmp/ipykernel_482020/1831831850.py:4: DtypeWarning: Columns (13) have mixed types. Specify dtype option on import or set low_memory=False.\n",
      "  lonlat = pd.read_csv(path)\n"
     ]
    },
    {
     "name": "stdout",
     "output_type": "stream",
     "text": [
      "/home/smmrrr/TEM_output_processed/first_checks_parallel/lon_lat_pfts/NPP40096.csv\n"
     ]
    },
    {
     "name": "stderr",
     "output_type": "stream",
     "text": [
      "/tmp/ipykernel_482020/1831831850.py:4: DtypeWarning: Columns (13) have mixed types. Specify dtype option on import or set low_memory=False.\n",
      "  lonlat = pd.read_csv(path)\n"
     ]
    },
    {
     "name": "stdout",
     "output_type": "stream",
     "text": [
      "/home/smmrrr/TEM_output_processed/first_checks_parallel/lon_lat_pfts/NPP60144.csv\n",
      "/home/smmrrr/TEM_output_processed/first_checks_parallel/lon_lat_pfts/NPP36337.csv\n",
      "/home/smmrrr/TEM_output_processed/first_checks_parallel/lon_lat_pfts/NPP0.csv\n",
      "/home/smmrrr/TEM_output_processed/first_checks_parallel/lon_lat_pfts/NPP21301.csv\n"
     ]
    },
    {
     "name": "stderr",
     "output_type": "stream",
     "text": [
      "/tmp/ipykernel_482020/1831831850.py:4: DtypeWarning: Columns (13) have mixed types. Specify dtype option on import or set low_memory=False.\n",
      "  lonlat = pd.read_csv(path)\n"
     ]
    },
    {
     "name": "stdout",
     "output_type": "stream",
     "text": [
      "/home/smmrrr/TEM_output_processed/first_checks_parallel/lon_lat_pfts/NPP33831.csv\n",
      "/home/smmrrr/TEM_output_processed/first_checks_parallel/lon_lat_pfts/NPP22554.csv\n"
     ]
    },
    {
     "name": "stderr",
     "output_type": "stream",
     "text": [
      "/tmp/ipykernel_482020/1831831850.py:4: DtypeWarning: Columns (13) have mixed types. Specify dtype option on import or set low_memory=False.\n",
      "  lonlat = pd.read_csv(path)\n"
     ]
    },
    {
     "name": "stdout",
     "output_type": "stream",
     "text": [
      "/home/smmrrr/TEM_output_processed/first_checks_parallel/lon_lat_pfts/NPP17542.csv\n"
     ]
    },
    {
     "name": "stderr",
     "output_type": "stream",
     "text": [
      "/tmp/ipykernel_482020/1831831850.py:4: DtypeWarning: Columns (13) have mixed types. Specify dtype option on import or set low_memory=False.\n",
      "  lonlat = pd.read_csv(path)\n"
     ]
    },
    {
     "name": "stdout",
     "output_type": "stream",
     "text": [
      "/home/smmrrr/TEM_output_processed/first_checks_parallel/lon_lat_pfts/NPP7518.csv\n"
     ]
    },
    {
     "name": "stderr",
     "output_type": "stream",
     "text": [
      "/tmp/ipykernel_482020/1831831850.py:4: DtypeWarning: Columns (13) have mixed types. Specify dtype option on import or set low_memory=False.\n",
      "  lonlat = pd.read_csv(path)\n"
     ]
    },
    {
     "name": "stdout",
     "output_type": "stream",
     "text": [
      "/home/smmrrr/TEM_output_processed/first_checks_parallel/lon_lat_pfts/NPP32578.csv\n"
     ]
    },
    {
     "name": "stderr",
     "output_type": "stream",
     "text": [
      "/tmp/ipykernel_482020/1831831850.py:4: DtypeWarning: Columns (13) have mixed types. Specify dtype option on import or set low_memory=False.\n",
      "  lonlat = pd.read_csv(path)\n"
     ]
    },
    {
     "name": "stdout",
     "output_type": "stream",
     "text": [
      "/home/smmrrr/TEM_output_processed/first_checks_parallel/lon_lat_pfts/NPP48867.csv\n"
     ]
    },
    {
     "name": "stderr",
     "output_type": "stream",
     "text": [
      "/tmp/ipykernel_482020/1831831850.py:4: DtypeWarning: Columns (13) have mixed types. Specify dtype option on import or set low_memory=False.\n",
      "  lonlat = pd.read_csv(path)\n"
     ]
    },
    {
     "name": "stdout",
     "output_type": "stream",
     "text": [
      "/home/smmrrr/TEM_output_processed/first_checks_parallel/lon_lat_pfts/NPP55132.csv\n"
     ]
    },
    {
     "name": "stderr",
     "output_type": "stream",
     "text": [
      "/tmp/ipykernel_482020/1831831850.py:4: DtypeWarning: Columns (13) have mixed types. Specify dtype option on import or set low_memory=False.\n",
      "  lonlat = pd.read_csv(path)\n"
     ]
    },
    {
     "name": "stdout",
     "output_type": "stream",
     "text": [
      "/home/smmrrr/TEM_output_processed/first_checks_parallel/lon_lat_pfts/NPP35084.csv\n"
     ]
    },
    {
     "name": "stderr",
     "output_type": "stream",
     "text": [
      "/tmp/ipykernel_482020/1831831850.py:4: DtypeWarning: Columns (13) have mixed types. Specify dtype option on import or set low_memory=False.\n",
      "  lonlat = pd.read_csv(path)\n"
     ]
    },
    {
     "name": "stdout",
     "output_type": "stream",
     "text": [
      "/home/smmrrr/TEM_output_processed/first_checks_parallel/lon_lat_pfts/NPP47614.csv\n",
      "/home/smmrrr/TEM_output_processed/first_checks_parallel/lon_lat_pfts/NPP1253.csv\n"
     ]
    },
    {
     "name": "stderr",
     "output_type": "stream",
     "text": [
      "/tmp/ipykernel_482020/1831831850.py:4: DtypeWarning: Columns (13) have mixed types. Specify dtype option on import or set low_memory=False.\n",
      "  lonlat = pd.read_csv(path)\n"
     ]
    },
    {
     "name": "stdout",
     "output_type": "stream",
     "text": [
      "/home/smmrrr/TEM_output_processed/first_checks_parallel/lon_lat_pfts/NPP56385.csv\n"
     ]
    },
    {
     "name": "stderr",
     "output_type": "stream",
     "text": [
      "/tmp/ipykernel_482020/1831831850.py:4: DtypeWarning: Columns (13) have mixed types. Specify dtype option on import or set low_memory=False.\n",
      "  lonlat = pd.read_csv(path)\n"
     ]
    },
    {
     "name": "stdout",
     "output_type": "stream",
     "text": [
      "/home/smmrrr/TEM_output_processed/first_checks_parallel/lon_lat_pfts/NPP37590.csv\n"
     ]
    },
    {
     "name": "stderr",
     "output_type": "stream",
     "text": [
      "/tmp/ipykernel_482020/1831831850.py:4: DtypeWarning: Columns (13) have mixed types. Specify dtype option on import or set low_memory=False.\n",
      "  lonlat = pd.read_csv(path)\n"
     ]
    },
    {
     "name": "stdout",
     "output_type": "stream",
     "text": [
      "/home/smmrrr/TEM_output_processed/first_checks_parallel/lon_lat_pfts/NPP18795.csv\n"
     ]
    },
    {
     "name": "stderr",
     "output_type": "stream",
     "text": [
      "/tmp/ipykernel_482020/1831831850.py:4: DtypeWarning: Columns (13) have mixed types. Specify dtype option on import or set low_memory=False.\n",
      "  lonlat = pd.read_csv(path)\n"
     ]
    },
    {
     "name": "stdout",
     "output_type": "stream",
     "text": [
      "/home/smmrrr/TEM_output_processed/first_checks_parallel/lon_lat_pfts/NPP45108.csv\n"
     ]
    },
    {
     "name": "stderr",
     "output_type": "stream",
     "text": [
      "/tmp/ipykernel_482020/1831831850.py:4: DtypeWarning: Columns (13) have mixed types. Specify dtype option on import or set low_memory=False.\n",
      "  lonlat = pd.read_csv(path)\n"
     ]
    },
    {
     "name": "stdout",
     "output_type": "stream",
     "text": [
      "/home/smmrrr/TEM_output_processed/first_checks_parallel/lon_lat_pfts/NPP57638.csv\n",
      "/home/smmrrr/TEM_output_processed/first_checks_parallel/lon_lat_pfts/NPP50120.csv\n",
      "/home/smmrrr/TEM_output_processed/first_checks_parallel/lon_lat_pfts/NPP46361.csv\n"
     ]
    },
    {
     "name": "stderr",
     "output_type": "stream",
     "text": [
      "/tmp/ipykernel_482020/1831831850.py:4: DtypeWarning: Columns (13) have mixed types. Specify dtype option on import or set low_memory=False.\n",
      "  lonlat = pd.read_csv(path)\n"
     ]
    },
    {
     "name": "stdout",
     "output_type": "stream",
     "text": [
      "/home/smmrrr/TEM_output_processed/first_checks_parallel/lon_lat_pfts/NPP51373.csv\n",
      "/home/smmrrr/TEM_output_processed/first_checks_parallel/lon_lat_pfts/NPP20048.csv\n",
      "/home/smmrrr/TEM_output_processed/first_checks_parallel/lon_lat_pfts/NPP25060.csv\n"
     ]
    },
    {
     "name": "stderr",
     "output_type": "stream",
     "text": [
      "/tmp/ipykernel_482020/1831831850.py:4: DtypeWarning: Columns (13) have mixed types. Specify dtype option on import or set low_memory=False.\n",
      "  lonlat = pd.read_csv(path)\n"
     ]
    },
    {
     "name": "stdout",
     "output_type": "stream",
     "text": [
      "/home/smmrrr/TEM_output_processed/first_checks_parallel/lon_lat_pfts/NPP6265.csv\n"
     ]
    },
    {
     "name": "stderr",
     "output_type": "stream",
     "text": [
      "/tmp/ipykernel_482020/1831831850.py:4: DtypeWarning: Columns (13) have mixed types. Specify dtype option on import or set low_memory=False.\n",
      "  lonlat = pd.read_csv(path)\n"
     ]
    },
    {
     "name": "stdout",
     "output_type": "stream",
     "text": [
      "/home/smmrrr/TEM_output_processed/first_checks_parallel/lon_lat_pfts/NPP23807.csv\n"
     ]
    },
    {
     "name": "stderr",
     "output_type": "stream",
     "text": [
      "/tmp/ipykernel_482020/1831831850.py:4: DtypeWarning: Columns (13) have mixed types. Specify dtype option on import or set low_memory=False.\n",
      "  lonlat = pd.read_csv(path)\n"
     ]
    },
    {
     "name": "stdout",
     "output_type": "stream",
     "text": [
      "/home/smmrrr/TEM_output_processed/first_checks_parallel/lon_lat_pfts/NPP43855.csv\n"
     ]
    },
    {
     "name": "stderr",
     "output_type": "stream",
     "text": [
      "/tmp/ipykernel_482020/1831831850.py:4: DtypeWarning: Columns (13) have mixed types. Specify dtype option on import or set low_memory=False.\n",
      "  lonlat = pd.read_csv(path)\n"
     ]
    },
    {
     "name": "stdout",
     "output_type": "stream",
     "text": [
      "/home/smmrrr/TEM_output_processed/first_checks_parallel/lon_lat_pfts/NPP13783.csv\n"
     ]
    },
    {
     "name": "stderr",
     "output_type": "stream",
     "text": [
      "/tmp/ipykernel_482020/1831831850.py:4: DtypeWarning: Columns (13) have mixed types. Specify dtype option on import or set low_memory=False.\n",
      "  lonlat = pd.read_csv(path)\n"
     ]
    },
    {
     "name": "stdout",
     "output_type": "stream",
     "text": [
      "/home/smmrrr/TEM_output_processed/first_checks_parallel/lon_lat_pfts/NPP28819.csv\n",
      "/home/smmrrr/TEM_output_processed/first_checks_parallel/lon_lat_pfts/NPP41349.csv\n"
     ]
    },
    {
     "name": "stderr",
     "output_type": "stream",
     "text": [
      "/tmp/ipykernel_482020/1831831850.py:4: DtypeWarning: Columns (13) have mixed types. Specify dtype option on import or set low_memory=False.\n",
      "  lonlat = pd.read_csv(path)\n"
     ]
    },
    {
     "name": "stdout",
     "output_type": "stream",
     "text": [
      "/home/smmrrr/TEM_output_processed/first_checks_parallel/lon_lat_pfts/NPP30072.csv\n",
      "/home/smmrrr/TEM_output_processed/first_checks_parallel/lon_lat_pfts/NPP53879.csv\n"
     ]
    },
    {
     "name": "stderr",
     "output_type": "stream",
     "text": [
      "/tmp/ipykernel_482020/1831831850.py:4: DtypeWarning: Columns (13) have mixed types. Specify dtype option on import or set low_memory=False.\n",
      "  lonlat = pd.read_csv(path)\n"
     ]
    }
   ],
   "source": [
    "all_grids = pd.DataFrame( columns = ['current_veg', 'forest_type', 'temp_weight', 'cohort_area', 'value'])\n",
    "\n",
    "for path in paths:\n",
    "    lonlat = pd.read_csv(path)\n",
    "    if len(lonlat) >0:\n",
    "        tt = lonlat.groupby(['current_veg', 'forest_type'])[['temp_weight', 'cohort_area']].sum().reset_index()\n",
    "        tt['value'] = tt['temp_weight']/tt['cohort_area']\n",
    "\n",
    "        all_grids = pd.concat([all_grids, tt])\n",
    "        del lonlat\n",
    "    print(path)\n"
   ]
  },
  {
   "cell_type": "code",
   "execution_count": 51,
   "id": "a885635c-ab64-4c23-b483-7e06a18ae3c6",
   "metadata": {},
   "outputs": [],
   "source": [
    "all_grids['cohort_area']=all_grids['cohort_area'].astype(int)"
   ]
  },
  {
   "cell_type": "code",
   "execution_count": 52,
   "id": "8f45551c-e098-4012-a45f-387da90d9767",
   "metadata": {},
   "outputs": [
    {
     "data": {
      "text/html": [
       "<div>\n",
       "<style scoped>\n",
       "    .dataframe tbody tr th:only-of-type {\n",
       "        vertical-align: middle;\n",
       "    }\n",
       "\n",
       "    .dataframe tbody tr th {\n",
       "        vertical-align: top;\n",
       "    }\n",
       "\n",
       "    .dataframe thead th {\n",
       "        text-align: right;\n",
       "    }\n",
       "</style>\n",
       "<table border=\"1\" class=\"dataframe\">\n",
       "  <thead>\n",
       "    <tr style=\"text-align: right;\">\n",
       "      <th></th>\n",
       "      <th>current_veg</th>\n",
       "      <th>forest_type</th>\n",
       "      <th>temp_weight</th>\n",
       "      <th>cohort_area</th>\n",
       "      <th>value</th>\n",
       "    </tr>\n",
       "  </thead>\n",
       "  <tbody>\n",
       "    <tr>\n",
       "      <th>0</th>\n",
       "      <td>4</td>\n",
       "      <td>Boreal Forest</td>\n",
       "      <td>6.150478e+10</td>\n",
       "      <td>3019786956</td>\n",
       "      <td>20.367257</td>\n",
       "    </tr>\n",
       "    <tr>\n",
       "      <th>1</th>\n",
       "      <td>5</td>\n",
       "      <td>Forested Boreal Wetlands</td>\n",
       "      <td>1.029617e+09</td>\n",
       "      <td>42810408</td>\n",
       "      <td>24.050615</td>\n",
       "    </tr>\n",
       "    <tr>\n",
       "      <th>2</th>\n",
       "      <td>6</td>\n",
       "      <td>Boreal Woodlands</td>\n",
       "      <td>2.292420e+10</td>\n",
       "      <td>2147023284</td>\n",
       "      <td>10.677201</td>\n",
       "    </tr>\n",
       "    <tr>\n",
       "      <th>3</th>\n",
       "      <td>8</td>\n",
       "      <td>Mixed Temperate Forests</td>\n",
       "      <td>3.248539e+10</td>\n",
       "      <td>577410312</td>\n",
       "      <td>56.260497</td>\n",
       "    </tr>\n",
       "    <tr>\n",
       "      <th>4</th>\n",
       "      <td>9</td>\n",
       "      <td>Temperate Coniferous Forests</td>\n",
       "      <td>1.317468e+10</td>\n",
       "      <td>222230400</td>\n",
       "      <td>59.283885</td>\n",
       "    </tr>\n",
       "    <tr>\n",
       "      <th>5</th>\n",
       "      <td>10</td>\n",
       "      <td>Temperate Deciduous Forests</td>\n",
       "      <td>2.675916e+10</td>\n",
       "      <td>544747704</td>\n",
       "      <td>49.122123</td>\n",
       "    </tr>\n",
       "    <tr>\n",
       "      <th>6</th>\n",
       "      <td>16</td>\n",
       "      <td>Tropical Evergreen Forests</td>\n",
       "      <td>3.755435e+11</td>\n",
       "      <td>5835497556</td>\n",
       "      <td>64.355009</td>\n",
       "    </tr>\n",
       "    <tr>\n",
       "      <th>7</th>\n",
       "      <td>17</td>\n",
       "      <td>Tropical Forested Wetlands</td>\n",
       "      <td>1.006237e+10</td>\n",
       "      <td>127081992</td>\n",
       "      <td>79.180129</td>\n",
       "    </tr>\n",
       "    <tr>\n",
       "      <th>8</th>\n",
       "      <td>18</td>\n",
       "      <td>Tropical Deciduous Forests</td>\n",
       "      <td>7.991400e+10</td>\n",
       "      <td>1491195876</td>\n",
       "      <td>53.590546</td>\n",
       "    </tr>\n",
       "    <tr>\n",
       "      <th>9</th>\n",
       "      <td>19</td>\n",
       "      <td>Xeromorphic Forests and Woodlands</td>\n",
       "      <td>8.112022e+09</td>\n",
       "      <td>1511660304</td>\n",
       "      <td>5.366300</td>\n",
       "    </tr>\n",
       "    <tr>\n",
       "      <th>10</th>\n",
       "      <td>20</td>\n",
       "      <td>Tropical Forested Floodplains</td>\n",
       "      <td>3.967221e+09</td>\n",
       "      <td>66188280</td>\n",
       "      <td>59.938424</td>\n",
       "    </tr>\n",
       "    <tr>\n",
       "      <th>11</th>\n",
       "      <td>25</td>\n",
       "      <td>Temperate Forested Floodplains</td>\n",
       "      <td>1.757174e+08</td>\n",
       "      <td>13970244</td>\n",
       "      <td>12.577973</td>\n",
       "    </tr>\n",
       "    <tr>\n",
       "      <th>12</th>\n",
       "      <td>33</td>\n",
       "      <td>Temperate Broadleaved Evergreen Forests</td>\n",
       "      <td>3.472855e+10</td>\n",
       "      <td>681636468</td>\n",
       "      <td>50.948792</td>\n",
       "    </tr>\n",
       "  </tbody>\n",
       "</table>\n",
       "</div>"
      ],
      "text/plain": [
       "    current_veg                              forest_type   temp_weight  \\\n",
       "0             4                            Boreal Forest  6.150478e+10   \n",
       "1             5                 Forested Boreal Wetlands  1.029617e+09   \n",
       "2             6                         Boreal Woodlands  2.292420e+10   \n",
       "3             8                  Mixed Temperate Forests  3.248539e+10   \n",
       "4             9             Temperate Coniferous Forests  1.317468e+10   \n",
       "5            10              Temperate Deciduous Forests  2.675916e+10   \n",
       "6            16               Tropical Evergreen Forests  3.755435e+11   \n",
       "7            17               Tropical Forested Wetlands  1.006237e+10   \n",
       "8            18               Tropical Deciduous Forests  7.991400e+10   \n",
       "9            19        Xeromorphic Forests and Woodlands  8.112022e+09   \n",
       "10           20            Tropical Forested Floodplains  3.967221e+09   \n",
       "11           25           Temperate Forested Floodplains  1.757174e+08   \n",
       "12           33  Temperate Broadleaved Evergreen Forests  3.472855e+10   \n",
       "\n",
       "    cohort_area      value  \n",
       "0    3019786956  20.367257  \n",
       "1      42810408  24.050615  \n",
       "2    2147023284  10.677201  \n",
       "3     577410312  56.260497  \n",
       "4     222230400  59.283885  \n",
       "5     544747704  49.122123  \n",
       "6    5835497556  64.355009  \n",
       "7     127081992  79.180129  \n",
       "8    1491195876  53.590546  \n",
       "9    1511660304   5.366300  \n",
       "10     66188280  59.938424  \n",
       "11     13970244  12.577973  \n",
       "12    681636468  50.948792  "
      ]
     },
     "execution_count": 52,
     "metadata": {},
     "output_type": "execute_result"
    }
   ],
   "source": [
    "tt = all_grids.groupby(['current_veg', 'forest_type'])[['temp_weight', 'cohort_area']].sum().reset_index()\n",
    "tt['value'] = tt['temp_weight']/tt['cohort_area']\n",
    "tt"
   ]
  },
  {
   "cell_type": "code",
   "execution_count": 24,
   "id": "f2f78dcb-ab32-406b-90b8-9feada52758f",
   "metadata": {},
   "outputs": [
    {
     "name": "stdout",
     "output_type": "stream",
     "text": [
      "/bin/bash: -c: line 1: syntax error near unexpected token `tt'\n",
      "/bin/bash: -c: line 1: `rm (tt) '\n"
     ]
    }
   ],
   "source": []
  }
 ],
 "metadata": {
  "kernelspec": {
   "display_name": "condaforge",
   "language": "python",
   "name": "condaforge"
  },
  "language_info": {
   "codemirror_mode": {
    "name": "ipython",
    "version": 3
   },
   "file_extension": ".py",
   "mimetype": "text/x-python",
   "name": "python",
   "nbconvert_exporter": "python",
   "pygments_lexer": "ipython3",
   "version": "3.10.6"
  }
 },
 "nbformat": 4,
 "nbformat_minor": 5
}
