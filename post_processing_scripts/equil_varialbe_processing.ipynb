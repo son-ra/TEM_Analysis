{
 "cells": [
  {
   "cell_type": "code",
   "execution_count": 1,
   "id": "9adf4f72-8ddf-4520-908c-b2d404621493",
   "metadata": {},
   "outputs": [],
   "source": [
    "import os\n",
    "import matplotlib.pyplot as plt\n",
    "import re\n",
    "import numpy as np\n",
    "from scipy import stats\n",
    "#import optshrink as opt # package we create\n",
    "import numpy as np\n",
    "# import scipy.io as sio\n",
    "import h5py\n",
    "import matplotlib.pyplot as plt\n",
    "import pandas as pd\n",
    "import xarray as xr\n",
    "import cartopy.crs as ccrs\n",
    "import seaborn as sns\n",
    "from shapely.geometry import Point\n",
    "import geopandas as gp\n",
    "from geodatasets import get_path\n",
    "from shapely.geometry import Polygon"
   ]
  },
  {
   "cell_type": "code",
   "execution_count": 2,
   "id": "96b7cedb-627d-4b40-a53a-279c70ef6238",
   "metadata": {},
   "outputs": [],
   "source": [
    "output_col_names = ['lon'\n",
    ",'lat'\n",
    ",'variable'\n",
    ",'cohort_number'\n",
    ",'stand_age'\n",
    ",'potential_veg'\n",
    ",'current_veg'\n",
    ",'community_type'\n",
    ",'subtype'\n",
    ",'silt_clay'  ###check this order\n",
    ",'lc_state'\n",
    ",'land_area'\n",
    ",'cohort_area'\n",
    ",'year'\n",
    ",'annual_sum'\n",
    ",'monthly_maximum'\n",
    ",'monthly_mean'\n",
    ",'monthly_minimum'\n",
    ",'Jan'\n",
    ",'Feb'\n",
    ",'Mar'\n",
    ",'Apr'\n",
    ",'May'\n",
    ",'Jun'\n",
    ",'Jul'\n",
    ",'Aug'\n",
    ",'Sep'\n",
    ",'Oct'\n",
    ",'Nov'\n",
    ",'Dec'\n",
    ",'region']\n",
    "\n",
    "\n",
    "\n",
    "forest_vegs = [4, 5, 6, 8, 9, 10, 11, 16, 17, 18, 19, 20, 25, 33]\n",
    "forest_types = [\"Boreal Forest\", \"Forested Boreal Wetlands\", \"Boreal Woodlands\",\"Mixed Temperate Forests\", \n",
    "               \"Temperate Coniferous Forests\", \"Temperate Deciduous Forests\", \"Temperate Forested Wetlands\", \n",
    "               \"Tropical Evergreen Forests\", \"Tropical Forested Wetlands\", \"Tropical Deciduous Forests\", \"Xeromorphic Forests and Woodlands\"\n",
    "               ,\"Tropical Forested Floodplains\", \"Temperate Forested Floodplains\", \"Temperate Broadleaved Evergreen Forests\"]\n",
    "\n",
    "forest_pfts = pd.DataFrame({\n",
    "'current_veg':forest_vegs, \n",
    "    'forest_type':forest_types\n",
    "})\n",
    "\n"
   ]
  },
  {
   "cell_type": "code",
   "execution_count": 3,
   "id": "e4d01fc2-f4f4-41bc-a0a1-448ecb940c88",
   "metadata": {},
   "outputs": [],
   "source": [
    "regions = ['region_1',\n",
    "'region_2',\n",
    "'region_3',\n",
    "'region_4',\n",
    "'region_5',\n",
    "'region_8',\n",
    "'region_20',\n",
    "'region_6',\n",
    "'region_7',\n",
    "'region_19',\n",
    "'region_21']\n",
    "regions = ['region_3']\n",
    "models = [\n",
    "'AWIxxCMxx1xx1xxMR', 'BCCxxCSM2xxMR', 'CanESM5', 'MIROC6', 'MPIxxESM1xx2xxHR', 'MPIxxESM1xx2xxLR', 'MRIxxESM2xx0'\n",
    "]"
   ]
  },
  {
   "cell_type": "code",
   "execution_count": 4,
   "id": "413a482c-dec1-41c4-b3e6-5ccb73bf29b4",
   "metadata": {},
   "outputs": [],
   "source": [
    "ensemble_dir = '/group/moniergrp/TEM_Large_Ensemble/run_support_files/large_ensemble/'\n",
    "\n",
    "output_dir_path = '/group/moniergrp/TEM_Large_Ensemble/output_files/' \n",
    "\n",
    "intervals_standage = np.concatenate((np.arange(-1, 100, 5),np.array([124, 149, 3000])))\n"
   ]
  },
  {
   "cell_type": "code",
   "execution_count": 6,
   "id": "d5dc95f5-d1ed-4d2c-b8a1-00a91d904d8b",
   "metadata": {},
   "outputs": [],
   "source": [
    "region = 'region_1'\n",
    "model = 'AWIxxCMxx1xx1xxMR'"
   ]
  },
  {
   "cell_type": "code",
   "execution_count": 10,
   "id": "e41e4ac3-ddd9-4007-bdca-8d75e2da175b",
   "metadata": {},
   "outputs": [],
   "source": [
    "files = os.listdir(ensemble_dir+region+'/pre_data/'+model+'/var_out/')\n",
    "i = 0"
   ]
  },
  {
   "cell_type": "code",
   "execution_count": 19,
   "id": "e8d2a321-de60-42be-925c-806cba7d914f",
   "metadata": {},
   "outputs": [
    {
     "data": {
      "text/plain": [
       "51    173620\n",
       "9      21615\n",
       "50      8302\n",
       "33      6982\n",
       "4       4212\n",
       "Name: current_veg, dtype: int64"
      ]
     },
     "execution_count": 19,
     "metadata": {},
     "output_type": "execute_result"
    }
   ],
   "source": [
    "data = pd.read_csv(ensemble_dir+region+'/pre_data/'+model+'/var_out/'+file, names = output_col_names)\n",
    "                                    \n",
    "#####are the values for each grid cell at equilibrium?\n",
    "                                    \n",
    "data['current_veg'].value_counts()                                   \n"
   ]
  },
  {
   "cell_type": "code",
   "execution_count": 23,
   "id": "85f31591-e941-4875-b86c-c00b5305d18c",
   "metadata": {},
   "outputs": [],
   "source": [
    "all_region.to_csv(output_dir_path+region+'/lat_lon_year_var_equil.csv', index=False)\n"
   ]
  },
  {
   "cell_type": "code",
   "execution_count": 24,
   "id": "e6cc6e19-c0c1-4e29-bd19-a816149964aa",
   "metadata": {},
   "outputs": [
    {
     "data": {
      "text/plain": [
       "17378361"
      ]
     },
     "execution_count": 24,
     "metadata": {},
     "output_type": "execute_result"
    }
   ],
   "source": [
    "len(all_region)"
   ]
  },
  {
   "cell_type": "code",
   "execution_count": null,
   "id": "85f38455-8855-4cb7-b823-3a4900a68bf0",
   "metadata": {},
   "outputs": [],
   "source": [
    "    all_region = all_region.groupby(\n",
    "        ['lon','lat','variable','forest_type','current_veg','silt_clay','region']\n",
    "    )[all_region.columns[all_region.columns.str.contains('weight|area')]\n",
    "    ].sum()\n",
    "\n",
    "    all_region['monthly_mean'] = all_region['monthly_mean_weight']/ all_region['cohort_area']\n",
    "    all_region['Jan'] = all_region['Jan_weight']/ all_region['cohort_area']\n",
    "    all_region['Feb'] = all_region['Feb_weight']/ all_region['cohort_area']\n",
    "    all_region['Mar'] = all_region['Mar_weight']/ all_region['cohort_area']\n",
    "    all_region['Apr'] = all_region['Apr_weight']/ all_region['cohort_area']\n",
    "    all_region['May'] = all_region['May_weight']/ all_region['cohort_area']\n",
    "    all_region['Jun'] = all_region['Jun_weight']/ all_region['cohort_area']\n",
    "    all_region['Jul'] = all_region['Jul_weight']/ all_region['cohort_area']\n",
    "    all_region['Aug'] = all_region['Aug_weight']/ all_region['cohort_area']\n",
    "    all_region['Sep'] = all_region['Sep_weight']/ all_region['cohort_area']\n",
    "    all_region['Oct'] = all_region['Oct_weight']/ all_region['cohort_area']\n",
    "    all_region['Nov'] = all_region['Nov_weight']/ all_region['cohort_area']\n",
    "    all_region['Dec'] = all_region['Dec_weight']/ all_region['cohort_area']\n",
    "\n",
    "    ##summarize by lat, lon, var\n",
    "    all_region['region'] = region\n",
    "    all_area = pd.concat(all_area , all_region)\n",
    "\n"
   ]
  },
  {
   "cell_type": "code",
   "execution_count": 15,
   "id": "c3e47045-9430-46d1-ab32-3d70b682ff47",
   "metadata": {},
   "outputs": [],
   "source": [
    "data = pd.read_csv(ensemble_dir+region+'/pre_data/'+model+'/var_out/'+file, names = output_col_names)"
   ]
  },
  {
   "cell_type": "code",
   "execution_count": 11,
   "id": "c383d4bb-aac8-4cf9-b44f-a4fd04f8eaab",
   "metadata": {},
   "outputs": [
    {
     "data": {
      "text/html": [
       "<div>\n",
       "<style scoped>\n",
       "    .dataframe tbody tr th:only-of-type {\n",
       "        vertical-align: middle;\n",
       "    }\n",
       "\n",
       "    .dataframe tbody tr th {\n",
       "        vertical-align: top;\n",
       "    }\n",
       "\n",
       "    .dataframe thead th {\n",
       "        text-align: right;\n",
       "    }\n",
       "</style>\n",
       "<table border=\"1\" class=\"dataframe\">\n",
       "  <thead>\n",
       "    <tr style=\"text-align: right;\">\n",
       "      <th></th>\n",
       "      <th>lon</th>\n",
       "      <th>lat</th>\n",
       "      <th>variable</th>\n",
       "      <th>cohort_number</th>\n",
       "      <th>stand_age</th>\n",
       "      <th>potential_veg</th>\n",
       "      <th>current_veg</th>\n",
       "      <th>community_type</th>\n",
       "      <th>subtype</th>\n",
       "      <th>silt_clay</th>\n",
       "      <th>...</th>\n",
       "      <th>Apr</th>\n",
       "      <th>May</th>\n",
       "      <th>Jun</th>\n",
       "      <th>Jul</th>\n",
       "      <th>Aug</th>\n",
       "      <th>Sep</th>\n",
       "      <th>Oct</th>\n",
       "      <th>Nov</th>\n",
       "      <th>Dec</th>\n",
       "      <th>region</th>\n",
       "    </tr>\n",
       "  </thead>\n",
       "  <tbody>\n",
       "  </tbody>\n",
       "</table>\n",
       "<p>0 rows × 31 columns</p>\n",
       "</div>"
      ],
      "text/plain": [
       "Empty DataFrame\n",
       "Columns: [lon, lat, variable, cohort_number, stand_age, potential_veg, current_veg, community_type, subtype, silt_clay, lc_state, land_area, cohort_area, year, annual_sum, monthly_maximum, monthly_mean, monthly_minimum, Jan, Feb, Mar, Apr, May, Jun, Jul, Aug, Sep, Oct, Nov, Dec, region]\n",
       "Index: []\n",
       "\n",
       "[0 rows x 31 columns]"
      ]
     },
     "execution_count": 11,
     "metadata": {},
     "output_type": "execute_result"
    }
   ],
   "source": [
    "data"
   ]
  },
  {
   "cell_type": "code",
   "execution_count": 16,
   "id": "894d3df6-708f-49bb-af02-eae1ede0c3ed",
   "metadata": {},
   "outputs": [],
   "source": [
    "data=data.merge(forest_pfts, on = 'current_veg', how = 'inner')"
   ]
  },
  {
   "cell_type": "code",
   "execution_count": 19,
   "id": "d1ec65c3-5aad-4e3b-9198-6b1313ca80f7",
   "metadata": {},
   "outputs": [
    {
     "data": {
      "text/plain": [
       "Index(['land_area', 'cohort_area', 'monthly_mean_weight', 'Jan_weight',\n",
       "       'Feb_weight', 'Mar_weight', 'Apr_weight', 'May_weight', 'Jun_weight',\n",
       "       'Jul_weight', 'Aug_weight', 'Sep_weight', 'Oct_weight', 'Nov_weight',\n",
       "       'Dec_weight'],\n",
       "      dtype='object')"
      ]
     },
     "execution_count": 19,
     "metadata": {},
     "output_type": "execute_result"
    }
   ],
   "source": [
    "data\n",
    "data.columns[data.columns.str.contains('weight|area')]"
   ]
  },
  {
   "cell_type": "code",
   "execution_count": 17,
   "id": "9d7d03ae-6f96-465d-8195-e19d48eab99f",
   "metadata": {},
   "outputs": [
    {
     "data": {
      "text/html": [
       "<div>\n",
       "<style scoped>\n",
       "    .dataframe tbody tr th:only-of-type {\n",
       "        vertical-align: middle;\n",
       "    }\n",
       "\n",
       "    .dataframe tbody tr th {\n",
       "        vertical-align: top;\n",
       "    }\n",
       "\n",
       "    .dataframe thead th {\n",
       "        text-align: right;\n",
       "    }\n",
       "</style>\n",
       "<table border=\"1\" class=\"dataframe\">\n",
       "  <thead>\n",
       "    <tr style=\"text-align: right;\">\n",
       "      <th></th>\n",
       "      <th>lon</th>\n",
       "      <th>lat</th>\n",
       "      <th>variable</th>\n",
       "      <th>cohort_number</th>\n",
       "      <th>stand_age</th>\n",
       "      <th>potential_veg</th>\n",
       "      <th>community_type</th>\n",
       "      <th>subtype</th>\n",
       "      <th>silt_clay</th>\n",
       "      <th>lc_state</th>\n",
       "      <th>...</th>\n",
       "      <th>Mar_weight</th>\n",
       "      <th>Apr_weight</th>\n",
       "      <th>May_weight</th>\n",
       "      <th>Jun_weight</th>\n",
       "      <th>Jul_weight</th>\n",
       "      <th>Aug_weight</th>\n",
       "      <th>Sep_weight</th>\n",
       "      <th>Oct_weight</th>\n",
       "      <th>Nov_weight</th>\n",
       "      <th>Dec_weight</th>\n",
       "    </tr>\n",
       "  </thead>\n",
       "  <tbody>\n",
       "  </tbody>\n",
       "</table>\n",
       "<p>0 rows × 45 columns</p>\n",
       "</div>"
      ],
      "text/plain": [
       "Empty DataFrame\n",
       "Columns: [lon, lat, variable, cohort_number, stand_age, potential_veg, community_type, subtype, silt_clay, lc_state, land_area, cohort_area, year, annual_sum, monthly_maximum, monthly_mean, monthly_minimum, Jan, Feb, Mar, Apr, May, Jun, Jul, Aug, Sep, Oct, Nov, Dec, region, current_veg, forest_type, monthly_mean_weight, Jan_weight, Feb_weight, Mar_weight, Apr_weight, May_weight, Jun_weight, Jul_weight, Aug_weight, Sep_weight, Oct_weight, Nov_weight, Dec_weight]\n",
       "Index: []\n",
       "\n",
       "[0 rows x 45 columns]"
      ]
     },
     "execution_count": 17,
     "metadata": {},
     "output_type": "execute_result"
    }
   ],
   "source": [
    "data['monthly_mean_weight'] = data['monthly_mean']* data['cohort_area']\n",
    "data['Jan_weight'] = data['Jan']* data['cohort_area']\n",
    "data['Feb_weight'] = data['Feb']* data['cohort_area']\n",
    "data['Mar_weight'] = data['Mar']* data['cohort_area']\n",
    "data['Apr_weight'] = data['Apr']* data['cohort_area']\n",
    "data['May_weight'] = data['May']* data['cohort_area']\n",
    "data['Jun_weight'] = data['Jun']* data['cohort_area']\n",
    "data['Jul_weight'] = data['Jul']* data['cohort_area']\n",
    "data['Aug_weight'] = data['Aug']* data['cohort_area']\n",
    "data['Sep_weight'] = data['Sep']* data['cohort_area']\n",
    "data['Oct_weight'] = data['Oct']* data['cohort_area']\n",
    "data['Nov_weight'] = data['Nov']* data['cohort_area']\n",
    "data['Dec_weight'] = data['Dec']* data['cohort_area']\n",
    "\n",
    "# data = data.groupby(\n",
    "#     ['lon','lat','variable','forest_type','current_veg','year','silt_clay','region']\n",
    "# )[data.columns[data.columns.str.contains('weight|area')]\n",
    "# ].sum()\n",
    "# # print(len(data))\n",
    "# # ###sum up by lat lon year var\n",
    "\n",
    "# # ####recalculate values\n",
    "# data=data.reset_index()\n",
    "data"
   ]
  },
  {
   "cell_type": "code",
   "execution_count": 20,
   "id": "b5152031-49af-4e6e-a207-5f368e8543c4",
   "metadata": {},
   "outputs": [
    {
     "data": {
      "text/html": [
       "<div>\n",
       "<style scoped>\n",
       "    .dataframe tbody tr th:only-of-type {\n",
       "        vertical-align: middle;\n",
       "    }\n",
       "\n",
       "    .dataframe tbody tr th {\n",
       "        vertical-align: top;\n",
       "    }\n",
       "\n",
       "    .dataframe thead th {\n",
       "        text-align: right;\n",
       "    }\n",
       "</style>\n",
       "<table border=\"1\" class=\"dataframe\">\n",
       "  <thead>\n",
       "    <tr style=\"text-align: right;\">\n",
       "      <th></th>\n",
       "      <th></th>\n",
       "      <th></th>\n",
       "      <th></th>\n",
       "      <th></th>\n",
       "      <th></th>\n",
       "      <th></th>\n",
       "      <th></th>\n",
       "    </tr>\n",
       "    <tr>\n",
       "      <th>lon</th>\n",
       "      <th>lat</th>\n",
       "      <th>variable</th>\n",
       "      <th>forest_type</th>\n",
       "      <th>current_veg</th>\n",
       "      <th>year</th>\n",
       "      <th>silt_clay</th>\n",
       "      <th>region</th>\n",
       "    </tr>\n",
       "  </thead>\n",
       "  <tbody>\n",
       "  </tbody>\n",
       "</table>\n",
       "</div>"
      ],
      "text/plain": [
       "Empty DataFrame\n",
       "Columns: []\n",
       "Index: []"
      ]
     },
     "execution_count": 20,
     "metadata": {},
     "output_type": "execute_result"
    }
   ],
   "source": [
    "data.groupby(\n",
    "    ['lon','lat','variable','forest_type','current_veg','year','silt_clay','region']\n",
    ")[data.columns[data.columns.str.contains('weight|area')]\n",
    "].sum()"
   ]
  },
  {
   "cell_type": "code",
   "execution_count": 5,
   "id": "226bac5e-85dc-4ff1-ba4d-b536f41ad146",
   "metadata": {},
   "outputs": [
    {
     "ename": "KeyError",
     "evalue": "'monthly_mean_weight'",
     "output_type": "error",
     "traceback": [
      "\u001b[0;31m---------------------------------------------------------------------------\u001b[0m",
      "\u001b[0;31mKeyError\u001b[0m                                  Traceback (most recent call last)",
      "\u001b[0;32m~/miniconda3/envs/condaforge/lib/python3.10/site-packages/pandas/core/indexes/base.py\u001b[0m in \u001b[0;36mget_loc\u001b[0;34m(self, key, method, tolerance)\u001b[0m\n\u001b[1;32m   3620\u001b[0m             \u001b[0;32mtry\u001b[0m\u001b[0;34m:\u001b[0m\u001b[0;34m\u001b[0m\u001b[0;34m\u001b[0m\u001b[0m\n\u001b[0;32m-> 3621\u001b[0;31m                 \u001b[0;32mreturn\u001b[0m \u001b[0mself\u001b[0m\u001b[0;34m.\u001b[0m\u001b[0m_engine\u001b[0m\u001b[0;34m.\u001b[0m\u001b[0mget_loc\u001b[0m\u001b[0;34m(\u001b[0m\u001b[0mcasted_key\u001b[0m\u001b[0;34m)\u001b[0m\u001b[0;34m\u001b[0m\u001b[0;34m\u001b[0m\u001b[0m\n\u001b[0m\u001b[1;32m   3622\u001b[0m             \u001b[0;32mexcept\u001b[0m \u001b[0mKeyError\u001b[0m \u001b[0;32mas\u001b[0m \u001b[0merr\u001b[0m\u001b[0;34m:\u001b[0m\u001b[0;34m\u001b[0m\u001b[0;34m\u001b[0m\u001b[0m\n",
      "\u001b[0;32m~/miniconda3/envs/condaforge/lib/python3.10/site-packages/pandas/_libs/index.pyx\u001b[0m in \u001b[0;36mpandas._libs.index.IndexEngine.get_loc\u001b[0;34m()\u001b[0m\n",
      "\u001b[0;32m~/miniconda3/envs/condaforge/lib/python3.10/site-packages/pandas/_libs/index.pyx\u001b[0m in \u001b[0;36mpandas._libs.index.IndexEngine.get_loc\u001b[0;34m()\u001b[0m\n",
      "\u001b[0;32mpandas/_libs/hashtable_class_helper.pxi\u001b[0m in \u001b[0;36mpandas._libs.hashtable.PyObjectHashTable.get_item\u001b[0;34m()\u001b[0m\n",
      "\u001b[0;32mpandas/_libs/hashtable_class_helper.pxi\u001b[0m in \u001b[0;36mpandas._libs.hashtable.PyObjectHashTable.get_item\u001b[0;34m()\u001b[0m\n",
      "\u001b[0;31mKeyError\u001b[0m: 'monthly_mean_weight'",
      "\nThe above exception was the direct cause of the following exception:\n",
      "\u001b[0;31mKeyError\u001b[0m                                  Traceback (most recent call last)",
      "\u001b[0;32m/tmp/ipykernel_1834871/2371562392.py\u001b[0m in \u001b[0;36m<cell line: 4>\u001b[0;34m()\u001b[0m\n\u001b[1;32m     37\u001b[0m             \u001b[0mdata\u001b[0m\u001b[0;34m=\u001b[0m\u001b[0mdata\u001b[0m\u001b[0;34m.\u001b[0m\u001b[0mreset_index\u001b[0m\u001b[0;34m(\u001b[0m\u001b[0;34m)\u001b[0m\u001b[0;34m\u001b[0m\u001b[0;34m\u001b[0m\u001b[0m\n\u001b[1;32m     38\u001b[0m             \u001b[0;31m# ### finish weighted average calculation\u001b[0m\u001b[0;34m\u001b[0m\u001b[0;34m\u001b[0m\u001b[0m\n\u001b[0;32m---> 39\u001b[0;31m             \u001b[0mdata\u001b[0m\u001b[0;34m[\u001b[0m\u001b[0;34m'monthly_mean'\u001b[0m\u001b[0;34m]\u001b[0m \u001b[0;34m=\u001b[0m \u001b[0mdata\u001b[0m\u001b[0;34m[\u001b[0m\u001b[0;34m'monthly_mean_weight'\u001b[0m\u001b[0;34m]\u001b[0m\u001b[0;34m/\u001b[0m \u001b[0mdata\u001b[0m\u001b[0;34m[\u001b[0m\u001b[0;34m'cohort_area'\u001b[0m\u001b[0;34m]\u001b[0m\u001b[0;34m\u001b[0m\u001b[0;34m\u001b[0m\u001b[0m\n\u001b[0m\u001b[1;32m     40\u001b[0m             \u001b[0mdata\u001b[0m\u001b[0;34m[\u001b[0m\u001b[0;34m'Jan'\u001b[0m\u001b[0;34m]\u001b[0m \u001b[0;34m=\u001b[0m \u001b[0mdata\u001b[0m\u001b[0;34m[\u001b[0m\u001b[0;34m'Jan_weight'\u001b[0m\u001b[0;34m]\u001b[0m\u001b[0;34m/\u001b[0m \u001b[0mdata\u001b[0m\u001b[0;34m[\u001b[0m\u001b[0;34m'cohort_area'\u001b[0m\u001b[0;34m]\u001b[0m\u001b[0;34m\u001b[0m\u001b[0;34m\u001b[0m\u001b[0m\n\u001b[1;32m     41\u001b[0m             \u001b[0mdata\u001b[0m\u001b[0;34m[\u001b[0m\u001b[0;34m'Feb'\u001b[0m\u001b[0;34m]\u001b[0m \u001b[0;34m=\u001b[0m \u001b[0mdata\u001b[0m\u001b[0;34m[\u001b[0m\u001b[0;34m'Feb_weight'\u001b[0m\u001b[0;34m]\u001b[0m\u001b[0;34m/\u001b[0m \u001b[0mdata\u001b[0m\u001b[0;34m[\u001b[0m\u001b[0;34m'cohort_area'\u001b[0m\u001b[0;34m]\u001b[0m\u001b[0;34m\u001b[0m\u001b[0;34m\u001b[0m\u001b[0m\n",
      "\u001b[0;32m~/miniconda3/envs/condaforge/lib/python3.10/site-packages/pandas/core/frame.py\u001b[0m in \u001b[0;36m__getitem__\u001b[0;34m(self, key)\u001b[0m\n\u001b[1;32m   3503\u001b[0m             \u001b[0;32mif\u001b[0m \u001b[0mself\u001b[0m\u001b[0;34m.\u001b[0m\u001b[0mcolumns\u001b[0m\u001b[0;34m.\u001b[0m\u001b[0mnlevels\u001b[0m \u001b[0;34m>\u001b[0m \u001b[0;36m1\u001b[0m\u001b[0;34m:\u001b[0m\u001b[0;34m\u001b[0m\u001b[0;34m\u001b[0m\u001b[0m\n\u001b[1;32m   3504\u001b[0m                 \u001b[0;32mreturn\u001b[0m \u001b[0mself\u001b[0m\u001b[0;34m.\u001b[0m\u001b[0m_getitem_multilevel\u001b[0m\u001b[0;34m(\u001b[0m\u001b[0mkey\u001b[0m\u001b[0;34m)\u001b[0m\u001b[0;34m\u001b[0m\u001b[0;34m\u001b[0m\u001b[0m\n\u001b[0;32m-> 3505\u001b[0;31m             \u001b[0mindexer\u001b[0m \u001b[0;34m=\u001b[0m \u001b[0mself\u001b[0m\u001b[0;34m.\u001b[0m\u001b[0mcolumns\u001b[0m\u001b[0;34m.\u001b[0m\u001b[0mget_loc\u001b[0m\u001b[0;34m(\u001b[0m\u001b[0mkey\u001b[0m\u001b[0;34m)\u001b[0m\u001b[0;34m\u001b[0m\u001b[0;34m\u001b[0m\u001b[0m\n\u001b[0m\u001b[1;32m   3506\u001b[0m             \u001b[0;32mif\u001b[0m \u001b[0mis_integer\u001b[0m\u001b[0;34m(\u001b[0m\u001b[0mindexer\u001b[0m\u001b[0;34m)\u001b[0m\u001b[0;34m:\u001b[0m\u001b[0;34m\u001b[0m\u001b[0;34m\u001b[0m\u001b[0m\n\u001b[1;32m   3507\u001b[0m                 \u001b[0mindexer\u001b[0m \u001b[0;34m=\u001b[0m \u001b[0;34m[\u001b[0m\u001b[0mindexer\u001b[0m\u001b[0;34m]\u001b[0m\u001b[0;34m\u001b[0m\u001b[0;34m\u001b[0m\u001b[0m\n",
      "\u001b[0;32m~/miniconda3/envs/condaforge/lib/python3.10/site-packages/pandas/core/indexes/base.py\u001b[0m in \u001b[0;36mget_loc\u001b[0;34m(self, key, method, tolerance)\u001b[0m\n\u001b[1;32m   3621\u001b[0m                 \u001b[0;32mreturn\u001b[0m \u001b[0mself\u001b[0m\u001b[0;34m.\u001b[0m\u001b[0m_engine\u001b[0m\u001b[0;34m.\u001b[0m\u001b[0mget_loc\u001b[0m\u001b[0;34m(\u001b[0m\u001b[0mcasted_key\u001b[0m\u001b[0;34m)\u001b[0m\u001b[0;34m\u001b[0m\u001b[0;34m\u001b[0m\u001b[0m\n\u001b[1;32m   3622\u001b[0m             \u001b[0;32mexcept\u001b[0m \u001b[0mKeyError\u001b[0m \u001b[0;32mas\u001b[0m \u001b[0merr\u001b[0m\u001b[0;34m:\u001b[0m\u001b[0;34m\u001b[0m\u001b[0;34m\u001b[0m\u001b[0m\n\u001b[0;32m-> 3623\u001b[0;31m                 \u001b[0;32mraise\u001b[0m \u001b[0mKeyError\u001b[0m\u001b[0;34m(\u001b[0m\u001b[0mkey\u001b[0m\u001b[0;34m)\u001b[0m \u001b[0;32mfrom\u001b[0m \u001b[0merr\u001b[0m\u001b[0;34m\u001b[0m\u001b[0;34m\u001b[0m\u001b[0m\n\u001b[0m\u001b[1;32m   3624\u001b[0m             \u001b[0;32mexcept\u001b[0m \u001b[0mTypeError\u001b[0m\u001b[0;34m:\u001b[0m\u001b[0;34m\u001b[0m\u001b[0;34m\u001b[0m\u001b[0m\n\u001b[1;32m   3625\u001b[0m                 \u001b[0;31m# If we have a listlike key, _check_indexing_error will raise\u001b[0m\u001b[0;34m\u001b[0m\u001b[0;34m\u001b[0m\u001b[0m\n",
      "\u001b[0;31mKeyError\u001b[0m: 'monthly_mean_weight'"
     ]
    }
   ],
   "source": [
    "all_region = pd.DataFrame()\n",
    "all_area = pd.DataFrame()\n",
    "\n",
    "for region in regions:\n",
    "    for model in models:\n",
    "        files = os.listdir(ensemble_dir+region+'/pre_data/'+model+'/var_out/')\n",
    "        for file in files:\n",
    "            data = pd.read_csv(ensemble_dir+region+'/pre_data/'+model+'/var_out/'+file, names = output_col_names)\n",
    "\n",
    "            # print(len(data))\n",
    "            data=data.merge(forest_pfts, on = 'current_veg', how = 'inner')\n",
    "            # print(len(data))\n",
    "\n",
    "            #####create weight for variables\n",
    "            data['monthly_mean_weight'] = data['monthly_mean']* data['cohort_area']\n",
    "            data['Jan_weight'] = data['Jan']* data['cohort_area']\n",
    "            data['Feb_weight'] = data['Feb']* data['cohort_area']\n",
    "            data['Mar_weight'] = data['Mar']* data['cohort_area']\n",
    "            data['Apr_weight'] = data['Apr']* data['cohort_area']\n",
    "            data['May_weight'] = data['May']* data['cohort_area']\n",
    "            data['Jun_weight'] = data['Jun']* data['cohort_area']\n",
    "            data['Jul_weight'] = data['Jul']* data['cohort_area']\n",
    "            data['Aug_weight'] = data['Aug']* data['cohort_area']\n",
    "            data['Sep_weight'] = data['Sep']* data['cohort_area']\n",
    "            data['Oct_weight'] = data['Oct']* data['cohort_area']\n",
    "            data['Nov_weight'] = data['Nov']* data['cohort_area']\n",
    "            data['Dec_weight'] = data['Dec']* data['cohort_area']\n",
    "\n",
    "            data = data.groupby(\n",
    "                ['lon','lat','variable','forest_type','current_veg','year','silt_clay','region']\n",
    "            )[data.columns[data.columns.str.contains('weight|area')]\n",
    "            ].sum()\n",
    "            # print(len(data))\n",
    "            # ###sum up by lat lon year var\n",
    "\n",
    "            # ####recalculate values\n",
    "            data=data.reset_index()\n",
    "            # ### finish weighted average calculation\n",
    "            data['monthly_mean'] = data['monthly_mean_weight']/ data['cohort_area']\n",
    "            data['Jan'] = data['Jan_weight']/ data['cohort_area']\n",
    "            data['Feb'] = data['Feb_weight']/ data['cohort_area']\n",
    "            data['Mar'] = data['Mar_weight']/ data['cohort_area']\n",
    "            data['Apr'] = data['Apr_weight']/ data['cohort_area']\n",
    "            data['May'] = data['May_weight']/ data['cohort_area']\n",
    "            data['Jun'] = data['Jun_weight']/ data['cohort_area']\n",
    "            data['Jul'] = data['Jul_weight']/ data['cohort_area']\n",
    "            data['Aug'] = data['Aug_weight']/ data['cohort_area']\n",
    "            data['Sep'] = data['Sep_weight']/ data['cohort_area']\n",
    "            data['Oct'] = data['Oct_weight']/ data['cohort_area']\n",
    "            data['Nov'] = data['Nov_weight']/ data['cohort_area']\n",
    "            data['Dec'] = data['Dec_weight']/ data['cohort_area']\n",
    "\n",
    "            # ###give relevant information\n",
    "            data['model'] = model\n",
    "            data['file'] = file\n",
    "\n",
    "            all_region = pd.concat([all_region, data])\n",
    "    ### save after region\n",
    "    all_region.to_csv(output_dir_path+region+'/lat_lon_year_var_equil.csv', index=False)\n",
    "\n",
    "    all_region = all_region.groupby(\n",
    "        ['lon','lat','variable','forest_type','current_veg','silt_clay','region']\n",
    "    )[all_region.columns[all_region.columns.str.contains('weight|area')]\n",
    "    ].sum()\n",
    "\n",
    "    all_region['monthly_mean'] = all_region['monthly_mean_weight']/ all_region['cohort_area']\n",
    "    all_region['Jan'] = all_region['Jan_weight']/ all_region['cohort_area']\n",
    "    all_region['Feb'] = all_region['Feb_weight']/ all_region['cohort_area']\n",
    "    all_region['Mar'] = all_region['Mar_weight']/ all_region['cohort_area']\n",
    "    all_region['Apr'] = all_region['Apr_weight']/ all_region['cohort_area']\n",
    "    all_region['May'] = all_region['May_weight']/ all_region['cohort_area']\n",
    "    all_region['Jun'] = all_region['Jun_weight']/ all_region['cohort_area']\n",
    "    all_region['Jul'] = all_region['Jul_weight']/ all_region['cohort_area']\n",
    "    all_region['Aug'] = all_region['Aug_weight']/ all_region['cohort_area']\n",
    "    all_region['Sep'] = all_region['Sep_weight']/ all_region['cohort_area']\n",
    "    all_region['Oct'] = all_region['Oct_weight']/ all_region['cohort_area']\n",
    "    all_region['Nov'] = all_region['Nov_weight']/ all_region['cohort_area']\n",
    "    all_region['Dec'] = all_region['Dec_weight']/ all_region['cohort_area']\n",
    "\n",
    "    ##summarize by lat, lon, var\n",
    "    all_region['region'] = region\n",
    "    all_area = pd.concat(all_area , all_region)\n",
    "    print(region)\n",
    "\n",
    "all_area.to_csv(output_dir_path+'all_regions_lat_lon_equil.csv', index=False)"
   ]
  },
  {
   "cell_type": "code",
   "execution_count": 10,
   "id": "0f82f88e-a07e-4d0e-8db5-856d4ee601d1",
   "metadata": {},
   "outputs": [],
   "source": [
    "all_area = pd.concat([all_area , all_region])\n"
   ]
  }
 ],
 "metadata": {
  "kernelspec": {
   "display_name": "condaforge",
   "language": "python",
   "name": "condaforge"
  },
  "language_info": {
   "codemirror_mode": {
    "name": "ipython",
    "version": 3
   },
   "file_extension": ".py",
   "mimetype": "text/x-python",
   "name": "python",
   "nbconvert_exporter": "python",
   "pygments_lexer": "ipython3",
   "version": "3.10.6"
  }
 },
 "nbformat": 4,
 "nbformat_minor": 5
}
