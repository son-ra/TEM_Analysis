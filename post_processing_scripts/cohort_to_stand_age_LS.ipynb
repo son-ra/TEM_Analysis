{
 "cells": [
  {
   "cell_type": "code",
   "execution_count": 1,
   "id": "bbcc1e98-8cba-4479-b6f8-6611e0d76489",
   "metadata": {},
   "outputs": [],
   "source": [
    "\n",
    "import xarray as xr\n",
    "import cftime \n",
    "import numpy as np\n",
    "import pandas as pd\n",
    "import matplotlib.pyplot as plt\n",
    "import re\n",
    "import os\n",
    "import time\n",
    "import logging\n",
    "import cartopy.crs as ccrs\n",
    "import metpy  \n",
    "import calendar\n",
    "import argparse\n",
    "import glob\n"
   ]
  },
  {
   "cell_type": "code",
   "execution_count": 2,
   "id": "2b262575-1166-48d7-a14d-56faae4d2b91",
   "metadata": {},
   "outputs": [],
   "source": [
    "output_col_names = ['lon'\n",
    ",'lat'\n",
    ",'variable'\n",
    ",'cohort_number'\n",
    ",'stand_age'\n",
    ",'potential_veg'\n",
    ",'current_veg'\n",
    ",'community_type'\n",
    ",'subtype'\n",
    ",'silt_clay'  ###check this order\n",
    ",'lc_state'\n",
    ",'land_area'\n",
    ",'cohort_area'\n",
    ",'year'\n",
    ",'annual_sum'\n",
    ",'monthly_maximum'\n",
    ",'monthly_mean'\n",
    ",'monthly_minimum'\n",
    ",'Jan'\n",
    ",'Feb'\n",
    ",'Mar'\n",
    ",'Apr'\n",
    ",'May'\n",
    ",'Jun'\n",
    ",'Jul'\n",
    ",'Aug'\n",
    ",'Sep'\n",
    ",'Oct'\n",
    ",'Nov'\n",
    ",'Dec'\n",
    ",'region']"
   ]
  },
  {
   "cell_type": "code",
   "execution_count": 3,
   "id": "cf1f0f0a-114e-4500-bffa-36b75744b4ee",
   "metadata": {},
   "outputs": [],
   "source": [
    "\n",
    "forest_vegs = [4, 5, 6, 8, 9, 10, 11, 16, 17, 18, 19, 20, 25, 33]\n",
    "forest_types = [\"Boreal Forest\", \"Forested Boreal Wetlands\", \"Boreal Woodlands\",\"Mixed Temperate Forests\", \n",
    "               \"Temperate Coniferous Forests\", \"Temperate Deciduous Forests\", \"Temperate Forested Wetlands\", \n",
    "               \"Tropical Evergreen Forests\", \"Tropical Forested Wetlands\", \"Tropical Deciduous Forests\", \"Xeromorphic Forests and Woodlands\"\n",
    "               ,\"Tropical Forested Floodplains\", \"Temperate Forested Floodplains\", \"Temperate Broadleaved Evergreen Forests\"]\n",
    "\n",
    "forest_pfts = pd.DataFrame({\n",
    "'current_veg':forest_vegs, \n",
    "    'forest_type':forest_types\n",
    "})\n",
    "\n",
    "# cohort_output=cohort_output.merge(forest_pfts, on = 'current_veg', how = 'left')\n",
    "\n"
   ]
  },
  {
   "cell_type": "code",
   "execution_count": null,
   "id": "2031581d-39ba-4673-aa50-54dccf616141",
   "metadata": {},
   "outputs": [],
   "source": [
    "summary_path = pd.read_csv('')"
   ]
  }
 ],
 "metadata": {
  "kernelspec": {
   "display_name": "condaforge",
   "language": "python",
   "name": "condaforge"
  },
  "language_info": {
   "codemirror_mode": {
    "name": "ipython",
    "version": 3
   },
   "file_extension": ".py",
   "mimetype": "text/x-python",
   "name": "python",
   "nbconvert_exporter": "python",
   "pygments_lexer": "ipython3",
   "version": "3.10.6"
  }
 },
 "nbformat": 4,
 "nbformat_minor": 5
}
