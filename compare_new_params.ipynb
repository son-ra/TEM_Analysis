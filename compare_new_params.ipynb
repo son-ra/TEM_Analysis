{
 "cells": [
  {
   "cell_type": "code",
   "execution_count": 1,
   "id": "7be6ec36-80c7-47e1-9788-0e1e17ae0162",
   "metadata": {},
   "outputs": [],
   "source": [
    "import os\n",
    "import matplotlib.pyplot as plt\n",
    "import re\n",
    "import numpy as np\n",
    "from scipy import stats\n",
    "#import optshrink as opt # package we create\n",
    "import numpy as np\n",
    "# import scipy.io as sio\n",
    "import h5py\n",
    "import matplotlib.pyplot as plt\n",
    "import pandas as pd\n",
    "import xarray as xr\n",
    "import cartopy.crs as ccrs\n",
    "import seaborn as sns\n",
    "from shapely.geometry import Point\n",
    "import geopandas as gp\n",
    "from geodatasets import get_path\n",
    "from shapely.geometry import Polygon"
   ]
  },
  {
   "cell_type": "code",
   "execution_count": 2,
   "id": "3708046b-ed48-47fc-afac-493a7d270cc6",
   "metadata": {},
   "outputs": [],
   "source": [
    "output_col_names = ['lon'\n",
    ",'lat'\n",
    ",'variable'\n",
    ",'cohort_number'\n",
    ",'stand_age'\n",
    ",'potential_veg'\n",
    ",'current_veg'\n",
    ",'community_type'\n",
    ",'subtype'\n",
    ",'silt_clay'  ###check this order\n",
    ",'lc_state'\n",
    ",'land_area'\n",
    ",'cohort_area'\n",
    ",'year'\n",
    ",'annual_sum'\n",
    ",'monthly_maximum'\n",
    ",'monthly_mean'\n",
    ",'monthly_minimum'\n",
    ",'Jan'\n",
    ",'Feb'\n",
    ",'Mar'\n",
    ",'Apr'\n",
    ",'May'\n",
    ",'Jun'\n",
    ",'Jul'\n",
    ",'Aug'\n",
    ",'Sep'\n",
    ",'Oct'\n",
    ",'Nov'\n",
    ",'Dec'\n",
    ",'region']\n",
    "\n",
    "\n"
   ]
  },
  {
   "cell_type": "code",
   "execution_count": 3,
   "id": "f15f762a-fe9e-40b4-8a30-188e55ef09b6",
   "metadata": {},
   "outputs": [],
   "source": [
    "dir_readin = '/group/moniergrp/TEM_Large_Ensemble/run_support_files/cru_regions/region_3/var_out/'\n",
    "regions = pd.DataFrame({'files':os.listdir(dir_readin)})"
   ]
  },
  {
   "cell_type": "code",
   "execution_count": 4,
   "id": "8ffa0a78-958d-42b4-a793-3eb3a57d9b13",
   "metadata": {},
   "outputs": [],
   "source": [
    "read_in = np.array(regions.loc[regions['files'].str.contains('AVAILN'), 'files'])"
   ]
  },
  {
   "cell_type": "code",
   "execution_count": 23,
   "id": "3af399c3-29ce-44af-8e63-a5889f1bc427",
   "metadata": {},
   "outputs": [],
   "source": [
    "##subset out coniferous and deciduous AVAILN, plot timeseries\n",
    "\n",
    "all_areas_old_params = pd.DataFrame()\n",
    "\n",
    "for region in read_in:\n",
    "    tt = pd.read_csv('/group/moniergrp/TEM_Large_Ensemble/run_support_files/cru_regions/region_13/var_out_old_params/' + region, names = output_col_names)\n",
    "    tt = tt.loc[tt['community_type'].isin([10,11,25,8,9])]\n",
    "    all_areas_old_params = pd.concat([all_areas_old_params, tt])\n",
    "    \n",
    "all_areas_old_params.loc[all_areas_old_params['community_type'].isin([10,11,25]), 'PFT_group'] = 'Temperate Deciduous'\n",
    "all_areas_old_params.loc[all_areas_old_params['community_type'].isin([9,8]), 'PFT_group'] = 'Temperate Coniferous'\n"
   ]
  },
  {
   "cell_type": "code",
   "execution_count": 24,
   "id": "1eef37e6-d8f5-4132-9df1-fb0c94fa1295",
   "metadata": {},
   "outputs": [
    {
     "data": {
      "text/plain": [
       "count    5.740885e+06\n",
       "mean     4.708288e+03\n",
       "std      1.029446e+05\n",
       "min      0.000000e+00\n",
       "25%      7.103000e+02\n",
       "50%      1.077900e+03\n",
       "75%      2.238850e+03\n",
       "max      2.657768e+07\n",
       "Name: monthly_mean, dtype: float64"
      ]
     },
     "execution_count": 24,
     "metadata": {},
     "output_type": "execute_result"
    }
   ],
   "source": [
    "all_areas_old_params['monthly_mean'].describe()"
   ]
  },
  {
   "cell_type": "code",
   "execution_count": 25,
   "id": "2035aa70-1649-46c4-bc2a-06a6ebb4234b",
   "metadata": {},
   "outputs": [
    {
     "data": {
      "text/plain": [
       "count    3.152797e+06\n",
       "mean     5.685574e+03\n",
       "std      2.448013e+04\n",
       "min      0.000000e+00\n",
       "25%      6.337100e+02\n",
       "50%      9.215200e+02\n",
       "75%      1.565610e+03\n",
       "max      6.858088e+06\n",
       "Name: monthly_mean, dtype: float64"
      ]
     },
     "execution_count": 25,
     "metadata": {},
     "output_type": "execute_result"
    }
   ],
   "source": [
    "all_areas['monthly_mean'].describe()"
   ]
  },
  {
   "cell_type": "code",
   "execution_count": 45,
   "id": "7437caf9-9311-4e6d-9bc6-d2cf18f45d33",
   "metadata": {},
   "outputs": [
    {
     "name": "stdout",
     "output_type": "stream",
     "text": [
      "/group/moniergrp/TEM_Large_Ensemble/run_support_files/cru_regions/region_13/var_out/\n"
     ]
    }
   ],
   "source": [
    "print(dir_readin)\n",
    "read_in = np.array(regions.loc[regions['files'].str.contains('SOILORGC'), 'files'])"
   ]
  },
  {
   "cell_type": "code",
   "execution_count": 46,
   "id": "61a37bef-c297-4abf-83c6-de05ebef4154",
   "metadata": {},
   "outputs": [],
   "source": [
    "##subset out coniferous and deciduous AVAILN, plot timeseries\n",
    "\n",
    "all_areas = pd.DataFrame()\n",
    "\n",
    "for region in read_in:\n",
    "    tt = pd.read_csv(dir_readin + region, names = output_col_names)\n",
    "    tt = tt.loc[tt['community_type'].isin([33])]\n",
    "    all_areas = pd.concat([all_areas, tt])\n",
    "    \n",
    "\n",
    "all_areas.loc[all_areas['community_type'].isin([33]), 'PFT_group'] = 'Broadleaf'\n"
   ]
  },
  {
   "cell_type": "code",
   "execution_count": 48,
   "id": "9073cdf7-7382-49b3-a2ed-34e994938192",
   "metadata": {},
   "outputs": [
    {
     "data": {
      "text/plain": [
       "count    13204.000000\n",
       "mean       159.145517\n",
       "std        205.349165\n",
       "min          0.000000\n",
       "25%         24.000000\n",
       "50%         94.210000\n",
       "75%        222.990000\n",
       "max       3043.980000\n",
       "Name: monthly_mean, dtype: float64"
      ]
     },
     "execution_count": 48,
     "metadata": {},
     "output_type": "execute_result"
    }
   ],
   "source": [
    "all_areas.monthly_mean.describe()"
   ]
  },
  {
   "cell_type": "code",
   "execution_count": 52,
   "id": "5c0c4668-e6f8-49b3-b6ee-099949ea1c60",
   "metadata": {},
   "outputs": [
    {
     "data": {
      "text/plain": [
       "0         16.65\n",
       "64963     17.18\n",
       "115147    22.29\n",
       "Name: monthly_mean, dtype: float64"
      ]
     },
     "execution_count": 52,
     "metadata": {},
     "output_type": "execute_result"
    }
   ],
   "source": [
    "all_areas.loc[all_areas['year']==1700, 'monthly_mean']"
   ]
  },
  {
   "cell_type": "code",
   "execution_count": null,
   "id": "1dc17265-2ca8-4b16-ab8a-9ea485f1544d",
   "metadata": {},
   "outputs": [],
   "source": []
  },
  {
   "cell_type": "code",
   "execution_count": 50,
   "id": "01dc9baf-7658-4bbf-a644-fc8605b67006",
   "metadata": {},
   "outputs": [
    {
     "data": {
      "text/plain": [
       "<Axes: xlabel='year', ylabel='monthly_mean'>"
      ]
     },
     "execution_count": 50,
     "metadata": {},
     "output_type": "execute_result"
    },
    {
     "data": {
      "image/png": "[encoded data removed]",
      "text/plain": [
       "<Figure size 432x288 with 1 Axes>"
      ]
     },
     "metadata": {
      "needs_background": "light"
     },
     "output_type": "display_data"
    }
   ],
   "source": [
    "sns.lineplot(data = all_areas.loc[(all_areas['lon']==-119.5)\n",
    "              &(all_areas['lat']==36.0)],\n",
    "         x = 'year', y = 'monthly_mean'\n",
    "        )"
   ]
  },
  {
   "cell_type": "code",
   "execution_count": null,
   "id": "8369fa95-89f1-403d-939d-85e0173027dc",
   "metadata": {},
   "outputs": [],
   "source": []
  },
  {
   "cell_type": "code",
   "execution_count": 7,
   "id": "521a3121-1f13-4915-a689-eceff5f1a94f",
   "metadata": {},
   "outputs": [],
   "source": [
    "##subset out coniferous and deciduous AVAILN, plot timeseries\n",
    "\n",
    "all_areas = pd.DataFrame()\n",
    "\n",
    "for region in read_in:\n",
    "    tt = pd.read_csv(dir_readin + region, names = output_col_names)\n",
    "    tt = tt.loc[tt['community_type'].isin([10,11,25,8,9,17,20,16,18,33])]\n",
    "    all_areas = pd.concat([all_areas, tt])\n",
    "    \n",
    "all_areas.loc[all_areas['community_type'].isin([10,11,25]), 'PFT_group'] = 'Temperate Deciduous'\n",
    "all_areas.loc[all_areas['community_type'].isin([9,8]), 'PFT_group'] = 'Temperate Coniferous'\n",
    "all_areas.loc[all_areas['community_type'].isin([17,20,16,18]), 'PFT_group'] = 'Tropical'\n",
    "all_areas.loc[all_areas['community_type'].isin([33]), 'PFT_group'] = 'Broadleaf'\n"
   ]
  },
  {
   "cell_type": "code",
   "execution_count": 12,
   "id": "869426a6-ed89-4cd9-b54d-893209551ad1",
   "metadata": {},
   "outputs": [
    {
     "data": {
      "text/html": [
       "<div>\n",
       "<style scoped>\n",
       "    .dataframe tbody tr th:only-of-type {\n",
       "        vertical-align: middle;\n",
       "    }\n",
       "\n",
       "    .dataframe tbody tr th {\n",
       "        vertical-align: top;\n",
       "    }\n",
       "\n",
       "    .dataframe thead th {\n",
       "        text-align: right;\n",
       "    }\n",
       "</style>\n",
       "<table border=\"1\" class=\"dataframe\">\n",
       "  <thead>\n",
       "    <tr style=\"text-align: right;\">\n",
       "      <th></th>\n",
       "      <th>lon</th>\n",
       "      <th>lat</th>\n",
       "      <th>variable</th>\n",
       "      <th>cohort_number</th>\n",
       "      <th>stand_age</th>\n",
       "      <th>potential_veg</th>\n",
       "      <th>current_veg</th>\n",
       "      <th>community_type</th>\n",
       "      <th>subtype</th>\n",
       "      <th>silt_clay</th>\n",
       "      <th>...</th>\n",
       "      <th>May</th>\n",
       "      <th>Jun</th>\n",
       "      <th>Jul</th>\n",
       "      <th>Aug</th>\n",
       "      <th>Sep</th>\n",
       "      <th>Oct</th>\n",
       "      <th>Nov</th>\n",
       "      <th>Dec</th>\n",
       "      <th>region</th>\n",
       "      <th>PFT_group</th>\n",
       "    </tr>\n",
       "  </thead>\n",
       "  <tbody>\n",
       "    <tr>\n",
       "      <th>1455224</th>\n",
       "      <td>-104.5</td>\n",
       "      <td>23.5</td>\n",
       "      <td>AVAILN</td>\n",
       "      <td>1</td>\n",
       "      <td>3000</td>\n",
       "      <td>9</td>\n",
       "      <td>9</td>\n",
       "      <td>9</td>\n",
       "      <td>5</td>\n",
       "      <td>50.53</td>\n",
       "      <td>...</td>\n",
       "      <td>11462.86</td>\n",
       "      <td>12723.27</td>\n",
       "      <td>12277.86</td>\n",
       "      <td>10857.31</td>\n",
       "      <td>9441.93</td>\n",
       "      <td>8562.00</td>\n",
       "      <td>8270.35</td>\n",
       "      <td>8457.67</td>\n",
       "      <td>Mexico</td>\n",
       "      <td>Temperate Coniferous</td>\n",
       "    </tr>\n",
       "    <tr>\n",
       "      <th>1455225</th>\n",
       "      <td>-104.5</td>\n",
       "      <td>23.5</td>\n",
       "      <td>AVAILN</td>\n",
       "      <td>2</td>\n",
       "      <td>425</td>\n",
       "      <td>9</td>\n",
       "      <td>9</td>\n",
       "      <td>9</td>\n",
       "      <td>5</td>\n",
       "      <td>50.53</td>\n",
       "      <td>...</td>\n",
       "      <td>11462.86</td>\n",
       "      <td>12723.27</td>\n",
       "      <td>12277.86</td>\n",
       "      <td>10857.31</td>\n",
       "      <td>9441.93</td>\n",
       "      <td>8562.00</td>\n",
       "      <td>8270.35</td>\n",
       "      <td>8457.67</td>\n",
       "      <td>Mexico</td>\n",
       "      <td>Temperate Coniferous</td>\n",
       "    </tr>\n",
       "    <tr>\n",
       "      <th>4244750</th>\n",
       "      <td>-102.5</td>\n",
       "      <td>18.5</td>\n",
       "      <td>AVAILN</td>\n",
       "      <td>1</td>\n",
       "      <td>3000</td>\n",
       "      <td>9</td>\n",
       "      <td>9</td>\n",
       "      <td>9</td>\n",
       "      <td>5</td>\n",
       "      <td>55.13</td>\n",
       "      <td>...</td>\n",
       "      <td>23360.48</td>\n",
       "      <td>25373.78</td>\n",
       "      <td>25141.57</td>\n",
       "      <td>24072.61</td>\n",
       "      <td>22309.26</td>\n",
       "      <td>20385.23</td>\n",
       "      <td>19057.26</td>\n",
       "      <td>18320.96</td>\n",
       "      <td>Mexico</td>\n",
       "      <td>Temperate Coniferous</td>\n",
       "    </tr>\n",
       "    <tr>\n",
       "      <th>4244751</th>\n",
       "      <td>-102.5</td>\n",
       "      <td>18.5</td>\n",
       "      <td>AVAILN</td>\n",
       "      <td>2</td>\n",
       "      <td>425</td>\n",
       "      <td>9</td>\n",
       "      <td>9</td>\n",
       "      <td>9</td>\n",
       "      <td>5</td>\n",
       "      <td>55.13</td>\n",
       "      <td>...</td>\n",
       "      <td>23360.48</td>\n",
       "      <td>25373.78</td>\n",
       "      <td>25141.57</td>\n",
       "      <td>24072.61</td>\n",
       "      <td>22309.26</td>\n",
       "      <td>20385.23</td>\n",
       "      <td>19057.26</td>\n",
       "      <td>18320.96</td>\n",
       "      <td>Mexico</td>\n",
       "      <td>Temperate Coniferous</td>\n",
       "    </tr>\n",
       "    <tr>\n",
       "      <th>646649</th>\n",
       "      <td>-90.5</td>\n",
       "      <td>35.5</td>\n",
       "      <td>AVAILN</td>\n",
       "      <td>1</td>\n",
       "      <td>3000</td>\n",
       "      <td>11</td>\n",
       "      <td>11</td>\n",
       "      <td>11</td>\n",
       "      <td>6</td>\n",
       "      <td>58.21</td>\n",
       "      <td>...</td>\n",
       "      <td>9221.70</td>\n",
       "      <td>11513.47</td>\n",
       "      <td>19097.05</td>\n",
       "      <td>19010.23</td>\n",
       "      <td>18329.23</td>\n",
       "      <td>17985.20</td>\n",
       "      <td>17611.72</td>\n",
       "      <td>17189.26</td>\n",
       "      <td>United_States_of_America</td>\n",
       "      <td>Temperate Deciduous</td>\n",
       "    </tr>\n",
       "    <tr>\n",
       "      <th>...</th>\n",
       "      <td>...</td>\n",
       "      <td>...</td>\n",
       "      <td>...</td>\n",
       "      <td>...</td>\n",
       "      <td>...</td>\n",
       "      <td>...</td>\n",
       "      <td>...</td>\n",
       "      <td>...</td>\n",
       "      <td>...</td>\n",
       "      <td>...</td>\n",
       "      <td>...</td>\n",
       "      <td>...</td>\n",
       "      <td>...</td>\n",
       "      <td>...</td>\n",
       "      <td>...</td>\n",
       "      <td>...</td>\n",
       "      <td>...</td>\n",
       "      <td>...</td>\n",
       "      <td>...</td>\n",
       "      <td>...</td>\n",
       "      <td>...</td>\n",
       "    </tr>\n",
       "    <tr>\n",
       "      <th>2528094</th>\n",
       "      <td>-109.0</td>\n",
       "      <td>30.0</td>\n",
       "      <td>AVAILN</td>\n",
       "      <td>2</td>\n",
       "      <td>425</td>\n",
       "      <td>9</td>\n",
       "      <td>9</td>\n",
       "      <td>9</td>\n",
       "      <td>5</td>\n",
       "      <td>50.84</td>\n",
       "      <td>...</td>\n",
       "      <td>99793.59</td>\n",
       "      <td>99122.91</td>\n",
       "      <td>98443.28</td>\n",
       "      <td>97908.78</td>\n",
       "      <td>98460.33</td>\n",
       "      <td>98931.23</td>\n",
       "      <td>99045.47</td>\n",
       "      <td>98895.68</td>\n",
       "      <td>Mexico</td>\n",
       "      <td>Temperate Coniferous</td>\n",
       "    </tr>\n",
       "    <tr>\n",
       "      <th>2549597</th>\n",
       "      <td>-109.0</td>\n",
       "      <td>30.5</td>\n",
       "      <td>AVAILN</td>\n",
       "      <td>1</td>\n",
       "      <td>3000</td>\n",
       "      <td>9</td>\n",
       "      <td>9</td>\n",
       "      <td>9</td>\n",
       "      <td>5</td>\n",
       "      <td>49.85</td>\n",
       "      <td>...</td>\n",
       "      <td>123007.17</td>\n",
       "      <td>122246.62</td>\n",
       "      <td>121475.68</td>\n",
       "      <td>120952.95</td>\n",
       "      <td>121393.36</td>\n",
       "      <td>121672.51</td>\n",
       "      <td>121605.30</td>\n",
       "      <td>121284.42</td>\n",
       "      <td>Mexico</td>\n",
       "      <td>Temperate Coniferous</td>\n",
       "    </tr>\n",
       "    <tr>\n",
       "      <th>2596723</th>\n",
       "      <td>-109.0</td>\n",
       "      <td>33.5</td>\n",
       "      <td>AVAILN</td>\n",
       "      <td>1</td>\n",
       "      <td>3000</td>\n",
       "      <td>9</td>\n",
       "      <td>9</td>\n",
       "      <td>9</td>\n",
       "      <td>5</td>\n",
       "      <td>66.63</td>\n",
       "      <td>...</td>\n",
       "      <td>31075.36</td>\n",
       "      <td>30696.91</td>\n",
       "      <td>30379.88</td>\n",
       "      <td>31017.77</td>\n",
       "      <td>31617.93</td>\n",
       "      <td>31850.84</td>\n",
       "      <td>31654.47</td>\n",
       "      <td>31375.92</td>\n",
       "      <td>United_States_of_America</td>\n",
       "      <td>Temperate Coniferous</td>\n",
       "    </tr>\n",
       "    <tr>\n",
       "      <th>2784132</th>\n",
       "      <td>-108.5</td>\n",
       "      <td>26.0</td>\n",
       "      <td>AVAILN</td>\n",
       "      <td>1</td>\n",
       "      <td>3000</td>\n",
       "      <td>9</td>\n",
       "      <td>9</td>\n",
       "      <td>9</td>\n",
       "      <td>5</td>\n",
       "      <td>51.10</td>\n",
       "      <td>...</td>\n",
       "      <td>16406.88</td>\n",
       "      <td>18269.48</td>\n",
       "      <td>17711.13</td>\n",
       "      <td>16127.82</td>\n",
       "      <td>14459.74</td>\n",
       "      <td>13329.96</td>\n",
       "      <td>12761.59</td>\n",
       "      <td>12475.99</td>\n",
       "      <td>Mexico</td>\n",
       "      <td>Temperate Coniferous</td>\n",
       "    </tr>\n",
       "    <tr>\n",
       "      <th>2784133</th>\n",
       "      <td>-108.5</td>\n",
       "      <td>26.0</td>\n",
       "      <td>AVAILN</td>\n",
       "      <td>2</td>\n",
       "      <td>425</td>\n",
       "      <td>9</td>\n",
       "      <td>9</td>\n",
       "      <td>9</td>\n",
       "      <td>5</td>\n",
       "      <td>51.10</td>\n",
       "      <td>...</td>\n",
       "      <td>16406.88</td>\n",
       "      <td>18269.48</td>\n",
       "      <td>17711.13</td>\n",
       "      <td>16127.82</td>\n",
       "      <td>14459.74</td>\n",
       "      <td>13329.96</td>\n",
       "      <td>12761.59</td>\n",
       "      <td>12475.99</td>\n",
       "      <td>Mexico</td>\n",
       "      <td>Temperate Coniferous</td>\n",
       "    </tr>\n",
       "  </tbody>\n",
       "</table>\n",
       "<p>189 rows × 32 columns</p>\n",
       "</div>"
      ],
      "text/plain": [
       "           lon   lat  variable cohort_number stand_age potential_veg  \\\n",
       "1455224 -104.5  23.5   AVAILN              1      3000             9   \n",
       "1455225 -104.5  23.5   AVAILN              2       425             9   \n",
       "4244750 -102.5  18.5   AVAILN              1      3000             9   \n",
       "4244751 -102.5  18.5   AVAILN              2       425             9   \n",
       "646649   -90.5  35.5   AVAILN              1      3000            11   \n",
       "...        ...   ...       ...           ...       ...           ...   \n",
       "2528094 -109.0  30.0   AVAILN              2       425             9   \n",
       "2549597 -109.0  30.5   AVAILN              1      3000             9   \n",
       "2596723 -109.0  33.5   AVAILN              1      3000             9   \n",
       "2784132 -108.5  26.0   AVAILN              1      3000             9   \n",
       "2784133 -108.5  26.0   AVAILN              2       425             9   \n",
       "\n",
       "        current_veg community_type subtype  silt_clay  ...        May  \\\n",
       "1455224           9              9       5      50.53  ...   11462.86   \n",
       "1455225           9              9       5      50.53  ...   11462.86   \n",
       "4244750           9              9       5      55.13  ...   23360.48   \n",
       "4244751           9              9       5      55.13  ...   23360.48   \n",
       "646649           11             11       6      58.21  ...    9221.70   \n",
       "...             ...            ...     ...        ...  ...        ...   \n",
       "2528094           9              9       5      50.84  ...   99793.59   \n",
       "2549597           9              9       5      49.85  ...  123007.17   \n",
       "2596723           9              9       5      66.63  ...   31075.36   \n",
       "2784132           9              9       5      51.10  ...   16406.88   \n",
       "2784133           9              9       5      51.10  ...   16406.88   \n",
       "\n",
       "               Jun        Jul        Aug        Sep        Oct        Nov  \\\n",
       "1455224   12723.27   12277.86   10857.31    9441.93    8562.00    8270.35   \n",
       "1455225   12723.27   12277.86   10857.31    9441.93    8562.00    8270.35   \n",
       "4244750   25373.78   25141.57   24072.61   22309.26   20385.23   19057.26   \n",
       "4244751   25373.78   25141.57   24072.61   22309.26   20385.23   19057.26   \n",
       "646649    11513.47   19097.05   19010.23   18329.23   17985.20   17611.72   \n",
       "...            ...        ...        ...        ...        ...        ...   \n",
       "2528094   99122.91   98443.28   97908.78   98460.33   98931.23   99045.47   \n",
       "2549597  122246.62  121475.68  120952.95  121393.36  121672.51  121605.30   \n",
       "2596723   30696.91   30379.88   31017.77   31617.93   31850.84   31654.47   \n",
       "2784132   18269.48   17711.13   16127.82   14459.74   13329.96   12761.59   \n",
       "2784133   18269.48   17711.13   16127.82   14459.74   13329.96   12761.59   \n",
       "\n",
       "               Dec                     region             PFT_group  \n",
       "1455224    8457.67                     Mexico  Temperate Coniferous  \n",
       "1455225    8457.67                     Mexico  Temperate Coniferous  \n",
       "4244750   18320.96                     Mexico  Temperate Coniferous  \n",
       "4244751   18320.96                     Mexico  Temperate Coniferous  \n",
       "646649    17189.26   United_States_of_America   Temperate Deciduous  \n",
       "...            ...                        ...                   ...  \n",
       "2528094   98895.68                     Mexico  Temperate Coniferous  \n",
       "2549597  121284.42                     Mexico  Temperate Coniferous  \n",
       "2596723   31375.92   United_States_of_America  Temperate Coniferous  \n",
       "2784132   12475.99                     Mexico  Temperate Coniferous  \n",
       "2784133   12475.99                     Mexico  Temperate Coniferous  \n",
       "\n",
       "[189 rows x 32 columns]"
      ]
     },
     "execution_count": 12,
     "metadata": {},
     "output_type": "execute_result"
    }
   ],
   "source": [
    "all_areas.loc[(all_areas['monthly_mean'] > 10000)&(all_areas['year']==1700)]"
   ]
  },
  {
   "cell_type": "code",
   "execution_count": 14,
   "id": "9202ed75-4d96-4cd5-b894-703db90818ec",
   "metadata": {},
   "outputs": [
    {
     "data": {
      "text/plain": [
       "<Axes: xlabel='year', ylabel='monthly_mean'>"
      ]
     },
     "execution_count": 14,
     "metadata": {},
     "output_type": "execute_result"
    },
    {
     "data": {
      "image/png": "[encoded data removed]",
      "text/plain": [
       "<Figure size 432x288 with 1 Axes>"
      ]
     },
     "metadata": {
      "needs_background": "light"
     },
     "output_type": "display_data"
    }
   ],
   "source": [
    "sns.lineplot(data = all_areas.loc[(all_areas['lon']==-90.5)\n",
    "              &(all_areas['lat']==35.5)],\n",
    "         x = 'year', y = 'monthly_mean'\n",
    "        )"
   ]
  },
  {
   "cell_type": "code",
   "execution_count": 16,
   "id": "3531a521-bdf6-4022-b883-042ea12979b2",
   "metadata": {},
   "outputs": [
    {
     "data": {
      "text/plain": [
       "646649    Temperate Deciduous\n",
       "646650    Temperate Deciduous\n",
       "646653    Temperate Deciduous\n",
       "646654    Temperate Deciduous\n",
       "646657    Temperate Deciduous\n",
       "                 ...         \n",
       "698324    Temperate Deciduous\n",
       "698325    Temperate Deciduous\n",
       "698333    Temperate Deciduous\n",
       "698334    Temperate Deciduous\n",
       "698340    Temperate Deciduous\n",
       "Name: PFT_group, Length: 11064, dtype: object"
      ]
     },
     "execution_count": 16,
     "metadata": {},
     "output_type": "execute_result"
    }
   ],
   "source": [
    "all_areas.loc[(all_areas['lon']==-90.5)\n",
    "              &(all_areas['lat']==35.5),'PFT_group']"
   ]
  },
  {
   "cell_type": "code",
   "execution_count": 15,
   "id": "a69ece56-6bca-4a26-9733-56102e977764",
   "metadata": {},
   "outputs": [
    {
     "data": {
      "text/plain": [
       "1455224    Temperate Coniferous\n",
       "1455225    Temperate Coniferous\n",
       "1455228    Temperate Coniferous\n",
       "1455229    Temperate Coniferous\n",
       "1455233    Temperate Coniferous\n",
       "                   ...         \n",
       "1546641    Temperate Coniferous\n",
       "1546644    Temperate Coniferous\n",
       "1546645    Temperate Coniferous\n",
       "1546651    Temperate Coniferous\n",
       "1546653    Temperate Coniferous\n",
       "Name: PFT_group, Length: 7023, dtype: object"
      ]
     },
     "execution_count": 15,
     "metadata": {},
     "output_type": "execute_result"
    }
   ],
   "source": [
    "all_areas.loc[(all_areas['lon']==-104.5)\n",
    "              &(all_areas['lat']==23.5),'PFT_group']"
   ]
  },
  {
   "cell_type": "code",
   "execution_count": 13,
   "id": "966694fc-9ff4-4aae-83b5-a35f20f4f18e",
   "metadata": {},
   "outputs": [
    {
     "data": {
      "text/plain": [
       "<Axes: xlabel='year', ylabel='monthly_mean'>"
      ]
     },
     "execution_count": 13,
     "metadata": {},
     "output_type": "execute_result"
    },
    {
     "data": {
      "image/png": "[encoded data removed]",
      "text/plain": [
       "<Figure size 432x288 with 1 Axes>"
      ]
     },
     "metadata": {
      "needs_background": "light"
     },
     "output_type": "display_data"
    }
   ],
   "source": [
    "sns.lineplot(data = all_areas.loc[(all_areas['lon']==-104.5)\n",
    "              &(all_areas['lat']==23.5)],\n",
    "         x = 'year', y = 'monthly_mean'\n",
    "        )"
   ]
  },
  {
   "cell_type": "code",
   "execution_count": 5,
   "id": "680af34a-d8d8-4288-bcbd-f44544739e2d",
   "metadata": {},
   "outputs": [
    {
     "ename": "NameError",
     "evalue": "name 'all_areas' is not defined",
     "output_type": "error",
     "traceback": [
      "\u001b[0;31m---------------------------------------------------------------------------\u001b[0m",
      "\u001b[0;31mNameError\u001b[0m                                 Traceback (most recent call last)",
      "\u001b[0;32m/tmp/ipykernel_3972052/535464628.py\u001b[0m in \u001b[0;36m<cell line: 1>\u001b[0;34m()\u001b[0m\n\u001b[0;32m----> 1\u001b[0;31m \u001b[0mall_areas\u001b[0m\u001b[0;34m.\u001b[0m\u001b[0mloc\u001b[0m\u001b[0;34m[\u001b[0m\u001b[0;34m(\u001b[0m\u001b[0mall_areas\u001b[0m\u001b[0;34m[\u001b[0m\u001b[0;34m'monthly_mean'\u001b[0m\u001b[0;34m]\u001b[0m \u001b[0;34m>\u001b[0m \u001b[0;36m10000\u001b[0m\u001b[0;34m)\u001b[0m\u001b[0;34m&\u001b[0m\u001b[0;34m(\u001b[0m\u001b[0mall_areas\u001b[0m\u001b[0;34m[\u001b[0m\u001b[0;34m'PFT_group'\u001b[0m\u001b[0;34m]\u001b[0m\u001b[0;34m==\u001b[0m\u001b[0;34m'Tropical'\u001b[0m\u001b[0;34m)\u001b[0m\u001b[0;34m]\u001b[0m\u001b[0;34m\u001b[0m\u001b[0;34m\u001b[0m\u001b[0m\n\u001b[0m",
      "\u001b[0;31mNameError\u001b[0m: name 'all_areas' is not defined"
     ]
    }
   ],
   "source": [
    "all_areas.loc[(all_areas['monthly_mean'] > 10000)&(all_areas['PFT_group']=='Tropical')]"
   ]
  },
  {
   "cell_type": "code",
   "execution_count": 29,
   "id": "2e62ba67-8c7d-4f13-bdf5-228cfe5abe2c",
   "metadata": {},
   "outputs": [
    {
     "data": {
      "text/plain": [
       "<Axes: xlabel='year', ylabel='monthly_mean'>"
      ]
     },
     "execution_count": 29,
     "metadata": {},
     "output_type": "execute_result"
    },
    {
     "data": {
      "image/png": "[encoded data removed]",
      "text/plain": [
       "<Figure size 432x288 with 1 Axes>"
      ]
     },
     "metadata": {
      "needs_background": "light"
     },
     "output_type": "display_data"
    }
   ],
   "source": [
    "all_areas_old_params['monthly_mean_weight'] = all_areas_old_params['monthly_mean']* all_areas_old_params['cohort_area']\n",
    "pft_yr_old = all_areas_old_params.groupby(\n",
    "    ['lat','lon','year','variable','PFT_group']\n",
    ")[all_areas_old_params.columns[all_areas_old_params.columns.str.contains('weight|area')]\n",
    "].sum()\n",
    "pft_yr_old=pft_yr_old.reset_index()\n",
    "# ### finish weighted average calculation\n",
    "pft_yr_old['monthly_mean'] = (pft_yr_old['monthly_mean_weight']/ pft_yr_old['cohort_area'])\n",
    "sns.lineplot(data=pft_yr_old, x='year', y='monthly_mean', hue='PFT_group')"
   ]
  },
  {
   "cell_type": "code",
   "execution_count": 21,
   "id": "0247754f-bb70-4270-81ea-0a627bcc121e",
   "metadata": {},
   "outputs": [],
   "source": [
    "all_areas['monthly_mean_weight'] = all_areas['monthly_mean']* all_areas['cohort_area']\n",
    "pft_yr = all_areas.groupby(\n",
    "    ['year','variable','PFT_group']\n",
    ")[all_areas.columns[all_areas.columns.str.contains('weight|area')]\n",
    "].sum()\n",
    "pft_yr=pft_yr.reset_index()\n",
    "# ### finish weighted average calculation\n",
    "pft_yr['monthly_mean'] = (pft_yr['monthly_mean_weight']/ pft_yr['cohort_area'])\n"
   ]
  },
  {
   "cell_type": "code",
   "execution_count": 20,
   "id": "5b9e71fa-cd72-452b-a7e1-5c4ccc7eb28f",
   "metadata": {},
   "outputs": [
    {
     "data": {
      "text/plain": [
       "<Axes: xlabel='year', ylabel='monthly_mean'>"
      ]
     },
     "execution_count": 20,
     "metadata": {},
     "output_type": "execute_result"
    },
    {
     "data": {
      "image/png": "[encoded data removed]",
      "text/plain": [
       "<Figure size 432x288 with 1 Axes>"
      ]
     },
     "metadata": {
      "needs_background": "light"
     },
     "output_type": "display_data"
    }
   ],
   "source": [
    "sns.lineplot(data=pft_yr, x='year', y='monthly_mean', hue='PFT_group')"
   ]
  },
  {
   "cell_type": "code",
   "execution_count": 28,
   "id": "89dcfa46-3b29-4207-9108-69d63f7b2c45",
   "metadata": {},
   "outputs": [
    {
     "data": {
      "text/plain": [
       "<Axes: xlabel='year', ylabel='monthly_mean'>"
      ]
     },
     "execution_count": 28,
     "metadata": {},
     "output_type": "execute_result"
    },
    {
     "data": {
      "image/png": "[encoded data removed]",
      "text/plain": [
       "<Figure size 432x288 with 1 Axes>"
      ]
     },
     "metadata": {
      "needs_background": "light"
     },
     "output_type": "display_data"
    }
   ],
   "source": [
    "sns.lineplot(data=pft_yr, x='year', y='monthly_mean', hue='PFT_group')"
   ]
  },
  {
   "cell_type": "code",
   "execution_count": null,
   "id": "947fa4bb-b03f-457a-bc46-20e9a48e1baa",
   "metadata": {},
   "outputs": [],
   "source": [
    "all_years = all_years.loc[~all_years['current_veg'].isin([6,19])] ###dropping woodlands\n",
    "all_years = all_years.loc[all_years['monthly_mean'].between(-1e8,1e8)] ###dropping woodlands\n",
    "all_years.loc[all_years['community_type'].isin([4,5]), 'PFT_group'] = 'Boreal'\n",
    "all_years.loc[all_years['community_type'].isin([17,20,16,18]), 'PFT_group'] = 'Tropical'\n",
    "all_years.loc[all_years['community_type'].isin([10,11,25]), 'PFT_group'] = 'Temperate Deciduous'\n",
    "all_years.loc[all_years['community_type'].isin([9,8]), 'PFT_group'] = 'Temperate Coniferous'\n",
    "all_years.loc[all_years['community_type'].isin([33]), 'PFT_group'] = 'Temperate Broadleaf'\n",
    "all_years.loc[all_years['PFT_group'].isna()]"
   ]
  },
  {
   "cell_type": "code",
   "execution_count": null,
   "id": "8b669c0d-ed0e-49d6-a199-5035f5731e44",
   "metadata": {},
   "outputs": [],
   "source": [
    "####read in region\n",
    "\n",
    "\n",
    "##quick compare boreal is the same\n",
    "\n",
    "##check out tropical LAI, VEGC"
   ]
  },
  {
   "cell_type": "code",
   "execution_count": 3,
   "id": "ce1cac11-87ea-4c27-8ff8-ab02b5fa8bb0",
   "metadata": {},
   "outputs": [
    {
     "data": {
      "text/plain": [
       "array(['VEGC.csv450', 'VEGC.csv200', 'LAI.csv100', 'VEGC.csv300',\n",
       "       'LAI.csv50', 'LAI.csv450', 'VEGC.csv100', 'LAI.csv200',\n",
       "       'LAI.csv300', 'VEGC.csv50', 'LAI.csv150', 'VEGC.csv250',\n",
       "       'LAI.csv0', 'VEGC.csv400', 'VEGC.csv350', 'LAI.csv250',\n",
       "       'VEGC.csv150', 'VEGC.csv0', 'LAI.csv400', 'LAI.csv350'],\n",
       "      dtype=object)"
      ]
     },
     "execution_count": 3,
     "metadata": {},
     "output_type": "execute_result"
    }
   ],
   "source": [
    "dir_readin = '/group/moniergrp/TEM_Large_Ensemble/run_support_files/cru_regions/region_3/var_out/'\n",
    "regions = pd.DataFrame({'files':os.listdir(dir_readin)})\n",
    "\n",
    "read_in = np.array(regions.loc[regions['files'].str.contains('VEGC|LAI'), 'files'])\n",
    "read_in"
   ]
  },
  {
   "cell_type": "code",
   "execution_count": 4,
   "id": "d5fe6fb1-355f-4fea-94de-16215e294c08",
   "metadata": {},
   "outputs": [],
   "source": [
    "##check out tropical LAI, VEGC\n",
    "\n",
    "##subset out coniferous and deciduous AVAILN, plot timeseries\n",
    "\n",
    "all_areas = pd.DataFrame()\n",
    "\n",
    "for region in read_in:\n",
    "    tt = pd.read_csv(dir_readin + region, names = output_col_names)\n",
    "    tt = tt.loc[tt['community_type'].isin([17,20,16,18])]\n",
    "    all_areas = pd.concat([all_areas, tt])\n",
    "    \n"
   ]
  },
  {
   "cell_type": "code",
   "execution_count": 6,
   "id": "8db4cfe1-2693-48ab-80ac-15f0f5761ab7",
   "metadata": {},
   "outputs": [
    {
     "data": {
      "text/html": [
       "<div>\n",
       "<style scoped>\n",
       "    .dataframe tbody tr th:only-of-type {\n",
       "        vertical-align: middle;\n",
       "    }\n",
       "\n",
       "    .dataframe tbody tr th {\n",
       "        vertical-align: top;\n",
       "    }\n",
       "\n",
       "    .dataframe thead th {\n",
       "        text-align: right;\n",
       "    }\n",
       "</style>\n",
       "<table border=\"1\" class=\"dataframe\">\n",
       "  <thead>\n",
       "    <tr style=\"text-align: right;\">\n",
       "      <th></th>\n",
       "      <th>lon</th>\n",
       "      <th>lat</th>\n",
       "      <th>variable</th>\n",
       "      <th>cohort_number</th>\n",
       "      <th>stand_age</th>\n",
       "      <th>potential_veg</th>\n",
       "      <th>current_veg</th>\n",
       "      <th>community_type</th>\n",
       "      <th>subtype</th>\n",
       "      <th>silt_clay</th>\n",
       "      <th>...</th>\n",
       "      <th>Apr</th>\n",
       "      <th>May</th>\n",
       "      <th>Jun</th>\n",
       "      <th>Jul</th>\n",
       "      <th>Aug</th>\n",
       "      <th>Sep</th>\n",
       "      <th>Oct</th>\n",
       "      <th>Nov</th>\n",
       "      <th>Dec</th>\n",
       "      <th>region</th>\n",
       "    </tr>\n",
       "  </thead>\n",
       "  <tbody>\n",
       "    <tr>\n",
       "      <th>530190</th>\n",
       "      <td>-105.5</td>\n",
       "      <td>19.5</td>\n",
       "      <td>LAI</td>\n",
       "      <td>6</td>\n",
       "      <td>10</td>\n",
       "      <td>18</td>\n",
       "      <td>18</td>\n",
       "      <td>18</td>\n",
       "      <td>10</td>\n",
       "      <td>69.55</td>\n",
       "      <td>...</td>\n",
       "      <td>1.03</td>\n",
       "      <td>0.92</td>\n",
       "      <td>0.86</td>\n",
       "      <td>0.96</td>\n",
       "      <td>1.16</td>\n",
       "      <td>1.42</td>\n",
       "      <td>1.51</td>\n",
       "      <td>1.49</td>\n",
       "      <td>1.40</td>\n",
       "      <td>Mexico</td>\n",
       "    </tr>\n",
       "    <tr>\n",
       "      <th>530223</th>\n",
       "      <td>-105.5</td>\n",
       "      <td>19.5</td>\n",
       "      <td>LAI</td>\n",
       "      <td>6</td>\n",
       "      <td>11</td>\n",
       "      <td>18</td>\n",
       "      <td>18</td>\n",
       "      <td>18</td>\n",
       "      <td>10</td>\n",
       "      <td>69.55</td>\n",
       "      <td>...</td>\n",
       "      <td>1.06</td>\n",
       "      <td>0.97</td>\n",
       "      <td>0.90</td>\n",
       "      <td>0.98</td>\n",
       "      <td>1.20</td>\n",
       "      <td>1.54</td>\n",
       "      <td>1.62</td>\n",
       "      <td>1.53</td>\n",
       "      <td>1.43</td>\n",
       "      <td>Mexico</td>\n",
       "    </tr>\n",
       "    <tr>\n",
       "      <th>530225</th>\n",
       "      <td>-105.5</td>\n",
       "      <td>19.5</td>\n",
       "      <td>LAI</td>\n",
       "      <td>8</td>\n",
       "      <td>10</td>\n",
       "      <td>18</td>\n",
       "      <td>18</td>\n",
       "      <td>18</td>\n",
       "      <td>10</td>\n",
       "      <td>69.55</td>\n",
       "      <td>...</td>\n",
       "      <td>1.00</td>\n",
       "      <td>0.89</td>\n",
       "      <td>0.82</td>\n",
       "      <td>0.91</td>\n",
       "      <td>1.08</td>\n",
       "      <td>1.38</td>\n",
       "      <td>1.49</td>\n",
       "      <td>1.45</td>\n",
       "      <td>1.37</td>\n",
       "      <td>Mexico</td>\n",
       "    </tr>\n",
       "    <tr>\n",
       "      <th>530258</th>\n",
       "      <td>-105.5</td>\n",
       "      <td>19.5</td>\n",
       "      <td>LAI</td>\n",
       "      <td>6</td>\n",
       "      <td>12</td>\n",
       "      <td>18</td>\n",
       "      <td>18</td>\n",
       "      <td>18</td>\n",
       "      <td>10</td>\n",
       "      <td>69.55</td>\n",
       "      <td>...</td>\n",
       "      <td>1.07</td>\n",
       "      <td>0.98</td>\n",
       "      <td>0.90</td>\n",
       "      <td>1.04</td>\n",
       "      <td>1.33</td>\n",
       "      <td>1.65</td>\n",
       "      <td>1.66</td>\n",
       "      <td>1.59</td>\n",
       "      <td>1.50</td>\n",
       "      <td>Mexico</td>\n",
       "    </tr>\n",
       "    <tr>\n",
       "      <th>530260</th>\n",
       "      <td>-105.5</td>\n",
       "      <td>19.5</td>\n",
       "      <td>LAI</td>\n",
       "      <td>8</td>\n",
       "      <td>11</td>\n",
       "      <td>18</td>\n",
       "      <td>18</td>\n",
       "      <td>18</td>\n",
       "      <td>10</td>\n",
       "      <td>69.55</td>\n",
       "      <td>...</td>\n",
       "      <td>1.03</td>\n",
       "      <td>0.95</td>\n",
       "      <td>0.88</td>\n",
       "      <td>0.99</td>\n",
       "      <td>1.25</td>\n",
       "      <td>1.55</td>\n",
       "      <td>1.60</td>\n",
       "      <td>1.55</td>\n",
       "      <td>1.47</td>\n",
       "      <td>Mexico</td>\n",
       "    </tr>\n",
       "    <tr>\n",
       "      <th>...</th>\n",
       "      <td>...</td>\n",
       "      <td>...</td>\n",
       "      <td>...</td>\n",
       "      <td>...</td>\n",
       "      <td>...</td>\n",
       "      <td>...</td>\n",
       "      <td>...</td>\n",
       "      <td>...</td>\n",
       "      <td>...</td>\n",
       "      <td>...</td>\n",
       "      <td>...</td>\n",
       "      <td>...</td>\n",
       "      <td>...</td>\n",
       "      <td>...</td>\n",
       "      <td>...</td>\n",
       "      <td>...</td>\n",
       "      <td>...</td>\n",
       "      <td>...</td>\n",
       "      <td>...</td>\n",
       "      <td>...</td>\n",
       "      <td>...</td>\n",
       "    </tr>\n",
       "    <tr>\n",
       "      <th>2645607</th>\n",
       "      <td>-91.0</td>\n",
       "      <td>19.5</td>\n",
       "      <td>LAI</td>\n",
       "      <td>98</td>\n",
       "      <td>17</td>\n",
       "      <td>18</td>\n",
       "      <td>18</td>\n",
       "      <td>18</td>\n",
       "      <td>10</td>\n",
       "      <td>73.44</td>\n",
       "      <td>...</td>\n",
       "      <td>1.23</td>\n",
       "      <td>1.13</td>\n",
       "      <td>1.30</td>\n",
       "      <td>1.44</td>\n",
       "      <td>1.65</td>\n",
       "      <td>1.64</td>\n",
       "      <td>1.65</td>\n",
       "      <td>1.54</td>\n",
       "      <td>1.42</td>\n",
       "      <td>Mexico</td>\n",
       "    </tr>\n",
       "    <tr>\n",
       "      <th>2645609</th>\n",
       "      <td>-91.0</td>\n",
       "      <td>19.5</td>\n",
       "      <td>LAI</td>\n",
       "      <td>100</td>\n",
       "      <td>16</td>\n",
       "      <td>18</td>\n",
       "      <td>18</td>\n",
       "      <td>18</td>\n",
       "      <td>10</td>\n",
       "      <td>73.44</td>\n",
       "      <td>...</td>\n",
       "      <td>1.25</td>\n",
       "      <td>1.14</td>\n",
       "      <td>1.30</td>\n",
       "      <td>1.44</td>\n",
       "      <td>1.65</td>\n",
       "      <td>1.66</td>\n",
       "      <td>1.66</td>\n",
       "      <td>1.56</td>\n",
       "      <td>1.43</td>\n",
       "      <td>Mexico</td>\n",
       "    </tr>\n",
       "    <tr>\n",
       "      <th>2645611</th>\n",
       "      <td>-91.0</td>\n",
       "      <td>19.5</td>\n",
       "      <td>LAI</td>\n",
       "      <td>102</td>\n",
       "      <td>15</td>\n",
       "      <td>18</td>\n",
       "      <td>18</td>\n",
       "      <td>18</td>\n",
       "      <td>10</td>\n",
       "      <td>73.44</td>\n",
       "      <td>...</td>\n",
       "      <td>1.29</td>\n",
       "      <td>1.18</td>\n",
       "      <td>1.33</td>\n",
       "      <td>1.46</td>\n",
       "      <td>1.67</td>\n",
       "      <td>1.70</td>\n",
       "      <td>1.72</td>\n",
       "      <td>1.62</td>\n",
       "      <td>1.49</td>\n",
       "      <td>Mexico</td>\n",
       "    </tr>\n",
       "    <tr>\n",
       "      <th>2645615</th>\n",
       "      <td>-91.0</td>\n",
       "      <td>19.5</td>\n",
       "      <td>LAI</td>\n",
       "      <td>106</td>\n",
       "      <td>14</td>\n",
       "      <td>18</td>\n",
       "      <td>18</td>\n",
       "      <td>18</td>\n",
       "      <td>10</td>\n",
       "      <td>73.44</td>\n",
       "      <td>...</td>\n",
       "      <td>1.34</td>\n",
       "      <td>1.23</td>\n",
       "      <td>1.37</td>\n",
       "      <td>1.50</td>\n",
       "      <td>1.71</td>\n",
       "      <td>1.76</td>\n",
       "      <td>1.78</td>\n",
       "      <td>1.67</td>\n",
       "      <td>1.54</td>\n",
       "      <td>Mexico</td>\n",
       "    </tr>\n",
       "    <tr>\n",
       "      <th>2645617</th>\n",
       "      <td>-91.0</td>\n",
       "      <td>19.5</td>\n",
       "      <td>LAI</td>\n",
       "      <td>108</td>\n",
       "      <td>13</td>\n",
       "      <td>18</td>\n",
       "      <td>18</td>\n",
       "      <td>18</td>\n",
       "      <td>10</td>\n",
       "      <td>73.44</td>\n",
       "      <td>...</td>\n",
       "      <td>1.34</td>\n",
       "      <td>1.23</td>\n",
       "      <td>1.33</td>\n",
       "      <td>1.46</td>\n",
       "      <td>1.65</td>\n",
       "      <td>1.74</td>\n",
       "      <td>1.77</td>\n",
       "      <td>1.69</td>\n",
       "      <td>1.56</td>\n",
       "      <td>Mexico</td>\n",
       "    </tr>\n",
       "  </tbody>\n",
       "</table>\n",
       "<p>10907 rows × 31 columns</p>\n",
       "</div>"
      ],
      "text/plain": [
       "           lon   lat variable  cohort_number  stand_age  potential_veg  \\\n",
       "530190  -105.5  19.5     LAI               6         10             18   \n",
       "530223  -105.5  19.5     LAI               6         11             18   \n",
       "530225  -105.5  19.5     LAI               8         10             18   \n",
       "530258  -105.5  19.5     LAI               6         12             18   \n",
       "530260  -105.5  19.5     LAI               8         11             18   \n",
       "...        ...   ...      ...            ...        ...            ...   \n",
       "2645607  -91.0  19.5     LAI              98         17             18   \n",
       "2645609  -91.0  19.5     LAI             100         16             18   \n",
       "2645611  -91.0  19.5     LAI             102         15             18   \n",
       "2645615  -91.0  19.5     LAI             106         14             18   \n",
       "2645617  -91.0  19.5     LAI             108         13             18   \n",
       "\n",
       "         current_veg  community_type  subtype  silt_clay  ...   Apr   May  \\\n",
       "530190            18              18       10      69.55  ...  1.03  0.92   \n",
       "530223            18              18       10      69.55  ...  1.06  0.97   \n",
       "530225            18              18       10      69.55  ...  1.00  0.89   \n",
       "530258            18              18       10      69.55  ...  1.07  0.98   \n",
       "530260            18              18       10      69.55  ...  1.03  0.95   \n",
       "...              ...             ...      ...        ...  ...   ...   ...   \n",
       "2645607           18              18       10      73.44  ...  1.23  1.13   \n",
       "2645609           18              18       10      73.44  ...  1.25  1.14   \n",
       "2645611           18              18       10      73.44  ...  1.29  1.18   \n",
       "2645615           18              18       10      73.44  ...  1.34  1.23   \n",
       "2645617           18              18       10      73.44  ...  1.34  1.23   \n",
       "\n",
       "          Jun   Jul   Aug   Sep   Oct   Nov   Dec   region  \n",
       "530190   0.86  0.96  1.16  1.42  1.51  1.49  1.40   Mexico  \n",
       "530223   0.90  0.98  1.20  1.54  1.62  1.53  1.43   Mexico  \n",
       "530225   0.82  0.91  1.08  1.38  1.49  1.45  1.37   Mexico  \n",
       "530258   0.90  1.04  1.33  1.65  1.66  1.59  1.50   Mexico  \n",
       "530260   0.88  0.99  1.25  1.55  1.60  1.55  1.47   Mexico  \n",
       "...       ...   ...   ...   ...   ...   ...   ...      ...  \n",
       "2645607  1.30  1.44  1.65  1.64  1.65  1.54  1.42   Mexico  \n",
       "2645609  1.30  1.44  1.65  1.66  1.66  1.56  1.43   Mexico  \n",
       "2645611  1.33  1.46  1.67  1.70  1.72  1.62  1.49   Mexico  \n",
       "2645615  1.37  1.50  1.71  1.76  1.78  1.67  1.54   Mexico  \n",
       "2645617  1.33  1.46  1.65  1.74  1.77  1.69  1.56   Mexico  \n",
       "\n",
       "[10907 rows x 31 columns]"
      ]
     },
     "execution_count": 6,
     "metadata": {},
     "output_type": "execute_result"
    }
   ],
   "source": [
    "all_areas.loc[(all_areas['variable'] == ' LAI ')\n",
    "              &(all_areas['monthly_mean'].between(1,2))\n",
    "             &(all_areas['year']<1750)]"
   ]
  },
  {
   "cell_type": "code",
   "execution_count": 35,
   "id": "c1d89743-b9c1-42ae-9481-1c06ba180364",
   "metadata": {},
   "outputs": [
    {
     "data": {
      "text/html": [
       "<div>\n",
       "<style scoped>\n",
       "    .dataframe tbody tr th:only-of-type {\n",
       "        vertical-align: middle;\n",
       "    }\n",
       "\n",
       "    .dataframe tbody tr th {\n",
       "        vertical-align: top;\n",
       "    }\n",
       "\n",
       "    .dataframe thead th {\n",
       "        text-align: right;\n",
       "    }\n",
       "</style>\n",
       "<table border=\"1\" class=\"dataframe\">\n",
       "  <thead>\n",
       "    <tr style=\"text-align: right;\">\n",
       "      <th></th>\n",
       "      <th>lon</th>\n",
       "      <th>lat</th>\n",
       "      <th>variable</th>\n",
       "      <th>cohort_number</th>\n",
       "      <th>stand_age</th>\n",
       "      <th>potential_veg</th>\n",
       "      <th>current_veg</th>\n",
       "      <th>community_type</th>\n",
       "      <th>subtype</th>\n",
       "      <th>silt_clay</th>\n",
       "      <th>...</th>\n",
       "      <th>Apr</th>\n",
       "      <th>May</th>\n",
       "      <th>Jun</th>\n",
       "      <th>Jul</th>\n",
       "      <th>Aug</th>\n",
       "      <th>Sep</th>\n",
       "      <th>Oct</th>\n",
       "      <th>Nov</th>\n",
       "      <th>Dec</th>\n",
       "      <th>region</th>\n",
       "    </tr>\n",
       "  </thead>\n",
       "  <tbody>\n",
       "    <tr>\n",
       "      <th>530190</th>\n",
       "      <td>-105.5</td>\n",
       "      <td>19.5</td>\n",
       "      <td>LAI</td>\n",
       "      <td>6</td>\n",
       "      <td>10</td>\n",
       "      <td>18</td>\n",
       "      <td>18</td>\n",
       "      <td>18</td>\n",
       "      <td>10</td>\n",
       "      <td>69.55</td>\n",
       "      <td>...</td>\n",
       "      <td>1.05</td>\n",
       "      <td>0.93</td>\n",
       "      <td>0.86</td>\n",
       "      <td>0.97</td>\n",
       "      <td>1.16</td>\n",
       "      <td>1.43</td>\n",
       "      <td>1.52</td>\n",
       "      <td>1.51</td>\n",
       "      <td>1.42</td>\n",
       "      <td>Mexico</td>\n",
       "    </tr>\n",
       "    <tr>\n",
       "      <th>530223</th>\n",
       "      <td>-105.5</td>\n",
       "      <td>19.5</td>\n",
       "      <td>LAI</td>\n",
       "      <td>6</td>\n",
       "      <td>11</td>\n",
       "      <td>18</td>\n",
       "      <td>18</td>\n",
       "      <td>18</td>\n",
       "      <td>10</td>\n",
       "      <td>69.55</td>\n",
       "      <td>...</td>\n",
       "      <td>1.07</td>\n",
       "      <td>0.98</td>\n",
       "      <td>0.90</td>\n",
       "      <td>0.99</td>\n",
       "      <td>1.21</td>\n",
       "      <td>1.55</td>\n",
       "      <td>1.63</td>\n",
       "      <td>1.54</td>\n",
       "      <td>1.44</td>\n",
       "      <td>Mexico</td>\n",
       "    </tr>\n",
       "    <tr>\n",
       "      <th>530225</th>\n",
       "      <td>-105.5</td>\n",
       "      <td>19.5</td>\n",
       "      <td>LAI</td>\n",
       "      <td>8</td>\n",
       "      <td>10</td>\n",
       "      <td>18</td>\n",
       "      <td>18</td>\n",
       "      <td>18</td>\n",
       "      <td>10</td>\n",
       "      <td>69.55</td>\n",
       "      <td>...</td>\n",
       "      <td>1.01</td>\n",
       "      <td>0.89</td>\n",
       "      <td>0.81</td>\n",
       "      <td>0.90</td>\n",
       "      <td>1.08</td>\n",
       "      <td>1.38</td>\n",
       "      <td>1.49</td>\n",
       "      <td>1.46</td>\n",
       "      <td>1.38</td>\n",
       "      <td>Mexico</td>\n",
       "    </tr>\n",
       "    <tr>\n",
       "      <th>530258</th>\n",
       "      <td>-105.5</td>\n",
       "      <td>19.5</td>\n",
       "      <td>LAI</td>\n",
       "      <td>6</td>\n",
       "      <td>12</td>\n",
       "      <td>18</td>\n",
       "      <td>18</td>\n",
       "      <td>18</td>\n",
       "      <td>10</td>\n",
       "      <td>69.55</td>\n",
       "      <td>...</td>\n",
       "      <td>1.07</td>\n",
       "      <td>0.99</td>\n",
       "      <td>0.91</td>\n",
       "      <td>1.04</td>\n",
       "      <td>1.34</td>\n",
       "      <td>1.66</td>\n",
       "      <td>1.67</td>\n",
       "      <td>1.60</td>\n",
       "      <td>1.50</td>\n",
       "      <td>Mexico</td>\n",
       "    </tr>\n",
       "    <tr>\n",
       "      <th>530260</th>\n",
       "      <td>-105.5</td>\n",
       "      <td>19.5</td>\n",
       "      <td>LAI</td>\n",
       "      <td>8</td>\n",
       "      <td>11</td>\n",
       "      <td>18</td>\n",
       "      <td>18</td>\n",
       "      <td>18</td>\n",
       "      <td>10</td>\n",
       "      <td>69.55</td>\n",
       "      <td>...</td>\n",
       "      <td>1.04</td>\n",
       "      <td>0.96</td>\n",
       "      <td>0.88</td>\n",
       "      <td>0.99</td>\n",
       "      <td>1.25</td>\n",
       "      <td>1.56</td>\n",
       "      <td>1.61</td>\n",
       "      <td>1.56</td>\n",
       "      <td>1.48</td>\n",
       "      <td>Mexico</td>\n",
       "    </tr>\n",
       "    <tr>\n",
       "      <th>...</th>\n",
       "      <td>...</td>\n",
       "      <td>...</td>\n",
       "      <td>...</td>\n",
       "      <td>...</td>\n",
       "      <td>...</td>\n",
       "      <td>...</td>\n",
       "      <td>...</td>\n",
       "      <td>...</td>\n",
       "      <td>...</td>\n",
       "      <td>...</td>\n",
       "      <td>...</td>\n",
       "      <td>...</td>\n",
       "      <td>...</td>\n",
       "      <td>...</td>\n",
       "      <td>...</td>\n",
       "      <td>...</td>\n",
       "      <td>...</td>\n",
       "      <td>...</td>\n",
       "      <td>...</td>\n",
       "      <td>...</td>\n",
       "      <td>...</td>\n",
       "    </tr>\n",
       "    <tr>\n",
       "      <th>2645607</th>\n",
       "      <td>-91.0</td>\n",
       "      <td>19.5</td>\n",
       "      <td>LAI</td>\n",
       "      <td>98</td>\n",
       "      <td>17</td>\n",
       "      <td>18</td>\n",
       "      <td>18</td>\n",
       "      <td>18</td>\n",
       "      <td>10</td>\n",
       "      <td>73.44</td>\n",
       "      <td>...</td>\n",
       "      <td>1.26</td>\n",
       "      <td>1.16</td>\n",
       "      <td>1.31</td>\n",
       "      <td>1.45</td>\n",
       "      <td>1.66</td>\n",
       "      <td>1.67</td>\n",
       "      <td>1.68</td>\n",
       "      <td>1.58</td>\n",
       "      <td>1.45</td>\n",
       "      <td>Mexico</td>\n",
       "    </tr>\n",
       "    <tr>\n",
       "      <th>2645609</th>\n",
       "      <td>-91.0</td>\n",
       "      <td>19.5</td>\n",
       "      <td>LAI</td>\n",
       "      <td>100</td>\n",
       "      <td>16</td>\n",
       "      <td>18</td>\n",
       "      <td>18</td>\n",
       "      <td>18</td>\n",
       "      <td>10</td>\n",
       "      <td>73.44</td>\n",
       "      <td>...</td>\n",
       "      <td>1.27</td>\n",
       "      <td>1.17</td>\n",
       "      <td>1.32</td>\n",
       "      <td>1.45</td>\n",
       "      <td>1.66</td>\n",
       "      <td>1.68</td>\n",
       "      <td>1.70</td>\n",
       "      <td>1.59</td>\n",
       "      <td>1.46</td>\n",
       "      <td>Mexico</td>\n",
       "    </tr>\n",
       "    <tr>\n",
       "      <th>2645611</th>\n",
       "      <td>-91.0</td>\n",
       "      <td>19.5</td>\n",
       "      <td>LAI</td>\n",
       "      <td>102</td>\n",
       "      <td>15</td>\n",
       "      <td>18</td>\n",
       "      <td>18</td>\n",
       "      <td>18</td>\n",
       "      <td>10</td>\n",
       "      <td>73.44</td>\n",
       "      <td>...</td>\n",
       "      <td>1.32</td>\n",
       "      <td>1.22</td>\n",
       "      <td>1.35</td>\n",
       "      <td>1.49</td>\n",
       "      <td>1.69</td>\n",
       "      <td>1.75</td>\n",
       "      <td>1.76</td>\n",
       "      <td>1.66</td>\n",
       "      <td>1.52</td>\n",
       "      <td>Mexico</td>\n",
       "    </tr>\n",
       "    <tr>\n",
       "      <th>2645615</th>\n",
       "      <td>-91.0</td>\n",
       "      <td>19.5</td>\n",
       "      <td>LAI</td>\n",
       "      <td>106</td>\n",
       "      <td>14</td>\n",
       "      <td>18</td>\n",
       "      <td>18</td>\n",
       "      <td>18</td>\n",
       "      <td>10</td>\n",
       "      <td>73.44</td>\n",
       "      <td>...</td>\n",
       "      <td>1.39</td>\n",
       "      <td>1.28</td>\n",
       "      <td>1.43</td>\n",
       "      <td>1.57</td>\n",
       "      <td>1.78</td>\n",
       "      <td>1.84</td>\n",
       "      <td>1.85</td>\n",
       "      <td>1.73</td>\n",
       "      <td>1.59</td>\n",
       "      <td>Mexico</td>\n",
       "    </tr>\n",
       "    <tr>\n",
       "      <th>2645617</th>\n",
       "      <td>-91.0</td>\n",
       "      <td>19.5</td>\n",
       "      <td>LAI</td>\n",
       "      <td>108</td>\n",
       "      <td>13</td>\n",
       "      <td>18</td>\n",
       "      <td>18</td>\n",
       "      <td>18</td>\n",
       "      <td>10</td>\n",
       "      <td>73.44</td>\n",
       "      <td>...</td>\n",
       "      <td>1.20</td>\n",
       "      <td>1.12</td>\n",
       "      <td>1.19</td>\n",
       "      <td>1.31</td>\n",
       "      <td>1.47</td>\n",
       "      <td>1.56</td>\n",
       "      <td>1.60</td>\n",
       "      <td>1.56</td>\n",
       "      <td>1.44</td>\n",
       "      <td>Mexico</td>\n",
       "    </tr>\n",
       "  </tbody>\n",
       "</table>\n",
       "<p>9588 rows × 31 columns</p>\n",
       "</div>"
      ],
      "text/plain": [
       "           lon   lat variable  cohort_number  stand_age  potential_veg  \\\n",
       "530190  -105.5  19.5     LAI               6         10             18   \n",
       "530223  -105.5  19.5     LAI               6         11             18   \n",
       "530225  -105.5  19.5     LAI               8         10             18   \n",
       "530258  -105.5  19.5     LAI               6         12             18   \n",
       "530260  -105.5  19.5     LAI               8         11             18   \n",
       "...        ...   ...      ...            ...        ...            ...   \n",
       "2645607  -91.0  19.5     LAI              98         17             18   \n",
       "2645609  -91.0  19.5     LAI             100         16             18   \n",
       "2645611  -91.0  19.5     LAI             102         15             18   \n",
       "2645615  -91.0  19.5     LAI             106         14             18   \n",
       "2645617  -91.0  19.5     LAI             108         13             18   \n",
       "\n",
       "         current_veg  community_type  subtype  silt_clay  ...   Apr   May  \\\n",
       "530190            18              18       10      69.55  ...  1.05  0.93   \n",
       "530223            18              18       10      69.55  ...  1.07  0.98   \n",
       "530225            18              18       10      69.55  ...  1.01  0.89   \n",
       "530258            18              18       10      69.55  ...  1.07  0.99   \n",
       "530260            18              18       10      69.55  ...  1.04  0.96   \n",
       "...              ...             ...      ...        ...  ...   ...   ...   \n",
       "2645607           18              18       10      73.44  ...  1.26  1.16   \n",
       "2645609           18              18       10      73.44  ...  1.27  1.17   \n",
       "2645611           18              18       10      73.44  ...  1.32  1.22   \n",
       "2645615           18              18       10      73.44  ...  1.39  1.28   \n",
       "2645617           18              18       10      73.44  ...  1.20  1.12   \n",
       "\n",
       "          Jun   Jul   Aug   Sep   Oct   Nov   Dec   region  \n",
       "530190   0.86  0.97  1.16  1.43  1.52  1.51  1.42   Mexico  \n",
       "530223   0.90  0.99  1.21  1.55  1.63  1.54  1.44   Mexico  \n",
       "530225   0.81  0.90  1.08  1.38  1.49  1.46  1.38   Mexico  \n",
       "530258   0.91  1.04  1.34  1.66  1.67  1.60  1.50   Mexico  \n",
       "530260   0.88  0.99  1.25  1.56  1.61  1.56  1.48   Mexico  \n",
       "...       ...   ...   ...   ...   ...   ...   ...      ...  \n",
       "2645607  1.31  1.45  1.66  1.67  1.68  1.58  1.45   Mexico  \n",
       "2645609  1.32  1.45  1.66  1.68  1.70  1.59  1.46   Mexico  \n",
       "2645611  1.35  1.49  1.69  1.75  1.76  1.66  1.52   Mexico  \n",
       "2645615  1.43  1.57  1.78  1.84  1.85  1.73  1.59   Mexico  \n",
       "2645617  1.19  1.31  1.47  1.56  1.60  1.56  1.44   Mexico  \n",
       "\n",
       "[9588 rows x 31 columns]"
      ]
     },
     "execution_count": 35,
     "metadata": {},
     "output_type": "execute_result"
    }
   ],
   "source": [
    "all_areas.loc[(all_areas['variable'] == ' LAI ')\n",
    "              &(all_areas['monthly_mean'].between(1,2))\n",
    "             &(all_areas['year']<1750)]"
   ]
  },
  {
   "cell_type": "code",
   "execution_count": 5,
   "id": "8a904757-a1c3-4611-9802-bd2cf470017d",
   "metadata": {},
   "outputs": [
    {
     "name": "stderr",
     "output_type": "stream",
     "text": [
      "/tmp/ipykernel_2060246/2617526555.py:7: SettingWithCopyWarning: \n",
      "A value is trying to be set on a copy of a slice from a DataFrame.\n",
      "Try using .loc[row_indexer,col_indexer] = value instead\n",
      "\n",
      "See the caveats in the documentation: https://pandas.pydata.org/pandas-docs/stable/user_guide/indexing.html#returning-a-view-versus-a-copy\n",
      "  data['monthly_mean_weight'] = data['monthly_mean']* data['cohort_area']\n"
     ]
    }
   ],
   "source": [
    "data = all_areas.loc[\n",
    "        (all_areas['lon'] == -105.5) &\n",
    "        (all_areas['lat'] == 19.5) &\n",
    "        (all_areas['variable'] == ' LAI ')\n",
    "    ]\n",
    "\n",
    "data['monthly_mean_weight'] = data['monthly_mean']* data['cohort_area']\n",
    "data = data.groupby(\n",
    "    ['lon','lat','year','variable']\n",
    ")[data.columns[data.columns.str.contains('weight|area')]\n",
    "].sum()\n",
    "data['monthly_mean'] = (data['monthly_mean_weight']/ data['cohort_area'])\n"
   ]
  },
  {
   "cell_type": "code",
   "execution_count": 7,
   "id": "f24bd197-16d7-4bb2-8c70-1dda1175129f",
   "metadata": {},
   "outputs": [],
   "source": [
    "data=data.reset_index()"
   ]
  },
  {
   "cell_type": "code",
   "execution_count": 8,
   "id": "86ee35aa-2590-4668-928f-d070f1230379",
   "metadata": {},
   "outputs": [
    {
     "data": {
      "text/plain": [
       "<Axes: xlabel='year', ylabel='monthly_mean'>"
      ]
     },
     "execution_count": 8,
     "metadata": {},
     "output_type": "execute_result"
    },
    {
     "data": {
      "image/png": "[encoded data removed]",
      "text/plain": [
       "<Figure size 432x288 with 1 Axes>"
      ]
     },
     "metadata": {
      "needs_background": "light"
     },
     "output_type": "display_data"
    }
   ],
   "source": [
    "sns.lineplot(\n",
    "    data=data,\n",
    "    x='year', y='monthly_mean',\n",
    "    label='new params'\n",
    ")\n"
   ]
  },
  {
   "cell_type": "code",
   "execution_count": 7,
   "id": "7028e1d1-9dba-473d-87d9-cc49c72227f8",
   "metadata": {},
   "outputs": [
    {
     "data": {
      "text/plain": [
       "<Axes: xlabel='year', ylabel='monthly_mean'>"
      ]
     },
     "execution_count": 7,
     "metadata": {},
     "output_type": "execute_result"
    },
    {
     "data": {
      "image/png": "[encoded data removed]",
      "text/plain": [
       "<Figure size 432x288 with 1 Axes>"
      ]
     },
     "metadata": {
      "needs_background": "light"
     },
     "output_type": "display_data"
    }
   ],
   "source": [
    "# Plot using 'new params' data\n",
    "sns.lineplot(\n",
    "    data=all_areas.loc[\n",
    "        (all_areas['lon'] == -105.5) &\n",
    "        (all_areas['lat'] == 19.5) &\n",
    "        (all_areas['variable'] == ' LAI ')\n",
    "    ],\n",
    "    x='year', y='monthly_mean',\n",
    "    label='new params'\n",
    ")\n"
   ]
  },
  {
   "cell_type": "code",
   "execution_count": 41,
   "id": "c5339ac6-3f0b-4a4f-87b9-6b6fcdeb0163",
   "metadata": {},
   "outputs": [
    {
     "data": {
      "image/png": "[encoded data removed]",
      "text/plain": [
       "<Figure size 432x288 with 1 Axes>"
      ]
     },
     "metadata": {
      "needs_background": "light"
     },
     "output_type": "display_data"
    }
   ],
   "source": [
    "# Plot using 'new params' data\n",
    "sns.lineplot(\n",
    "    data=all_areas.loc[\n",
    "        (all_areas['lon'] == -105.5) &\n",
    "        (all_areas['lat'] == 19.5) &\n",
    "        (all_areas['variable'] == ' LAI ')\n",
    "    ],\n",
    "    x='year', y='monthly_mean',\n",
    "    label='new params'\n",
    ")\n",
    "\n",
    "# Plot using 'old params' data\n",
    "sns.lineplot(\n",
    "    data=all_areas_old_param.loc[\n",
    "        (all_areas_old_param['lon'] == -105.5) &\n",
    "        (all_areas_old_param['lat'] == 19.5) &\n",
    "        (all_areas_old_param['variable'] == ' LAI ')\n",
    "    ],\n",
    "    x='year', y='monthly_mean',\n",
    "    label='old params'\n",
    ")\n",
    "\n",
    "# Display the legend\n",
    "plt.legend()\n",
    "\n",
    "# Optionally, you can give the plot a title\n",
    "plt.title(\"Comparison of LAI with New and Old Parameters\")\n",
    "\n",
    "# Show the combined plot\n",
    "plt.show()"
   ]
  },
  {
   "cell_type": "code",
   "execution_count": 38,
   "id": "91cf5efb-bc11-4218-8a96-f8758bb67054",
   "metadata": {},
   "outputs": [
    {
     "data": {
      "text/plain": [
       "<Axes: xlabel='year', ylabel='monthly_mean'>"
      ]
     },
     "execution_count": 38,
     "metadata": {},
     "output_type": "execute_result"
    },
    {
     "data": {
      "image/png": "[encoded data removed]",
      "text/plain": [
       "<Figure size 432x288 with 1 Axes>"
      ]
     },
     "metadata": {
      "needs_background": "light"
     },
     "output_type": "display_data"
    }
   ],
   "source": [
    "sns.lineplot(data = all_areas_old_param.loc[(all_areas_old_param['lon']==-105.5)\n",
    "              &(all_areas_old_param['lat']==19.5)\n",
    "                                 &(all_areas_old_param['variable']==' LAI ')],\n",
    "         x = 'year', y = 'monthly_mean'\n",
    "        )"
   ]
  },
  {
   "cell_type": "code",
   "execution_count": 9,
   "id": "cbbb7e33-b9ae-411d-9e38-7656c19cd058",
   "metadata": {},
   "outputs": [
    {
     "data": {
      "text/plain": [
       "<Axes: xlabel='year', ylabel='monthly_mean'>"
      ]
     },
     "execution_count": 9,
     "metadata": {},
     "output_type": "execute_result"
    },
    {
     "data": {
      "image/png": "[encoded data removed]",
      "text/plain": [
       "<Figure size 432x288 with 1 Axes>"
      ]
     },
     "metadata": {
      "needs_background": "light"
     },
     "output_type": "display_data"
    }
   ],
   "source": [
    "sns.lineplot(data = all_areas.loc[(all_areas['lon']==-93.0)\n",
    "              &(all_areas['lat']==18.5)\n",
    "                                 &(all_areas['variable']==' LAI ')],\n",
    "         x = 'year', y = 'monthly_mean'#, color = 'new params'\n",
    "        )"
   ]
  },
  {
   "cell_type": "code",
   "execution_count": 30,
   "id": "742dc170-8edc-45b1-baa6-db6daa1b5266",
   "metadata": {},
   "outputs": [
    {
     "data": {
      "text/plain": [
       "<Axes: xlabel='year', ylabel='monthly_mean'>"
      ]
     },
     "execution_count": 30,
     "metadata": {},
     "output_type": "execute_result"
    },
    {
     "data": {
      "image/png": "[encoded data removed]",
      "text/plain": [
       "<Figure size 432x288 with 1 Axes>"
      ]
     },
     "metadata": {
      "needs_background": "light"
     },
     "output_type": "display_data"
    }
   ],
   "source": [
    "sns.lineplot(data = all_areas_old_param.loc[(all_areas_old_param['lon']==-93.0)\n",
    "              &(all_areas_old_param['lat']==18.5)\n",
    "                                 &(all_areas_old_param['variable']==' LAI ')],\n",
    "         x = 'year', y = 'monthly_mean'\n",
    "        )"
   ]
  },
  {
   "cell_type": "code",
   "execution_count": 26,
   "id": "5cc9a7eb-ec50-4e31-a9fc-310583b1cb7f",
   "metadata": {},
   "outputs": [
    {
     "data": {
      "text/plain": [
       "<Axes: xlabel='year', ylabel='monthly_mean'>"
      ]
     },
     "execution_count": 26,
     "metadata": {},
     "output_type": "execute_result"
    },
    {
     "data": {
      "image/png": "[encoded data removed]",
      "text/plain": [
       "<Figure size 432x288 with 1 Axes>"
      ]
     },
     "metadata": {
      "needs_background": "light"
     },
     "output_type": "display_data"
    }
   ],
   "source": [
    "sns.lineplot(data = all_areas.loc[(all_areas['lon']==-93.0)\n",
    "              &(all_areas['lat']==18.5)\n",
    "                                 &(all_areas['variable']==' VEGC ')],\n",
    "         x = 'year', y = 'monthly_mean'\n",
    "        )"
   ]
  },
  {
   "cell_type": "code",
   "execution_count": 7,
   "id": "8200c186-f7ae-41fe-8f2a-b2940267807f",
   "metadata": {},
   "outputs": [],
   "source": [
    "read_in = np.array(regions.loc[regions['files'].str.contains('LAI'), 'files'])\n",
    "read_in\n",
    "\n",
    "all_areas = pd.DataFrame()\n",
    "\n",
    "for region in read_in:\n",
    "    tt = pd.read_csv(dir_readin + region, names = output_col_names)\n",
    "    tt = tt.loc[tt['community_type'].isin([17,20,16,18])]\n",
    "    all_areas = pd.concat([all_areas, tt])\n",
    "    \n",
    "\n",
    "    "
   ]
  },
  {
   "cell_type": "code",
   "execution_count": 19,
   "id": "37f73c44-f0b9-4695-8404-a6468b8cb115",
   "metadata": {},
   "outputs": [
    {
     "data": {
      "text/plain": [
       "count    0.0\n",
       "mean     NaN\n",
       "std      NaN\n",
       "min      NaN\n",
       "25%      NaN\n",
       "50%      NaN\n",
       "75%      NaN\n",
       "max      NaN\n",
       "Name: monthly_mean, dtype: float64"
      ]
     },
     "execution_count": 19,
     "metadata": {},
     "output_type": "execute_result"
    }
   ],
   "source": [
    "all_areas.loc[all_areas['variable'] == ' LAI ','monthly_mean'].describe()"
   ]
  },
  {
   "cell_type": "code",
   "execution_count": 10,
   "id": "381bac7c-b19a-4f68-bc7e-a2c6ac5ba69a",
   "metadata": {},
   "outputs": [
    {
     "data": {
      "text/plain": [
       "count    1.543079e+06\n",
       "mean     1.132848e+00\n",
       "std      1.160272e+00\n",
       "min      0.000000e+00\n",
       "25%      2.000000e-02\n",
       "50%      9.800000e-01\n",
       "75%      1.580000e+00\n",
       "max      5.570000e+00\n",
       "Name: monthly_mean, dtype: float64"
      ]
     },
     "execution_count": 10,
     "metadata": {},
     "output_type": "execute_result"
    }
   ],
   "source": [
    "all_areas.loc[all_areas['variable'] == ' LAI ','monthly_mean'].describe()"
   ]
  },
  {
   "cell_type": "code",
   "execution_count": 34,
   "id": "f3330e72-079a-4587-bd88-775ad921dfc9",
   "metadata": {},
   "outputs": [
    {
     "data": {
      "text/plain": [
       "count    1.446738e+06\n",
       "mean     1.066685e+00\n",
       "std      1.136987e+00\n",
       "min      0.000000e+00\n",
       "25%      3.000000e-02\n",
       "50%      8.000000e-01\n",
       "75%      1.440000e+00\n",
       "max      5.580000e+00\n",
       "Name: monthly_mean, dtype: float64"
      ]
     },
     "execution_count": 34,
     "metadata": {},
     "output_type": "execute_result"
    }
   ],
   "source": [
    "all_areas.loc[all_areas['variable'] == ' LAI ','monthly_mean'].describe()"
   ]
  },
  {
   "cell_type": "code",
   "execution_count": 27,
   "id": "d1d1c539-a6b6-4d45-9f15-1f87cc65b63d",
   "metadata": {},
   "outputs": [],
   "source": [
    "all_areas_old_param = pd.DataFrame()\n",
    "\n",
    "for region in read_in:\n",
    "    tt = pd.read_csv('/group/moniergrp/TEM_Large_Ensemble/run_support_files/cru_regions/region_3/var_out_old_params/' + region, names = output_col_names)\n",
    "    tt = tt.loc[tt['community_type'].isin([17,20,16,18])]\n",
    "    all_areas_old_param = pd.concat([all_areas_old_param, tt])\n",
    "    \n"
   ]
  },
  {
   "cell_type": "code",
   "execution_count": null,
   "id": "52b9e1ea-f681-4f05-bda5-4a7b85ef1e5f",
   "metadata": {},
   "outputs": [
    {
     "data": {
      "text/plain": [
       "count    1.543079e+06\n",
       "mean     1.448973e+00\n",
       "std      1.095384e+00\n",
       "min      0.000000e+00\n",
       "25%      4.000000e-02\n",
       "50%      1.770000e+00\n",
       "75%      2.400000e+00\n",
       "max      3.850000e+00\n",
       "Name: monthly_mean, dtype: float64"
      ]
     },
     "execution_count": 31,
     "metadata": {},
     "output_type": "execute_result"
    }
   ],
   "source": [
    "all_areas_old_param.loc[all_areas_old_param['variable'] == ' LAI ','monthly_mean'].describe()"
   ]
  },
  {
   "cell_type": "code",
   "execution_count": 33,
   "id": "eb25e012-b2cf-47cd-b08b-22e16ac6bdfd",
   "metadata": {},
   "outputs": [
    {
     "data": {
      "text/plain": [
       "count    42828.000000\n",
       "mean         1.098002\n",
       "std          1.050835\n",
       "min          0.000000\n",
       "25%          0.000000\n",
       "50%          0.900000\n",
       "75%          2.180000\n",
       "max          2.980000\n",
       "Name: monthly_mean, dtype: float64"
      ]
     },
     "execution_count": 33,
     "metadata": {},
     "output_type": "execute_result"
    }
   ],
   "source": [
    "all_areas_old_param.loc[(all_areas_old_param['variable'] == ' LAI ')\n",
    "                        &(all_areas_old_param['year'] < 1750)\n",
    "                        ,'monthly_mean'].describe()\n"
   ]
  },
  {
   "cell_type": "code",
   "execution_count": 40,
   "id": "17db24d2-069e-4f75-a37e-6131a5280de9",
   "metadata": {},
   "outputs": [
    {
     "data": {
      "text/plain": [
       "count    136.000000\n",
       "mean       3.755588\n",
       "std        1.547301\n",
       "min        0.000000\n",
       "25%        3.850000\n",
       "50%        4.465000\n",
       "75%        4.612500\n",
       "max        4.860000\n",
       "Name: monthly_mean, dtype: float64"
      ]
     },
     "execution_count": 40,
     "metadata": {},
     "output_type": "execute_result"
    }
   ],
   "source": [
    "all_areas.loc[(all_areas['variable'] == ' LAI ')\n",
    "                        &(all_areas['year'] == 1701)\n",
    "                        ,'monthly_mean'].describe()\n"
   ]
  },
  {
   "cell_type": "code",
   "execution_count": 12,
   "id": "8942bf57-470d-4e2d-9bc7-da8401f9e3e8",
   "metadata": {},
   "outputs": [
    {
     "data": {
      "text/plain": [
       "Index(['lon', 'lat', 'variable', 'cohort_number', 'stand_age', 'potential_veg',\n",
       "       'current_veg', 'community_type', 'subtype', 'silt_clay', 'lc_state',\n",
       "       'land_area', 'cohort_area', 'year', 'annual_sum', 'monthly_maximum',\n",
       "       'monthly_mean', 'monthly_minimum', 'Jan', 'Feb', 'Mar', 'Apr', 'May',\n",
       "       'Jun', 'Jul', 'Aug', 'Sep', 'Oct', 'Nov', 'Dec', 'region'],\n",
       "      dtype='object')"
      ]
     },
     "execution_count": 12,
     "metadata": {},
     "output_type": "execute_result"
    }
   ],
   "source": [
    "all_areas.columns"
   ]
  },
  {
   "cell_type": "code",
   "execution_count": 13,
   "id": "4953e6d9-1c91-498f-bf1a-1001df779b88",
   "metadata": {},
   "outputs": [
    {
     "data": {
      "text/plain": [
       "count    19642.000000\n",
       "mean         3.992352\n",
       "std          1.186442\n",
       "min          0.000000\n",
       "25%          4.110000\n",
       "50%          4.380000\n",
       "75%          4.570000\n",
       "max          5.570000\n",
       "Name: monthly_mean, dtype: float64"
      ]
     },
     "execution_count": 13,
     "metadata": {},
     "output_type": "execute_result"
    }
   ],
   "source": [
    "all_areas.loc[(all_areas['variable'] == ' LAI ')\n",
    "                        &(all_areas['cohort_number'] == 1)\n",
    "                        ,'monthly_mean'].describe()\n"
   ]
  },
  {
   "cell_type": "code",
   "execution_count": 11,
   "id": "ba10a41c-cb9b-46ec-8e56-409a1efd275b",
   "metadata": {},
   "outputs": [
    {
     "data": {
      "text/plain": [
       "count    136.000000\n",
       "mean       3.656397\n",
       "std        1.509354\n",
       "min        0.000000\n",
       "25%        3.810000\n",
       "50%        4.340000\n",
       "75%        4.490000\n",
       "max        4.780000\n",
       "Name: monthly_mean, dtype: float64"
      ]
     },
     "execution_count": 11,
     "metadata": {},
     "output_type": "execute_result"
    }
   ],
   "source": [
    "all_areas.loc[(all_areas['variable'] == ' LAI ')\n",
    "                        &(all_areas['year'] == 1701)\n",
    "                        ,'monthly_mean'].describe()\n"
   ]
  },
  {
   "cell_type": "code",
   "execution_count": 32,
   "id": "9c54bf4d-2769-47e3-a81c-cb7e0f476ec6",
   "metadata": {},
   "outputs": [
    {
     "data": {
      "text/plain": [
       "count    1.543079e+06\n",
       "mean     1.004290e+00\n",
       "std      1.128576e+00\n",
       "min      0.000000e+00\n",
       "25%      1.000000e-02\n",
       "50%      7.500000e-01\n",
       "75%      1.400000e+00\n",
       "max      5.580000e+00\n",
       "Name: monthly_mean, dtype: float64"
      ]
     },
     "execution_count": 32,
     "metadata": {},
     "output_type": "execute_result"
    }
   ],
   "source": [
    "all_areas.loc[all_areas['variable'] == ' LAI ','monthly_mean'].describe()"
   ]
  },
  {
   "cell_type": "code",
   "execution_count": 41,
   "id": "56754600-3011-40a0-a093-68aac727de75",
   "metadata": {},
   "outputs": [
    {
     "data": {
      "text/plain": [
       "count    1.503860e+06\n",
       "mean     3.870334e+03\n",
       "std      4.674532e+03\n",
       "min      0.000000e+00\n",
       "25%      8.660000e+00\n",
       "50%      2.230230e+03\n",
       "75%      5.779375e+03\n",
       "max      2.298650e+04\n",
       "Name: monthly_mean, dtype: float64"
      ]
     },
     "execution_count": 41,
     "metadata": {},
     "output_type": "execute_result"
    }
   ],
   "source": [
    "all_areas.loc[all_areas['variable'] == ' VEGC ','monthly_mean'].describe()"
   ]
  },
  {
   "cell_type": "code",
   "execution_count": 42,
   "id": "8b85c17b-1b18-4608-a73b-c65c7a5e50f4",
   "metadata": {},
   "outputs": [
    {
     "data": {
      "text/plain": [
       "count    1.543079e+06\n",
       "mean     5.684523e+03\n",
       "std      5.572928e+03\n",
       "min      0.000000e+00\n",
       "25%      4.489000e+01\n",
       "50%      4.267740e+03\n",
       "75%      9.885395e+03\n",
       "max      2.728655e+04\n",
       "Name: monthly_mean, dtype: float64"
      ]
     },
     "execution_count": 42,
     "metadata": {},
     "output_type": "execute_result"
    }
   ],
   "source": [
    "all_areas_old_param.loc[all_areas_old_param['variable'] == ' VEGC ','monthly_mean'].describe()\n",
    "\n"
   ]
  }
 ],
 "metadata": {
  "kernelspec": {
   "display_name": "condaforge",
   "language": "python",
   "name": "condaforge"
  },
  "language_info": {
   "codemirror_mode": {
    "name": "ipython",
    "version": 3
   },
   "file_extension": ".py",
   "mimetype": "text/x-python",
   "name": "python",
   "nbconvert_exporter": "python",
   "pygments_lexer": "ipython3",
   "version": "3.10.6"
  }
 },
 "nbformat": 4,
 "nbformat_minor": 5
}
