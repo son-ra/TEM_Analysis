{
 "cells": [
  {
   "cell_type": "code",
   "execution_count": 1,
   "id": "e03cd6fb-a42c-4586-9bd0-695463448325",
   "metadata": {},
   "outputs": [],
   "source": [
    "import os\n",
    "import matplotlib.pyplot as plt\n",
    "import re\n",
    "import numpy as np\n",
    "from scipy import stats\n",
    "#import optshrink as opt # package we create\n",
    "import numpy as np\n",
    "# import scipy.io as sio\n",
    "import h5py\n",
    "import matplotlib.pyplot as plt \n",
    "import pandas as pd\n",
    "import xarray as xr\n",
    "import cartopy.crs as ccrs\n",
    "import seaborn as sns\n",
    "from shapely.geometry import Point\n",
    "import geopandas as gp\n",
    "from geodatasets import get_path\n",
    "from shapely.geometry import Polygon"
   ]
  },
  {
   "cell_type": "code",
   "execution_count": 2,
   "id": "5b74cd05-ead5-4007-b108-c492c8be541b",
   "metadata": {},
   "outputs": [],
   "source": [
    "output_col_names = ['lon'\n",
    ",'lat'\n",
    ",'variable'\n",
    ",'cohort_number'\n",
    ",'stand_age'\n",
    ",'potential_veg'\n",
    ",'current_veg'\n",
    ",'community_type'\n",
    ",'subtype'\n",
    ",'silt_clay'  ###check this order\n",
    ",'lc_state'\n",
    ",'land_area'\n",
    ",'cohort_area'\n",
    ",'year'\n",
    ",'annual_sum'\n",
    ",'monthly_maximum'\n",
    ",'monthly_mean'\n",
    ",'monthly_minimum'\n",
    ",'Jan'\n",
    ",'Feb'\n",
    ",'Mar'\n",
    ",'Apr'\n",
    ",'May'\n",
    ",'Jun'\n",
    ",'Jul'\n",
    ",'Aug'\n",
    ",'Sep'\n",
    ",'Oct'\n",
    ",'Nov'\n",
    ",'Dec'\n",
    ",'region']\n"
   ]
  },
  {
   "cell_type": "code",
   "execution_count": 9,
   "id": "b133d00f-43ec-4791-8796-484d017853b0",
   "metadata": {},
   "outputs": [],
   "source": [
    "grid_group = '195'\n",
    "\n",
    "availn_canesm5=pd.read_csv('/group/moniergrp/TEM_Large_Ensemble/run_support_files/large_ensemble/region_1/pre_data/CanESM5/var_out/AVAILN.csv'+grid_group\n",
    "                           , names = output_col_names)\n",
    "vegc_canesm5=pd.read_csv('/group/moniergrp/TEM_Large_Ensemble/run_support_files/large_ensemble/region_1/pre_data/CanESM5/var_out/VEGC.csv'+grid_group\n",
    "                         , names = output_col_names)\n",
    "\n",
    "\n",
    "availn_cru=pd.read_csv('/group/moniergrp/TEM_Large_Ensemble/run_support_files/cru_regions/region_1/var_out/AVAILN.csv'+grid_group\n",
    "                       , names = output_col_names)\n",
    "vegc_cru=pd.read_csv('/group/moniergrp/TEM_Large_Ensemble/run_support_files/cru_regions/region_1/var_out/VEGC.csv'+grid_group  \n",
    "                     , names = output_col_names)"
   ]
  },
  {
   "cell_type": "code",
   "execution_count": 23,
   "id": "12685d7a-b46e-4785-9230-cc4d3709dd6b",
   "metadata": {},
   "outputs": [],
   "source": [
    "read_in= pd.DataFrame(os.listdir('/group/moniergrp/TEM_Large_Ensemble/run_support_files/cru_regions/region_1/var_out_prenfix/')\n",
    "            , columns = ['file'])\n",
    "loop_1 = read_in.loc[read_in['file'].str.contains('AVAILN')].reset_index()\n",
    "all_availn = pd.DataFrame()\n",
    "for i in range(len(loop_1)):\n",
    "    availn = pd.read_csv('/group/moniergrp/TEM_Large_Ensemble/run_support_files/cru_regions/region_1/var_out_prenfix/'+loop_1.loc[i,'file']\n",
    "                        ,names = output_col_names)\n",
    "    availn['file'] = loop_1.loc[i,'file']\n",
    "    all_availn = pd.concat([all_availn,availn])"
   ]
  },
  {
   "cell_type": "code",
   "execution_count": 25,
   "id": "e5966371-6632-423a-aab0-7399723c6a2f",
   "metadata": {},
   "outputs": [
    {
     "data": {
      "text/plain": [
       "AVAILN.csv585    32724\n",
       "AVAILN.csv455    11678\n",
       "AVAILN.csv520     7107\n",
       "AVAILN.csv390     4032\n",
       "AVAILN.csv325      876\n",
       "AVAILN.csv260      239\n",
       "AVAILN.csv0          2\n",
       "Name: file, dtype: int64"
      ]
     },
     "execution_count": 25,
     "metadata": {},
     "output_type": "execute_result"
    }
   ],
   "source": [
    "all_availn.loc[all_availn['monthly_mean'] < 0 ,'file'].value_counts()"
   ]
  },
  {
   "cell_type": "code",
   "execution_count": 26,
   "id": "ae86d814-dffd-48a4-9f9b-08c3ed37851a",
   "metadata": {},
   "outputs": [
    {
     "data": {
      "text/plain": [
       "0.006828120169997993"
      ]
     },
     "execution_count": 26,
     "metadata": {},
     "output_type": "execute_result"
    }
   ],
   "source": [
    "len(all_availn.loc[all_availn['monthly_mean'] < 0 ])/len(all_availn)"
   ]
  },
  {
   "cell_type": "code",
   "execution_count": 12,
   "id": "bcad08e4-8189-4c47-a2d8-0d4b23004440",
   "metadata": {},
   "outputs": [
    {
     "data": {
      "text/plain": [
       "count    8.297745e+06\n",
       "mean    -3.169588e+04\n",
       "std      1.621548e+06\n",
       "min     -2.456678e+08\n",
       "25%      2.058000e+02\n",
       "50%      4.364900e+02\n",
       "75%      9.472200e+02\n",
       "max      1.529505e+05\n",
       "Name: monthly_mean, dtype: float64"
      ]
     },
     "execution_count": 12,
     "metadata": {},
     "output_type": "execute_result"
    }
   ],
   "source": [
    "all_availn['monthly_mean'].describe()"
   ]
  },
  {
   "cell_type": "code",
   "execution_count": 15,
   "id": "637dde1a-4a97-473a-a443-894f77903e2b",
   "metadata": {},
   "outputs": [
    {
     "data": {
      "text/html": [
       "<div>\n",
       "<style scoped>\n",
       "    .dataframe tbody tr th:only-of-type {\n",
       "        vertical-align: middle;\n",
       "    }\n",
       "\n",
       "    .dataframe tbody tr th {\n",
       "        vertical-align: top;\n",
       "    }\n",
       "\n",
       "    .dataframe thead th {\n",
       "        text-align: right;\n",
       "    }\n",
       "</style>\n",
       "<table border=\"1\" class=\"dataframe\">\n",
       "  <thead>\n",
       "    <tr style=\"text-align: right;\">\n",
       "      <th></th>\n",
       "      <th>index</th>\n",
       "      <th>file</th>\n",
       "    </tr>\n",
       "  </thead>\n",
       "  <tbody>\n",
       "    <tr>\n",
       "      <th>0</th>\n",
       "      <td>39</td>\n",
       "      <td>AVAILN.csv612</td>\n",
       "    </tr>\n",
       "    <tr>\n",
       "      <th>1</th>\n",
       "      <td>52</td>\n",
       "      <td>AVAILN.csv408</td>\n",
       "    </tr>\n",
       "    <tr>\n",
       "      <th>2</th>\n",
       "      <td>59</td>\n",
       "      <td>AVAILN.csv204</td>\n",
       "    </tr>\n",
       "    <tr>\n",
       "      <th>3</th>\n",
       "      <td>67</td>\n",
       "      <td>AVAILN.csv918</td>\n",
       "    </tr>\n",
       "    <tr>\n",
       "      <th>4</th>\n",
       "      <td>77</td>\n",
       "      <td>AVAILN.csv102</td>\n",
       "    </tr>\n",
       "    <tr>\n",
       "      <th>5</th>\n",
       "      <td>79</td>\n",
       "      <td>AVAILN.csv306</td>\n",
       "    </tr>\n",
       "    <tr>\n",
       "      <th>6</th>\n",
       "      <td>80</td>\n",
       "      <td>AVAILN.csv0</td>\n",
       "    </tr>\n",
       "    <tr>\n",
       "      <th>7</th>\n",
       "      <td>85</td>\n",
       "      <td>AVAILN.csv816</td>\n",
       "    </tr>\n",
       "    <tr>\n",
       "      <th>8</th>\n",
       "      <td>97</td>\n",
       "      <td>AVAILN.csv714</td>\n",
       "    </tr>\n",
       "    <tr>\n",
       "      <th>9</th>\n",
       "      <td>98</td>\n",
       "      <td>AVAILN.csv510</td>\n",
       "    </tr>\n",
       "  </tbody>\n",
       "</table>\n",
       "</div>"
      ],
      "text/plain": [
       "   index           file\n",
       "0     39  AVAILN.csv612\n",
       "1     52  AVAILN.csv408\n",
       "2     59  AVAILN.csv204\n",
       "3     67  AVAILN.csv918\n",
       "4     77  AVAILN.csv102\n",
       "5     79  AVAILN.csv306\n",
       "6     80    AVAILN.csv0\n",
       "7     85  AVAILN.csv816\n",
       "8     97  AVAILN.csv714\n",
       "9     98  AVAILN.csv510"
      ]
     },
     "execution_count": 15,
     "metadata": {},
     "output_type": "execute_result"
    }
   ],
   "source": [
    "loop_21"
   ]
  },
  {
   "cell_type": "code",
   "execution_count": 19,
   "id": "66a88964-4819-4941-b12b-58e58808250e",
   "metadata": {},
   "outputs": [
    {
     "data": {
      "text/plain": [
       "'/group/moniergrp/TEM_Large_Ensemble/run_support_files/cru_regions/region_21/var_out/AVAILN.csv612'"
      ]
     },
     "execution_count": 19,
     "metadata": {},
     "output_type": "execute_result"
    }
   ],
   "source": [
    "# availn = pd.read_csv('/group/moniergrp/TEM_Large_Ensemble/run_support_files/cru_regions/region_21/var_out/'+loop_21.loc[i,'file']\n",
    "#                         ,output_col_names)\n",
    "\n",
    "'/group/moniergrp/TEM_Large_Ensemble/run_support_files/cru_regions/region_21/var_out/'+loop_21.loc[i,'file']"
   ]
  },
  {
   "cell_type": "code",
   "execution_count": 20,
   "id": "ac827238-e404-4d63-9395-e2589668b7f9",
   "metadata": {},
   "outputs": [],
   "source": [
    "read_in= pd.DataFrame(os.listdir('/group/moniergrp/TEM_Large_Ensemble/run_support_files/cru_regions/region_21/var_out/')\n",
    "            , columns = ['file'])\n",
    "loop_21 = read_in.loc[read_in['file'].str.contains('AVAILN')].reset_index()\n",
    "all_availn = pd.DataFrame()\n",
    "\n",
    "for i in range(len(loop_21)):\n",
    "    availn = pd.read_csv('/group/moniergrp/TEM_Large_Ensemble/run_support_files/cru_regions/region_21/var_out/'+loop_21.loc[i,'file']\n",
    "                        ,names = output_col_names)\n",
    "    all_availn = pd.concat([all_availn,availn])"
   ]
  },
  {
   "cell_type": "code",
   "execution_count": 21,
   "id": "77f51477-e9cf-4158-be13-3a6890f3e01e",
   "metadata": {},
   "outputs": [
    {
     "data": {
      "text/plain": [
       "count    1.892487e+07\n",
       "mean    -1.661323e+08\n",
       "std      1.319147e+10\n",
       "min     -5.520413e+12\n",
       "25%      0.000000e+00\n",
       "50%      2.463200e+02\n",
       "75%      4.604200e+02\n",
       "max      1.016852e+09\n",
       "Name: monthly_mean, dtype: float64"
      ]
     },
     "execution_count": 21,
     "metadata": {},
     "output_type": "execute_result"
    }
   ],
   "source": [
    "all_availn['monthly_mean'].describe()"
   ]
  },
  {
   "cell_type": "code",
   "execution_count": 10,
   "id": "cb1ab320-b369-4e70-afd5-5d084c9a8d66",
   "metadata": {},
   "outputs": [
    {
     "data": {
      "text/plain": [
       "count    33214.000000\n",
       "mean      1264.922289\n",
       "std       1031.620980\n",
       "min        420.380000\n",
       "25%        501.340000\n",
       "50%        580.870000\n",
       "75%       2127.832500\n",
       "max       4383.840000\n",
       "Name: monthly_mean, dtype: float64"
      ]
     },
     "execution_count": 10,
     "metadata": {},
     "output_type": "execute_result"
    }
   ],
   "source": [
    "availn_canesm5['monthly_mean'].describe()"
   ]
  },
  {
   "cell_type": "code",
   "execution_count": 11,
   "id": "a586e380-f474-4b2e-86b2-33042505f7d4",
   "metadata": {},
   "outputs": [
    {
     "data": {
      "text/plain": [
       "count    124252.000000\n",
       "mean       1475.214739\n",
       "std        1329.931083\n",
       "min          60.180000\n",
       "25%         663.430000\n",
       "50%        1184.570000\n",
       "75%        1957.402500\n",
       "max       87701.170000\n",
       "Name: monthly_mean, dtype: float64"
      ]
     },
     "execution_count": 11,
     "metadata": {},
     "output_type": "execute_result"
    }
   ],
   "source": [
    "availn_cru['monthly_mean'].describe()"
   ]
  }
 ],
 "metadata": {
  "kernelspec": {
   "display_name": "condaforge",
   "language": "python",
   "name": "condaforge"
  },
  "language_info": {
   "codemirror_mode": {
    "name": "ipython",
    "version": 3
   },
   "file_extension": ".py",
   "mimetype": "text/x-python",
   "name": "python",
   "nbconvert_exporter": "python",
   "pygments_lexer": "ipython3",
   "version": "3.10.6"
  }
 },
 "nbformat": 4,
 "nbformat_minor": 5
}
