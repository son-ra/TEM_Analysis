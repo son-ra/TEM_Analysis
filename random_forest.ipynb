{
 "cells": [
  {
   "cell_type": "code",
   "execution_count": 22,
   "id": "80dd63dd-8c2e-46d5-a326-8908ad1687e1",
   "metadata": {},
   "outputs": [],
   "source": [
    "import matplotlib.pyplot as plt\n",
    "import numpy as np\n",
    "\n",
    "import gpflow\n",
    "import pandas as pd\n",
    "import os\n",
    "import matplotlib.pyplot as plt\n",
    "import re\n",
    "import numpy as np\n",
    "from scipy import stats\n",
    "import matplotlib.pyplot as plt\n",
    "import seaborn as sns\n",
    "import statsmodels.api as sm\n",
    "import time\n",
    "from sklearn.model_selection import train_test_split\n",
    "from sklearn.metrics import mean_squared_error, r2_score\n",
    "import statsmodels.api as sm\n",
    "from sklearn.ensemble import RandomForestRegressor\n",
    "from sklearn.svm import SVR\n",
    "from sklearn import preprocessing\n",
    "from xgboost import XGBRegressor"
   ]
  },
  {
   "cell_type": "code",
   "execution_count": 2,
   "id": "67d64729-5b4b-4dbf-9c3e-d9ff809f68a9",
   "metadata": {},
   "outputs": [
    {
     "name": "stdout",
     "output_type": "stream",
     "text": [
      "{0: 0, 5: 1, 10: 2, 15: 3, 20: 4, 25: 5, 30: 6, 35: 7, 40: 8, 45: 9, 50: 10, 55: 11, 60: 12, 65: 13, 70: 14, 75: 15, 80: 16, 85: 17, 90: 18, 95: 19, 100: 20, 125: 21, 150: 22}\n"
     ]
    },
    {
     "data": {
      "text/plain": [
       "count    287630.000000\n",
       "mean          9.834551\n",
       "std           7.873397\n",
       "min           0.000000\n",
       "25%           3.000000\n",
       "50%           8.000000\n",
       "75%          17.000000\n",
       "max          22.000000\n",
       "Name: ordinal_stand_age, dtype: float64"
      ]
     },
     "execution_count": 2,
     "metadata": {},
     "output_type": "execute_result"
    }
   ],
   "source": [
    "model_data = pd.read_csv('/home/smmrrr/TEM_Analysis/TEM_Analysis/region_3_test_model_data_conif_vegc.csv')\n",
    "# unique_bins = sorted(model_data.stand_age_interval_min.unique())\n",
    "# bin_to_ordinal = {bin_val: idx for idx, bin_val in (enumerate(unique_bins))}\n",
    "# print(bin_to_ordinal)\n",
    "# model_data['ordinal_stand_age'] = model_data['stand_age_interval_min'].map(bin_to_ordinal)\n",
    "# model_data['ordinal_stand_age'].describe()\n"
   ]
  },
  {
   "cell_type": "code",
   "execution_count": 7,
   "id": "2514415b-de4c-4d79-9454-d1b84c2c6661",
   "metadata": {},
   "outputs": [],
   "source": [
    "variables_to_compare = ['monthly_mean', 'tswrf_v11', 'tmp', 'precip', 'dtr', 'vpr', 'wind','co2','Ndep_Trendy']\n",
    "\n",
    "base_comparison = model_data.loc[model_data['year'].between(1900,1950)].groupby(\n",
    "    ['lon','lat','ordinal_stand_age'])[variables_to_compare].mean().reset_index()\n",
    "\n",
    "\n",
    "model_data=model_data.merge(base_comparison, on = ['lon','lat','ordinal_stand_age'], suffixes = ('_ts', '_base'))\n",
    "model_data=model_data.loc[model_data['monthly_mean_base']!=0]\n",
    "# Iterate over the list of variables and create new columns in model_data for their ratios\n",
    "for var in variables_to_compare:\n",
    "    ts_column = f\"{var}_ts\"     # Time series data column name\n",
    "    base_column = f\"{var}_base\" # Baseline data column name\n",
    "    ratio_column = f\"{var}_ratio\" # Name for the new ratio column\n",
    "\n",
    "    # Compute the ratio and create a new column in model_data\n",
    "    if (var =='precip') :\n",
    "        model_data[ratio_column] = model_data[ts_column] / model_data[base_column]\n",
    "    else:\n",
    "        model_data[ratio_column] = model_data[ts_column] - model_data[base_column]\n"
   ]
  },
  {
   "cell_type": "code",
   "execution_count": 6,
   "id": "3be94ffd-b848-4884-8584-e7d3bedfee83",
   "metadata": {},
   "outputs": [],
   "source": [
    "# running /five year temperature\n",
    "# model_data.to_csv('/home/smmrrr/TEM_Analysis/TEM_Analysis/region_3_test_model_data_conif_vegc.csv', index=False)"
   ]
  },
  {
   "cell_type": "code",
   "execution_count": 19,
   "id": "e0e0388d-ee26-4505-bae2-f40f1f735109",
   "metadata": {},
   "outputs": [
    {
     "data": {
      "text/html": [
       "<div>\n",
       "<style scoped>\n",
       "    .dataframe tbody tr th:only-of-type {\n",
       "        vertical-align: middle;\n",
       "    }\n",
       "\n",
       "    .dataframe tbody tr th {\n",
       "        vertical-align: top;\n",
       "    }\n",
       "\n",
       "    .dataframe thead th {\n",
       "        text-align: right;\n",
       "    }\n",
       "</style>\n",
       "<table border=\"1\" class=\"dataframe\">\n",
       "  <thead>\n",
       "    <tr style=\"text-align: right;\">\n",
       "      <th></th>\n",
       "      <th>monthly_mean_ratio</th>\n",
       "      <th>tswrf_v11_ratio</th>\n",
       "      <th>tmp_ratio</th>\n",
       "      <th>precip_ratio</th>\n",
       "      <th>dtr_ratio</th>\n",
       "      <th>vpr_ratio</th>\n",
       "      <th>wind_ratio</th>\n",
       "      <th>co2_ratio</th>\n",
       "      <th>Ndep_Trendy_ratio</th>\n",
       "    </tr>\n",
       "  </thead>\n",
       "  <tbody>\n",
       "    <tr>\n",
       "      <th>count</th>\n",
       "      <td>239450.000000</td>\n",
       "      <td>239450.000000</td>\n",
       "      <td>239450.000000</td>\n",
       "      <td>239450.000000</td>\n",
       "      <td>239450.000000</td>\n",
       "      <td>239450.000000</td>\n",
       "      <td>239450.000000</td>\n",
       "      <td>239450.000000</td>\n",
       "      <td>239450.000000</td>\n",
       "    </tr>\n",
       "    <tr>\n",
       "      <th>mean</th>\n",
       "      <td>215.144957</td>\n",
       "      <td>-0.216046</td>\n",
       "      <td>0.007487</td>\n",
       "      <td>1.010616</td>\n",
       "      <td>-0.166201</td>\n",
       "      <td>0.029323</td>\n",
       "      <td>-0.155192</td>\n",
       "      <td>16.312569</td>\n",
       "      <td>129.533789</td>\n",
       "    </tr>\n",
       "    <tr>\n",
       "      <th>std</th>\n",
       "      <td>1756.583901</td>\n",
       "      <td>5.045628</td>\n",
       "      <td>0.604008</td>\n",
       "      <td>0.179026</td>\n",
       "      <td>0.637799</td>\n",
       "      <td>0.487499</td>\n",
       "      <td>0.285388</td>\n",
       "      <td>35.532720</td>\n",
       "      <td>200.015019</td>\n",
       "    </tr>\n",
       "    <tr>\n",
       "      <th>min</th>\n",
       "      <td>-12849.330000</td>\n",
       "      <td>-26.400000</td>\n",
       "      <td>-1.870000</td>\n",
       "      <td>0.317427</td>\n",
       "      <td>-4.620000</td>\n",
       "      <td>-1.859412</td>\n",
       "      <td>-1.892564</td>\n",
       "      <td>-33.791765</td>\n",
       "      <td>-209.679661</td>\n",
       "    </tr>\n",
       "    <tr>\n",
       "      <th>25%</th>\n",
       "      <td>-416.555490</td>\n",
       "      <td>-3.115882</td>\n",
       "      <td>-0.384382</td>\n",
       "      <td>0.885728</td>\n",
       "      <td>-0.564314</td>\n",
       "      <td>-0.242941</td>\n",
       "      <td>-0.293069</td>\n",
       "      <td>-8.215294</td>\n",
       "      <td>-19.265504</td>\n",
       "    </tr>\n",
       "    <tr>\n",
       "      <th>50%</th>\n",
       "      <td>28.981863</td>\n",
       "      <td>-0.405800</td>\n",
       "      <td>-0.035882</td>\n",
       "      <td>1.002098</td>\n",
       "      <td>-0.169298</td>\n",
       "      <td>-0.012549</td>\n",
       "      <td>-0.069216</td>\n",
       "      <td>4.874348</td>\n",
       "      <td>22.788176</td>\n",
       "    </tr>\n",
       "    <tr>\n",
       "      <th>75%</th>\n",
       "      <td>764.485294</td>\n",
       "      <td>2.593529</td>\n",
       "      <td>0.359216</td>\n",
       "      <td>1.122296</td>\n",
       "      <td>0.213922</td>\n",
       "      <td>0.260784</td>\n",
       "      <td>0.030784</td>\n",
       "      <td>37.324706</td>\n",
       "      <td>287.053838</td>\n",
       "    </tr>\n",
       "    <tr>\n",
       "      <th>max</th>\n",
       "      <td>15451.202143</td>\n",
       "      <td>24.762941</td>\n",
       "      <td>3.268000</td>\n",
       "      <td>3.241784</td>\n",
       "      <td>2.558000</td>\n",
       "      <td>2.405000</td>\n",
       "      <td>0.900000</td>\n",
       "      <td>117.585000</td>\n",
       "      <td>747.300989</td>\n",
       "    </tr>\n",
       "  </tbody>\n",
       "</table>\n",
       "</div>"
      ],
      "text/plain": [
       "       monthly_mean_ratio  tswrf_v11_ratio      tmp_ratio   precip_ratio  \\\n",
       "count       239450.000000    239450.000000  239450.000000  239450.000000   \n",
       "mean           215.144957        -0.216046       0.007487       1.010616   \n",
       "std           1756.583901         5.045628       0.604008       0.179026   \n",
       "min         -12849.330000       -26.400000      -1.870000       0.317427   \n",
       "25%           -416.555490        -3.115882      -0.384382       0.885728   \n",
       "50%             28.981863        -0.405800      -0.035882       1.002098   \n",
       "75%            764.485294         2.593529       0.359216       1.122296   \n",
       "max          15451.202143        24.762941       3.268000       3.241784   \n",
       "\n",
       "           dtr_ratio      vpr_ratio     wind_ratio      co2_ratio  \\\n",
       "count  239450.000000  239450.000000  239450.000000  239450.000000   \n",
       "mean       -0.166201       0.029323      -0.155192      16.312569   \n",
       "std         0.637799       0.487499       0.285388      35.532720   \n",
       "min        -4.620000      -1.859412      -1.892564     -33.791765   \n",
       "25%        -0.564314      -0.242941      -0.293069      -8.215294   \n",
       "50%        -0.169298      -0.012549      -0.069216       4.874348   \n",
       "75%         0.213922       0.260784       0.030784      37.324706   \n",
       "max         2.558000       2.405000       0.900000     117.585000   \n",
       "\n",
       "       Ndep_Trendy_ratio  \n",
       "count      239450.000000  \n",
       "mean          129.533789  \n",
       "std           200.015019  \n",
       "min          -209.679661  \n",
       "25%           -19.265504  \n",
       "50%            22.788176  \n",
       "75%           287.053838  \n",
       "max           747.300989  "
      ]
     },
     "execution_count": 19,
     "metadata": {},
     "output_type": "execute_result"
    }
   ],
   "source": [
    "model_data.monthly_mean_ratio.describe()\n",
    "model_data[model_data.columns[model_data.columns.str.contains(\"ratio\")]].describe()"
   ]
  },
  {
   "cell_type": "code",
   "execution_count": 5,
   "id": "b5ecb4c7-db08-414d-b62a-baeba86c3f02",
   "metadata": {},
   "outputs": [
    {
     "data": {
      "text/plain": [
       "0.04390060555439549"
      ]
     },
     "execution_count": 5,
     "metadata": {},
     "output_type": "execute_result"
    }
   ],
   "source": [
    "# len(model_data.loc[model_data['monthly_mean_ratio']>2 ])/len(model_data)"
   ]
  },
  {
   "cell_type": "code",
   "execution_count": 9,
   "id": "204fdb5c-3f77-4a79-a613-0c1a2434083c",
   "metadata": {},
   "outputs": [],
   "source": [
    "model_data = model_data.loc[(model_data['year']>1950)]"
   ]
  },
  {
   "cell_type": "code",
   "execution_count": 10,
   "id": "e410f99a-ad2c-421c-b8bf-d92f1d93c89f",
   "metadata": {},
   "outputs": [
    {
     "data": {
      "text/plain": [
       "(array([1.0000e+00, 0.0000e+00, 3.0000e+00, 1.1000e+01, 1.9000e+01,\n",
       "        3.1000e+01, 1.0500e+02, 1.2800e+02, 1.3000e+02, 2.1900e+02,\n",
       "        3.9200e+02, 6.5100e+02, 1.0610e+03, 1.7580e+03, 3.6760e+03,\n",
       "        9.5730e+03, 2.9673e+04, 1.9824e+04, 1.4943e+04, 9.9940e+03,\n",
       "        6.3760e+03, 4.1620e+03, 2.6290e+03, 1.4650e+03, 9.5400e+02,\n",
       "        5.4800e+02, 3.2200e+02, 2.6700e+02, 2.3200e+02, 1.7300e+02,\n",
       "        1.0600e+02, 1.1300e+02, 1.6800e+02, 1.1300e+02, 8.5000e+01,\n",
       "        3.4000e+01, 2.8000e+01, 1.6000e+01, 1.3000e+01, 6.0000e+00]),\n",
       " array([-10868.54      , -10210.54644643,  -9552.55289286,  -8894.55933929,\n",
       "         -8236.56578571,  -7578.57223214,  -6920.57867857,  -6262.585125  ,\n",
       "         -5604.59157143,  -4946.59801786,  -4288.60446429,  -3630.61091071,\n",
       "         -2972.61735714,  -2314.62380357,  -1656.63025   ,   -998.63669643,\n",
       "          -340.64314286,    317.35041071,    975.34396429,   1633.33751786,\n",
       "          2291.33107143,   2949.324625  ,   3607.31817857,   4265.31173214,\n",
       "          4923.30528571,   5581.29883929,   6239.29239286,   6897.28594643,\n",
       "          7555.2795    ,   8213.27305357,   8871.26660714,   9529.26016071,\n",
       "         10187.25371429,  10845.24726786,  11503.24082143,  12161.234375  ,\n",
       "         12819.22792857,  13477.22148214,  14135.21503571,  14793.20858929,\n",
       "         15451.20214286]),\n",
       " <BarContainer object of 40 artists>)"
      ]
     },
     "execution_count": 10,
     "metadata": {},
     "output_type": "execute_result"
    },
    {
     "data": {
      "image/png": "[encoded data removed]",
      "text/plain": [
       "<Figure size 432x288 with 1 Axes>"
      ]
     },
     "metadata": {
      "needs_background": "light"
     },
     "output_type": "display_data"
    }
   ],
   "source": [
    "# model_data = model_data.loc[model_data['monthly_mean_ratio']<10]\n",
    "\n",
    "plt.hist(model_data.monthly_mean_ratio, bins=40)"
   ]
  },
  {
   "cell_type": "code",
   "execution_count": 22,
   "id": "bbeb08c4-5ea9-4fbf-a919-9ac113fe447c",
   "metadata": {},
   "outputs": [],
   "source": [
    "corr = model_data[model_data.columns[model_data.columns.str.contains('ratio')==True]].corr()\n"
   ]
  },
  {
   "cell_type": "code",
   "execution_count": 23,
   "id": "e3ad0dbf-2a4c-4624-8b3f-be42171d1912",
   "metadata": {},
   "outputs": [
    {
     "data": {
      "text/plain": [
       "<Axes: >"
      ]
     },
     "execution_count": 23,
     "metadata": {},
     "output_type": "execute_result"
    },
    {
     "data": {
      "image/png": "[encoded data removed]",
      "text/plain": [
       "<Figure size 792x648 with 2 Axes>"
      ]
     },
     "metadata": {
      "needs_background": "light"
     },
     "output_type": "display_data"
    }
   ],
   "source": [
    "# Generate a large random dataset\n",
    "# Compute the correlation matrix\n",
    "corr = model_data[model_data.columns[model_data.columns.str.contains('ratio')==True]].corr()\n",
    "\n",
    "# Generate a mask for the upper triangle\n",
    "mask = np.triu(np.ones_like(corr, dtype=bool))\n",
    "\n",
    "# Set up the matplotlib figure\n",
    "f, ax = plt.subplots(figsize=(11, 9))\n",
    "\n",
    "# Generate a custom diverging colormap\n",
    "cmap = sns.diverging_palette(230, 20, as_cmap=True)\n",
    "\n",
    "# Draw the heatmap with the mask and correct aspect ratio\n",
    "sns.heatmap(corr, mask=mask, cmap=cmap, vmax=.3, center=0, annot=True,\n",
    "            square=True, linewidths=.5, cbar_kws={\"shrink\": .5})\n"
   ]
  },
  {
   "cell_type": "code",
   "execution_count": 49,
   "id": "346f47d0-2b75-4539-91ed-49390167f46f",
   "metadata": {},
   "outputs": [
    {
     "data": {
      "text/plain": [
       "Index(['monthly_mean_ratio', 'tswrf_v11_ratio', 'tmp_ratio', 'precip_ratio',\n",
       "       'dtr_ratio', 'vpr_ratio', 'wind_ratio', 'co2_ratio',\n",
       "       'Ndep_Trendy_ratio'],\n",
       "      dtype='object')"
      ]
     },
     "execution_count": 49,
     "metadata": {},
     "output_type": "execute_result"
    }
   ],
   "source": [
    "model_data.columns[model_data.columns.str.contains('ratio')==True]"
   ]
  },
  {
   "cell_type": "code",
   "execution_count": 50,
   "id": "1c7ed2d3-dd44-40e4-9fea-eb3f73677010",
   "metadata": {},
   "outputs": [
    {
     "data": {
      "text/plain": [
       "101600"
      ]
     },
     "execution_count": 50,
     "metadata": {},
     "output_type": "execute_result"
    }
   ],
   "source": [
    "len(model_data)"
   ]
  },
  {
   "cell_type": "code",
   "execution_count": 17,
   "id": "b789f808-d090-462e-ab44-2648308f275b",
   "metadata": {},
   "outputs": [],
   "source": [
    "####define training and testing set\n",
    "# Define the features and target variable\n",
    "\n",
    "\n",
    "X = model_data[['tswrf_v11_ratio', 'tmp_ratio', 'precip_ratio',\n",
    "       'dtr_ratio', 'vpr_ratio', 'wind_ratio', 'co2_ratio', 'ordinal_stand_age']]\n",
    "Y = np.array((model_data['monthly_mean_ratio']))\n",
    "\n",
    "# scaler = preprocessing.StandardScaler().fit(X)\n",
    "# X = scaler.transform(X)\n",
    "\n",
    "# scaler = preprocessing.StandardScaler().fit(Y)\n",
    "# Y = scaler.transform(Y)\n",
    "\n",
    "# Y = np.sqrt(model_data['monthly_mean_ratio'])\n",
    "\n",
    "\n",
    "X_train, X_test, y_train, y_test = train_test_split(X, Y, test_size=0.3, random_state=42)\n",
    "\n"
   ]
  },
  {
   "cell_type": "code",
   "execution_count": 40,
   "id": "ad1b2863-a659-4aa0-9c12-8d74f3f0cffe",
   "metadata": {},
   "outputs": [
    {
     "name": "stdout",
     "output_type": "stream",
     "text": [
      "training 12 0.1:  0.8981571433384448\n",
      "testing 12 0.1:  0.6067633209847474\n",
      "training 12 0.3:  0.9762389105853381\n",
      "testing 12 0.3:  0.5897026961830341\n",
      "training 13 0.1:  0.9300374525512618\n",
      "testing 13 0.1:  0.6090566437917997\n",
      "training 13 0.3:  0.9883292181246554\n",
      "testing 13 0.3:  0.5916968194273049\n",
      "training 14 0.1:  0.956857600342486\n",
      "testing 14 0.1:  0.6125626802801011\n",
      "training 14 0.3:  0.9957237130606332\n",
      "testing 14 0.3:  0.5953020102885718\n",
      "training 15 0.1:  0.9754792930832502\n",
      "testing 15 0.1:  0.607858805893353\n",
      "training 15 0.3:  0.9987715050257961\n",
      "testing 15 0.3:  0.5900265685314416\n",
      "training 16 0.1:  0.985389601944615\n",
      "testing 16 0.1:  0.6063249736989706\n",
      "training 16 0.3:  0.999575322195478\n",
      "testing 16 0.3:  0.5851673227096378\n",
      "training 17 0.1:  0.9923106699753822\n",
      "testing 17 0.1:  0.6011794192884634\n",
      "training 17 0.3:  0.9998766409937551\n",
      "testing 17 0.3:  0.5812781861364021\n",
      "training 18 0.1:  0.9958653822309452\n",
      "testing 18 0.1:  0.5998893689633626\n",
      "training 18 0.3:  0.9999801648421158\n",
      "testing 18 0.3:  0.5812742593735873\n",
      "training 19 0.1:  0.998144143894444\n",
      "testing 19 0.1:  0.5946517397270937\n",
      "training 19 0.3:  0.9999969464071272\n",
      "testing 19 0.3:  0.5789556038045025\n"
     ]
    }
   ],
   "source": [
    "# Initialize XGBRegressor (you can specify hyperparameters as needed)\n",
    "for depth in range(12, 20):\n",
    "    for lr in [.1,.3]:\n",
    "\n",
    "        xgb_model = XGBRegressor(max_depth=depth,learning_rate=lr)\n",
    "\n",
    "        # Fit the model on the scaled data\n",
    "        xgb_model.fit(X_train, y_train)\n",
    "\n",
    "        # Make predictions (as an example, here we predict on the training data itself)\n",
    "        # predictions = xgb_model.predict(X_scaled)\n",
    "        print(f\"training {depth} {lr}: \",xgb_model.score(X_train, y_train) )\n",
    "        print(f\"testing {depth} {lr}: \",xgb_model.score(X_test, y_test) )"
   ]
  },
  {
   "cell_type": "code",
   "execution_count": 32,
   "id": "c17f5b78-a201-4c45-b696-a174f9fc3366",
   "metadata": {},
   "outputs": [
    {
     "name": "stdout",
     "output_type": "stream",
     "text": [
      "training:  0.9999970041545916\n"
     ]
    }
   ],
   "source": [
    "print(\"training: \",xgb_model.score(X_train, y_train) )\n"
   ]
  },
  {
   "cell_type": "code",
   "execution_count": 36,
   "id": "c0a39ac9-bd74-406e-a7ea-ba471a879be3",
   "metadata": {},
   "outputs": [
    {
     "name": "stdout",
     "output_type": "stream",
     "text": [
      "training 5:  0.3671468376633412\n",
      "testing 5:  0.35424060171730865\n",
      "training 6:  0.4088871943387751\n",
      "testing 6:  0.39376302962866216\n",
      "training 7:  0.44816152455475844\n",
      "testing 7:  0.4284032905455669\n",
      "training 8:  0.4892567462801155\n",
      "testing 8:  0.4585958167332639\n",
      "training 9:  0.5323566415659362\n",
      "testing 9:  0.4861607933933112\n",
      "training 10:  0.5761698065440315\n",
      "testing 10:  0.5089846663923562\n",
      "training 11:  0.6196809515632076\n",
      "testing 11:  0.5281632588502727\n",
      "training 12:  0.662592952735497\n",
      "testing 12:  0.5437448902517603\n",
      "training 13:  0.7042653017448455\n",
      "testing 13:  0.5583077970255548\n",
      "training 14:  0.7436890644557368\n",
      "testing 14:  0.5708865642906212\n",
      "training 15:  0.7793204776482552\n",
      "testing 15:  0.5809672647346762\n",
      "training 16:  0.8107676027400393\n",
      "testing 16:  0.5890285058257179\n",
      "training 17:  0.837967411305709\n",
      "testing 17:  0.5955876890920578\n",
      "training 18:  0.8607060803118912\n",
      "testing 18:  0.6005037613238686\n",
      "training 19:  0.8793377365921528\n",
      "testing 19:  0.6042881464321135\n"
     ]
    }
   ],
   "source": [
    "\n",
    "for i in range(5, 20):\n",
    "    regr = RandomForestRegressor(max_depth=i, random_state=0)\n",
    "    regr.fit(X_train, y_train)\n",
    "    print(f\"training {i}: \",regr.score(X_train, y_train) )\n",
    "    print(f\"testing {i}: \",regr.score(X_test, y_test) )"
   ]
  },
  {
   "cell_type": "code",
   "execution_count": 26,
   "id": "394b8fb1-edfe-4dd6-b730-a3794d669711",
   "metadata": {},
   "outputs": [],
   "source": [
    "svr_rbf = SVR(kernel=\"rbf\", C=100, gamma=0.1, epsilon=0.1)\n",
    "svr_lin = SVR(kernel=\"linear\", C=100, gamma=\"auto\")\n",
    "svr_poly = SVR(kernel=\"poly\", C=100, gamma=\"auto\", degree=3, epsilon=0.1, coef0=1)\n",
    "\n"
   ]
  },
  {
   "cell_type": "code",
   "execution_count": 27,
   "id": "0512aead-53fb-4d31-ae0d-d1a6743b3797",
   "metadata": {},
   "outputs": [
    {
     "data": {
      "text/plain": [
       "0.3634187214250043"
      ]
     },
     "execution_count": 27,
     "metadata": {},
     "output_type": "execute_result"
    }
   ],
   "source": [
    "svr_rbf.fit(X_train, y_train)\n",
    "svr_rbf.score(X_test, y_test)"
   ]
  },
  {
   "cell_type": "code",
   "execution_count": null,
   "id": "232b6d51-f06a-4c1f-99fb-c412c1ea33bc",
   "metadata": {},
   "outputs": [],
   "source": [
    "svr_lin.fit(X_train, y_train)\n",
    "svr_lin.score(X_test, y_test)"
   ]
  },
  {
   "cell_type": "code",
   "execution_count": null,
   "id": "a5d55348-6e19-4b5a-8ac3-46dc84f7da69",
   "metadata": {},
   "outputs": [],
   "source": [
    "svr_poly.fit(X_train, y_train)\n",
    "svr_poly.score(X_test, y_test)"
   ]
  }
 ],
 "metadata": {
  "kernelspec": {
   "display_name": "condaforge",
   "language": "python",
   "name": "condaforge"
  },
  "language_info": {
   "codemirror_mode": {
    "name": "ipython",
    "version": 3
   },
   "file_extension": ".py",
   "mimetype": "text/x-python",
   "name": "python",
   "nbconvert_exporter": "python",
   "pygments_lexer": "ipython3",
   "version": "3.10.14"
  }
 },
 "nbformat": 4,
 "nbformat_minor": 5
}
