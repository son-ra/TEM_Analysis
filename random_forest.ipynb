{
 "cells": [
  {
   "cell_type": "code",
   "execution_count": 1,
   "id": "80dd63dd-8c2e-46d5-a326-8908ad1687e1",
   "metadata": {},
   "outputs": [
    {
     "name": "stderr",
     "output_type": "stream",
     "text": [
      "2024-04-14 15:18:02.797203: I tensorflow/core/platform/cpu_feature_guard.cc:193] This TensorFlow binary is optimized with oneAPI Deep Neural Network Library (oneDNN) to use the following CPU instructions in performance-critical operations:  AVX2 FMA\n",
      "To enable them in other operations, rebuild TensorFlow with the appropriate compiler flags.\n",
      "2024-04-14 15:18:02.986640: W tensorflow/stream_executor/platform/default/dso_loader.cc:64] Could not load dynamic library 'libcudart.so.11.0'; dlerror: libcudart.so.11.0: cannot open shared object file: No such file or directory; LD_LIBRARY_PATH: /share/apps/22.04/openmpi/4.1.5/lib:/share/apps/22.04/slurm/23.02.7/lib\n",
      "2024-04-14 15:18:02.986695: I tensorflow/stream_executor/cuda/cudart_stub.cc:29] Ignore above cudart dlerror if you do not have a GPU set up on your machine.\n",
      "2024-04-14 15:18:03.028674: E tensorflow/stream_executor/cuda/cuda_blas.cc:2981] Unable to register cuBLAS factory: Attempting to register factory for plugin cuBLAS when one has already been registered\n",
      "2024-04-14 15:18:07.625552: W tensorflow/stream_executor/platform/default/dso_loader.cc:64] Could not load dynamic library 'libnvinfer.so.7'; dlerror: libnvinfer.so.7: cannot open shared object file: No such file or directory; LD_LIBRARY_PATH: /share/apps/22.04/openmpi/4.1.5/lib:/share/apps/22.04/slurm/23.02.7/lib\n",
      "2024-04-14 15:18:07.625721: W tensorflow/stream_executor/platform/default/dso_loader.cc:64] Could not load dynamic library 'libnvinfer_plugin.so.7'; dlerror: libnvinfer_plugin.so.7: cannot open shared object file: No such file or directory; LD_LIBRARY_PATH: /share/apps/22.04/openmpi/4.1.5/lib:/share/apps/22.04/slurm/23.02.7/lib\n",
      "2024-04-14 15:18:07.625737: W tensorflow/compiler/tf2tensorrt/utils/py_utils.cc:38] TF-TRT Warning: Cannot dlopen some TensorRT libraries. If you would like to use Nvidia GPU with TensorRT, please make sure the missing libraries mentioned above are installed properly.\n"
     ]
    }
   ],
   "source": [
    "import matplotlib.pyplot as plt\n",
    "import numpy as np\n",
    "\n",
    "import gpflow\n",
    "import pandas as pd\n",
    "import os\n",
    "import matplotlib.pyplot as plt\n",
    "import re\n",
    "import numpy as np\n",
    "from scipy import stats\n",
    "import matplotlib.pyplot as plt\n",
    "import seaborn as sns\n",
    "import statsmodels.api as sm\n",
    "import time\n",
    "from sklearn.model_selection import train_test_split\n",
    "from sklearn.metrics import mean_squared_error, r2_score\n",
    "import statsmodels.api as sm\n",
    "from sklearn.ensemble import RandomForestRegressor\n",
    "from sklearn.svm import SVR"
   ]
  },
  {
   "cell_type": "code",
   "execution_count": 2,
   "id": "67d64729-5b4b-4dbf-9c3e-d9ff809f68a9",
   "metadata": {},
   "outputs": [
    {
     "name": "stdout",
     "output_type": "stream",
     "text": [
      "{0: 0, 5: 1, 10: 2, 15: 3, 20: 4, 25: 5, 30: 6, 35: 7, 40: 8, 45: 9, 50: 10, 55: 11, 60: 12, 65: 13, 70: 14, 75: 15, 80: 16, 85: 17, 90: 18, 95: 19, 100: 20, 125: 21, 150: 22}\n"
     ]
    },
    {
     "data": {
      "text/plain": [
       "count    287630.000000\n",
       "mean          9.834551\n",
       "std           7.873397\n",
       "min           0.000000\n",
       "25%           3.000000\n",
       "50%           8.000000\n",
       "75%          17.000000\n",
       "max          22.000000\n",
       "Name: ordinal_stand_age, dtype: float64"
      ]
     },
     "execution_count": 2,
     "metadata": {},
     "output_type": "execute_result"
    }
   ],
   "source": [
    "model_data = pd.read_csv('/home/smmrrr/TEM_Analysis/TEM_Analysis/region_3_test_model_data_conif_vegc.csv')\n",
    "unique_bins = sorted(model_data.stand_age_interval_min.unique())\n",
    "bin_to_ordinal = {bin_val: idx for idx, bin_val in (enumerate(unique_bins))}\n",
    "print(bin_to_ordinal)\n",
    "model_data['ordinal_stand_age'] = model_data['stand_age_interval_min'].map(bin_to_ordinal)\n",
    "model_data['ordinal_stand_age'].describe()\n"
   ]
  },
  {
   "cell_type": "code",
   "execution_count": 3,
   "id": "2514415b-de4c-4d79-9454-d1b84c2c6661",
   "metadata": {},
   "outputs": [],
   "source": [
    "variables_to_compare = ['monthly_mean', 'tswrf_v11', 'tmp', 'precip', 'dtr', 'vpr', 'wind','co2','Ndep_Trendy']\n",
    "\n",
    "base_comparison = model_data.loc[model_data['year'].between(1900,1950)].groupby(\n",
    "    ['lon','lat','ordinal_stand_age'])[variables_to_compare].mean().reset_index()\n",
    "\n",
    "\n",
    "model_data=model_data.merge(base_comparison, on = ['lon','lat','ordinal_stand_age'], suffixes = ('_ts', '_base'))\n",
    "model_data=model_data.loc[model_data['monthly_mean_base']!=0]\n",
    "# Iterate over the list of variables and create new columns in model_data for their ratios\n",
    "for var in variables_to_compare:\n",
    "    ts_column = f\"{var}_ts\"     # Time series data column name\n",
    "    base_column = f\"{var}_base\" # Baseline data column name\n",
    "    ratio_column = f\"{var}_ratio\" # Name for the new ratio column\n",
    "\n",
    "    # Compute the ratio and create a new column in model_data\n",
    "    model_data[ratio_column] = model_data[ts_column] / model_data[base_column]\n",
    "\n"
   ]
  },
  {
   "cell_type": "code",
   "execution_count": 4,
   "id": "e0e0388d-ee26-4505-bae2-f40f1f735109",
   "metadata": {},
   "outputs": [
    {
     "data": {
      "text/html": [
       "<div>\n",
       "<style scoped>\n",
       "    .dataframe tbody tr th:only-of-type {\n",
       "        vertical-align: middle;\n",
       "    }\n",
       "\n",
       "    .dataframe tbody tr th {\n",
       "        vertical-align: top;\n",
       "    }\n",
       "\n",
       "    .dataframe thead th {\n",
       "        text-align: right;\n",
       "    }\n",
       "</style>\n",
       "<table border=\"1\" class=\"dataframe\">\n",
       "  <thead>\n",
       "    <tr style=\"text-align: right;\">\n",
       "      <th></th>\n",
       "      <th>monthly_mean_ratio</th>\n",
       "      <th>tswrf_v11_ratio</th>\n",
       "      <th>tmp_ratio</th>\n",
       "      <th>precip_ratio</th>\n",
       "      <th>dtr_ratio</th>\n",
       "      <th>vpr_ratio</th>\n",
       "      <th>wind_ratio</th>\n",
       "      <th>co2_ratio</th>\n",
       "      <th>Ndep_Trendy_ratio</th>\n",
       "    </tr>\n",
       "  </thead>\n",
       "  <tbody>\n",
       "    <tr>\n",
       "      <th>count</th>\n",
       "      <td>239450.000000</td>\n",
       "      <td>239450.000000</td>\n",
       "      <td>239450.000000</td>\n",
       "      <td>239450.000000</td>\n",
       "      <td>239450.000000</td>\n",
       "      <td>239450.000000</td>\n",
       "      <td>239450.000000</td>\n",
       "      <td>239450.000000</td>\n",
       "      <td>239450.000000</td>\n",
       "    </tr>\n",
       "    <tr>\n",
       "      <th>mean</th>\n",
       "      <td>4.335098</td>\n",
       "      <td>0.999403</td>\n",
       "      <td>1.001299</td>\n",
       "      <td>1.010616</td>\n",
       "      <td>0.976701</td>\n",
       "      <td>1.004764</td>\n",
       "      <td>0.946794</td>\n",
       "      <td>1.053329</td>\n",
       "      <td>1.526560</td>\n",
       "    </tr>\n",
       "    <tr>\n",
       "      <th>std</th>\n",
       "      <td>171.280570</td>\n",
       "      <td>0.022604</td>\n",
       "      <td>0.039245</td>\n",
       "      <td>0.179026</td>\n",
       "      <td>0.088448</td>\n",
       "      <td>0.043000</td>\n",
       "      <td>0.096384</td>\n",
       "      <td>0.116367</td>\n",
       "      <td>0.935555</td>\n",
       "    </tr>\n",
       "    <tr>\n",
       "      <th>min</th>\n",
       "      <td>0.000000</td>\n",
       "      <td>0.898982</td>\n",
       "      <td>0.728632</td>\n",
       "      <td>0.317427</td>\n",
       "      <td>0.583784</td>\n",
       "      <td>0.838737</td>\n",
       "      <td>0.475303</td>\n",
       "      <td>0.891125</td>\n",
       "      <td>0.182726</td>\n",
       "    </tr>\n",
       "    <tr>\n",
       "      <th>25%</th>\n",
       "      <td>0.923263</td>\n",
       "      <td>0.986297</td>\n",
       "      <td>0.978221</td>\n",
       "      <td>0.885728</td>\n",
       "      <td>0.922215</td>\n",
       "      <td>0.982470</td>\n",
       "      <td>0.897918</td>\n",
       "      <td>0.973046</td>\n",
       "      <td>0.942539</td>\n",
       "    </tr>\n",
       "    <tr>\n",
       "      <th>50%</th>\n",
       "      <td>1.012550</td>\n",
       "      <td>0.998278</td>\n",
       "      <td>0.998002</td>\n",
       "      <td>1.002098</td>\n",
       "      <td>0.977612</td>\n",
       "      <td>0.999101</td>\n",
       "      <td>0.977253</td>\n",
       "      <td>1.015874</td>\n",
       "      <td>1.075442</td>\n",
       "    </tr>\n",
       "    <tr>\n",
       "      <th>75%</th>\n",
       "      <td>1.146784</td>\n",
       "      <td>1.011351</td>\n",
       "      <td>1.020492</td>\n",
       "      <td>1.122296</td>\n",
       "      <td>1.028145</td>\n",
       "      <td>1.020744</td>\n",
       "      <td>1.010705</td>\n",
       "      <td>1.122462</td>\n",
       "      <td>1.911993</td>\n",
       "    </tr>\n",
       "    <tr>\n",
       "      <th>max</th>\n",
       "      <td>35427.777778</td>\n",
       "      <td>1.120791</td>\n",
       "      <td>1.531550</td>\n",
       "      <td>3.241784</td>\n",
       "      <td>1.344187</td>\n",
       "      <td>1.446897</td>\n",
       "      <td>1.249307</td>\n",
       "      <td>1.396329</td>\n",
       "      <td>7.091084</td>\n",
       "    </tr>\n",
       "  </tbody>\n",
       "</table>\n",
       "</div>"
      ],
      "text/plain": [
       "       monthly_mean_ratio  tswrf_v11_ratio      tmp_ratio   precip_ratio  \\\n",
       "count       239450.000000    239450.000000  239450.000000  239450.000000   \n",
       "mean             4.335098         0.999403       1.001299       1.010616   \n",
       "std            171.280570         0.022604       0.039245       0.179026   \n",
       "min              0.000000         0.898982       0.728632       0.317427   \n",
       "25%              0.923263         0.986297       0.978221       0.885728   \n",
       "50%              1.012550         0.998278       0.998002       1.002098   \n",
       "75%              1.146784         1.011351       1.020492       1.122296   \n",
       "max          35427.777778         1.120791       1.531550       3.241784   \n",
       "\n",
       "           dtr_ratio      vpr_ratio     wind_ratio      co2_ratio  \\\n",
       "count  239450.000000  239450.000000  239450.000000  239450.000000   \n",
       "mean        0.976701       1.004764       0.946794       1.053329   \n",
       "std         0.088448       0.043000       0.096384       0.116367   \n",
       "min         0.583784       0.838737       0.475303       0.891125   \n",
       "25%         0.922215       0.982470       0.897918       0.973046   \n",
       "50%         0.977612       0.999101       0.977253       1.015874   \n",
       "75%         1.028145       1.020744       1.010705       1.122462   \n",
       "max         1.344187       1.446897       1.249307       1.396329   \n",
       "\n",
       "       Ndep_Trendy_ratio  \n",
       "count      239450.000000  \n",
       "mean            1.526560  \n",
       "std             0.935555  \n",
       "min             0.182726  \n",
       "25%             0.942539  \n",
       "50%             1.075442  \n",
       "75%             1.911993  \n",
       "max             7.091084  "
      ]
     },
     "execution_count": 4,
     "metadata": {},
     "output_type": "execute_result"
    }
   ],
   "source": [
    "model_data.monthly_mean_ratio.describe()\n",
    "model_data[model_data.columns[model_data.columns.str.contains(\"ratio\")]].describe()"
   ]
  },
  {
   "cell_type": "code",
   "execution_count": 5,
   "id": "b5ecb4c7-db08-414d-b62a-baeba86c3f02",
   "metadata": {},
   "outputs": [
    {
     "data": {
      "text/plain": [
       "0.04390060555439549"
      ]
     },
     "execution_count": 5,
     "metadata": {},
     "output_type": "execute_result"
    }
   ],
   "source": [
    "len(model_data.loc[model_data['monthly_mean_ratio']>2 ])/len(model_data)"
   ]
  },
  {
   "cell_type": "code",
   "execution_count": 6,
   "id": "204fdb5c-3f77-4a79-a613-0c1a2434083c",
   "metadata": {},
   "outputs": [],
   "source": [
    "model_data = model_data.loc[(model_data['year']>1950)&(model_data['monthly_mean_ratio']<2 )]"
   ]
  },
  {
   "cell_type": "code",
   "execution_count": 7,
   "id": "e410f99a-ad2c-421c-b8bf-d92f1d93c89f",
   "metadata": {},
   "outputs": [
    {
     "data": {
      "text/plain": [
       "(array([ 4677.,   659.,   466.,   364.,   458.,   324.,   389.,   353.,\n",
       "          409.,   505.,   521.,   615.,   755.,   900.,  1057.,  1365.,\n",
       "         1815.,  2759.,  4660.,  8038., 10833., 10778., 10651.,  9745.,\n",
       "         7532.,  5677.,  3776.,  2633.,  1754.,  1442.,  1042.,   859.,\n",
       "          773.,   682.,   476.,   426.,   409.,   373.,   383.,   267.]),\n",
       " array([0.        , 0.04998763, 0.09997526, 0.14996289, 0.19995052,\n",
       "        0.24993815, 0.29992578, 0.34991341, 0.39990104, 0.44988867,\n",
       "        0.4998763 , 0.54986393, 0.59985156, 0.64983919, 0.69982682,\n",
       "        0.74981445, 0.79980208, 0.84978971, 0.89977734, 0.94976497,\n",
       "        0.9997526 , 1.04974023, 1.09972786, 1.14971549, 1.19970312,\n",
       "        1.24969075, 1.29967838, 1.34966601, 1.39965364, 1.44964127,\n",
       "        1.4996289 , 1.54961653, 1.59960416, 1.64959179, 1.69957941,\n",
       "        1.74956704, 1.79955467, 1.8495423 , 1.89952993, 1.94951756,\n",
       "        1.99950519]),\n",
       " <BarContainer object of 40 artists>)"
      ]
     },
     "execution_count": 7,
     "metadata": {},
     "output_type": "execute_result"
    },
    {
     "data": {
      "image/png": "[encoded data removed]",
      "text/plain": [
       "<Figure size 432x288 with 1 Axes>"
      ]
     },
     "metadata": {
      "needs_background": "light"
     },
     "output_type": "display_data"
    }
   ],
   "source": [
    "# model_data = model_data.loc[model_data['monthly_mean_ratio']<10]\n",
    "\n",
    "plt.hist(model_data.monthly_mean_ratio, bins=40)"
   ]
  },
  {
   "cell_type": "code",
   "execution_count": 14,
   "id": "bbeb08c4-5ea9-4fbf-a919-9ac113fe447c",
   "metadata": {},
   "outputs": [],
   "source": [
    "corr = model_data[model_data.columns[model_data.columns.str.contains('ratio')==True]].corr()\n"
   ]
  },
  {
   "cell_type": "code",
   "execution_count": 48,
   "id": "e3ad0dbf-2a4c-4624-8b3f-be42171d1912",
   "metadata": {},
   "outputs": [
    {
     "data": {
      "text/plain": [
       "<Axes: >"
      ]
     },
     "execution_count": 48,
     "metadata": {},
     "output_type": "execute_result"
    },
    {
     "data": {
      "image/png": "[encoded data removed]",
      "text/plain": [
       "<Figure size 792x648 with 2 Axes>"
      ]
     },
     "metadata": {
      "needs_background": "light"
     },
     "output_type": "display_data"
    }
   ],
   "source": [
    "# Generate a large random dataset\n",
    "# Compute the correlation matrix\n",
    "corr = model_data[model_data.columns[model_data.columns.str.contains('ratio')==True]].corr()\n",
    "\n",
    "# Generate a mask for the upper triangle\n",
    "mask = np.triu(np.ones_like(corr, dtype=bool))\n",
    "\n",
    "# Set up the matplotlib figure\n",
    "f, ax = plt.subplots(figsize=(11, 9))\n",
    "\n",
    "# Generate a custom diverging colormap\n",
    "cmap = sns.diverging_palette(230, 20, as_cmap=True)\n",
    "\n",
    "# Draw the heatmap with the mask and correct aspect ratio\n",
    "sns.heatmap(corr, mask=mask, cmap=cmap, vmax=.3, center=0, annot=True,\n",
    "            square=True, linewidths=.5, cbar_kws={\"shrink\": .5})\n"
   ]
  },
  {
   "cell_type": "code",
   "execution_count": 49,
   "id": "346f47d0-2b75-4539-91ed-49390167f46f",
   "metadata": {},
   "outputs": [
    {
     "data": {
      "text/plain": [
       "Index(['monthly_mean_ratio', 'tswrf_v11_ratio', 'tmp_ratio', 'precip_ratio',\n",
       "       'dtr_ratio', 'vpr_ratio', 'wind_ratio', 'co2_ratio',\n",
       "       'Ndep_Trendy_ratio'],\n",
       "      dtype='object')"
      ]
     },
     "execution_count": 49,
     "metadata": {},
     "output_type": "execute_result"
    }
   ],
   "source": [
    "model_data.columns[model_data.columns.str.contains('ratio')==True]"
   ]
  },
  {
   "cell_type": "code",
   "execution_count": 50,
   "id": "1c7ed2d3-dd44-40e4-9fea-eb3f73677010",
   "metadata": {},
   "outputs": [
    {
     "data": {
      "text/plain": [
       "101600"
      ]
     },
     "execution_count": 50,
     "metadata": {},
     "output_type": "execute_result"
    }
   ],
   "source": [
    "len(model_data)"
   ]
  },
  {
   "cell_type": "code",
   "execution_count": 8,
   "id": "b789f808-d090-462e-ab44-2648308f275b",
   "metadata": {},
   "outputs": [],
   "source": [
    "####define training and testing set\n",
    "# Define the features and target variable\n",
    "X = model_data[['tswrf_v11_ratio', 'tmp_ratio', 'precip_ratio',\n",
    "       'dtr_ratio', 'vpr_ratio', 'wind_ratio', 'co2_ratio', 'ordinal_stand_age']]\n",
    "Y = (model_data['monthly_mean_ratio'])\n",
    "# Y = np.sqrt(model_data['monthly_mean_ratio'])\n",
    "\n",
    "\n",
    "X_train, X_test, y_train, y_test = train_test_split(X, Y, test_size=0.3, random_state=42)\n",
    "\n"
   ]
  },
  {
   "cell_type": "code",
   "execution_count": 60,
   "id": "c0a39ac9-bd74-406e-a7ea-ba471a879be3",
   "metadata": {},
   "outputs": [
    {
     "data": {
      "text/plain": [
       "0.5524236646191099"
      ]
     },
     "execution_count": 60,
     "metadata": {},
     "output_type": "execute_result"
    }
   ],
   "source": [
    "regr = RandomForestRegressor(max_depth=40, random_state=0)\n",
    "regr.fit(X_train, y_train)\n",
    "regr.score(X_test, y_test)"
   ]
  },
  {
   "cell_type": "code",
   "execution_count": 9,
   "id": "394b8fb1-edfe-4dd6-b730-a3794d669711",
   "metadata": {},
   "outputs": [],
   "source": [
    "svr_rbf = SVR(kernel=\"rbf\", C=100, gamma=0.1, epsilon=0.1)\n",
    "svr_lin = SVR(kernel=\"linear\", C=100, gamma=\"auto\")\n",
    "svr_poly = SVR(kernel=\"poly\", C=100, gamma=\"auto\", degree=3, epsilon=0.1, coef0=1)\n",
    "\n"
   ]
  },
  {
   "cell_type": "code",
   "execution_count": 64,
   "id": "0512aead-53fb-4d31-ae0d-d1a6743b3797",
   "metadata": {},
   "outputs": [
    {
     "data": {
      "text/plain": [
       "0.25275893460436716"
      ]
     },
     "execution_count": 64,
     "metadata": {},
     "output_type": "execute_result"
    }
   ],
   "source": [
    "svr_rbf.fit(X_train, y_train)\n",
    "svr_rbf.score(X_test, y_test)"
   ]
  },
  {
   "cell_type": "code",
   "execution_count": null,
   "id": "232b6d51-f06a-4c1f-99fb-c412c1ea33bc",
   "metadata": {},
   "outputs": [],
   "source": [
    "svr_lin.fit(X_train, y_train)\n",
    "svr_lin.score(X_test, y_test)"
   ]
  },
  {
   "cell_type": "code",
   "execution_count": null,
   "id": "a5d55348-6e19-4b5a-8ac3-46dc84f7da69",
   "metadata": {},
   "outputs": [],
   "source": [
    "svr_poly.fit(X_train, y_train)\n",
    "svr_poly.score(X_test, y_test)"
   ]
  }
 ],
 "metadata": {
  "kernelspec": {
   "display_name": "condaforge",
   "language": "python",
   "name": "condaforge"
  },
  "language_info": {
   "codemirror_mode": {
    "name": "ipython",
    "version": 3
   },
   "file_extension": ".py",
   "mimetype": "text/x-python",
   "name": "python",
   "nbconvert_exporter": "python",
   "pygments_lexer": "ipython3",
   "version": "3.10.6"
  }
 },
 "nbformat": 4,
 "nbformat_minor": 5
}
