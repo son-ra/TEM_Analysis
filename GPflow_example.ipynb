{
 "cells": [
  {
   "cell_type": "code",
   "execution_count": 1,
   "id": "2c176c25-f935-48bb-bc1c-abd25442169e",
   "metadata": {},
   "outputs": [
    {
     "name": "stderr",
     "output_type": "stream",
     "text": [
      "2024-04-15 17:29:04.524609: I tensorflow/core/platform/cpu_feature_guard.cc:193] This TensorFlow binary is optimized with oneAPI Deep Neural Network Library (oneDNN) to use the following CPU instructions in performance-critical operations:  AVX2 FMA\n",
      "To enable them in other operations, rebuild TensorFlow with the appropriate compiler flags.\n",
      "2024-04-15 17:29:04.786246: W tensorflow/stream_executor/platform/default/dso_loader.cc:64] Could not load dynamic library 'libcudart.so.11.0'; dlerror: libcudart.so.11.0: cannot open shared object file: No such file or directory; LD_LIBRARY_PATH: /share/apps/22.04/openmpi/4.1.5/lib:/share/apps/22.04/slurm/23.02.7/lib\n",
      "2024-04-15 17:29:04.786311: I tensorflow/stream_executor/cuda/cudart_stub.cc:29] Ignore above cudart dlerror if you do not have a GPU set up on your machine.\n",
      "2024-04-15 17:29:04.832531: E tensorflow/stream_executor/cuda/cuda_blas.cc:2981] Unable to register cuBLAS factory: Attempting to register factory for plugin cuBLAS when one has already been registered\n",
      "2024-04-15 17:29:07.698467: W tensorflow/stream_executor/platform/default/dso_loader.cc:64] Could not load dynamic library 'libnvinfer.so.7'; dlerror: libnvinfer.so.7: cannot open shared object file: No such file or directory; LD_LIBRARY_PATH: /share/apps/22.04/openmpi/4.1.5/lib:/share/apps/22.04/slurm/23.02.7/lib\n",
      "2024-04-15 17:29:07.698767: W tensorflow/stream_executor/platform/default/dso_loader.cc:64] Could not load dynamic library 'libnvinfer_plugin.so.7'; dlerror: libnvinfer_plugin.so.7: cannot open shared object file: No such file or directory; LD_LIBRARY_PATH: /share/apps/22.04/openmpi/4.1.5/lib:/share/apps/22.04/slurm/23.02.7/lib\n",
      "2024-04-15 17:29:07.698791: W tensorflow/compiler/tf2tensorrt/utils/py_utils.cc:38] TF-TRT Warning: Cannot dlopen some TensorRT libraries. If you would like to use Nvidia GPU with TensorRT, please make sure the missing libraries mentioned above are installed properly.\n"
     ]
    }
   ],
   "source": [
    "import matplotlib.pyplot as plt\n",
    "import numpy as np\n",
    "\n",
    "import gpflow\n",
    "import pandas as pd\n",
    "import os\n",
    "import matplotlib.pyplot as plt\n",
    "import re\n",
    "import numpy as np\n",
    "from scipy import stats\n",
    "import matplotlib.pyplot as plt\n",
    "import seaborn as sns\n",
    "import statsmodels.api as sm\n",
    "import time\n",
    "from sklearn.model_selection import train_test_split\n",
    "from sklearn.metrics import mean_squared_error, r2_score\n",
    "import statsmodels.api as sm\n"
   ]
  },
  {
   "cell_type": "code",
   "execution_count": 3,
   "id": "41b2746b-e8ac-40d0-91ab-6af5281c8e35",
   "metadata": {},
   "outputs": [],
   "source": [
    "def plot_2d_model(model: gpflow.models.GPModel) -> None:\n",
    "    n_grid = 50\n",
    "    _, (ax_mean, ax_std) = plt.subplots(nrows=1, ncols=2, figsize=(11, 5))\n",
    "    Xplots = np.linspace(0.0, 1.0, n_grid)\n",
    "    Xplot1, Xplot2 = np.meshgrid(Xplots, Xplots)\n",
    "    Xplot = np.stack([Xplot1, Xplot2], axis=-1)\n",
    "    Xplot = Xplot.reshape([n_grid ** 2, 2])\n",
    "\n",
    "    iv = getattr(model, \"inducing_variable\", None)\n",
    "    # Do not optimize inducing variables, so that we can better see the impact their choice has. When solving\n",
    "    # a real problem you should generally optimise your inducing points.\n",
    "    if iv is not None:\n",
    "        gpflow.set_trainable(iv, False)\n",
    "    opt = gpflow.optimizers.Scipy()\n",
    "    opt.minimize(model.training_loss, model.trainable_variables)\n",
    "\n",
    "    y_mean, y_var = model.predict_y(Xplot)\n",
    "    y_mean = y_mean.numpy()\n",
    "    y_std = tf.sqrt(y_var).numpy()\n",
    "\n",
    "    ax_mean.pcolor(Xplot1, Xplot2, y_mean.reshape(Xplot1.shape))\n",
    "    ax_std.pcolor(Xplot1, Xplot2, y_std.reshape(Xplot1.shape))\n",
    "    ax_mean.scatter(X[:, 0], X[:, 1], s=50, c=\"black\")\n",
    "    ax_std.scatter(X[:, 0], X[:, 1], s=50, c=\"black\")\n",
    "\n",
    "    # Also plot the inducing variables if possible:\n",
    "    if iv is not None:\n",
    "        ax_mean.scatter(iv.Z[:, 0], iv.Z[:, 1], marker=\"x\", color=\"red\")"
   ]
  },
  {
   "cell_type": "code",
   "execution_count": 2,
   "id": "7d52715a-d011-4756-86db-cd5e2f424f39",
   "metadata": {},
   "outputs": [
    {
     "name": "stdout",
     "output_type": "stream",
     "text": [
      "{0: 0, 5: 1, 10: 2, 15: 3, 20: 4, 25: 5, 30: 6, 35: 7, 40: 8, 45: 9, 50: 10, 55: 11, 60: 12, 65: 13, 70: 14, 75: 15, 80: 16, 85: 17, 90: 18, 95: 19, 100: 20, 125: 21, 150: 22}\n"
     ]
    },
    {
     "data": {
      "text/plain": [
       "count    287630.000000\n",
       "mean          9.834551\n",
       "std           7.873397\n",
       "min           0.000000\n",
       "25%           3.000000\n",
       "50%           8.000000\n",
       "75%          17.000000\n",
       "max          22.000000\n",
       "Name: ordinal_stand_age, dtype: float64"
      ]
     },
     "execution_count": 2,
     "metadata": {},
     "output_type": "execute_result"
    }
   ],
   "source": [
    "model_data = pd.read_csv('/home/smmrrr/TEM_Analysis/TEM_Analysis/region_3_test_model_data_conif_vegc.csv')\n",
    "unique_bins = sorted(model_data.stand_age_interval_min.unique())\n",
    "bin_to_ordinal = {bin_val: idx for idx, bin_val in (enumerate(unique_bins))}\n",
    "print(bin_to_ordinal)\n",
    "model_data['ordinal_stand_age'] = model_data['stand_age_interval_min'].map(bin_to_ordinal)\n",
    "model_data['ordinal_stand_age'].describe()\n",
    "# model_data = model_data.loc[model_data['year']>=1900]"
   ]
  },
  {
   "cell_type": "code",
   "execution_count": 3,
   "id": "485e1fdd-273c-40b4-be53-e6af65f74335",
   "metadata": {},
   "outputs": [],
   "source": [
    "variables_to_compare = ['monthly_mean', 'tswrf_v11', 'tmp', 'precip', 'dtr', 'vpr', 'wind','co2','Ndep_Trendy']\n",
    "\n",
    "base_comparison = model_data.loc[model_data['year'].between(1900,1950)].groupby(\n",
    "    ['lon','lat','ordinal_stand_age'])[variables_to_compare].mean().reset_index()\n",
    "\n",
    "\n",
    "model_data=model_data.merge(base_comparison, on = ['lon','lat','ordinal_stand_age'], suffixes = ('_ts', '_base'))\n",
    "\n",
    "# Iterate over the list of variables and create new columns in model_data for their ratios\n",
    "for var in variables_to_compare:\n",
    "    ts_column = f\"{var}_ts\"     # Time series data column name\n",
    "    base_column = f\"{var}_base\" # Baseline data column name\n",
    "    ratio_column = f\"{var}_ratio\" # Name for the new ratio column\n",
    "\n",
    "    # Compute the ratio and create a new column in model_data\n",
    "    model_data[ratio_column] = model_data[ts_column] / model_data[base_column]\n",
    "\n"
   ]
  },
  {
   "cell_type": "code",
   "execution_count": 28,
   "id": "27423bca-65a5-45cb-9d6a-9e8b90648402",
   "metadata": {},
   "outputs": [],
   "source": [
    "model_data['tmp_exp_ratio'] = np.exp(model_data['tmp_ts'])/np.exp(model_data['tmp_base'])"
   ]
  },
  {
   "cell_type": "code",
   "execution_count": 27,
   "id": "dee94a7e-b2ba-4a96-92ee-1dbc31548531",
   "metadata": {},
   "outputs": [
    {
     "data": {
      "text/plain": [
       "200       0.990101\n",
       "201       0.956772\n",
       "202       1.001381\n",
       "203       0.952671\n",
       "204       0.998304\n",
       "            ...   \n",
       "193625    1.003096\n",
       "193626    1.105263\n",
       "193627    1.202786\n",
       "193783    1.018239\n",
       "193784    1.132435\n",
       "Name: tmp_ratio, Length: 122116, dtype: float64"
      ]
     },
     "execution_count": 27,
     "metadata": {},
     "output_type": "execute_result"
    }
   ],
   "source": [
    "model_data['tmp_ratio']"
   ]
  },
  {
   "cell_type": "code",
   "execution_count": 24,
   "id": "1dc89148-2147-40a4-b44f-bc84297e488c",
   "metadata": {},
   "outputs": [
    {
     "data": {
      "text/plain": [
       "dtype('float64')"
      ]
     },
     "execution_count": 24,
     "metadata": {},
     "output_type": "execute_result"
    }
   ],
   "source": [
    "model_data['tmp_ts'].dtypes"
   ]
  },
  {
   "cell_type": "code",
   "execution_count": 63,
   "id": "2f6e42bc-75cd-4936-b10b-216ec62e1237",
   "metadata": {},
   "outputs": [
    {
     "data": {
      "text/plain": [
       "Index(['lon', 'lat', 'year', 'stand_age_interval_min', 'silt_clay',\n",
       "       'monthly_mean_ts', 'tswrf_v11_ts', 'tmp_ts', 'precip_ts', 'dtr_ts',\n",
       "       'vpr_ts', 'wind_ts', 'Ndep_Trendy_ts', 'Nfer_crop', 'Nfer_pas', 'var',\n",
       "       'Area', 'elev', 'region', 'co2_ts', 'ordinal_stand_age',\n",
       "       'monthly_mean_base', 'tswrf_v11_base', 'tmp_base', 'precip_base',\n",
       "       'dtr_base', 'vpr_base', 'wind_base', 'co2_base', 'Ndep_Trendy_base',\n",
       "       'monthly_mean_ratio', 'tswrf_v11_ratio', 'tmp_ratio', 'precip_ratio',\n",
       "       'dtr_ratio', 'vpr_ratio', 'wind_ratio', 'co2_ratio',\n",
       "       'Ndep_Trendy_ratio'],\n",
       "      dtype='object')"
      ]
     },
     "execution_count": 63,
     "metadata": {},
     "output_type": "execute_result"
    }
   ],
   "source": [
    "# model_data.loc[model_data['monthly_mean']>=30000]\n",
    "model_data.columns\n",
    "\n"
   ]
  },
  {
   "cell_type": "code",
   "execution_count": 4,
   "id": "d3ea4fc6-8649-41eb-b086-b7a7f3482077",
   "metadata": {},
   "outputs": [],
   "source": [
    "model_data = model_data.loc[model_data['year']>=1950]"
   ]
  },
  {
   "cell_type": "code",
   "execution_count": 7,
   "id": "2156dd5c-7ac4-46d1-b635-e3e42d2832d7",
   "metadata": {},
   "outputs": [
    {
     "data": {
      "text/plain": [
       "0.056462845602061426"
      ]
     },
     "execution_count": 7,
     "metadata": {},
     "output_type": "execute_result"
    }
   ],
   "source": [
    "len(model_data.loc[model_data['monthly_mean_ratio']>3])/len(model_data)"
   ]
  },
  {
   "cell_type": "code",
   "execution_count": 8,
   "id": "24284870-6b5a-44c6-9bea-48404f736ede",
   "metadata": {},
   "outputs": [],
   "source": [
    "model_data = model_data.loc[model_data['monthly_mean_ratio']<=3]"
   ]
  },
  {
   "cell_type": "code",
   "execution_count": 9,
   "id": "1745c42d-c914-4a05-b1a3-a7d6ec4bc177",
   "metadata": {},
   "outputs": [
    {
     "data": {
      "image/png": "[encoded data removed]",
      "text/plain": [
       "<Figure size 720x432 with 1 Axes>"
      ]
     },
     "metadata": {
      "needs_background": "light"
     },
     "output_type": "display_data"
    }
   ],
   "source": [
    "# Plotting a boxplot\n",
    "plt.figure(figsize=(10, 6))\n",
    "sns.boxplot(x='ordinal_stand_age', y='monthly_mean_ratio', data=model_data)\n",
    "plt.title('Distribution of Monthly Mean by Ordinal Stand Age')\n",
    "plt.xlabel('Ordinal Stand Age (Binned)')\n",
    "plt.ylabel('Monthly Mean')\n",
    "plt.show()"
   ]
  },
  {
   "cell_type": "code",
   "execution_count": 10,
   "id": "0f5377dc-8433-4ddd-ab24-76453e0ee95f",
   "metadata": {},
   "outputs": [
    {
     "data": {
      "text/plain": [
       "[<matplotlib.lines.Line2D at 0x1540efdb93f0>]"
      ]
     },
     "execution_count": 10,
     "metadata": {},
     "output_type": "execute_result"
    },
    {
     "data": {
      "image/png": "[encoded data removed]",
      "text/plain": [
       "<Figure size 432x288 with 1 Axes>"
      ]
     },
     "metadata": {
      "needs_background": "light"
     },
     "output_type": "display_data"
    }
   ],
   "source": [
    "Y = np.array(\n",
    "    model_data.monthly_mean_ratio\n",
    ")\n",
    "X = np.array(\n",
    "    model_data.co2_ratio\n",
    ")\n",
    "\n",
    "plt.plot(X, Y, \"kx\", mew=2)"
   ]
  },
  {
   "cell_type": "code",
   "execution_count": 11,
   "id": "c15a7bca-4819-420b-bd9e-079409390abb",
   "metadata": {},
   "outputs": [
    {
     "data": {
      "text/plain": [
       "[<matplotlib.lines.Line2D at 0x1540efc45ed0>]"
      ]
     },
     "execution_count": 11,
     "metadata": {},
     "output_type": "execute_result"
    },
    {
     "data": {
      "image/png": "[encoded data removed]",
      "text/plain": [
       "<Figure size 432x288 with 1 Axes>"
      ]
     },
     "metadata": {
      "needs_background": "light"
     },
     "output_type": "display_data"
    }
   ],
   "source": [
    "Y = np.array(\n",
    "    model_data.monthly_mean_ratio\n",
    ")\n",
    "X = np.array(\n",
    "    model_data.Ndep_Trendy_ratio\n",
    ")\n",
    "\n",
    "plt.plot(X, Y, \"kx\", mew=2)"
   ]
  },
  {
   "cell_type": "code",
   "execution_count": 12,
   "id": "8e10703f-2711-48a8-9823-42e9e18a5f39",
   "metadata": {},
   "outputs": [
    {
     "data": {
      "text/plain": [
       "[<matplotlib.lines.Line2D at 0x1540efcd47f0>]"
      ]
     },
     "execution_count": 12,
     "metadata": {},
     "output_type": "execute_result"
    },
    {
     "data": {
      "image/png": "[encoded data removed]",
      "text/plain": [
       "<Figure size 432x288 with 1 Axes>"
      ]
     },
     "metadata": {
      "needs_background": "light"
     },
     "output_type": "display_data"
    }
   ],
   "source": [
    "Y = np.array(\n",
    "    model_data.monthly_mean_ratio\n",
    ")\n",
    "X = np.array(\n",
    "    model_data.ordinal_stand_age\n",
    ")\n",
    "\n",
    "plt.plot(X, Y, \"kx\", mew=2)"
   ]
  },
  {
   "cell_type": "code",
   "execution_count": 13,
   "id": "d2c60b6f-528d-40c7-995d-13b5a7238a0d",
   "metadata": {},
   "outputs": [
    {
     "data": {
      "text/plain": [
       "[<matplotlib.lines.Line2D at 0x1540efb49750>]"
      ]
     },
     "execution_count": 13,
     "metadata": {},
     "output_type": "execute_result"
    },
    {
     "data": {
      "image/png": "[encoded data removed]",
      "text/plain": [
       "<Figure size 432x288 with 1 Axes>"
      ]
     },
     "metadata": {
      "needs_background": "light"
     },
     "output_type": "display_data"
    }
   ],
   "source": [
    "Y = np.array(\n",
    "    model_data.monthly_mean_ts\n",
    ")\n",
    "X = np.array(\n",
    "    model_data.tmp_ts\n",
    ")\n",
    "\n",
    "plt.plot(X, Y, \"kx\", mew=2)"
   ]
  },
  {
   "cell_type": "code",
   "execution_count": 14,
   "id": "1b074578-6217-49dc-9f40-526b54edf3df",
   "metadata": {},
   "outputs": [
    {
     "data": {
      "text/plain": [
       "[<matplotlib.lines.Line2D at 0x1540efb4ac50>]"
      ]
     },
     "execution_count": 14,
     "metadata": {},
     "output_type": "execute_result"
    },
    {
     "data": {
      "image/png": "[encoded data removed]",
      "text/plain": [
       "<Figure size 432x288 with 1 Axes>"
      ]
     },
     "metadata": {
      "needs_background": "light"
     },
     "output_type": "display_data"
    }
   ],
   "source": [
    "Y = np.array(\n",
    "    model_data.monthly_mean_ratio\n",
    ")\n",
    "X = np.array(\n",
    "    model_data.tmp_ratio\n",
    ")\n",
    "\n",
    "plt.plot(X, Y, \"kx\", mew=2)"
   ]
  },
  {
   "cell_type": "code",
   "execution_count": 15,
   "id": "46a4bd77-89fe-4541-91fc-ff94e2a224bc",
   "metadata": {},
   "outputs": [
    {
     "data": {
      "text/plain": [
       "[<matplotlib.lines.Line2D at 0x1540efa45780>]"
      ]
     },
     "execution_count": 15,
     "metadata": {},
     "output_type": "execute_result"
    },
    {
     "data": {
      "image/png": "[encoded data removed]",
      "text/plain": [
       "<Figure size 432x288 with 1 Axes>"
      ]
     },
     "metadata": {
      "needs_background": "light"
     },
     "output_type": "display_data"
    }
   ],
   "source": [
    "Y = np.array(\n",
    "    model_data.monthly_mean_ratio\n",
    ")\n",
    "X = np.array(\n",
    "    model_data.precip_ratio\n",
    ")\n",
    "\n",
    "plt.plot(X, Y, \"kx\", mew=2)"
   ]
  },
  {
   "cell_type": "code",
   "execution_count": 16,
   "id": "3ab625fa-67a1-4f40-b476-5f3e76d668a5",
   "metadata": {},
   "outputs": [
    {
     "data": {
      "text/plain": [
       "[<matplotlib.lines.Line2D at 0x1540f7f9da50>]"
      ]
     },
     "execution_count": 16,
     "metadata": {},
     "output_type": "execute_result"
    },
    {
     "data": {
      "image/png": "[encoded data removed]",
      "text/plain": [
       "<Figure size 432x288 with 1 Axes>"
      ]
     },
     "metadata": {
      "needs_background": "light"
     },
     "output_type": "display_data"
    }
   ],
   "source": [
    "Y = np.array(\n",
    "    model_data.monthly_mean_ratio\n",
    ")\n",
    "X = np.array(\n",
    "    model_data.dtr_ratio\n",
    ")\n",
    "\n",
    "plt.plot(X, Y, \"kx\", mew=2)"
   ]
  },
  {
   "cell_type": "code",
   "execution_count": 17,
   "id": "2a0f9040-cd7c-44de-ae00-72d31325cd27",
   "metadata": {},
   "outputs": [
    {
     "data": {
      "text/plain": [
       "[<matplotlib.lines.Line2D at 0x1540efa73550>]"
      ]
     },
     "execution_count": 17,
     "metadata": {},
     "output_type": "execute_result"
    },
    {
     "data": {
      "image/png": "[encoded data removed]",
      "text/plain": [
       "<Figure size 432x288 with 1 Axes>"
      ]
     },
     "metadata": {
      "needs_background": "light"
     },
     "output_type": "display_data"
    }
   ],
   "source": [
    "Y = np.array(\n",
    "    model_data.monthly_mean_ratio\n",
    ")\n",
    "X = np.array(\n",
    "    model_data.tswrf_v11_ratio\n",
    ")\n",
    "\n",
    "plt.plot(X, Y, \"kx\", mew=2)"
   ]
  },
  {
   "cell_type": "code",
   "execution_count": 18,
   "id": "88117587-973a-410a-9266-e5c7b2ff1cbf",
   "metadata": {},
   "outputs": [
    {
     "data": {
      "text/plain": [
       "[<matplotlib.lines.Line2D at 0x1540ff8439d0>]"
      ]
     },
     "execution_count": 18,
     "metadata": {},
     "output_type": "execute_result"
    },
    {
     "data": {
      "image/png": "[encoded data removed]",
      "text/plain": [
       "<Figure size 432x288 with 1 Axes>"
      ]
     },
     "metadata": {
      "needs_background": "light"
     },
     "output_type": "display_data"
    }
   ],
   "source": [
    "Y = np.array(\n",
    "    model_data.monthly_mean_ratio\n",
    ")\n",
    "X = np.array(\n",
    "    model_data.wind_ratio\n",
    ")\n",
    "\n",
    "plt.plot(X, Y, \"kx\", mew=2)"
   ]
  },
  {
   "cell_type": "code",
   "execution_count": 10,
   "id": "2293c6f5-96c7-4348-b221-2d1cc322fd6b",
   "metadata": {},
   "outputs": [
    {
     "data": {
      "text/plain": [
       "Index(['lon', 'lat', 'year', 'stand_age_interval_min', 'silt_clay',\n",
       "       'monthly_mean_ts', 'tswrf_v11_ts', 'tmp_ts', 'precip_ts', 'dtr_ts',\n",
       "       'vpr_ts', 'wind_ts', 'Ndep_Trendy_ts', 'Nfer_crop', 'Nfer_pas', 'var',\n",
       "       'Area', 'elev', 'region', 'co2_ts', 'ordinal_stand_age',\n",
       "       'monthly_mean_base', 'tswrf_v11_base', 'tmp_base', 'precip_base',\n",
       "       'dtr_base', 'vpr_base', 'wind_base', 'co2_base', 'Ndep_Trendy_base',\n",
       "       'monthly_mean_ratio', 'tswrf_v11_ratio', 'tmp_ratio', 'precip_ratio',\n",
       "       'dtr_ratio', 'vpr_ratio', 'wind_ratio', 'co2_ratio',\n",
       "       'Ndep_Trendy_ratio'],\n",
       "      dtype='object')"
      ]
     },
     "execution_count": 10,
     "metadata": {},
     "output_type": "execute_result"
    }
   ],
   "source": [
    "model_data.columns"
   ]
  },
  {
   "cell_type": "code",
   "execution_count": 19,
   "id": "c093aa5d-33d9-4546-a763-1073895c95c6",
   "metadata": {},
   "outputs": [
    {
     "name": "stdout",
     "output_type": "stream",
     "text": [
      "                                 OLS Regression Results                                \n",
      "=======================================================================================\n",
      "Dep. Variable:     monthly_mean_ratio   R-squared (uncentered):                   0.879\n",
      "Model:                            OLS   Adj. R-squared (uncentered):              0.879\n",
      "Method:                 Least Squares   F-statistic:                          7.708e+04\n",
      "Date:                Mon, 15 Apr 2024   Prob (F-statistic):                        0.00\n",
      "Time:                        17:33:04   Log-Likelihood:                         -55452.\n",
      "No. Observations:              106606   AIC:                                  1.109e+05\n",
      "Df Residuals:                  106596   BIC:                                  1.110e+05\n",
      "Df Model:                          10                                                  \n",
      "Covariance Type:            nonrobust                                                  \n",
      "==========================================================================================\n",
      "                             coef    std err          t      P>|t|      [0.025      0.975]\n",
      "------------------------------------------------------------------------------------------\n",
      "stand_age_interval_min     0.0012   2.97e-05     40.207      0.000       0.001       0.001\n",
      "silt_clay                  0.0023      0.000      8.904      0.000       0.002       0.003\n",
      "tswrf_v11_ratio           -0.1001      0.042     -2.405      0.016      -0.182      -0.019\n",
      "tmp_ratio                 -0.2111      0.055     -3.803      0.000      -0.320      -0.102\n",
      "precip_ratio               0.0411      0.007      5.978      0.000       0.028       0.055\n",
      "dtr_ratio                 -0.0260      0.017     -1.543      0.123      -0.059       0.007\n",
      "vpr_ratio                 -0.6881      0.051    -13.414      0.000      -0.789      -0.588\n",
      "wind_ratio                 0.3638      0.017     21.697      0.000       0.331       0.397\n",
      "co2_ratio                  1.5050      0.020     75.465      0.000       1.466       1.544\n",
      "Ndep_Trendy_ratio         -0.0689      0.002    -35.795      0.000      -0.073      -0.065\n",
      "==============================================================================\n",
      "Omnibus:                    15650.739   Durbin-Watson:                   0.314\n",
      "Prob(Omnibus):                  0.000   Jarque-Bera (JB):            74922.865\n",
      "Skew:                           0.638   Prob(JB):                         0.00\n",
      "Kurtosis:                       6.904   Cond. No.                     4.39e+03\n",
      "==============================================================================\n",
      "\n",
      "Notes:\n",
      "[1] R² is computed without centering (uncentered) since the model does not contain a constant.\n",
      "[2] Standard Errors assume that the covariance matrix of the errors is correctly specified.\n",
      "[3] The condition number is large, 4.39e+03. This might indicate that there are\n",
      "strong multicollinearity or other numerical problems.\n"
     ]
    }
   ],
   "source": [
    "# # Fit the model\n",
    "# model = sm.OLS(m_test1['change_variable'], m_test1[[ 'stand_age_interval_min']])\n",
    "\n",
    "\n",
    "model = sm.OLS(model_data['monthly_mean_ratio'], model_data[[ 'stand_age_interval_min', 'silt_clay','tswrf_v11_ratio', 'tmp_ratio', 'precip_ratio',\n",
    "       'dtr_ratio', 'vpr_ratio', 'wind_ratio', 'co2_ratio',\n",
    "       'Ndep_Trendy_ratio']])\n",
    "\n",
    "results = model.fit()\n",
    "\n",
    "##Print the regression results\n",
    "print(results.summary())\n"
   ]
  },
  {
   "cell_type": "code",
   "execution_count": 20,
   "id": "5a8745cc-f9f9-4e35-9664-0fa9fb3f6a3f",
   "metadata": {},
   "outputs": [
    {
     "data": {
      "text/plain": [
       "(array([ 2139.,  1509.,   660.,   423.,   484.,   311.,   407.,   391.,\n",
       "          478.,   453.,   520.,   681.,   912.,  1263.,  1920.,  3346.,\n",
       "         9218., 24432., 25536., 15395.,  6124.,  2980.,  1844.,  1266.,\n",
       "          956.,   859.,   707.,   561.,   412.,   419.]),\n",
       " array([0.        , 0.05773376, 0.11546752, 0.17320128, 0.23093504,\n",
       "        0.2886688 , 0.34640256, 0.40413632, 0.46187009, 0.51960385,\n",
       "        0.57733761, 0.63507137, 0.69280513, 0.75053889, 0.80827265,\n",
       "        0.86600641, 0.92374017, 0.98147393, 1.03920769, 1.09694145,\n",
       "        1.15467521, 1.21240897, 1.27014274, 1.3278765 , 1.38561026,\n",
       "        1.44334402, 1.50107778, 1.55881154, 1.6165453 , 1.67427906,\n",
       "        1.73201282]),\n",
       " <BarContainer object of 30 artists>)"
      ]
     },
     "execution_count": 20,
     "metadata": {},
     "output_type": "execute_result"
    },
    {
     "data": {
      "image/png": "[encoded data removed]",
      "text/plain": [
       "<Figure size 432x288 with 1 Axes>"
      ]
     },
     "metadata": {
      "needs_background": "light"
     },
     "output_type": "display_data"
    }
   ],
   "source": [
    "plt.hist(np.sqrt(model_data['monthly_mean_ratio']),bins=30)"
   ]
  },
  {
   "cell_type": "code",
   "execution_count": 40,
   "id": "bed03719-aab7-4dc0-8fbe-5f45ea1e6dbd",
   "metadata": {},
   "outputs": [
    {
     "data": {
      "text/plain": [
       "200       0.019932\n",
       "201       0.018680\n",
       "202       0.013299\n",
       "203       0.016407\n",
       "204       0.026617\n",
       "            ...   \n",
       "193625    0.346529\n",
       "193626    0.719522\n",
       "193627    1.424537\n",
       "193783   -0.018739\n",
       "193784   -0.017479\n",
       "Name: monthly_mean_ratio, Length: 122116, dtype: float64"
      ]
     },
     "execution_count": 40,
     "metadata": {},
     "output_type": "execute_result"
    }
   ],
   "source": [
    "np.log(model_data['monthly_mean_ratio'])"
   ]
  },
  {
   "cell_type": "code",
   "execution_count": 41,
   "id": "62397f85-5e56-4e4b-85e8-7938db31f813",
   "metadata": {},
   "outputs": [
    {
     "data": {
      "text/plain": [
       "count    122116.000000\n",
       "mean          1.433895\n",
       "std           1.169208\n",
       "min           0.000000\n",
       "25%           1.016156\n",
       "50%           1.161437\n",
       "75%           1.470315\n",
       "max           9.997253\n",
       "Name: monthly_mean_ratio, dtype: float64"
      ]
     },
     "execution_count": 41,
     "metadata": {},
     "output_type": "execute_result"
    }
   ],
   "source": [
    "model_data['monthly_mean_ratio'].describe()"
   ]
  },
  {
   "cell_type": "code",
   "execution_count": 21,
   "id": "c3bb29d8-2ced-474a-99b1-efcddcb459bf",
   "metadata": {},
   "outputs": [
    {
     "name": "stdout",
     "output_type": "stream",
     "text": [
      "                                 OLS Regression Results                                \n",
      "=======================================================================================\n",
      "Dep. Variable:     monthly_mean_ratio   R-squared (uncentered):                   0.935\n",
      "Model:                            OLS   Adj. R-squared (uncentered):              0.935\n",
      "Method:                 Least Squares   F-statistic:                          5.139e+05\n",
      "Date:                Mon, 15 Apr 2024   Prob (F-statistic):                        0.00\n",
      "Time:                        17:33:21   Log-Likelihood:                         -9783.3\n",
      "No. Observations:              106606   AIC:                                  1.957e+04\n",
      "Df Residuals:                  106603   BIC:                                  1.960e+04\n",
      "Df Model:                           3                                                  \n",
      "Covariance Type:            nonrobust                                                  \n",
      "=====================================================================================\n",
      "                        coef    std err          t      P>|t|      [0.025      0.975]\n",
      "-------------------------------------------------------------------------------------\n",
      "tmp_ratio             0.3097      0.011     28.818      0.000       0.289       0.331\n",
      "co2_ratio             0.5479      0.009     58.912      0.000       0.530       0.566\n",
      "ordinal_stand_age     0.0083      0.000     64.896      0.000       0.008       0.009\n",
      "==============================================================================\n",
      "Omnibus:                    39400.877   Durbin-Watson:                   0.232\n",
      "Prob(Omnibus):                  0.000   Jarque-Bera (JB):           167710.115\n",
      "Skew:                          -1.798   Prob(JB):                         0.00\n",
      "Kurtosis:                       7.982   Cond. No.                         178.\n",
      "==============================================================================\n",
      "\n",
      "Notes:\n",
      "[1] R² is computed without centering (uncentered) since the model does not contain a constant.\n",
      "[2] Standard Errors assume that the covariance matrix of the errors is correctly specified.\n"
     ]
    }
   ],
   "source": [
    "\n",
    "\n",
    "model = sm.OLS(np.sqrt(model_data['monthly_mean_ratio']), model_data[[ 'tmp_ratio','co2_ratio','ordinal_stand_age']])\n",
    "\n",
    "results = model.fit()\n",
    "\n",
    "##Print the regression results\n",
    "print(results.summary())\n"
   ]
  },
  {
   "cell_type": "code",
   "execution_count": 22,
   "id": "3f9dc296-2709-4f53-9fc1-86f80501fceb",
   "metadata": {},
   "outputs": [
    {
     "name": "stdout",
     "output_type": "stream",
     "text": [
      "                                 OLS Regression Results                                \n",
      "=======================================================================================\n",
      "Dep. Variable:     monthly_mean_ratio   R-squared (uncentered):                   0.874\n",
      "Model:                            OLS   Adj. R-squared (uncentered):              0.874\n",
      "Method:                 Least Squares   F-statistic:                          1.964e+05\n",
      "Date:                Mon, 15 Apr 2024   Prob (F-statistic):                        0.00\n",
      "Time:                        17:33:43   Log-Likelihood:                         -46092.\n",
      "No. Observations:               85284   AIC:                                  9.219e+04\n",
      "Df Residuals:                   85281   BIC:                                  9.222e+04\n",
      "Df Model:                           3                                                  \n",
      "Covariance Type:            nonrobust                                                  \n",
      "=====================================================================================\n",
      "                        coef    std err          t      P>|t|      [0.025      0.975]\n",
      "-------------------------------------------------------------------------------------\n",
      "tmp_ratio            -0.1467      0.019     -7.790      0.000      -0.184      -0.110\n",
      "co2_ratio             1.0153      0.016     62.270      0.000       0.983       1.047\n",
      "ordinal_stand_age     0.0089      0.000     40.047      0.000       0.009       0.009\n",
      "==============================================================================\n",
      "Omnibus:                     7654.354   Durbin-Watson:                   1.987\n",
      "Prob(Omnibus):                  0.000   Jarque-Bera (JB):            46999.090\n",
      "Skew:                           0.192   Prob(JB):                         0.00\n",
      "Kurtosis:                       6.616   Cond. No.                         178.\n",
      "==============================================================================\n",
      "\n",
      "Notes:\n",
      "[1] R² is computed without centering (uncentered) since the model does not contain a constant.\n",
      "[2] Standard Errors assume that the covariance matrix of the errors is correctly specified.\n",
      "Root Mean Squared Error (RMSE): 0.42167765700617277\n",
      "R-squared (R2): 0.04568161280074656\n"
     ]
    }
   ],
   "source": [
    "# Define the features and target variable\n",
    "X = model_data[['tmp_ratio', 'co2_ratio', 'ordinal_stand_age']]\n",
    "Y = (model_data['monthly_mean_ratio'])\n",
    "# Y = np.sqrt(model_data['monthly_mean_ratio'])\n",
    "\n",
    "# Split the data into training and testing sets (80% train, 20% test)\n",
    "# randomness can be controlled with a defined `random_state`\n",
    "X_train, X_test, Y_train, Y_test = train_test_split(X, Y, test_size=0.2, random_state=42)\n",
    "\n",
    "# # Add a constant to the predictor variable set to include an intercept in the model\n",
    "# X_train = sm.add_constant(X_train)\n",
    "# X_test = sm.add_constant(X_test)\n",
    "\n",
    "# Fit the OLS model using statsmodels on the training data\n",
    "model = sm.OLS(Y_train, X_train)\n",
    "results = model.fit()\n",
    "\n",
    "# Print the regression results\n",
    "print(results.summary())\n",
    "\n",
    "# Make predictions on the testing data\n",
    "Y_pred = results.predict(X_test)\n",
    "\n",
    "# Calculate RMSE and R² for the predictions\n",
    "rmse = np.sqrt(mean_squared_error(Y_test, Y_pred))\n",
    "r2 = r2_score(Y_test, Y_pred)\n",
    "\n",
    "print(f\"Root Mean Squared Error (RMSE): {rmse}\")\n",
    "print(f\"R-squared (R2): {r2}\")"
   ]
  },
  {
   "cell_type": "code",
   "execution_count": 23,
   "id": "e3912e76-1254-47af-9b1c-82d5e36d36f1",
   "metadata": {},
   "outputs": [
    {
     "ename": "AttributeError",
     "evalue": "'DataFrame' object has no attribute 'monthly_mean'",
     "output_type": "error",
     "traceback": [
      "\u001b[0;31m---------------------------------------------------------------------------\u001b[0m",
      "\u001b[0;31mAttributeError\u001b[0m                            Traceback (most recent call last)",
      "\u001b[0;32m/tmp/ipykernel_2060244/1960987404.py\u001b[0m in \u001b[0;36m<cell line: 1>\u001b[0;34m()\u001b[0m\n\u001b[1;32m      1\u001b[0m Y = np.array(\n\u001b[0;32m----> 2\u001b[0;31m     \u001b[0mmodel_data\u001b[0m\u001b[0;34m.\u001b[0m\u001b[0mmonthly_mean\u001b[0m\u001b[0;34m\u001b[0m\u001b[0;34m\u001b[0m\u001b[0m\n\u001b[0m\u001b[1;32m      3\u001b[0m )\n\u001b[1;32m      4\u001b[0m X = np.array(\n\u001b[1;32m      5\u001b[0m     \u001b[0mmodel_data\u001b[0m\u001b[0;34m.\u001b[0m\u001b[0mprecip\u001b[0m\u001b[0;34m\u001b[0m\u001b[0;34m\u001b[0m\u001b[0m\n",
      "\u001b[0;32m~/miniconda3/envs/condaforge/lib/python3.10/site-packages/pandas/core/generic.py\u001b[0m in \u001b[0;36m__getattr__\u001b[0;34m(self, name)\u001b[0m\n\u001b[1;32m   5573\u001b[0m         ):\n\u001b[1;32m   5574\u001b[0m             \u001b[0;32mreturn\u001b[0m \u001b[0mself\u001b[0m\u001b[0;34m[\u001b[0m\u001b[0mname\u001b[0m\u001b[0;34m]\u001b[0m\u001b[0;34m\u001b[0m\u001b[0;34m\u001b[0m\u001b[0m\n\u001b[0;32m-> 5575\u001b[0;31m         \u001b[0;32mreturn\u001b[0m \u001b[0mobject\u001b[0m\u001b[0;34m.\u001b[0m\u001b[0m__getattribute__\u001b[0m\u001b[0;34m(\u001b[0m\u001b[0mself\u001b[0m\u001b[0;34m,\u001b[0m \u001b[0mname\u001b[0m\u001b[0;34m)\u001b[0m\u001b[0;34m\u001b[0m\u001b[0;34m\u001b[0m\u001b[0m\n\u001b[0m\u001b[1;32m   5576\u001b[0m \u001b[0;34m\u001b[0m\u001b[0m\n\u001b[1;32m   5577\u001b[0m     \u001b[0;32mdef\u001b[0m \u001b[0m__setattr__\u001b[0m\u001b[0;34m(\u001b[0m\u001b[0mself\u001b[0m\u001b[0;34m,\u001b[0m \u001b[0mname\u001b[0m\u001b[0;34m:\u001b[0m \u001b[0mstr\u001b[0m\u001b[0;34m,\u001b[0m \u001b[0mvalue\u001b[0m\u001b[0;34m)\u001b[0m \u001b[0;34m->\u001b[0m \u001b[0;32mNone\u001b[0m\u001b[0;34m:\u001b[0m\u001b[0;34m\u001b[0m\u001b[0;34m\u001b[0m\u001b[0m\n",
      "\u001b[0;31mAttributeError\u001b[0m: 'DataFrame' object has no attribute 'monthly_mean'"
     ]
    }
   ],
   "source": [
    "Y = np.array(\n",
    "    model_data.monthly_mean\n",
    ")\n",
    "X = np.array(\n",
    "    model_data.precip\n",
    ")\n",
    "\n",
    "plt.plot(X, Y, \"kx\", mew=2)"
   ]
  },
  {
   "cell_type": "code",
   "execution_count": 26,
   "id": "98b131c4-b655-4f72-8240-e34c7490ef89",
   "metadata": {},
   "outputs": [],
   "source": [
    "Y = np.array(\n",
    "    # model_data.loc[model_data['year']>=2021, 'monthly_mean_ratio']\n",
    "    model_data['monthly_mean_ratio']\n",
    ")\n",
    "X = np.array(\n",
    "     # model_data.loc[model_data['year']>=2020,['ordinal_stand_age']]\n",
    "     model_data[['ordinal_stand_age','tmp_ratio']]\n",
    ")\n",
    "Y=Y.reshape(len(Y),1)"
   ]
  },
  {
   "cell_type": "code",
   "execution_count": 89,
   "id": "d62c60dc-0e20-4ca4-910d-9d15e9a8ae21",
   "metadata": {},
   "outputs": [
    {
     "name": "stdout",
     "output_type": "stream",
     "text": [
      "y:  983  x:  983\n"
     ]
    }
   ],
   "source": [
    "print('y: ',len(Y),' x: ',len(X) )"
   ]
  },
  {
   "cell_type": "code",
   "execution_count": 26,
   "id": "26036f2b-bcaa-40d9-b410-1b02947c3a04",
   "metadata": {},
   "outputs": [],
   "source": []
  },
  {
   "cell_type": "code",
   "execution_count": 31,
   "id": "13cbc824-4207-40b5-a5de-84b42e4be716",
   "metadata": {},
   "outputs": [
    {
     "data": {
      "text/plain": [
       "array([[ 0.        ,  1.0572591 ],\n",
       "       [ 0.        ,  1.0336733 ],\n",
       "       [ 1.        ,  1.05742267],\n",
       "       ...,\n",
       "       [22.        ,  1.34877878],\n",
       "       [ 0.        ,  1.35281711],\n",
       "       [ 0.        ,  1.32118108]])"
      ]
     },
     "execution_count": 31,
     "metadata": {},
     "output_type": "execute_result"
    }
   ],
   "source": [
    "X"
   ]
  },
  {
   "cell_type": "code",
   "execution_count": 24,
   "id": "91fc05cd-a4e5-476f-bba2-702924f7c610",
   "metadata": {},
   "outputs": [
    {
     "name": "stderr",
     "output_type": "stream",
     "text": [
      "2024-04-15 17:34:13.756170: E tensorflow/stream_executor/cuda/cuda_driver.cc:265] failed call to cuInit: CUDA_ERROR_NO_DEVICE: no CUDA-capable device is detected\n",
      "2024-04-15 17:34:13.756281: I tensorflow/stream_executor/cuda/cuda_diagnostics.cc:156] kernel driver does not appear to be running on this host (bm8): /proc/driver/nvidia/version does not exist\n",
      "2024-04-15 17:34:13.760307: I tensorflow/core/platform/cpu_feature_guard.cc:193] This TensorFlow binary is optimized with oneAPI Deep Neural Network Library (oneDNN) to use the following CPU instructions in performance-critical operations:  AVX2 FMA\n",
      "To enable them in other operations, rebuild TensorFlow with the appropriate compiler flags.\n"
     ]
    },
    {
     "ename": "ShapeMismatchError",
     "evalue": "\nTensor shape mismatch.\n  Function: GPR_deprecated.__init__\n    Declared: /home/smmrrr/miniconda3/envs/condaforge/lib/python3.10/site-packages/gpflow/models/gpr.py:59\n    Argument: data\n      Index: [0]\n        Expected: [N, D]\n        Actual:   [106606, 3]\n      Index: [1]\n        Expected: [N, P]\n        Actual:   [106606]\n    Argument: noise_variance\n      Expected: []\n      Actual:   <Tensor is None or has unknown shape>\n",
     "output_type": "error",
     "traceback": [
      "\u001b[0;31m---------------------------------------------------------------------------\u001b[0m",
      "\u001b[0;31mShapeMismatchError\u001b[0m                        Traceback (most recent call last)",
      "\u001b[0;32m/tmp/ipykernel_2060244/3943076644.py\u001b[0m in \u001b[0;36m<cell line: 1>\u001b[0;34m()\u001b[0m\n\u001b[0;32m----> 1\u001b[0;31m model = gpflow.models.GPR(\n\u001b[0m\u001b[1;32m      2\u001b[0m     \u001b[0;34m(\u001b[0m\u001b[0mX\u001b[0m\u001b[0;34m,\u001b[0m \u001b[0mY\u001b[0m\u001b[0;34m)\u001b[0m\u001b[0;34m,\u001b[0m\u001b[0;34m\u001b[0m\u001b[0;34m\u001b[0m\u001b[0m\n\u001b[1;32m      3\u001b[0m     \u001b[0mkernel\u001b[0m\u001b[0;34m=\u001b[0m\u001b[0mgpflow\u001b[0m\u001b[0;34m.\u001b[0m\u001b[0mkernels\u001b[0m\u001b[0;34m.\u001b[0m\u001b[0mSquaredExponential\u001b[0m\u001b[0;34m(\u001b[0m\u001b[0;34m)\u001b[0m\u001b[0;34m,\u001b[0m\u001b[0;34m\u001b[0m\u001b[0;34m\u001b[0m\u001b[0m\n\u001b[1;32m      4\u001b[0m )\n\u001b[1;32m      5\u001b[0m \u001b[0;31m# plot_2d_model(model)\u001b[0m\u001b[0;34m\u001b[0m\u001b[0;34m\u001b[0m\u001b[0m\n",
      "\u001b[0;32m~/miniconda3/envs/condaforge/lib/python3.10/site-packages/check_shapes/integration/tf.py\u001b[0m in \u001b[0;36mwrapped_method\u001b[0;34m(self, *args, **kwargs)\u001b[0m\n\u001b[1;32m     74\u001b[0m \u001b[0;34m\u001b[0m\u001b[0m\n\u001b[1;32m     75\u001b[0m                 \u001b[0;32mdef\u001b[0m \u001b[0mwrapped_method\u001b[0m\u001b[0;34m(\u001b[0m\u001b[0mself\u001b[0m\u001b[0;34m:\u001b[0m \u001b[0mAny\u001b[0m\u001b[0;34m,\u001b[0m \u001b[0;34m*\u001b[0m\u001b[0margs\u001b[0m\u001b[0;34m:\u001b[0m \u001b[0mAny\u001b[0m\u001b[0;34m,\u001b[0m \u001b[0;34m**\u001b[0m\u001b[0mkwargs\u001b[0m\u001b[0;34m:\u001b[0m \u001b[0mAny\u001b[0m\u001b[0;34m)\u001b[0m \u001b[0;34m->\u001b[0m \u001b[0mAny\u001b[0m\u001b[0;34m:\u001b[0m\u001b[0;34m\u001b[0m\u001b[0;34m\u001b[0m\u001b[0m\n\u001b[0;32m---> 76\u001b[0;31m                     \u001b[0;32mreturn\u001b[0m \u001b[0mwrapped_function\u001b[0m\u001b[0;34m(\u001b[0m\u001b[0mself\u001b[0m\u001b[0;34m,\u001b[0m \u001b[0;34m*\u001b[0m\u001b[0margs\u001b[0m\u001b[0;34m,\u001b[0m \u001b[0;34m**\u001b[0m\u001b[0mkwargs\u001b[0m\u001b[0;34m)\u001b[0m\u001b[0;34m\u001b[0m\u001b[0;34m\u001b[0m\u001b[0m\n\u001b[0m\u001b[1;32m     77\u001b[0m \u001b[0;34m\u001b[0m\u001b[0m\n\u001b[1;32m     78\u001b[0m                 \u001b[0mwrapped\u001b[0m \u001b[0;34m=\u001b[0m \u001b[0mwrapped_method\u001b[0m\u001b[0;34m\u001b[0m\u001b[0;34m\u001b[0m\u001b[0m\n",
      "\u001b[0;32m~/miniconda3/envs/condaforge/lib/python3.10/site-packages/check_shapes/decorator.py\u001b[0m in \u001b[0;36mwrapped_function\u001b[0;34m(*args, **kwargs)\u001b[0m\n\u001b[1;32m    186\u001b[0m                 \u001b[0mchecker\u001b[0m\u001b[0;34m.\u001b[0m\u001b[0mcheck_shapes\u001b[0m\u001b[0;34m(\u001b[0m\u001b[0mprocessed_specs\u001b[0m\u001b[0;34m)\u001b[0m\u001b[0;34m\u001b[0m\u001b[0;34m\u001b[0m\u001b[0m\n\u001b[1;32m    187\u001b[0m \u001b[0;34m\u001b[0m\u001b[0m\n\u001b[0;32m--> 188\u001b[0;31m             \u001b[0m_check_specs\u001b[0m\u001b[0;34m(\u001b[0m\u001b[0mpre_specs\u001b[0m\u001b[0;34m)\u001b[0m\u001b[0;34m\u001b[0m\u001b[0;34m\u001b[0m\u001b[0m\n\u001b[0m\u001b[1;32m    189\u001b[0m \u001b[0;34m\u001b[0m\u001b[0m\n\u001b[1;32m    190\u001b[0m             \u001b[0;32mwith\u001b[0m \u001b[0mset_shape_checker\u001b[0m\u001b[0;34m(\u001b[0m\u001b[0mchecker\u001b[0m\u001b[0;34m)\u001b[0m\u001b[0;34m:\u001b[0m\u001b[0;34m\u001b[0m\u001b[0;34m\u001b[0m\u001b[0m\n",
      "\u001b[0;32m~/miniconda3/envs/condaforge/lib/python3.10/site-packages/check_shapes/decorator.py\u001b[0m in \u001b[0;36m_check_specs\u001b[0;34m(specs)\u001b[0m\n\u001b[1;32m    184\u001b[0m                         \u001b[0mprocessed_specs\u001b[0m\u001b[0;34m.\u001b[0m\u001b[0mappend\u001b[0m\u001b[0;34m(\u001b[0m\u001b[0;34m(\u001b[0m\u001b[0marg_value\u001b[0m\u001b[0;34m,\u001b[0m \u001b[0marg_spec\u001b[0m\u001b[0;34m.\u001b[0m\u001b[0mtensor\u001b[0m\u001b[0;34m,\u001b[0m \u001b[0marg_context\u001b[0m\u001b[0;34m)\u001b[0m\u001b[0;34m)\u001b[0m\u001b[0;34m\u001b[0m\u001b[0;34m\u001b[0m\u001b[0m\n\u001b[1;32m    185\u001b[0m \u001b[0;34m\u001b[0m\u001b[0m\n\u001b[0;32m--> 186\u001b[0;31m                 \u001b[0mchecker\u001b[0m\u001b[0;34m.\u001b[0m\u001b[0mcheck_shapes\u001b[0m\u001b[0;34m(\u001b[0m\u001b[0mprocessed_specs\u001b[0m\u001b[0;34m)\u001b[0m\u001b[0;34m\u001b[0m\u001b[0;34m\u001b[0m\u001b[0m\n\u001b[0m\u001b[1;32m    187\u001b[0m \u001b[0;34m\u001b[0m\u001b[0m\n\u001b[1;32m    188\u001b[0m             \u001b[0m_check_specs\u001b[0m\u001b[0;34m(\u001b[0m\u001b[0mpre_specs\u001b[0m\u001b[0;34m)\u001b[0m\u001b[0;34m\u001b[0m\u001b[0;34m\u001b[0m\u001b[0m\n",
      "\u001b[0;32m~/miniconda3/envs/condaforge/lib/python3.10/site-packages/check_shapes/checker.py\u001b[0m in \u001b[0;36mcheck_shapes\u001b[0;34m(self, checks)\u001b[0m\n\u001b[1;32m    309\u001b[0m             \u001b[0;31m# Note that self._match_dims may not be able to match all dims. If that is the case it\u001b[0m\u001b[0;34m\u001b[0m\u001b[0;34m\u001b[0m\u001b[0m\n\u001b[1;32m    310\u001b[0m             \u001b[0;31m# adds the check to `_VariableState.waiting_for_varrank`:\u001b[0m\u001b[0;34m\u001b[0m\u001b[0;34m\u001b[0m\u001b[0m\n\u001b[0;32m--> 311\u001b[0;31m             \u001b[0mdim_checks\u001b[0m \u001b[0;34m=\u001b[0m \u001b[0mself\u001b[0m\u001b[0;34m.\u001b[0m\u001b[0m_match_dims\u001b[0m\u001b[0;34m(\u001b[0m\u001b[0mshape_check\u001b[0m\u001b[0;34m)\u001b[0m\u001b[0;34m\u001b[0m\u001b[0;34m\u001b[0m\u001b[0m\n\u001b[0m\u001b[1;32m    312\u001b[0m             \u001b[0;32mfor\u001b[0m \u001b[0mdim_spec\u001b[0m\u001b[0;34m,\u001b[0m \u001b[0mactual_dims\u001b[0m\u001b[0;34m,\u001b[0m \u001b[0mshape_possibly_truncated\u001b[0m \u001b[0;32min\u001b[0m \u001b[0mdim_checks\u001b[0m\u001b[0;34m:\u001b[0m\u001b[0;34m\u001b[0m\u001b[0;34m\u001b[0m\u001b[0m\n\u001b[1;32m    313\u001b[0m                 \u001b[0;31m# Note that self._check_dim may revive checks from\u001b[0m\u001b[0;34m\u001b[0m\u001b[0;34m\u001b[0m\u001b[0m\n",
      "\u001b[0;32m~/miniconda3/envs/condaforge/lib/python3.10/site-packages/check_shapes/checker.py\u001b[0m in \u001b[0;36m_match_dims\u001b[0;34m(self, shape_check)\u001b[0m\n\u001b[1;32m    470\u001b[0m \u001b[0;34m\u001b[0m\u001b[0m\n\u001b[1;32m    471\u001b[0m         \u001b[0;32mif\u001b[0m \u001b[0mn_unknown\u001b[0m \u001b[0;34m==\u001b[0m \u001b[0;36m0\u001b[0m\u001b[0;34m:\u001b[0m\u001b[0;34m\u001b[0m\u001b[0;34m\u001b[0m\u001b[0m\n\u001b[0;32m--> 472\u001b[0;31m             \u001b[0mself\u001b[0m\u001b[0;34m.\u001b[0m\u001b[0m_assert\u001b[0m\u001b[0;34m(\u001b[0m\u001b[0munallocated_len\u001b[0m \u001b[0;34m==\u001b[0m \u001b[0;36m0\u001b[0m\u001b[0;34m)\u001b[0m\u001b[0;34m\u001b[0m\u001b[0;34m\u001b[0m\u001b[0m\n\u001b[0m\u001b[1;32m    473\u001b[0m         \u001b[0;32melse\u001b[0m\u001b[0;34m:\u001b[0m\u001b[0;34m\u001b[0m\u001b[0;34m\u001b[0m\u001b[0m\n\u001b[1;32m    474\u001b[0m             \u001b[0mself\u001b[0m\u001b[0;34m.\u001b[0m\u001b[0m_assert\u001b[0m\u001b[0;34m(\u001b[0m\u001b[0munallocated_len\u001b[0m \u001b[0;34m>=\u001b[0m \u001b[0;36m0\u001b[0m\u001b[0;34m)\u001b[0m\u001b[0;34m\u001b[0m\u001b[0;34m\u001b[0m\u001b[0m\n",
      "\u001b[0;32m~/miniconda3/envs/condaforge/lib/python3.10/site-packages/check_shapes/checker.py\u001b[0m in \u001b[0;36m_assert\u001b[0;34m(self, condition)\u001b[0m\n\u001b[1;32m    605\u001b[0m                     )\n\u001b[1;32m    606\u001b[0m                 \u001b[0mcontexts\u001b[0m\u001b[0;34m.\u001b[0m\u001b[0mappend\u001b[0m\u001b[0;34m(\u001b[0m\u001b[0mStackContext\u001b[0m\u001b[0;34m(\u001b[0m\u001b[0mcontext\u001b[0m\u001b[0;34m,\u001b[0m \u001b[0mshape_error_context\u001b[0m\u001b[0;34m)\u001b[0m\u001b[0;34m)\u001b[0m\u001b[0;34m\u001b[0m\u001b[0;34m\u001b[0m\u001b[0m\n\u001b[0;32m--> 607\u001b[0;31m             \u001b[0;32mraise\u001b[0m \u001b[0mShapeMismatchError\u001b[0m\u001b[0;34m(\u001b[0m\u001b[0mParallelContext\u001b[0m\u001b[0;34m(\u001b[0m\u001b[0mtuple\u001b[0m\u001b[0;34m(\u001b[0m\u001b[0mcontexts\u001b[0m\u001b[0;34m)\u001b[0m\u001b[0;34m)\u001b[0m\u001b[0;34m)\u001b[0m\u001b[0;34m\u001b[0m\u001b[0;34m\u001b[0m\u001b[0m\n\u001b[0m",
      "\u001b[0;31mShapeMismatchError\u001b[0m: \nTensor shape mismatch.\n  Function: GPR_deprecated.__init__\n    Declared: /home/smmrrr/miniconda3/envs/condaforge/lib/python3.10/site-packages/gpflow/models/gpr.py:59\n    Argument: data\n      Index: [0]\n        Expected: [N, D]\n        Actual:   [106606, 3]\n      Index: [1]\n        Expected: [N, P]\n        Actual:   [106606]\n    Argument: noise_variance\n      Expected: []\n      Actual:   <Tensor is None or has unknown shape>\n"
     ]
    }
   ],
   "source": [
    "model = gpflow.models.GPR(\n",
    "    (X, Y),\n",
    "    kernel=gpflow.kernels.SquaredExponential(),\n",
    ")\n",
    "# plot_2d_model(model)"
   ]
  },
  {
   "cell_type": "code",
   "execution_count": 30,
   "id": "f19e4f38-023a-423d-b721-22799a19ea96",
   "metadata": {},
   "outputs": [
    {
     "data": {
      "text/html": [
       "<table>\n",
       "<thead>\n",
       "<tr><th>name                   </th><th>class    </th><th>transform       </th><th>prior  </th><th>trainable  </th><th>shape  </th><th>dtype  </th><th style=\"text-align: right;\">  value</th></tr>\n",
       "</thead>\n",
       "<tbody>\n",
       "<tr><td>GPR.kernel.variance    </td><td>Parameter</td><td>Softplus        </td><td>       </td><td>True       </td><td>()     </td><td>float64</td><td style=\"text-align: right;\">      1</td></tr>\n",
       "<tr><td>GPR.kernel.lengthscales</td><td>Parameter</td><td>Softplus        </td><td>       </td><td>True       </td><td>()     </td><td>float64</td><td style=\"text-align: right;\">      1</td></tr>\n",
       "<tr><td>GPR.likelihood.variance</td><td>Parameter</td><td>Softplus + Shift</td><td>       </td><td>True       </td><td>()     </td><td>float64</td><td style=\"text-align: right;\">      1</td></tr>\n",
       "</tbody>\n",
       "</table>"
      ],
      "text/plain": [
       "<IPython.core.display.HTML object>"
      ]
     },
     "metadata": {},
     "output_type": "display_data"
    }
   ],
   "source": [
    "gpflow.utilities.print_summary(model, \"notebook\")"
   ]
  },
  {
   "cell_type": "code",
   "execution_count": 86,
   "id": "f9bac3cd-69c3-4b42-9c0d-3f8baa0d3383",
   "metadata": {},
   "outputs": [],
   "source": [
    "model = gpflow.models.GPR(\n",
    "    (X, Y),\n",
    "    kernel=gpflow.kernels.RBF()\n",
    ")"
   ]
  },
  {
   "cell_type": "code",
   "execution_count": 59,
   "id": "fdb2b3eb-75f3-4e05-aa71-94464c46fe89",
   "metadata": {},
   "outputs": [
    {
     "data": {
      "text/plain": [
       "<map at 0x6b98da19d50>"
      ]
     },
     "execution_count": 59,
     "metadata": {},
     "output_type": "execute_result"
    }
   ],
   "source": [
    "iter(model_data)"
   ]
  },
  {
   "cell_type": "code",
   "execution_count": null,
   "id": "accc0e21-cfde-4a5a-9d58-fc26fa900cc9",
   "metadata": {},
   "outputs": [],
   "source": [
    "import tensorflow as tf\n",
    "\n",
    "start_time = time.time()\n",
    "# Instantiate an Adam optimizer with a set learning rate\n",
    "adam_optimizer = tf.optimizers.Adam(learning_rate=0.01)\n",
    "\n",
    "# Run the optimization loop\n",
    "# Perform a number of optimization steps\n",
    "num_iterations = 1000  # Choose an appropriate number of iterations for your problem\n",
    "for i in range(num_iterations):\n",
    "    adam_optimizer.minimize(model.training_loss, model.trainable_variables)\n",
    "    if (i % 100 ==0):\n",
    "        print(i)\n",
    "        elapsed_time_minutes = (time.time() - start_time) / 60\n",
    "        print(f\"Elapsed time: {elapsed_time_minutes:.2f} minutes\")"
   ]
  },
  {
   "cell_type": "code",
   "execution_count": 62,
   "id": "04f238f9-393b-4807-b58c-eee039d4e6cb",
   "metadata": {},
   "outputs": [
    {
     "data": {
      "text/html": [
       "<table>\n",
       "<thead>\n",
       "<tr><th>name                   </th><th>class    </th><th>transform       </th><th>prior  </th><th>trainable  </th><th>shape  </th><th>dtype  </th><th style=\"text-align: right;\">     value</th></tr>\n",
       "</thead>\n",
       "<tbody>\n",
       "<tr><td>GPR.kernel.variance    </td><td>Parameter</td><td>Softplus        </td><td>       </td><td>True       </td><td>()     </td><td>float64</td><td style=\"text-align: right;\">13.3541   </td></tr>\n",
       "<tr><td>GPR.kernel.lengthscales</td><td>Parameter</td><td>Softplus        </td><td>       </td><td>True       </td><td>()     </td><td>float64</td><td style=\"text-align: right;\"> 0.0608721</td></tr>\n",
       "<tr><td>GPR.likelihood.variance</td><td>Parameter</td><td>Softplus + Shift</td><td>       </td><td>True       </td><td>()     </td><td>float64</td><td style=\"text-align: right;\"> 0.490557 </td></tr>\n",
       "</tbody>\n",
       "</table>"
      ],
      "text/plain": [
       "<IPython.core.display.HTML object>"
      ]
     },
     "metadata": {},
     "output_type": "display_data"
    }
   ],
   "source": [
    "gpflow.utilities.print_summary(model, \"notebook\")"
   ]
  },
  {
   "cell_type": "code",
   "execution_count": 63,
   "id": "b070deeb-78ee-4995-8942-a9fc18e2390a",
   "metadata": {},
   "outputs": [
    {
     "name": "stdout",
     "output_type": "stream",
     "text": [
      "0.3374905215889874\n"
     ]
    }
   ],
   "source": [
    "mean, var = model.predict_y(np.array(\n",
    "     model_data.loc[model_data['year'].between(1950,2020),['ordinal_stand_age','tmp_ratio']]\n",
    "))\n",
    "\n",
    "Y_pred = mean.numpy().flatten()\n",
    "Y_true = np.array(model_data.loc[model_data['year'].between(1950,2020),'monthly_mean_ratio'])\n",
    "\n",
    "# Calculate the sum of squares of residuals\n",
    "SS_res = np.sum((Y_true - Y_pred) ** 2)\n",
    "\n",
    "# Calculate the total sum of squares\n",
    "SS_tot = np.sum((Y_true - np.mean(Y_true)) ** 2)\n",
    "\n",
    "# Calculate the R² score\n",
    "r2_score = 1 - (SS_res / SS_tot)\n",
    "\n",
    "print(r2_score)\n",
    "\n"
   ]
  },
  {
   "cell_type": "code",
   "execution_count": 77,
   "id": "ab652785-b645-429b-83a0-5445f24d217f",
   "metadata": {},
   "outputs": [],
   "source": [
    "Y = np.array(\n",
    "    model_data.loc[:, 'monthly_mean_ratio']\n",
    ")\n",
    "X = np.array(\n",
    "     # model_data.loc[model_data['year']>=2020,['ordinal_stand_age']]\n",
    "     model_data.loc[:,['ordinal_stand_age','tmp_ratio']]\n",
    ")\n",
    "Y = Y.reshape(len(Y),1)"
   ]
  },
  {
   "cell_type": "code",
   "execution_count": 27,
   "id": "2b69cff4-e4fd-4b9e-811a-ed084bdc209d",
   "metadata": {},
   "outputs": [],
   "source": [
    "rng = np.random.default_rng(1234)\n",
    "n_inducing = 500\n",
    "inducing_variable = rng.choice(X, size=n_inducing, replace=False)\n"
   ]
  },
  {
   "cell_type": "code",
   "execution_count": 28,
   "id": "71234090-f110-4bda-9539-7e4e2528cb4e",
   "metadata": {},
   "outputs": [
    {
     "data": {
      "text/plain": [
       "array([[ 0.        ,  0.97369562],\n",
       "       [10.        ,  1.03037599],\n",
       "       [ 6.        ,  1.00344328],\n",
       "       [ 4.        ,  0.98116537],\n",
       "       [ 6.        ,  0.99468177],\n",
       "       [ 5.        ,  1.0109182 ],\n",
       "       [ 6.        ,  1.03422422],\n",
       "       [ 7.        ,  0.99577295],\n",
       "       [22.        ,  1.06186888],\n",
       "       [ 5.        ,  0.99334359],\n",
       "       [ 9.        ,  0.95846512],\n",
       "       [ 3.        ,  1.03378378],\n",
       "       [ 7.        ,  0.97867095],\n",
       "       [ 9.        ,  1.03946602],\n",
       "       [ 5.        ,  0.99502138],\n",
       "       [ 2.        ,  0.99029126],\n",
       "       [ 4.        ,  0.97055919],\n",
       "       [ 3.        ,  0.99606956],\n",
       "       [ 7.        ,  1.03492243],\n",
       "       [22.        ,  1.00432253],\n",
       "       [ 2.        ,  1.06561756],\n",
       "       [12.        ,  0.99854079],\n",
       "       [ 0.        ,  1.01905594],\n",
       "       [ 0.        ,  1.05589369],\n",
       "       [13.        ,  0.98222426],\n",
       "       [ 8.        ,  0.99277151],\n",
       "       [13.        ,  1.02687869],\n",
       "       [ 1.        ,  0.99072848],\n",
       "       [ 4.        ,  0.96417673],\n",
       "       [12.        ,  0.9961676 ],\n",
       "       [ 3.        ,  1.0081692 ],\n",
       "       [ 4.        ,  1.06201718],\n",
       "       [10.        ,  1.01896202],\n",
       "       [ 7.        ,  1.06228356],\n",
       "       [ 2.        ,  1.04787545],\n",
       "       [11.        ,  1.04256854],\n",
       "       [ 1.        ,  0.92846138],\n",
       "       [ 6.        ,  1.00855263],\n",
       "       [ 5.        ,  0.9902236 ],\n",
       "       [12.        ,  0.96440523],\n",
       "       [ 7.        ,  0.97769386],\n",
       "       [ 7.        ,  1.01922345],\n",
       "       [ 4.        ,  1.01650415],\n",
       "       [ 8.        ,  0.9675545 ],\n",
       "       [12.        ,  0.93211112],\n",
       "       [ 9.        ,  1.01017675],\n",
       "       [ 7.        ,  0.99807249],\n",
       "       [22.        ,  0.99900425],\n",
       "       [22.        ,  1.00413358],\n",
       "       [11.        ,  1.01146767],\n",
       "       [ 8.        ,  0.99306198],\n",
       "       [ 0.        ,  0.96156559],\n",
       "       [11.        ,  0.97172103],\n",
       "       [10.        ,  1.00282394],\n",
       "       [ 7.        ,  1.0323385 ],\n",
       "       [10.        ,  1.02863962],\n",
       "       [ 1.        ,  0.99684155],\n",
       "       [11.        ,  1.17489336],\n",
       "       [ 0.        ,  1.0335149 ],\n",
       "       [ 6.        ,  0.97801777],\n",
       "       [ 0.        ,  1.02351979],\n",
       "       [ 6.        ,  0.9864261 ],\n",
       "       [ 7.        ,  1.00004516],\n",
       "       [10.        ,  0.97437898],\n",
       "       [ 9.        ,  0.99494522],\n",
       "       [22.        ,  1.01912275],\n",
       "       [ 5.        ,  0.98720934],\n",
       "       [ 4.        ,  1.0074042 ],\n",
       "       [10.        ,  1.09898882],\n",
       "       [ 7.        ,  0.95514551],\n",
       "       [ 3.        ,  1.03786922],\n",
       "       [13.        ,  0.95190813],\n",
       "       [ 1.        ,  1.02881402],\n",
       "       [12.        ,  0.94481424],\n",
       "       [16.        ,  0.96602492],\n",
       "       [ 1.        ,  0.93296347],\n",
       "       [ 0.        ,  1.00328202],\n",
       "       [ 8.        ,  1.02062303],\n",
       "       [ 3.        ,  1.04127648],\n",
       "       [ 1.        ,  0.99962148],\n",
       "       [ 7.        ,  0.96497585],\n",
       "       [ 6.        ,  1.00249185],\n",
       "       [22.        ,  1.02029687],\n",
       "       [ 2.        ,  1.05745766],\n",
       "       [ 9.        ,  0.93432259],\n",
       "       [15.        ,  1.0021923 ],\n",
       "       [ 8.        ,  0.99335472],\n",
       "       [ 9.        ,  0.96783805],\n",
       "       [ 3.        ,  0.9515794 ],\n",
       "       [ 2.        ,  0.99579344],\n",
       "       [ 7.        ,  1.04548716],\n",
       "       [ 7.        ,  1.04596082],\n",
       "       [ 8.        ,  1.05094281],\n",
       "       [ 4.        ,  1.02522068],\n",
       "       [ 1.        ,  0.98959597],\n",
       "       [ 3.        ,  1.01166861],\n",
       "       [ 4.        ,  1.00502625],\n",
       "       [ 4.        ,  0.99185818],\n",
       "       [ 3.        ,  1.02516676],\n",
       "       [22.        ,  1.03812123],\n",
       "       [10.        ,  0.99573743],\n",
       "       [ 2.        ,  1.07024916],\n",
       "       [ 1.        ,  0.98938755],\n",
       "       [ 1.        ,  1.01462964],\n",
       "       [ 2.        ,  1.07018462],\n",
       "       [ 6.        ,  0.95592488],\n",
       "       [ 1.        ,  1.00186197],\n",
       "       [20.        ,  0.96502445],\n",
       "       [22.        ,  0.99261614],\n",
       "       [ 1.        ,  0.93133838],\n",
       "       [ 3.        ,  0.98398233],\n",
       "       [ 0.        ,  0.98693837],\n",
       "       [ 7.        ,  0.98856523],\n",
       "       [ 6.        ,  1.03242666],\n",
       "       [ 5.        ,  0.93697166],\n",
       "       [ 5.        ,  0.97829479],\n",
       "       [10.        ,  0.94020927],\n",
       "       [ 7.        ,  0.98753272],\n",
       "       [22.        ,  1.03414729],\n",
       "       [11.        ,  1.06345409],\n",
       "       [12.        ,  0.96285194],\n",
       "       [ 5.        ,  1.07581117],\n",
       "       [ 2.        ,  1.00585243],\n",
       "       [22.        ,  1.02373959],\n",
       "       [ 9.        ,  0.96690478],\n",
       "       [12.        ,  1.02784295],\n",
       "       [ 2.        ,  1.02788202],\n",
       "       [ 0.        ,  0.989443  ],\n",
       "       [ 1.        ,  1.07493681],\n",
       "       [10.        ,  1.05852043],\n",
       "       [ 2.        ,  0.98929274],\n",
       "       [ 3.        ,  0.99323324],\n",
       "       [ 8.        ,  1.0436895 ],\n",
       "       [ 3.        ,  1.06189541],\n",
       "       [15.        ,  1.02806772],\n",
       "       [ 4.        ,  1.05749241],\n",
       "       [12.        ,  0.9615762 ],\n",
       "       [ 3.        ,  1.01120249],\n",
       "       [14.        ,  1.03386429],\n",
       "       [ 4.        ,  0.97360653],\n",
       "       [16.        ,  1.01456528],\n",
       "       [15.        ,  1.00810811],\n",
       "       [ 6.        ,  0.95535896],\n",
       "       [ 0.        ,  0.99076902],\n",
       "       [11.        ,  0.99203412],\n",
       "       [10.        ,  1.00222099],\n",
       "       [ 8.        ,  1.06135937],\n",
       "       [ 4.        ,  0.98792813],\n",
       "       [ 1.        ,  0.97091691],\n",
       "       [22.        ,  1.01966458],\n",
       "       [22.        ,  1.04620848],\n",
       "       [ 4.        ,  1.01411642],\n",
       "       [ 1.        ,  1.05274713],\n",
       "       [ 6.        ,  0.99687836],\n",
       "       [ 2.        ,  1.07865009],\n",
       "       [ 2.        ,  0.97509901],\n",
       "       [ 9.        ,  0.96149698],\n",
       "       [ 0.        ,  1.04785293],\n",
       "       [13.        ,  1.0343075 ],\n",
       "       [ 6.        ,  0.962826  ],\n",
       "       [ 1.        ,  0.94720054],\n",
       "       [ 5.        ,  0.98481567],\n",
       "       [22.        ,  0.9571302 ],\n",
       "       [ 0.        ,  1.07483151],\n",
       "       [ 4.        ,  0.99760639],\n",
       "       [ 0.        ,  0.97052046],\n",
       "       [ 6.        ,  1.00282639],\n",
       "       [22.        ,  1.06743316],\n",
       "       [22.        ,  1.08545561],\n",
       "       [ 1.        ,  0.97038696],\n",
       "       [ 3.        ,  0.99606984],\n",
       "       [11.        ,  1.00334793],\n",
       "       [10.        ,  1.01500654],\n",
       "       [11.        ,  0.98413112],\n",
       "       [22.        ,  0.98036746],\n",
       "       [16.        ,  1.01276635],\n",
       "       [ 4.        ,  1.07067433],\n",
       "       [ 8.        ,  0.98682225],\n",
       "       [11.        ,  0.99262996],\n",
       "       [ 1.        ,  1.00507834],\n",
       "       [ 9.        ,  0.98853174],\n",
       "       [15.        ,  0.94522613],\n",
       "       [15.        ,  1.02512821],\n",
       "       [22.        ,  1.03689549],\n",
       "       [ 1.        ,  1.02813698],\n",
       "       [ 8.        ,  0.96512571],\n",
       "       [22.        ,  0.98975209],\n",
       "       [10.        ,  0.97311586],\n",
       "       [22.        ,  0.89576661],\n",
       "       [ 3.        ,  0.98166078],\n",
       "       [ 4.        ,  1.04761592],\n",
       "       [ 0.        ,  1.10344828],\n",
       "       [10.        ,  0.93664436],\n",
       "       [ 5.        ,  1.02954423],\n",
       "       [ 7.        ,  1.06254147],\n",
       "       [14.        ,  1.00997931],\n",
       "       [ 9.        ,  0.97203068],\n",
       "       [22.        ,  1.044553  ],\n",
       "       [12.        ,  0.99637383],\n",
       "       [ 6.        ,  1.00755972],\n",
       "       [ 8.        ,  1.14635958],\n",
       "       [ 3.        ,  0.98747213],\n",
       "       [ 1.        ,  1.05968918],\n",
       "       [ 0.        ,  0.98379737],\n",
       "       [10.        ,  0.94778417],\n",
       "       [ 5.        ,  1.04115783],\n",
       "       [ 5.        ,  0.99108048],\n",
       "       [ 7.        ,  1.01990084],\n",
       "       [ 8.        ,  1.13535279],\n",
       "       [ 0.        ,  1.04715467],\n",
       "       [ 3.        ,  1.04134066],\n",
       "       [ 4.        ,  1.01782879],\n",
       "       [ 9.        ,  0.99356683],\n",
       "       [ 1.        ,  1.08716716],\n",
       "       [ 3.        ,  1.05357502],\n",
       "       [14.        ,  1.03392277],\n",
       "       [ 9.        ,  0.98913584],\n",
       "       [ 7.        ,  0.98717363],\n",
       "       [ 2.        ,  1.00518455],\n",
       "       [ 2.        ,  0.99831796],\n",
       "       [ 4.        ,  0.95861206],\n",
       "       [10.        ,  0.9809605 ],\n",
       "       [22.        ,  0.96755265],\n",
       "       [ 8.        ,  1.05658309],\n",
       "       [ 5.        ,  1.02926657],\n",
       "       [11.        ,  1.01825726],\n",
       "       [10.        ,  0.96039441],\n",
       "       [22.        ,  0.96678865],\n",
       "       [ 5.        ,  0.99808478],\n",
       "       [ 3.        ,  1.01886477],\n",
       "       [10.        ,  0.92151525],\n",
       "       [12.        ,  0.99795262],\n",
       "       [ 7.        ,  0.99414484],\n",
       "       [ 2.        ,  1.04103269],\n",
       "       [ 4.        ,  1.01994844],\n",
       "       [ 1.        ,  1.05640244],\n",
       "       [ 9.        ,  1.01561916],\n",
       "       [ 2.        ,  1.01806503],\n",
       "       [ 4.        ,  0.93756525],\n",
       "       [ 6.        ,  1.02146641],\n",
       "       [ 6.        ,  0.99540874],\n",
       "       [ 8.        ,  0.99927406],\n",
       "       [15.        ,  1.01333333],\n",
       "       [ 1.        ,  1.0361298 ],\n",
       "       [ 7.        ,  1.02450269],\n",
       "       [ 4.        ,  1.06508548],\n",
       "       [ 6.        ,  1.02464155],\n",
       "       [ 3.        ,  1.0231287 ],\n",
       "       [ 4.        ,  1.06827309],\n",
       "       [ 8.        ,  1.00200761],\n",
       "       [12.        ,  0.98281545],\n",
       "       [ 8.        ,  0.99350716],\n",
       "       [22.        ,  0.95978887],\n",
       "       [ 8.        ,  0.96632223],\n",
       "       [22.        ,  0.9978131 ],\n",
       "       [ 9.        ,  1.04248404],\n",
       "       [ 5.        ,  0.98649823],\n",
       "       [ 4.        ,  0.99533201],\n",
       "       [ 6.        ,  1.03906825],\n",
       "       [ 2.        ,  0.94260149],\n",
       "       [ 2.        ,  1.05418115],\n",
       "       [22.        ,  0.91214706],\n",
       "       [12.        ,  1.11816468],\n",
       "       [11.        ,  1.06175762],\n",
       "       [ 1.        ,  1.09361729],\n",
       "       [22.        ,  1.02616084],\n",
       "       [ 3.        ,  1.02929064],\n",
       "       [22.        ,  1.02686659],\n",
       "       [10.        ,  1.00434783],\n",
       "       [ 3.        ,  0.97494922],\n",
       "       [ 8.        ,  0.97798414],\n",
       "       [ 0.        ,  0.95983306],\n",
       "       [12.        ,  1.01382073],\n",
       "       [12.        ,  0.99342809],\n",
       "       [ 9.        ,  0.97174288],\n",
       "       [ 4.        ,  0.93836439],\n",
       "       [22.        ,  0.9733624 ],\n",
       "       [22.        ,  1.02335439],\n",
       "       [ 4.        ,  1.02636906],\n",
       "       [ 7.        ,  0.96996946],\n",
       "       [ 2.        ,  1.00823135],\n",
       "       [16.        ,  0.98153555],\n",
       "       [ 0.        ,  1.0151194 ],\n",
       "       [ 6.        ,  0.91165387],\n",
       "       [ 7.        ,  0.98688948],\n",
       "       [ 4.        ,  1.00186188],\n",
       "       [ 5.        ,  1.03304303],\n",
       "       [ 9.        ,  0.9995349 ],\n",
       "       [ 4.        ,  1.08728329],\n",
       "       [ 2.        ,  1.04109646],\n",
       "       [ 7.        ,  0.94858486],\n",
       "       [22.        ,  0.9802793 ],\n",
       "       [ 5.        ,  0.9582784 ],\n",
       "       [ 0.        ,  1.02074621],\n",
       "       [22.        ,  0.99026171],\n",
       "       [ 8.        ,  1.06631031],\n",
       "       [ 5.        ,  1.00191247],\n",
       "       [22.        ,  1.01753805],\n",
       "       [22.        ,  1.03177814],\n",
       "       [ 0.        ,  0.9805726 ],\n",
       "       [ 2.        ,  1.03475457],\n",
       "       [10.        ,  0.98456997],\n",
       "       [11.        ,  0.95759528],\n",
       "       [ 5.        ,  0.99221395],\n",
       "       [ 4.        ,  1.00864956],\n",
       "       [ 2.        ,  1.02622473],\n",
       "       [ 0.        ,  1.00407527],\n",
       "       [22.        ,  1.01084307],\n",
       "       [ 5.        ,  1.02580804],\n",
       "       [ 3.        ,  1.01082777],\n",
       "       [22.        ,  1.03496014],\n",
       "       [13.        ,  1.01240722],\n",
       "       [22.        ,  0.92901723],\n",
       "       [ 0.        ,  0.9434542 ],\n",
       "       [ 9.        ,  0.9936736 ],\n",
       "       [ 1.        ,  0.93400438],\n",
       "       [ 4.        ,  1.0208277 ],\n",
       "       [ 5.        ,  0.99198492],\n",
       "       [ 0.        ,  0.98897332],\n",
       "       [ 3.        ,  1.02561595],\n",
       "       [ 4.        ,  1.00124697],\n",
       "       [16.        ,  0.99659597],\n",
       "       [ 2.        ,  0.95324651],\n",
       "       [ 7.        ,  1.06039184],\n",
       "       [11.        ,  1.00394699],\n",
       "       [ 6.        ,  1.07163373],\n",
       "       [ 9.        ,  0.94081402],\n",
       "       [11.        ,  0.95436524],\n",
       "       [22.        ,  0.97589937],\n",
       "       [22.        ,  1.03044341],\n",
       "       [ 5.        ,  0.9695013 ],\n",
       "       [ 7.        ,  1.00486578],\n",
       "       [ 6.        ,  0.95916824],\n",
       "       [ 1.        ,  0.97777392],\n",
       "       [22.        ,  1.0241053 ],\n",
       "       [13.        ,  1.00947997],\n",
       "       [ 3.        ,  1.07626921],\n",
       "       [ 6.        ,  1.00472231],\n",
       "       [ 1.        ,  1.02132194],\n",
       "       [ 0.        ,  1.00963551],\n",
       "       [ 1.        ,  1.02185233],\n",
       "       [ 4.        ,  0.97402791],\n",
       "       [13.        ,  1.01337901],\n",
       "       [ 5.        ,  1.05186949],\n",
       "       [ 6.        ,  0.96733243],\n",
       "       [ 7.        ,  1.04106656],\n",
       "       [22.        ,  0.98949823],\n",
       "       [22.        ,  1.03297069],\n",
       "       [ 1.        ,  1.09699992],\n",
       "       [ 9.        ,  1.05069683],\n",
       "       [ 3.        ,  1.08167614],\n",
       "       [ 9.        ,  1.02050332],\n",
       "       [ 4.        ,  1.02084452],\n",
       "       [ 8.        ,  0.98608205],\n",
       "       [ 9.        ,  1.01810887],\n",
       "       [22.        ,  1.09316527],\n",
       "       [ 2.        ,  0.99600782],\n",
       "       [ 5.        ,  1.00160882],\n",
       "       [ 5.        ,  0.97861441],\n",
       "       [ 3.        ,  0.98092643],\n",
       "       [22.        ,  0.99513986],\n",
       "       [ 7.        ,  1.08391532],\n",
       "       [10.        ,  0.98908717],\n",
       "       [ 7.        ,  1.03997635],\n",
       "       [ 7.        ,  1.00986108],\n",
       "       [ 1.        ,  0.9854406 ],\n",
       "       [ 6.        ,  0.98197314],\n",
       "       [ 2.        ,  0.98321019],\n",
       "       [ 1.        ,  0.98897222],\n",
       "       [10.        ,  1.0166655 ],\n",
       "       [ 9.        ,  0.98165077],\n",
       "       [ 3.        ,  0.9508638 ],\n",
       "       [ 6.        ,  1.03347815],\n",
       "       [ 0.        ,  1.07361083],\n",
       "       [11.        ,  0.9933094 ],\n",
       "       [ 3.        ,  1.00582584],\n",
       "       [ 5.        ,  1.00358525],\n",
       "       [ 6.        ,  1.02142135],\n",
       "       [ 3.        ,  1.04139979],\n",
       "       [ 0.        ,  0.98181818],\n",
       "       [22.        ,  1.05494152],\n",
       "       [ 5.        ,  1.02018934],\n",
       "       [ 7.        ,  1.01611849],\n",
       "       [ 5.        ,  1.05188214],\n",
       "       [ 8.        ,  0.96929073],\n",
       "       [ 1.        ,  1.01553241],\n",
       "       [ 7.        ,  1.03598119],\n",
       "       [ 3.        ,  1.04896307],\n",
       "       [10.        ,  1.01653804],\n",
       "       [12.        ,  0.98785487],\n",
       "       [14.        ,  0.97301615],\n",
       "       [22.        ,  1.03685277],\n",
       "       [ 8.        ,  0.98235875],\n",
       "       [10.        ,  1.01060606],\n",
       "       [ 7.        ,  0.98437926],\n",
       "       [ 6.        ,  1.03450962],\n",
       "       [ 9.        ,  0.95670014],\n",
       "       [ 1.        ,  1.06476493],\n",
       "       [10.        ,  0.99645827],\n",
       "       [ 1.        ,  1.00684032],\n",
       "       [ 6.        ,  0.98824431],\n",
       "       [ 2.        ,  0.97905098],\n",
       "       [ 8.        ,  0.99423508],\n",
       "       [ 3.        ,  0.97471889],\n",
       "       [ 2.        ,  0.99687862],\n",
       "       [ 1.        ,  1.04873301],\n",
       "       [22.        ,  1.14727592],\n",
       "       [ 5.        ,  1.02770338],\n",
       "       [22.        ,  1.07810206],\n",
       "       [13.        ,  0.97435897],\n",
       "       [ 6.        ,  0.97665613],\n",
       "       [ 2.        ,  1.00369606],\n",
       "       [11.        ,  1.00411879],\n",
       "       [10.        ,  1.07520392],\n",
       "       [ 3.        ,  1.06482001],\n",
       "       [ 3.        ,  1.0422226 ],\n",
       "       [ 0.        ,  1.04126333],\n",
       "       [ 0.        ,  0.98388976],\n",
       "       [ 1.        ,  1.13664186],\n",
       "       [12.        ,  0.98232044],\n",
       "       [ 2.        ,  0.9708042 ],\n",
       "       [22.        ,  0.99595556],\n",
       "       [22.        ,  1.05625414],\n",
       "       [ 8.        ,  1.04123904],\n",
       "       [15.        ,  0.99617822],\n",
       "       [10.        ,  0.97373349],\n",
       "       [ 9.        ,  0.98945984],\n",
       "       [ 6.        ,  1.05312569],\n",
       "       [ 9.        ,  0.99492268],\n",
       "       [ 4.        ,  0.97625984],\n",
       "       [12.        ,  0.93195188],\n",
       "       [ 7.        ,  0.98781786],\n",
       "       [ 6.        ,  1.05488829],\n",
       "       [ 3.        ,  0.92994697],\n",
       "       [ 4.        ,  1.04628214],\n",
       "       [ 2.        ,  1.06512577],\n",
       "       [22.        ,  0.93820782],\n",
       "       [ 3.        ,  0.93968709],\n",
       "       [ 6.        ,  1.01086282],\n",
       "       [ 3.        ,  1.00359911],\n",
       "       [22.        ,  0.9995563 ],\n",
       "       [ 6.        ,  0.98838879],\n",
       "       [22.        ,  1.01687364],\n",
       "       [22.        ,  1.01088791],\n",
       "       [ 0.        ,  1.0453517 ],\n",
       "       [16.        ,  0.99150623],\n",
       "       [ 5.        ,  1.02554382],\n",
       "       [ 1.        ,  1.00358525],\n",
       "       [ 1.        ,  1.01956366],\n",
       "       [ 6.        ,  1.04738297],\n",
       "       [ 6.        ,  1.00204447],\n",
       "       [ 3.        ,  1.0302443 ],\n",
       "       [ 9.        ,  1.00739991],\n",
       "       [ 8.        ,  0.92585521],\n",
       "       [ 0.        ,  0.97856427],\n",
       "       [ 8.        ,  0.99140784],\n",
       "       [ 7.        ,  1.03374716],\n",
       "       [22.        ,  1.01225982],\n",
       "       [ 1.        ,  1.01868622],\n",
       "       [12.        ,  1.01185771],\n",
       "       [ 3.        ,  1.02862485],\n",
       "       [ 2.        ,  0.97062774],\n",
       "       [ 0.        ,  0.92623758],\n",
       "       [22.        ,  1.00557742],\n",
       "       [10.        ,  0.98110733],\n",
       "       [10.        ,  1.01450365],\n",
       "       [ 2.        ,  0.98221593],\n",
       "       [ 9.        ,  1.01927195],\n",
       "       [ 1.        ,  1.02115385],\n",
       "       [ 5.        ,  1.03325116],\n",
       "       [13.        ,  0.97537192],\n",
       "       [ 1.        ,  1.0174907 ],\n",
       "       [ 6.        ,  1.0257959 ],\n",
       "       [22.        ,  1.03826591],\n",
       "       [ 0.        ,  0.99658545],\n",
       "       [ 7.        ,  0.98674289],\n",
       "       [10.        ,  1.040857  ],\n",
       "       [10.        ,  1.03032178],\n",
       "       [ 1.        ,  1.05623832],\n",
       "       [ 4.        ,  0.98824577],\n",
       "       [ 1.        ,  0.96874262],\n",
       "       [ 1.        ,  0.97409979],\n",
       "       [12.        ,  1.04896655],\n",
       "       [ 4.        ,  1.01638237],\n",
       "       [ 1.        ,  1.00857473],\n",
       "       [ 3.        ,  0.98732361],\n",
       "       [ 4.        ,  1.04107023],\n",
       "       [ 9.        ,  0.92005069],\n",
       "       [ 6.        ,  1.02124869],\n",
       "       [10.        ,  0.94766949],\n",
       "       [11.        ,  1.00339171],\n",
       "       [22.        ,  1.01036249],\n",
       "       [12.        ,  1.06041736],\n",
       "       [10.        ,  0.99244043],\n",
       "       [ 6.        ,  0.98561963],\n",
       "       [ 6.        ,  1.00155822],\n",
       "       [ 4.        ,  0.99070946],\n",
       "       [ 4.        ,  1.03396268],\n",
       "       [ 4.        ,  1.01698179],\n",
       "       [22.        ,  1.00419387]])"
      ]
     },
     "execution_count": 28,
     "metadata": {},
     "output_type": "execute_result"
    }
   ],
   "source": [
    "inducing_variable"
   ]
  },
  {
   "cell_type": "code",
   "execution_count": 29,
   "id": "a1e07077-6bc4-4c90-b359-a5ee58eff13f",
   "metadata": {},
   "outputs": [],
   "source": [
    "# model = gpflow.models.GPR(\n",
    "#     (X, Y),\n",
    "#     kernel=gpflow.kernels.SquaredExponential(),\n",
    "# )\n",
    "model = gpflow.models.SGPR(\n",
    "    (X, Y),\n",
    "    kernel=gpflow.kernels.RBF(),\n",
    "    # kernel=gpflow.kernels.SquaredExponential(),\n",
    "    inducing_variable=inducing_variable,\n",
    "        # noise_variance=1.0  # Set to some reasonable initial value\n",
    ")\n"
   ]
  },
  {
   "cell_type": "code",
   "execution_count": 30,
   "id": "3a826186-c2e4-475d-80d9-0a93ff4817fc",
   "metadata": {},
   "outputs": [
    {
     "data": {
      "text/html": [
       "<table>\n",
       "<thead>\n",
       "<tr><th>name                    </th><th>class    </th><th>transform       </th><th>prior  </th><th>trainable  </th><th>shape   </th><th>dtype  </th><th>value              </th></tr>\n",
       "</thead>\n",
       "<tbody>\n",
       "<tr><td>SGPR.kernel.variance    </td><td>Parameter</td><td>Softplus        </td><td>       </td><td>True       </td><td>()      </td><td>float64</td><td>1.0                </td></tr>\n",
       "<tr><td>SGPR.kernel.lengthscales</td><td>Parameter</td><td>Softplus        </td><td>       </td><td>True       </td><td>()      </td><td>float64</td><td>1.0                </td></tr>\n",
       "<tr><td>SGPR.likelihood.variance</td><td>Parameter</td><td>Softplus + Shift</td><td>       </td><td>True       </td><td>()      </td><td>float64</td><td>1.0                </td></tr>\n",
       "<tr><td>SGPR.inducing_variable.Z</td><td>Parameter</td><td>Identity        </td><td>       </td><td>True       </td><td>(500, 2)</td><td>float64</td><td>[[0., 0.97369562...</td></tr>\n",
       "</tbody>\n",
       "</table>"
      ],
      "text/plain": [
       "<IPython.core.display.HTML object>"
      ]
     },
     "metadata": {},
     "output_type": "display_data"
    }
   ],
   "source": [
    "gpflow.utilities.print_summary(model, \"notebook\")"
   ]
  },
  {
   "cell_type": "code",
   "execution_count": 31,
   "id": "86dbb5f3-9c39-4aa5-a6e2-3f9d510faaf6",
   "metadata": {},
   "outputs": [
    {
     "name": "stdout",
     "output_type": "stream",
     "text": [
      "0\n",
      "Elapsed time: 0.36 minutes\n"
     ]
    },
    {
     "ename": "KeyboardInterrupt",
     "evalue": "",
     "output_type": "error",
     "traceback": [
      "\u001b[0;31m---------------------------------------------------------------------------\u001b[0m",
      "\u001b[0;31mKeyboardInterrupt\u001b[0m                         Traceback (most recent call last)",
      "\u001b[0;32m/tmp/ipykernel_2060244/3302721380.py\u001b[0m in \u001b[0;36m<cell line: 10>\u001b[0;34m()\u001b[0m\n\u001b[1;32m      9\u001b[0m \u001b[0mnum_iterations\u001b[0m \u001b[0;34m=\u001b[0m \u001b[0;36m10000\u001b[0m  \u001b[0;31m# Choose an appropriate number of iterations for your problem\u001b[0m\u001b[0;34m\u001b[0m\u001b[0;34m\u001b[0m\u001b[0m\n\u001b[1;32m     10\u001b[0m \u001b[0;32mfor\u001b[0m \u001b[0mi\u001b[0m \u001b[0;32min\u001b[0m \u001b[0mrange\u001b[0m\u001b[0;34m(\u001b[0m\u001b[0mnum_iterations\u001b[0m\u001b[0;34m)\u001b[0m\u001b[0;34m:\u001b[0m\u001b[0;34m\u001b[0m\u001b[0;34m\u001b[0m\u001b[0m\n\u001b[0;32m---> 11\u001b[0;31m     \u001b[0madam_optimizer\u001b[0m\u001b[0;34m.\u001b[0m\u001b[0mminimize\u001b[0m\u001b[0;34m(\u001b[0m\u001b[0mmodel\u001b[0m\u001b[0;34m.\u001b[0m\u001b[0mtraining_loss\u001b[0m\u001b[0;34m,\u001b[0m \u001b[0mmodel\u001b[0m\u001b[0;34m.\u001b[0m\u001b[0mtrainable_variables\u001b[0m\u001b[0;34m)\u001b[0m\u001b[0;34m\u001b[0m\u001b[0;34m\u001b[0m\u001b[0m\n\u001b[0m\u001b[1;32m     12\u001b[0m     \u001b[0;32mif\u001b[0m \u001b[0;34m(\u001b[0m\u001b[0mi\u001b[0m \u001b[0;34m%\u001b[0m \u001b[0;36m1000\u001b[0m \u001b[0;34m==\u001b[0m\u001b[0;36m0\u001b[0m\u001b[0;34m)\u001b[0m\u001b[0;34m:\u001b[0m\u001b[0;34m\u001b[0m\u001b[0;34m\u001b[0m\u001b[0m\n\u001b[1;32m     13\u001b[0m         \u001b[0mprint\u001b[0m\u001b[0;34m(\u001b[0m\u001b[0mi\u001b[0m\u001b[0;34m)\u001b[0m\u001b[0;34m\u001b[0m\u001b[0;34m\u001b[0m\u001b[0m\n",
      "\u001b[0;32m~/miniconda3/envs/condaforge/lib/python3.10/site-packages/keras/optimizers/optimizer_v2/optimizer_v2.py\u001b[0m in \u001b[0;36mminimize\u001b[0;34m(self, loss, var_list, grad_loss, name, tape)\u001b[0m\n\u001b[1;32m    574\u001b[0m \u001b[0;34m\u001b[0m\u001b[0m\n\u001b[1;32m    575\u001b[0m         \"\"\"\n\u001b[0;32m--> 576\u001b[0;31m         grads_and_vars = self._compute_gradients(\n\u001b[0m\u001b[1;32m    577\u001b[0m             \u001b[0mloss\u001b[0m\u001b[0;34m,\u001b[0m \u001b[0mvar_list\u001b[0m\u001b[0;34m=\u001b[0m\u001b[0mvar_list\u001b[0m\u001b[0;34m,\u001b[0m \u001b[0mgrad_loss\u001b[0m\u001b[0;34m=\u001b[0m\u001b[0mgrad_loss\u001b[0m\u001b[0;34m,\u001b[0m \u001b[0mtape\u001b[0m\u001b[0;34m=\u001b[0m\u001b[0mtape\u001b[0m\u001b[0;34m\u001b[0m\u001b[0;34m\u001b[0m\u001b[0m\n\u001b[1;32m    578\u001b[0m         )\n",
      "\u001b[0;32m~/miniconda3/envs/condaforge/lib/python3.10/site-packages/keras/optimizers/optimizer_v2/optimizer_v2.py\u001b[0m in \u001b[0;36m_compute_gradients\u001b[0;34m(self, loss, var_list, grad_loss, tape)\u001b[0m\n\u001b[1;32m    632\u001b[0m         \u001b[0mvar_list\u001b[0m \u001b[0;34m=\u001b[0m \u001b[0mtf\u001b[0m\u001b[0;34m.\u001b[0m\u001b[0mnest\u001b[0m\u001b[0;34m.\u001b[0m\u001b[0mflatten\u001b[0m\u001b[0;34m(\u001b[0m\u001b[0mvar_list\u001b[0m\u001b[0;34m)\u001b[0m\u001b[0;34m\u001b[0m\u001b[0;34m\u001b[0m\u001b[0m\n\u001b[1;32m    633\u001b[0m         \u001b[0;32mwith\u001b[0m \u001b[0mtf\u001b[0m\u001b[0;34m.\u001b[0m\u001b[0mname_scope\u001b[0m\u001b[0;34m(\u001b[0m\u001b[0mself\u001b[0m\u001b[0;34m.\u001b[0m\u001b[0m_name\u001b[0m \u001b[0;34m+\u001b[0m \u001b[0;34m\"/gradients\"\u001b[0m\u001b[0;34m)\u001b[0m\u001b[0;34m:\u001b[0m\u001b[0;34m\u001b[0m\u001b[0;34m\u001b[0m\u001b[0m\n\u001b[0;32m--> 634\u001b[0;31m             grads_and_vars = self._get_gradients(\n\u001b[0m\u001b[1;32m    635\u001b[0m                 \u001b[0mtape\u001b[0m\u001b[0;34m,\u001b[0m \u001b[0mloss\u001b[0m\u001b[0;34m,\u001b[0m \u001b[0mvar_list\u001b[0m\u001b[0;34m,\u001b[0m \u001b[0mgrad_loss\u001b[0m\u001b[0;34m\u001b[0m\u001b[0;34m\u001b[0m\u001b[0m\n\u001b[1;32m    636\u001b[0m             )\n",
      "\u001b[0;32m~/miniconda3/envs/condaforge/lib/python3.10/site-packages/keras/optimizers/optimizer_v2/optimizer_v2.py\u001b[0m in \u001b[0;36m_get_gradients\u001b[0;34m(self, tape, loss, var_list, grad_loss)\u001b[0m\n\u001b[1;32m    508\u001b[0m     \u001b[0;32mdef\u001b[0m \u001b[0m_get_gradients\u001b[0m\u001b[0;34m(\u001b[0m\u001b[0mself\u001b[0m\u001b[0;34m,\u001b[0m \u001b[0mtape\u001b[0m\u001b[0;34m,\u001b[0m \u001b[0mloss\u001b[0m\u001b[0;34m,\u001b[0m \u001b[0mvar_list\u001b[0m\u001b[0;34m,\u001b[0m \u001b[0mgrad_loss\u001b[0m\u001b[0;34m=\u001b[0m\u001b[0;32mNone\u001b[0m\u001b[0;34m)\u001b[0m\u001b[0;34m:\u001b[0m\u001b[0;34m\u001b[0m\u001b[0;34m\u001b[0m\u001b[0m\n\u001b[1;32m    509\u001b[0m         \u001b[0;34m\"\"\"Called in `minimize` to compute gradients from loss.\"\"\"\u001b[0m\u001b[0;34m\u001b[0m\u001b[0;34m\u001b[0m\u001b[0m\n\u001b[0;32m--> 510\u001b[0;31m         \u001b[0mgrads\u001b[0m \u001b[0;34m=\u001b[0m \u001b[0mtape\u001b[0m\u001b[0;34m.\u001b[0m\u001b[0mgradient\u001b[0m\u001b[0;34m(\u001b[0m\u001b[0mloss\u001b[0m\u001b[0;34m,\u001b[0m \u001b[0mvar_list\u001b[0m\u001b[0;34m,\u001b[0m \u001b[0mgrad_loss\u001b[0m\u001b[0;34m)\u001b[0m\u001b[0;34m\u001b[0m\u001b[0;34m\u001b[0m\u001b[0m\n\u001b[0m\u001b[1;32m    511\u001b[0m         \u001b[0;32mreturn\u001b[0m \u001b[0mlist\u001b[0m\u001b[0;34m(\u001b[0m\u001b[0mzip\u001b[0m\u001b[0;34m(\u001b[0m\u001b[0mgrads\u001b[0m\u001b[0;34m,\u001b[0m \u001b[0mvar_list\u001b[0m\u001b[0;34m)\u001b[0m\u001b[0;34m)\u001b[0m\u001b[0;34m\u001b[0m\u001b[0;34m\u001b[0m\u001b[0m\n\u001b[1;32m    512\u001b[0m \u001b[0;34m\u001b[0m\u001b[0m\n",
      "\u001b[0;32m~/miniconda3/envs/condaforge/lib/python3.10/site-packages/tensorflow/python/eager/backprop.py\u001b[0m in \u001b[0;36mgradient\u001b[0;34m(self, target, sources, output_gradients, unconnected_gradients)\u001b[0m\n\u001b[1;32m   1111\u001b[0m                           for x in output_gradients]\n\u001b[1;32m   1112\u001b[0m \u001b[0;34m\u001b[0m\u001b[0m\n\u001b[0;32m-> 1113\u001b[0;31m     flat_grad = imperative_grad.imperative_grad(\n\u001b[0m\u001b[1;32m   1114\u001b[0m         \u001b[0mself\u001b[0m\u001b[0;34m.\u001b[0m\u001b[0m_tape\u001b[0m\u001b[0;34m,\u001b[0m\u001b[0;34m\u001b[0m\u001b[0;34m\u001b[0m\u001b[0m\n\u001b[1;32m   1115\u001b[0m         \u001b[0mflat_targets\u001b[0m\u001b[0;34m,\u001b[0m\u001b[0;34m\u001b[0m\u001b[0;34m\u001b[0m\u001b[0m\n",
      "\u001b[0;32m~/miniconda3/envs/condaforge/lib/python3.10/site-packages/tensorflow/python/eager/imperative_grad.py\u001b[0m in \u001b[0;36mimperative_grad\u001b[0;34m(tape, target, sources, output_gradients, sources_raw, unconnected_gradients)\u001b[0m\n\u001b[1;32m     65\u001b[0m         \"Unknown value for unconnected_gradients: %r\" % unconnected_gradients)\n\u001b[1;32m     66\u001b[0m \u001b[0;34m\u001b[0m\u001b[0m\n\u001b[0;32m---> 67\u001b[0;31m   return pywrap_tfe.TFE_Py_TapeGradient(\n\u001b[0m\u001b[1;32m     68\u001b[0m       \u001b[0mtape\u001b[0m\u001b[0;34m.\u001b[0m\u001b[0m_tape\u001b[0m\u001b[0;34m,\u001b[0m  \u001b[0;31m# pylint: disable=protected-access\u001b[0m\u001b[0;34m\u001b[0m\u001b[0;34m\u001b[0m\u001b[0m\n\u001b[1;32m     69\u001b[0m       \u001b[0mtarget\u001b[0m\u001b[0;34m,\u001b[0m\u001b[0;34m\u001b[0m\u001b[0;34m\u001b[0m\u001b[0m\n",
      "\u001b[0;32m~/miniconda3/envs/condaforge/lib/python3.10/site-packages/tensorflow/python/eager/backprop.py\u001b[0m in \u001b[0;36m_gradient_function\u001b[0;34m(op_name, attr_tuple, num_inputs, inputs, outputs, out_grads, skip_input_indices, forward_pass_name_scope)\u001b[0m\n\u001b[1;32m    158\u001b[0m       \u001b[0mgradient_name_scope\u001b[0m \u001b[0;34m+=\u001b[0m \u001b[0mforward_pass_name_scope\u001b[0m \u001b[0;34m+\u001b[0m \u001b[0;34m\"/\"\u001b[0m\u001b[0;34m\u001b[0m\u001b[0;34m\u001b[0m\u001b[0m\n\u001b[1;32m    159\u001b[0m     \u001b[0;32mwith\u001b[0m \u001b[0mops\u001b[0m\u001b[0;34m.\u001b[0m\u001b[0mname_scope\u001b[0m\u001b[0;34m(\u001b[0m\u001b[0mgradient_name_scope\u001b[0m\u001b[0;34m)\u001b[0m\u001b[0;34m:\u001b[0m\u001b[0;34m\u001b[0m\u001b[0;34m\u001b[0m\u001b[0m\n\u001b[0;32m--> 160\u001b[0;31m       \u001b[0;32mreturn\u001b[0m \u001b[0mgrad_fn\u001b[0m\u001b[0;34m(\u001b[0m\u001b[0mmock_op\u001b[0m\u001b[0;34m,\u001b[0m \u001b[0;34m*\u001b[0m\u001b[0mout_grads\u001b[0m\u001b[0;34m)\u001b[0m\u001b[0;34m\u001b[0m\u001b[0;34m\u001b[0m\u001b[0m\n\u001b[0m\u001b[1;32m    161\u001b[0m   \u001b[0;32melse\u001b[0m\u001b[0;34m:\u001b[0m\u001b[0;34m\u001b[0m\u001b[0;34m\u001b[0m\u001b[0m\n\u001b[1;32m    162\u001b[0m     \u001b[0;32mreturn\u001b[0m \u001b[0mgrad_fn\u001b[0m\u001b[0;34m(\u001b[0m\u001b[0mmock_op\u001b[0m\u001b[0;34m,\u001b[0m \u001b[0;34m*\u001b[0m\u001b[0mout_grads\u001b[0m\u001b[0;34m)\u001b[0m\u001b[0;34m\u001b[0m\u001b[0;34m\u001b[0m\u001b[0m\n",
      "\u001b[0;32m~/miniconda3/envs/condaforge/lib/python3.10/site-packages/tensorflow/python/ops/linalg_grad.py\u001b[0m in \u001b[0;36m_MatrixTriangularSolveGrad\u001b[0;34m(op, grad)\u001b[0m\n\u001b[1;32m    687\u001b[0m   \u001b[0mlower_a\u001b[0m \u001b[0;34m=\u001b[0m \u001b[0mop\u001b[0m\u001b[0;34m.\u001b[0m\u001b[0mget_attr\u001b[0m\u001b[0;34m(\u001b[0m\u001b[0;34m\"lower\"\u001b[0m\u001b[0;34m)\u001b[0m\u001b[0;34m\u001b[0m\u001b[0;34m\u001b[0m\u001b[0m\n\u001b[1;32m    688\u001b[0m   \u001b[0mc\u001b[0m \u001b[0;34m=\u001b[0m \u001b[0mop\u001b[0m\u001b[0;34m.\u001b[0m\u001b[0moutputs\u001b[0m\u001b[0;34m[\u001b[0m\u001b[0;36m0\u001b[0m\u001b[0;34m]\u001b[0m\u001b[0;34m\u001b[0m\u001b[0;34m\u001b[0m\u001b[0m\n\u001b[0;32m--> 689\u001b[0;31m   grad_b = linalg_ops.matrix_triangular_solve(\n\u001b[0m\u001b[1;32m    690\u001b[0m       a, grad, lower=lower_a, adjoint=not adjoint_a)\n\u001b[1;32m    691\u001b[0m   \u001b[0;32mif\u001b[0m \u001b[0madjoint_a\u001b[0m\u001b[0;34m:\u001b[0m\u001b[0;34m\u001b[0m\u001b[0;34m\u001b[0m\u001b[0m\n",
      "\u001b[0;32m~/miniconda3/envs/condaforge/lib/python3.10/site-packages/tensorflow/python/util/traceback_utils.py\u001b[0m in \u001b[0;36merror_handler\u001b[0;34m(*args, **kwargs)\u001b[0m\n\u001b[1;32m    148\u001b[0m     \u001b[0mfiltered_tb\u001b[0m \u001b[0;34m=\u001b[0m \u001b[0;32mNone\u001b[0m\u001b[0;34m\u001b[0m\u001b[0;34m\u001b[0m\u001b[0m\n\u001b[1;32m    149\u001b[0m     \u001b[0;32mtry\u001b[0m\u001b[0;34m:\u001b[0m\u001b[0;34m\u001b[0m\u001b[0;34m\u001b[0m\u001b[0m\n\u001b[0;32m--> 150\u001b[0;31m       \u001b[0;32mreturn\u001b[0m \u001b[0mfn\u001b[0m\u001b[0;34m(\u001b[0m\u001b[0;34m*\u001b[0m\u001b[0margs\u001b[0m\u001b[0;34m,\u001b[0m \u001b[0;34m**\u001b[0m\u001b[0mkwargs\u001b[0m\u001b[0;34m)\u001b[0m\u001b[0;34m\u001b[0m\u001b[0;34m\u001b[0m\u001b[0m\n\u001b[0m\u001b[1;32m    151\u001b[0m     \u001b[0;32mexcept\u001b[0m \u001b[0mException\u001b[0m \u001b[0;32mas\u001b[0m \u001b[0me\u001b[0m\u001b[0;34m:\u001b[0m\u001b[0;34m\u001b[0m\u001b[0;34m\u001b[0m\u001b[0m\n\u001b[1;32m    152\u001b[0m       \u001b[0mfiltered_tb\u001b[0m \u001b[0;34m=\u001b[0m \u001b[0m_process_traceback_frames\u001b[0m\u001b[0;34m(\u001b[0m\u001b[0me\u001b[0m\u001b[0;34m.\u001b[0m\u001b[0m__traceback__\u001b[0m\u001b[0;34m)\u001b[0m\u001b[0;34m\u001b[0m\u001b[0;34m\u001b[0m\u001b[0m\n",
      "\u001b[0;32m~/miniconda3/envs/condaforge/lib/python3.10/site-packages/tensorflow/python/util/dispatch.py\u001b[0m in \u001b[0;36mop_dispatch_handler\u001b[0;34m(*args, **kwargs)\u001b[0m\n\u001b[1;32m   1174\u001b[0m       \u001b[0;31m# Fallback dispatch system (dispatch v1):\u001b[0m\u001b[0;34m\u001b[0m\u001b[0;34m\u001b[0m\u001b[0m\n\u001b[1;32m   1175\u001b[0m       \u001b[0;32mtry\u001b[0m\u001b[0;34m:\u001b[0m\u001b[0;34m\u001b[0m\u001b[0;34m\u001b[0m\u001b[0m\n\u001b[0;32m-> 1176\u001b[0;31m         \u001b[0;32mreturn\u001b[0m \u001b[0mdispatch_target\u001b[0m\u001b[0;34m(\u001b[0m\u001b[0;34m*\u001b[0m\u001b[0margs\u001b[0m\u001b[0;34m,\u001b[0m \u001b[0;34m**\u001b[0m\u001b[0mkwargs\u001b[0m\u001b[0;34m)\u001b[0m\u001b[0;34m\u001b[0m\u001b[0;34m\u001b[0m\u001b[0m\n\u001b[0m\u001b[1;32m   1177\u001b[0m       \u001b[0;32mexcept\u001b[0m \u001b[0;34m(\u001b[0m\u001b[0mTypeError\u001b[0m\u001b[0;34m,\u001b[0m \u001b[0mValueError\u001b[0m\u001b[0;34m)\u001b[0m\u001b[0;34m:\u001b[0m\u001b[0;34m\u001b[0m\u001b[0;34m\u001b[0m\u001b[0m\n\u001b[1;32m   1178\u001b[0m         \u001b[0;31m# Note: convert_to_eager_tensor currently raises a ValueError, not a\u001b[0m\u001b[0;34m\u001b[0m\u001b[0;34m\u001b[0m\u001b[0m\n",
      "\u001b[0;32m~/miniconda3/envs/condaforge/lib/python3.10/site-packages/tensorflow/python/ops/linalg_ops.py\u001b[0m in \u001b[0;36mmatrix_triangular_solve\u001b[0;34m(matrix, rhs, lower, adjoint, name)\u001b[0m\n\u001b[1;32m    137\u001b[0m   \"\"\"\n\u001b[1;32m    138\u001b[0m   \u001b[0;32mwith\u001b[0m \u001b[0mops\u001b[0m\u001b[0;34m.\u001b[0m\u001b[0mname_scope\u001b[0m\u001b[0;34m(\u001b[0m\u001b[0mname\u001b[0m\u001b[0;34m,\u001b[0m \u001b[0;34m'triangular_solve'\u001b[0m\u001b[0;34m,\u001b[0m \u001b[0;34m[\u001b[0m\u001b[0mmatrix\u001b[0m\u001b[0;34m,\u001b[0m \u001b[0mrhs\u001b[0m\u001b[0;34m]\u001b[0m\u001b[0;34m)\u001b[0m\u001b[0;34m:\u001b[0m\u001b[0;34m\u001b[0m\u001b[0;34m\u001b[0m\u001b[0m\n\u001b[0;32m--> 139\u001b[0;31m     return gen_linalg_ops.matrix_triangular_solve(\n\u001b[0m\u001b[1;32m    140\u001b[0m         matrix, rhs, lower=lower, adjoint=adjoint)\n\u001b[1;32m    141\u001b[0m \u001b[0;34m\u001b[0m\u001b[0m\n",
      "\u001b[0;32m~/miniconda3/envs/condaforge/lib/python3.10/site-packages/tensorflow/python/ops/gen_linalg_ops.py\u001b[0m in \u001b[0;36mmatrix_triangular_solve\u001b[0;34m(matrix, rhs, lower, adjoint, name)\u001b[0m\n\u001b[1;32m   2031\u001b[0m   \u001b[0;32mif\u001b[0m \u001b[0mtld\u001b[0m\u001b[0;34m.\u001b[0m\u001b[0mis_eager\u001b[0m\u001b[0;34m:\u001b[0m\u001b[0;34m\u001b[0m\u001b[0;34m\u001b[0m\u001b[0m\n\u001b[1;32m   2032\u001b[0m     \u001b[0;32mtry\u001b[0m\u001b[0;34m:\u001b[0m\u001b[0;34m\u001b[0m\u001b[0;34m\u001b[0m\u001b[0m\n\u001b[0;32m-> 2033\u001b[0;31m       _result = pywrap_tfe.TFE_Py_FastPathExecute(\n\u001b[0m\u001b[1;32m   2034\u001b[0m         \u001b[0m_ctx\u001b[0m\u001b[0;34m,\u001b[0m \u001b[0;34m\"MatrixTriangularSolve\"\u001b[0m\u001b[0;34m,\u001b[0m \u001b[0mname\u001b[0m\u001b[0;34m,\u001b[0m \u001b[0mmatrix\u001b[0m\u001b[0;34m,\u001b[0m \u001b[0mrhs\u001b[0m\u001b[0;34m,\u001b[0m \u001b[0;34m\"lower\"\u001b[0m\u001b[0;34m,\u001b[0m \u001b[0mlower\u001b[0m\u001b[0;34m,\u001b[0m\u001b[0;34m\u001b[0m\u001b[0;34m\u001b[0m\u001b[0m\n\u001b[1;32m   2035\u001b[0m         \"adjoint\", adjoint)\n",
      "\u001b[0;31mKeyboardInterrupt\u001b[0m: "
     ]
    }
   ],
   "source": [
    "import tensorflow as tf\n",
    "\n",
    "start_time = time.time()\n",
    "# Instantiate an Adam optimizer with a set learning rate\n",
    "adam_optimizer = tf.optimizers.Adam(learning_rate=0.01)\n",
    "\n",
    "# Run the optimization loop\n",
    "# Perform a number of optimization steps\n",
    "num_iterations = 10000  # Choose an appropriate number of iterations for your problem\n",
    "for i in range(num_iterations):\n",
    "    adam_optimizer.minimize(model.training_loss, model.trainable_variables)\n",
    "    if (i % 1000 ==0):\n",
    "        print(i)\n",
    "        elapsed_time_minutes = (time.time() - start_time) / 60\n",
    "        print(f\"Elapsed time: {elapsed_time_minutes:.2f} minutes\")"
   ]
  },
  {
   "cell_type": "code",
   "execution_count": 32,
   "id": "ba478acc-506f-42c5-9f96-c3173ec63d94",
   "metadata": {},
   "outputs": [
    {
     "name": "stdout",
     "output_type": "stream",
     "text": [
      "53\n"
     ]
    },
    {
     "data": {
      "text/html": [
       "<table>\n",
       "<thead>\n",
       "<tr><th>name                    </th><th>class    </th><th>transform       </th><th>prior  </th><th>trainable  </th><th>shape   </th><th>dtype  </th><th>value                              </th></tr>\n",
       "</thead>\n",
       "<tbody>\n",
       "<tr><td>SGPR.kernel.variance    </td><td>Parameter</td><td>Softplus        </td><td>       </td><td>True       </td><td>()      </td><td>float64</td><td>0.8887179759111207                 </td></tr>\n",
       "<tr><td>SGPR.kernel.lengthscales</td><td>Parameter</td><td>Softplus        </td><td>       </td><td>True       </td><td>()      </td><td>float64</td><td>1.25774                            </td></tr>\n",
       "<tr><td>SGPR.likelihood.variance</td><td>Parameter</td><td>Softplus + Shift</td><td>       </td><td>True       </td><td>()      </td><td>float64</td><td>0.69720960379105                   </td></tr>\n",
       "<tr><td>SGPR.inducing_variable.Z</td><td>Parameter</td><td>Identity        </td><td>       </td><td>True       </td><td>(500, 2)</td><td>float64</td><td>[[1.07811088e-01, 7.33653399e-01...</td></tr>\n",
       "</tbody>\n",
       "</table>"
      ],
      "text/plain": [
       "<IPython.core.display.HTML object>"
      ]
     },
     "metadata": {},
     "output_type": "display_data"
    }
   ],
   "source": [
    "print(i)\n",
    "gpflow.utilities.print_summary(model, \"notebook\")"
   ]
  },
  {
   "cell_type": "code",
   "execution_count": 33,
   "id": "69999af2-0ec4-4c62-a187-b223bee69998",
   "metadata": {},
   "outputs": [
    {
     "name": "stdout",
     "output_type": "stream",
     "text": [
      "0.08476093775570293\n"
     ]
    }
   ],
   "source": [
    "mean, var = model.predict_y(np.array(\n",
    "     model_data.loc[model_data['year'].between(1950,2020),['ordinal_stand_age','tmp_ratio']]\n",
    "))\n",
    "\n",
    "Y_pred = mean.numpy().flatten()\n",
    "Y_true = np.array(model_data.loc[model_data['year'].between(1950,2020),'monthly_mean_ratio'])\n",
    "\n",
    "# Calculate the sum of squares of residuals\n",
    "SS_res = np.sum((Y_true - Y_pred) ** 2)\n",
    "\n",
    "# Calculate the total sum of squares\n",
    "SS_tot = np.sum((Y_true - np.mean(Y_true)) ** 2)\n",
    "\n",
    "# Calculate the R² score\n",
    "r2_score = 1 - (SS_res / SS_tot)\n",
    "\n",
    "print(r2_score)\n",
    "\n"
   ]
  },
  {
   "cell_type": "code",
   "execution_count": null,
   "id": "982f1041-c4b8-4c61-913d-d0a1b40e0da1",
   "metadata": {},
   "outputs": [
    {
     "name": "stderr",
     "output_type": "stream",
     "text": [
      "2024-04-05 18:08:48.952282: W tensorflow/core/kernels/linalg/cholesky_op.cc:56] Cholesky decomposition was not successful. Eigen::LLT failed with error code 1. Filling lower-triangular output with NaNs.\n"
     ]
    }
   ],
   "source": [
    "opt = gpflow.optimizers.Scipy()\n",
    "opt.minimize(model.training_loss, model.trainable_variables)"
   ]
  },
  {
   "cell_type": "code",
   "execution_count": 5,
   "id": "8986e985-c085-4621-92bf-afa03fd9aaa0",
   "metadata": {},
   "outputs": [
    {
     "data": {
      "text/plain": [
       "(<tf.Tensor: shape=(1, 1), dtype=float64, numpy=array([[4.28009566]])>,\n",
       " <tf.Tensor: shape=(1, 1), dtype=float64, numpy=array([[0.30584767]])>)"
      ]
     },
     "execution_count": 5,
     "metadata": {},
     "output_type": "execute_result"
    }
   ],
   "source": [
    "Xnew = np.array([[0.5]])\n",
    "model.predict_f(Xnew)"
   ]
  },
  {
   "cell_type": "code",
   "execution_count": 6,
   "id": "e1e79cf1-9212-419b-92eb-f0194290462a",
   "metadata": {},
   "outputs": [
    {
     "data": {
      "text/plain": [
       "(<tf.Tensor: shape=(1, 1), dtype=float64, numpy=array([[4.28009566]])>,\n",
       " <tf.Tensor: shape=(1, 1), dtype=float64, numpy=array([[0.54585965]])>)"
      ]
     },
     "execution_count": 6,
     "metadata": {},
     "output_type": "execute_result"
    }
   ],
   "source": [
    "model.predict_y(Xnew)"
   ]
  },
  {
   "cell_type": "code",
   "execution_count": 8,
   "id": "930e0e74-194f-46d1-9c5f-e8d2519be0b1",
   "metadata": {},
   "outputs": [],
   "source": [
    "Xplot = np.linspace(-0.1, 1.1, 100)[:, None]\n",
    "\n",
    "f_mean, f_var = model.predict_f(Xplot, full_cov=False)\n",
    "y_mean, y_var = model.predict_y(Xplot)"
   ]
  },
  {
   "cell_type": "code",
   "execution_count": 9,
   "id": "2a5179ef-373d-4d6e-bdc7-d6da3da4c9b4",
   "metadata": {},
   "outputs": [],
   "source": [
    "f_lower = f_mean - 1.96 * np.sqrt(f_var)\n",
    "f_upper = f_mean + 1.96 * np.sqrt(f_var)\n",
    "y_lower = y_mean - 1.96 * np.sqrt(y_var)\n",
    "y_upper = y_mean + 1.96 * np.sqrt(y_var)"
   ]
  },
  {
   "cell_type": "code",
   "execution_count": 10,
   "id": "bcb65c6d-009f-4819-977c-e6ffca6a47a6",
   "metadata": {},
   "outputs": [
    {
     "data": {
      "text/plain": [
       "<matplotlib.legend.Legend at 0x125f0f6cd630>"
      ]
     },
     "execution_count": 10,
     "metadata": {},
     "output_type": "execute_result"
    },
    {
     "data": {
      "image/png": "[encoded data removed]",
      "text/plain": [
       "<Figure size 432x288 with 1 Axes>"
      ]
     },
     "metadata": {
      "needs_background": "light"
     },
     "output_type": "display_data"
    }
   ],
   "source": [
    "plt.plot(X, Y, \"kx\", mew=2, label=\"input data\")\n",
    "plt.plot(Xplot, f_mean, \"-\", color=\"C0\", label=\"mean\")\n",
    "plt.plot(Xplot, f_lower, \"--\", color=\"C0\", label=\"f 95% confidence\")\n",
    "plt.plot(Xplot, f_upper, \"--\", color=\"C0\")\n",
    "plt.fill_between(\n",
    "    Xplot[:, 0], f_lower[:, 0], f_upper[:, 0], color=\"C0\", alpha=0.1\n",
    ")\n",
    "plt.plot(Xplot, y_lower, \".\", color=\"C0\", label=\"Y 95% confidence\")\n",
    "plt.plot(Xplot, y_upper, \".\", color=\"C0\")\n",
    "plt.fill_between(\n",
    "    Xplot[:, 0], y_lower[:, 0], y_upper[:, 0], color=\"C0\", alpha=0.1\n",
    ")\n",
    "plt.legend()"
   ]
  }
 ],
 "metadata": {
  "kernelspec": {
   "display_name": "condaforge",
   "language": "python",
   "name": "condaforge"
  },
  "language_info": {
   "codemirror_mode": {
    "name": "ipython",
    "version": 3
   },
   "file_extension": ".py",
   "mimetype": "text/x-python",
   "name": "python",
   "nbconvert_exporter": "python",
   "pygments_lexer": "ipython3",
   "version": "3.10.14"
  }
 },
 "nbformat": 4,
 "nbformat_minor": 5
}
