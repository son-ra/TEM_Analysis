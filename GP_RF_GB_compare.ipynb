{
 "cells": [
  {
   "cell_type": "code",
   "execution_count": 1,
   "id": "c15852bc-19ee-4316-8ca8-af3051089029",
   "metadata": {},
   "outputs": [
    {
     "name": "stderr",
     "output_type": "stream",
     "text": [
      "2024-06-14 14:51:47.856367: I tensorflow/core/platform/cpu_feature_guard.cc:193] This TensorFlow binary is optimized with oneAPI Deep Neural Network Library (oneDNN) to use the following CPU instructions in performance-critical operations:  AVX2 FMA\n",
      "To enable them in other operations, rebuild TensorFlow with the appropriate compiler flags.\n",
      "2024-06-14 14:51:50.578173: W tensorflow/stream_executor/platform/default/dso_loader.cc:64] Could not load dynamic library 'libcudart.so.11.0'; dlerror: libcudart.so.11.0: cannot open shared object file: No such file or directory; LD_LIBRARY_PATH: /share/apps/22.04/openmpi/4.1.5/lib:/share/apps/22.04/slurm/23.02.7/lib\n",
      "2024-06-14 14:51:50.578205: I tensorflow/stream_executor/cuda/cudart_stub.cc:29] Ignore above cudart dlerror if you do not have a GPU set up on your machine.\n",
      "2024-06-14 14:51:50.792639: E tensorflow/stream_executor/cuda/cuda_blas.cc:2981] Unable to register cuBLAS factory: Attempting to register factory for plugin cuBLAS when one has already been registered\n",
      "2024-06-14 14:51:58.201470: W tensorflow/stream_executor/platform/default/dso_loader.cc:64] Could not load dynamic library 'libnvinfer.so.7'; dlerror: libnvinfer.so.7: cannot open shared object file: No such file or directory; LD_LIBRARY_PATH: /share/apps/22.04/openmpi/4.1.5/lib:/share/apps/22.04/slurm/23.02.7/lib\n",
      "2024-06-14 14:51:58.204976: W tensorflow/stream_executor/platform/default/dso_loader.cc:64] Could not load dynamic library 'libnvinfer_plugin.so.7'; dlerror: libnvinfer_plugin.so.7: cannot open shared object file: No such file or directory; LD_LIBRARY_PATH: /share/apps/22.04/openmpi/4.1.5/lib:/share/apps/22.04/slurm/23.02.7/lib\n",
      "2024-06-14 14:51:58.205003: W tensorflow/compiler/tf2tensorrt/utils/py_utils.cc:38] TF-TRT Warning: Cannot dlopen some TensorRT libraries. If you would like to use Nvidia GPU with TensorRT, please make sure the missing libraries mentioned above are installed properly.\n"
     ]
    }
   ],
   "source": [
    "import matplotlib.pyplot as plt\n",
    "import numpy as np\n",
    "\n",
    "import gpflow\n",
    "import pandas as pd\n",
    "import os\n",
    "import matplotlib.pyplot as plt\n",
    "import re\n",
    "import numpy as np\n",
    "from scipy import stats\n",
    "import matplotlib.pyplot as plt\n",
    "import seaborn as sns\n",
    "import statsmodels.api as sm\n",
    "import time\n",
    "from sklearn.model_selection import train_test_split\n",
    "from sklearn.metrics import mean_squared_error, r2_score\n",
    "import statsmodels.api as sm\n",
    "from sklearn.model_selection import train_test_split\n",
    "from sklearn.metrics import mean_squared_error, r2_score\n",
    "import statsmodels.api as sm\n",
    "from sklearn.ensemble import RandomForestRegressor\n",
    "from sklearn.svm import SVR\n",
    "from sklearn import preprocessing\n",
    "from xgboost import XGBRegressor"
   ]
  },
  {
   "cell_type": "code",
   "execution_count": 2,
   "id": "376d24ec-9c3d-40d0-a838-c51b4481afdf",
   "metadata": {},
   "outputs": [],
   "source": [
    "pfts = [\"Tropical\", \"Temperate_Broadleaf\",\"Temperate_Deciduous\"\n",
    "        ,\"Temperate_Coniferous\",\"Boreal\"]"
   ]
  },
  {
   "cell_type": "code",
   "execution_count": 3,
   "id": "27035ed4-1d3a-435d-ae32-eeefe2252f86",
   "metadata": {},
   "outputs": [],
   "source": [
    "####read in \n",
    "pft = pfts[3]\n",
    "\n",
    "temperate_coniferous_model_data = pd.concat([\n",
    "  pd.read_csv('/home/smmrrr/TEM_Analysis/TEM_Analysis/' + pft + '_trainingset_r_1_9.csv')\n",
    "  , pd.read_csv('/home/smmrrr/TEM_Analysis/TEM_Analysis/' + pft + '_trainingset_r_10_19.csv')\n",
    "  , pd.read_csv('/home/smmrrr/TEM_Analysis/TEM_Analysis/' + pft + '_trainingset_r_20_29.csv')\n",
    "])\n",
    "\n"
   ]
  },
  {
   "cell_type": "code",
   "execution_count": 7,
   "id": "99355084-9e20-4762-af88-0a7571be7e96",
   "metadata": {},
   "outputs": [],
   "source": [
    "future_model_data = pd.read_csv('/home/smmrrr/TEM_Analysis/TEM_Analysis/whole_time_ssp245_'+pft+'_trainingset_r_1_29.csv')\n"
   ]
  },
  {
   "cell_type": "code",
   "execution_count": 8,
   "id": "71be6e47-0c35-4bf4-a370-30c0301539cd",
   "metadata": {},
   "outputs": [
    {
     "data": {
      "text/plain": [
       "Index(['lon', 'lat', 'year', 'stand_age_interval_min', 'current_veg',\n",
       "       'community_type', 'silt_clay', ' AVAILN ', ' GPP ', ' LAI ', ' NCE ',\n",
       "       ' NEP ', ' NETNMIN ', ' NPP ', ' SOILORGC ', ' VEGC ', ' VEGINNPP ',\n",
       "       ' VSM ', 'region', 'ordinal_stand_age'],\n",
       "      dtype='object')"
      ]
     },
     "execution_count": 8,
     "metadata": {},
     "output_type": "execute_result"
    }
   ],
   "source": [
    "temperate_coniferous_model_data.columns\n",
    "\n",
    "future_model_data.columns"
   ]
  },
  {
   "cell_type": "code",
   "execution_count": 9,
   "id": "9d739268-25d3-4078-9b71-db297658e636",
   "metadata": {},
   "outputs": [],
   "source": [
    "temperate_coniferous_model_data = temperate_coniferous_model_data[['lon', 'lat', 'year', 'stand_age_interval_min','ordinal_stand_age'\n",
    "                                                                   , 'current_veg','community_type', 'silt_clay'\n",
    "                                                                  ,' GPP ', ' NPP ', ' SOILORGC ', ' VEGC ']]\n",
    "\n",
    "future_model_data = future_model_data[['lon', 'lat', 'year', 'stand_age_interval_min','ordinal_stand_age'\n",
    "                                                                   , 'current_veg','community_type', 'silt_clay'\n",
    "                                                                  ,' GPP ', ' NPP ', ' SOILORGC ', ' VEGC ']]"
   ]
  },
  {
   "cell_type": "code",
   "execution_count": 11,
   "id": "7cb33c44-d69d-42da-866f-2f300b1bbdbf",
   "metadata": {},
   "outputs": [],
   "source": [
    "input_data = pd.read_csv('/home/smmrrr/TEM_Analysis/TEM_Analysis/global_input_vars.csv')\n",
    "future_input_data = pd.read_csv('/home/smmrrr/TEM_Analysis/TEM_Analysis/whole_time_CanESM5xx1_ssp245_global_input_vars.csv')\n",
    "future_input_data = future_input_data.loc[future_input_data['year'] >= 2014 ]"
   ]
  },
  {
   "cell_type": "code",
   "execution_count": 12,
   "id": "1ea40a79-2b21-4d26-85d0-62c381aa83d5",
   "metadata": {},
   "outputs": [],
   "source": [
    "\n",
    "temperate_coniferous_model_data = pd.merge(temperate_coniferous_model_data, input_data, on = ['lon','lat','year'])\n"
   ]
  },
  {
   "cell_type": "code",
   "execution_count": 14,
   "id": "31a763f7-d77f-408e-bc91-bc6d608c1fde",
   "metadata": {},
   "outputs": [
    {
     "name": "stdout",
     "output_type": "stream",
     "text": [
      "4003609\n",
      "4003609\n"
     ]
    }
   ],
   "source": [
    "print(len(future_model_data))\n",
    "future_model_data = pd.merge(future_model_data, future_input_data, on = ['lon','lat','year'])\n",
    "print(len(future_model_data))\n"
   ]
  },
  {
   "cell_type": "code",
   "execution_count": 19,
   "id": "bdeb0e36-e60d-441a-8db9-513ed141c245",
   "metadata": {},
   "outputs": [
    {
     "data": {
      "text/html": [
       "<div>\n",
       "<style scoped>\n",
       "    .dataframe tbody tr th:only-of-type {\n",
       "        vertical-align: middle;\n",
       "    }\n",
       "\n",
       "    .dataframe tbody tr th {\n",
       "        vertical-align: top;\n",
       "    }\n",
       "\n",
       "    .dataframe thead th {\n",
       "        text-align: right;\n",
       "    }\n",
       "</style>\n",
       "<table border=\"1\" class=\"dataframe\">\n",
       "  <thead>\n",
       "    <tr style=\"text-align: right;\">\n",
       "      <th></th>\n",
       "      <th>tmp_min</th>\n",
       "      <th>GPP</th>\n",
       "      <th>NPP</th>\n",
       "      <th>SOILORGC</th>\n",
       "      <th>VEGC</th>\n",
       "    </tr>\n",
       "  </thead>\n",
       "  <tbody>\n",
       "    <tr>\n",
       "      <th>count</th>\n",
       "      <td>9778.000000</td>\n",
       "      <td>9778.000000</td>\n",
       "      <td>9778.000000</td>\n",
       "      <td>9778.000000</td>\n",
       "      <td>9778.000000</td>\n",
       "    </tr>\n",
       "    <tr>\n",
       "      <th>mean</th>\n",
       "      <td>-32.691900</td>\n",
       "      <td>20.857912</td>\n",
       "      <td>12.315714</td>\n",
       "      <td>3869.672722</td>\n",
       "      <td>989.206262</td>\n",
       "    </tr>\n",
       "    <tr>\n",
       "      <th>std</th>\n",
       "      <td>2.255919</td>\n",
       "      <td>19.242821</td>\n",
       "      <td>11.374210</td>\n",
       "      <td>1587.200134</td>\n",
       "      <td>1099.790989</td>\n",
       "    </tr>\n",
       "    <tr>\n",
       "      <th>min</th>\n",
       "      <td>-40.000000</td>\n",
       "      <td>0.060000</td>\n",
       "      <td>-2.790000</td>\n",
       "      <td>327.530000</td>\n",
       "      <td>0.040000</td>\n",
       "    </tr>\n",
       "    <tr>\n",
       "      <th>25%</th>\n",
       "      <td>-34.200000</td>\n",
       "      <td>4.480000</td>\n",
       "      <td>2.772500</td>\n",
       "      <td>2459.415000</td>\n",
       "      <td>166.615000</td>\n",
       "    </tr>\n",
       "    <tr>\n",
       "      <th>50%</th>\n",
       "      <td>-32.000000</td>\n",
       "      <td>16.350000</td>\n",
       "      <td>9.970000</td>\n",
       "      <td>3968.680000</td>\n",
       "      <td>597.840000</td>\n",
       "    </tr>\n",
       "    <tr>\n",
       "      <th>75%</th>\n",
       "      <td>-30.800000</td>\n",
       "      <td>31.327500</td>\n",
       "      <td>18.425000</td>\n",
       "      <td>5181.342500</td>\n",
       "      <td>1516.542500</td>\n",
       "    </tr>\n",
       "    <tr>\n",
       "      <th>max</th>\n",
       "      <td>-30.100000</td>\n",
       "      <td>113.740000</td>\n",
       "      <td>72.880000</td>\n",
       "      <td>9319.280000</td>\n",
       "      <td>7644.000000</td>\n",
       "    </tr>\n",
       "  </tbody>\n",
       "</table>\n",
       "</div>"
      ],
      "text/plain": [
       "           tmp_min         GPP          NPP     SOILORGC         VEGC \n",
       "count  9778.000000  9778.000000  9778.000000  9778.000000  9778.000000\n",
       "mean    -32.691900    20.857912    12.315714  3869.672722   989.206262\n",
       "std       2.255919    19.242821    11.374210  1587.200134  1099.790989\n",
       "min     -40.000000     0.060000    -2.790000   327.530000     0.040000\n",
       "25%     -34.200000     4.480000     2.772500  2459.415000   166.615000\n",
       "50%     -32.000000    16.350000     9.970000  3968.680000   597.840000\n",
       "75%     -30.800000    31.327500    18.425000  5181.342500  1516.542500\n",
       "max     -30.100000   113.740000    72.880000  9319.280000  7644.000000"
      ]
     },
     "execution_count": 19,
     "metadata": {},
     "output_type": "execute_result"
    }
   ],
   "source": [
    "temperate_coniferous_model_data.loc[temperate_coniferous_model_data['tmp_min']< -30, ['tmp_min', ' GPP ', ' NPP ', ' SOILORGC ', ' VEGC ']].describe()"
   ]
  },
  {
   "cell_type": "code",
   "execution_count": 20,
   "id": "99b33fde-9ac5-4442-936d-b7e13bf4d733",
   "metadata": {},
   "outputs": [
    {
     "name": "stdout",
     "output_type": "stream",
     "text": [
      "5364643\n"
     ]
    }
   ],
   "source": [
    "print(len(temperate_coniferous_model_data))\n"
   ]
  },
  {
   "cell_type": "code",
   "execution_count": 21,
   "id": "8528c538-1b3f-42d9-971c-df3a52b16a12",
   "metadata": {},
   "outputs": [],
   "source": [
    "del future_input_data, input_data"
   ]
  },
  {
   "cell_type": "code",
   "execution_count": 22,
   "id": "5f71cd4e-8d70-439a-a16e-aea50fbd59cd",
   "metadata": {},
   "outputs": [],
   "source": [
    "temperate_coniferous_model_data = temperate_coniferous_model_data.loc[temperate_coniferous_model_data['year']>=1900]\n",
    "# model_data = model_data.loc[model_data['monthly_mean_ratio']<=3]"
   ]
  },
  {
   "cell_type": "code",
   "execution_count": 23,
   "id": "6cb16604-6148-46c6-a7f6-a7ed3966560e",
   "metadata": {},
   "outputs": [
    {
     "data": {
      "text/plain": [
       "Index(['lon', 'lat', 'year', 'stand_age_interval_min', 'ordinal_stand_age',\n",
       "       'current_veg', 'community_type', 'silt_clay', ' GPP ', ' NPP ',\n",
       "       ' SOILORGC ', ' VEGC ', 'tswrf_v11_avg', 'tswrf_v11_min',\n",
       "       'tswrf_v11_max', 'tmp_avg', 'tmp_min', 'tmp_max', 'precip_avg',\n",
       "       'precip_min', 'precip_max', 'dtr_avg', 'dtr_min', 'dtr_max', 'vpr_avg',\n",
       "       'vpr_min', 'vpr_max', 'wind_avg', 'wind_min', 'wind_max', 'Ndep_Trendy',\n",
       "       'Nfer_crop', 'Nfer_pas', 'var_x', 'Area', 's1', 's2', 's3', 'tt',\n",
       "       'soil_text', 'region', 'var_y', 'elev', 'co2'],\n",
       "      dtype='object')"
      ]
     },
     "execution_count": 23,
     "metadata": {},
     "output_type": "execute_result"
    }
   ],
   "source": [
    "temperate_coniferous_model_data.columns"
   ]
  },
  {
   "cell_type": "code",
   "execution_count": 25,
   "id": "06f56984-3dee-4c61-b7d6-8bdfb3644606",
   "metadata": {},
   "outputs": [
    {
     "data": {
      "text/html": [
       "<div>\n",
       "<style scoped>\n",
       "    .dataframe tbody tr th:only-of-type {\n",
       "        vertical-align: middle;\n",
       "    }\n",
       "\n",
       "    .dataframe tbody tr th {\n",
       "        vertical-align: top;\n",
       "    }\n",
       "\n",
       "    .dataframe thead th {\n",
       "        text-align: right;\n",
       "    }\n",
       "</style>\n",
       "<table border=\"1\" class=\"dataframe\">\n",
       "  <thead>\n",
       "    <tr style=\"text-align: right;\">\n",
       "      <th></th>\n",
       "      <th>GPP</th>\n",
       "      <th>NPP</th>\n",
       "      <th>SOILORGC</th>\n",
       "      <th>VEGC</th>\n",
       "    </tr>\n",
       "  </thead>\n",
       "  <tbody>\n",
       "    <tr>\n",
       "      <th>1703261</th>\n",
       "      <td>80.54</td>\n",
       "      <td>37.56</td>\n",
       "      <td>15245.70</td>\n",
       "      <td>858.30</td>\n",
       "    </tr>\n",
       "    <tr>\n",
       "      <th>1849202</th>\n",
       "      <td>92.03</td>\n",
       "      <td>42.03</td>\n",
       "      <td>18853.04</td>\n",
       "      <td>1052.13</td>\n",
       "    </tr>\n",
       "    <tr>\n",
       "      <th>1849204</th>\n",
       "      <td>66.27</td>\n",
       "      <td>34.44</td>\n",
       "      <td>17191.29</td>\n",
       "      <td>1247.20</td>\n",
       "    </tr>\n",
       "    <tr>\n",
       "      <th>1891725</th>\n",
       "      <td>67.07</td>\n",
       "      <td>30.27</td>\n",
       "      <td>19768.28</td>\n",
       "      <td>855.83</td>\n",
       "    </tr>\n",
       "    <tr>\n",
       "      <th>1891737</th>\n",
       "      <td>66.39</td>\n",
       "      <td>39.54</td>\n",
       "      <td>18296.96</td>\n",
       "      <td>996.72</td>\n",
       "    </tr>\n",
       "    <tr>\n",
       "      <th>...</th>\n",
       "      <td>...</td>\n",
       "      <td>...</td>\n",
       "      <td>...</td>\n",
       "      <td>...</td>\n",
       "    </tr>\n",
       "    <tr>\n",
       "      <th>4534782</th>\n",
       "      <td>63.99</td>\n",
       "      <td>30.68</td>\n",
       "      <td>20167.96</td>\n",
       "      <td>1604.69</td>\n",
       "    </tr>\n",
       "    <tr>\n",
       "      <th>4822157</th>\n",
       "      <td>116.03</td>\n",
       "      <td>57.79</td>\n",
       "      <td>15197.00</td>\n",
       "      <td>1220.62</td>\n",
       "    </tr>\n",
       "    <tr>\n",
       "      <th>4827313</th>\n",
       "      <td>113.25</td>\n",
       "      <td>51.81</td>\n",
       "      <td>15746.78</td>\n",
       "      <td>1241.87</td>\n",
       "    </tr>\n",
       "    <tr>\n",
       "      <th>5343312</th>\n",
       "      <td>125.83</td>\n",
       "      <td>67.60</td>\n",
       "      <td>17274.17</td>\n",
       "      <td>1226.39</td>\n",
       "    </tr>\n",
       "    <tr>\n",
       "      <th>5343318</th>\n",
       "      <td>135.55</td>\n",
       "      <td>84.29</td>\n",
       "      <td>15721.69</td>\n",
       "      <td>1714.21</td>\n",
       "    </tr>\n",
       "  </tbody>\n",
       "</table>\n",
       "<p>1094 rows × 4 columns</p>\n",
       "</div>"
      ],
      "text/plain": [
       "           GPP    NPP    SOILORGC     VEGC \n",
       "1703261   80.54  37.56    15245.70   858.30\n",
       "1849202   92.03  42.03    18853.04  1052.13\n",
       "1849204   66.27  34.44    17191.29  1247.20\n",
       "1891725   67.07  30.27    19768.28   855.83\n",
       "1891737   66.39  39.54    18296.96   996.72\n",
       "...         ...    ...         ...      ...\n",
       "4534782   63.99  30.68    20167.96  1604.69\n",
       "4822157  116.03  57.79    15197.00  1220.62\n",
       "4827313  113.25  51.81    15746.78  1241.87\n",
       "5343312  125.83  67.60    17274.17  1226.39\n",
       "5343318  135.55  84.29    15721.69  1714.21\n",
       "\n",
       "[1094 rows x 4 columns]"
      ]
     },
     "execution_count": 25,
     "metadata": {},
     "output_type": "execute_result"
    }
   ],
   "source": [
    "temperate_coniferous_model_data.loc[temperate_coniferous_model_data[' SOILORGC '] > 15000, [' GPP ', ' NPP ', ' SOILORGC ', ' VEGC ']]"
   ]
  },
  {
   "cell_type": "code",
   "execution_count": 24,
   "id": "a5485586-0096-403c-9492-71d6e1c2148f",
   "metadata": {},
   "outputs": [
    {
     "data": {
      "text/html": [
       "<div>\n",
       "<style scoped>\n",
       "    .dataframe tbody tr th:only-of-type {\n",
       "        vertical-align: middle;\n",
       "    }\n",
       "\n",
       "    .dataframe tbody tr th {\n",
       "        vertical-align: top;\n",
       "    }\n",
       "\n",
       "    .dataframe thead th {\n",
       "        text-align: right;\n",
       "    }\n",
       "</style>\n",
       "<table border=\"1\" class=\"dataframe\">\n",
       "  <thead>\n",
       "    <tr style=\"text-align: right;\">\n",
       "      <th></th>\n",
       "      <th>GPP</th>\n",
       "      <th>NPP</th>\n",
       "      <th>SOILORGC</th>\n",
       "      <th>VEGC</th>\n",
       "    </tr>\n",
       "  </thead>\n",
       "  <tbody>\n",
       "    <tr>\n",
       "      <th>1824344</th>\n",
       "      <td>75.55</td>\n",
       "      <td>38.15</td>\n",
       "      <td>35973.85</td>\n",
       "      <td>953.11</td>\n",
       "    </tr>\n",
       "    <tr>\n",
       "      <th>1824362</th>\n",
       "      <td>99.31</td>\n",
       "      <td>49.12</td>\n",
       "      <td>31765.82</td>\n",
       "      <td>1204.87</td>\n",
       "    </tr>\n",
       "    <tr>\n",
       "      <th>1824380</th>\n",
       "      <td>199.90</td>\n",
       "      <td>119.37</td>\n",
       "      <td>24279.27</td>\n",
       "      <td>1872.52</td>\n",
       "    </tr>\n",
       "    <tr>\n",
       "      <th>1824398</th>\n",
       "      <td>239.85</td>\n",
       "      <td>131.58</td>\n",
       "      <td>18827.08</td>\n",
       "      <td>2888.22</td>\n",
       "    </tr>\n",
       "    <tr>\n",
       "      <th>1953214</th>\n",
       "      <td>232.70</td>\n",
       "      <td>126.96</td>\n",
       "      <td>15021.38</td>\n",
       "      <td>1881.30</td>\n",
       "    </tr>\n",
       "    <tr>\n",
       "      <th>...</th>\n",
       "      <td>...</td>\n",
       "      <td>...</td>\n",
       "      <td>...</td>\n",
       "      <td>...</td>\n",
       "    </tr>\n",
       "    <tr>\n",
       "      <th>3826277</th>\n",
       "      <td>163.32</td>\n",
       "      <td>88.46</td>\n",
       "      <td>15220.03</td>\n",
       "      <td>1567.45</td>\n",
       "    </tr>\n",
       "    <tr>\n",
       "      <th>3826346</th>\n",
       "      <td>162.52</td>\n",
       "      <td>88.67</td>\n",
       "      <td>15139.44</td>\n",
       "      <td>1568.08</td>\n",
       "    </tr>\n",
       "    <tr>\n",
       "      <th>3826397</th>\n",
       "      <td>166.90</td>\n",
       "      <td>93.15</td>\n",
       "      <td>19754.30</td>\n",
       "      <td>1651.40</td>\n",
       "    </tr>\n",
       "    <tr>\n",
       "      <th>3826408</th>\n",
       "      <td>182.89</td>\n",
       "      <td>111.91</td>\n",
       "      <td>17903.35</td>\n",
       "      <td>2377.91</td>\n",
       "    </tr>\n",
       "    <tr>\n",
       "      <th>3826547</th>\n",
       "      <td>176.73</td>\n",
       "      <td>107.70</td>\n",
       "      <td>17739.14</td>\n",
       "      <td>2396.37</td>\n",
       "    </tr>\n",
       "  </tbody>\n",
       "</table>\n",
       "<p>142 rows × 4 columns</p>\n",
       "</div>"
      ],
      "text/plain": [
       "           GPP     NPP    SOILORGC     VEGC \n",
       "1824344   75.55   38.15    35973.85   953.11\n",
       "1824362   99.31   49.12    31765.82  1204.87\n",
       "1824380  199.90  119.37    24279.27  1872.52\n",
       "1824398  239.85  131.58    18827.08  2888.22\n",
       "1953214  232.70  126.96    15021.38  1881.30\n",
       "...         ...     ...         ...      ...\n",
       "3826277  163.32   88.46    15220.03  1567.45\n",
       "3826346  162.52   88.67    15139.44  1568.08\n",
       "3826397  166.90   93.15    19754.30  1651.40\n",
       "3826408  182.89  111.91    17903.35  2377.91\n",
       "3826547  176.73  107.70    17739.14  2396.37\n",
       "\n",
       "[142 rows x 4 columns]"
      ]
     },
     "execution_count": 24,
     "metadata": {},
     "output_type": "execute_result"
    }
   ],
   "source": [
    "future_model_data.loc[future_model_data[' SOILORGC '] > 15000, [' GPP ', ' NPP ', ' SOILORGC ', ' VEGC ']]"
   ]
  },
  {
   "cell_type": "code",
   "execution_count": 26,
   "id": "c4feac9e-91be-4628-a1e1-f1bd7703dca7",
   "metadata": {},
   "outputs": [
    {
     "data": {
      "text/html": [
       "<div>\n",
       "<style scoped>\n",
       "    .dataframe tbody tr th:only-of-type {\n",
       "        vertical-align: middle;\n",
       "    }\n",
       "\n",
       "    .dataframe tbody tr th {\n",
       "        vertical-align: top;\n",
       "    }\n",
       "\n",
       "    .dataframe thead th {\n",
       "        text-align: right;\n",
       "    }\n",
       "</style>\n",
       "<table border=\"1\" class=\"dataframe\">\n",
       "  <thead>\n",
       "    <tr style=\"text-align: right;\">\n",
       "      <th></th>\n",
       "      <th>GPP</th>\n",
       "      <th>NPP</th>\n",
       "      <th>SOILORGC</th>\n",
       "      <th>VEGC</th>\n",
       "    </tr>\n",
       "  </thead>\n",
       "  <tbody>\n",
       "    <tr>\n",
       "      <th>count</th>\n",
       "      <td>5.364643e+06</td>\n",
       "      <td>5.364643e+06</td>\n",
       "      <td>5.364643e+06</td>\n",
       "      <td>5.364643e+06</td>\n",
       "    </tr>\n",
       "    <tr>\n",
       "      <th>mean</th>\n",
       "      <td>5.933493e+01</td>\n",
       "      <td>3.011057e+01</td>\n",
       "      <td>3.292819e+03</td>\n",
       "      <td>4.106630e+03</td>\n",
       "    </tr>\n",
       "    <tr>\n",
       "      <th>std</th>\n",
       "      <td>5.149477e+01</td>\n",
       "      <td>2.660748e+01</td>\n",
       "      <td>2.229278e+03</td>\n",
       "      <td>4.506305e+03</td>\n",
       "    </tr>\n",
       "    <tr>\n",
       "      <th>min</th>\n",
       "      <td>0.000000e+00</td>\n",
       "      <td>-3.449000e+01</td>\n",
       "      <td>0.000000e+00</td>\n",
       "      <td>0.000000e+00</td>\n",
       "    </tr>\n",
       "    <tr>\n",
       "      <th>25%</th>\n",
       "      <td>1.410000e+01</td>\n",
       "      <td>6.600000e+00</td>\n",
       "      <td>1.385050e+03</td>\n",
       "      <td>6.663300e+02</td>\n",
       "    </tr>\n",
       "    <tr>\n",
       "      <th>50%</th>\n",
       "      <td>4.833000e+01</td>\n",
       "      <td>2.482000e+01</td>\n",
       "      <td>3.069350e+03</td>\n",
       "      <td>2.628370e+03</td>\n",
       "    </tr>\n",
       "    <tr>\n",
       "      <th>75%</th>\n",
       "      <td>9.222000e+01</td>\n",
       "      <td>4.685000e+01</td>\n",
       "      <td>4.960810e+03</td>\n",
       "      <td>5.961660e+03</td>\n",
       "    </tr>\n",
       "    <tr>\n",
       "      <th>max</th>\n",
       "      <td>3.424400e+02</td>\n",
       "      <td>1.707700e+02</td>\n",
       "      <td>8.217287e+04</td>\n",
       "      <td>3.418184e+04</td>\n",
       "    </tr>\n",
       "  </tbody>\n",
       "</table>\n",
       "</div>"
      ],
      "text/plain": [
       "               GPP           NPP      SOILORGC          VEGC \n",
       "count  5.364643e+06  5.364643e+06  5.364643e+06  5.364643e+06\n",
       "mean   5.933493e+01  3.011057e+01  3.292819e+03  4.106630e+03\n",
       "std    5.149477e+01  2.660748e+01  2.229278e+03  4.506305e+03\n",
       "min    0.000000e+00 -3.449000e+01  0.000000e+00  0.000000e+00\n",
       "25%    1.410000e+01  6.600000e+00  1.385050e+03  6.663300e+02\n",
       "50%    4.833000e+01  2.482000e+01  3.069350e+03  2.628370e+03\n",
       "75%    9.222000e+01  4.685000e+01  4.960810e+03  5.961660e+03\n",
       "max    3.424400e+02  1.707700e+02  8.217287e+04  3.418184e+04"
      ]
     },
     "execution_count": 26,
     "metadata": {},
     "output_type": "execute_result"
    }
   ],
   "source": [
    "temperate_coniferous_model_data[[' GPP ', ' NPP ', ' SOILORGC ', ' VEGC ']].describe()"
   ]
  },
  {
   "cell_type": "code",
   "execution_count": 27,
   "id": "2d6c8f94-a971-4636-99fc-53d525bbc40d",
   "metadata": {},
   "outputs": [
    {
     "data": {
      "text/html": [
       "<div>\n",
       "<style scoped>\n",
       "    .dataframe tbody tr th:only-of-type {\n",
       "        vertical-align: middle;\n",
       "    }\n",
       "\n",
       "    .dataframe tbody tr th {\n",
       "        vertical-align: top;\n",
       "    }\n",
       "\n",
       "    .dataframe thead th {\n",
       "        text-align: right;\n",
       "    }\n",
       "</style>\n",
       "<table border=\"1\" class=\"dataframe\">\n",
       "  <thead>\n",
       "    <tr style=\"text-align: right;\">\n",
       "      <th></th>\n",
       "      <th>GPP</th>\n",
       "      <th>NPP</th>\n",
       "      <th>SOILORGC</th>\n",
       "      <th>VEGC</th>\n",
       "    </tr>\n",
       "  </thead>\n",
       "  <tbody>\n",
       "    <tr>\n",
       "      <th>count</th>\n",
       "      <td>4.003609e+06</td>\n",
       "      <td>4.003609e+06</td>\n",
       "      <td>4.003609e+06</td>\n",
       "      <td>4.003609e+06</td>\n",
       "    </tr>\n",
       "    <tr>\n",
       "      <th>mean</th>\n",
       "      <td>6.651161e+01</td>\n",
       "      <td>3.310790e+01</td>\n",
       "      <td>2.967023e+03</td>\n",
       "      <td>4.455040e+03</td>\n",
       "    </tr>\n",
       "    <tr>\n",
       "      <th>std</th>\n",
       "      <td>5.314009e+01</td>\n",
       "      <td>2.824672e+01</td>\n",
       "      <td>2.074173e+03</td>\n",
       "      <td>4.429519e+03</td>\n",
       "    </tr>\n",
       "    <tr>\n",
       "      <th>min</th>\n",
       "      <td>0.000000e+00</td>\n",
       "      <td>-5.460000e+01</td>\n",
       "      <td>0.000000e+00</td>\n",
       "      <td>0.000000e+00</td>\n",
       "    </tr>\n",
       "    <tr>\n",
       "      <th>25%</th>\n",
       "      <td>2.017000e+01</td>\n",
       "      <td>9.300000e+00</td>\n",
       "      <td>1.323680e+03</td>\n",
       "      <td>1.026940e+03</td>\n",
       "    </tr>\n",
       "    <tr>\n",
       "      <th>50%</th>\n",
       "      <td>5.754000e+01</td>\n",
       "      <td>2.769000e+01</td>\n",
       "      <td>2.527280e+03</td>\n",
       "      <td>3.227640e+03</td>\n",
       "    </tr>\n",
       "    <tr>\n",
       "      <th>75%</th>\n",
       "      <td>1.013300e+02</td>\n",
       "      <td>5.101000e+01</td>\n",
       "      <td>4.390300e+03</td>\n",
       "      <td>6.511100e+03</td>\n",
       "    </tr>\n",
       "    <tr>\n",
       "      <th>max</th>\n",
       "      <td>3.776600e+02</td>\n",
       "      <td>2.161200e+02</td>\n",
       "      <td>8.256628e+04</td>\n",
       "      <td>4.318731e+04</td>\n",
       "    </tr>\n",
       "  </tbody>\n",
       "</table>\n",
       "</div>"
      ],
      "text/plain": [
       "               GPP           NPP      SOILORGC          VEGC \n",
       "count  4.003609e+06  4.003609e+06  4.003609e+06  4.003609e+06\n",
       "mean   6.651161e+01  3.310790e+01  2.967023e+03  4.455040e+03\n",
       "std    5.314009e+01  2.824672e+01  2.074173e+03  4.429519e+03\n",
       "min    0.000000e+00 -5.460000e+01  0.000000e+00  0.000000e+00\n",
       "25%    2.017000e+01  9.300000e+00  1.323680e+03  1.026940e+03\n",
       "50%    5.754000e+01  2.769000e+01  2.527280e+03  3.227640e+03\n",
       "75%    1.013300e+02  5.101000e+01  4.390300e+03  6.511100e+03\n",
       "max    3.776600e+02  2.161200e+02  8.256628e+04  4.318731e+04"
      ]
     },
     "execution_count": 27,
     "metadata": {},
     "output_type": "execute_result"
    }
   ],
   "source": [
    "future_model_data[[' GPP ', ' NPP ', ' SOILORGC ', ' VEGC ']].describe()"
   ]
  },
  {
   "cell_type": "code",
   "execution_count": 30,
   "id": "c7cc1ca0-254b-43e7-a3f7-dc088157f1ad",
   "metadata": {},
   "outputs": [
    {
     "data": {
      "text/plain": [
       "<Axes: >"
      ]
     },
     "execution_count": 30,
     "metadata": {},
     "output_type": "execute_result"
    },
    {
     "data": {
      "image/png": "[encoded data removed]",
      "text/plain": [
       "<Figure size 432x288 with 1 Axes>"
      ]
     },
     "metadata": {
      "needs_background": "light"
     },
     "output_type": "display_data"
    }
   ],
   "source": [
    "temperate_coniferous_model_data[' VEGC '].hist()"
   ]
  },
  {
   "cell_type": "code",
   "execution_count": 32,
   "id": "09296cc5-6d51-4b9a-bc5a-7d3382fb210b",
   "metadata": {},
   "outputs": [
    {
     "data": {
      "text/plain": [
       "<Axes: >"
      ]
     },
     "execution_count": 32,
     "metadata": {},
     "output_type": "execute_result"
    },
    {
     "data": {
      "image/png": "[encoded data removed]",
      "text/plain": [
       "<Figure size 432x288 with 1 Axes>"
      ]
     },
     "metadata": {
      "needs_background": "light"
     },
     "output_type": "display_data"
    }
   ],
   "source": [
    "future_model_data[' VEGC '].hist()"
   ]
  },
  {
   "cell_type": "code",
   "execution_count": 31,
   "id": "7b4f3e71-821a-47e0-9d9a-8f01815794b2",
   "metadata": {},
   "outputs": [
    {
     "data": {
      "text/plain": [
       "<Axes: >"
      ]
     },
     "execution_count": 31,
     "metadata": {},
     "output_type": "execute_result"
    },
    {
     "data": {
      "image/png": "[encoded data removed]",
      "text/plain": [
       "<Figure size 432x288 with 1 Axes>"
      ]
     },
     "metadata": {
      "needs_background": "light"
     },
     "output_type": "display_data"
    }
   ],
   "source": [
    "temperate_coniferous_model_data[' SOILORGC '].hist()"
   ]
  },
  {
   "cell_type": "code",
   "execution_count": 10,
   "id": "60986dd8-b630-4d26-b640-fffb44057ea5",
   "metadata": {},
   "outputs": [],
   "source": [
    "###drop relevant ranges from all pfts\n",
    "\n",
    "temperate_coniferous_model_data=temperate_coniferous_model_data.loc[temperate_coniferous_model_data[' SOILORGC '] < 15000]"
   ]
  },
  {
   "cell_type": "code",
   "execution_count": null,
   "id": "74a73d86-7650-4509-8ab4-24f0aecacc38",
   "metadata": {},
   "outputs": [],
   "source": [
    "#### create a training set for historical, future, and all time"
   ]
  },
  {
   "cell_type": "code",
   "execution_count": 11,
   "id": "ceda3ab3-61b1-484e-92e1-82e1b41fbd90",
   "metadata": {},
   "outputs": [],
   "source": [
    "# Define the features and target variable\n",
    "X = np.array(temperate_coniferous_model_data[['ordinal_stand_age'\n",
    "                         , 'tswrf_v11_avg', 'tswrf_v11_min',\n",
    "       'tswrf_v11_max', 'tmp_avg', 'tmp_min', 'tmp_max', 'precip_avg',\n",
    "       'precip_min', 'precip_max', 'dtr_avg', 'dtr_min', 'dtr_max', 'vpr_avg',\n",
    "       'vpr_min', 'vpr_max', 'wind_avg', 'wind_min', 'wind_max','s1', 's2', 'co2']])\n",
    "Y = np.array(temperate_coniferous_model_data[[' GPP ', ' NPP ', ' SOILORGC ', ' VEGC ']])\n",
    "\n",
    "# Split the data into training and testing sets (80% train, 20% test)\n",
    "X_train, X_test, Y_train, Y_test = train_test_split(X, Y, test_size=0.3, random_state=42)\n",
    "Y = Y.reshape(len(Y),1)\n"
   ]
  },
  {
   "cell_type": "code",
   "execution_count": 12,
   "id": "04000455-374e-4583-858f-bf4e7592b5ae",
   "metadata": {},
   "outputs": [
    {
     "data": {
      "text/plain": [
       "(1038606, 22)"
      ]
     },
     "execution_count": 12,
     "metadata": {},
     "output_type": "execute_result"
    }
   ],
   "source": [
    "X_test.shape"
   ]
  },
  {
   "cell_type": "code",
   "execution_count": 16,
   "id": "cb44afec-2214-49b0-9933-defe9ae930a0",
   "metadata": {},
   "outputs": [
    {
     "name": "stdout",
     "output_type": "stream",
     "text": [
      "training 12 0.1:  0.9428729022357923\n",
      "testing 12 0.1:  0.9284650036206079\n"
     ]
    }
   ],
   "source": [
    "# Initialize XGBRegressor (you can specify hyperparameters as needed)\n",
    "# for depth in range(12, 20):\n",
    "#     for lr in [.1,.3]:\n",
    "depth = 12\n",
    "lr = .1\n",
    "xgb_model = XGBRegressor(max_depth=depth,learning_rate=lr)\n",
    "\n",
    "# Fit the model on the scaled data\n",
    "xgb_model.fit(X_train, Y_train)\n",
    "\n",
    "# Make predictions (as an example, here we predict on the training data itself)\n",
    "# predictions = xgb_model.predict(X_scaled)\n",
    "print(f\"training {depth} {lr}: \",xgb_model.score(X_train, Y_train) )\n",
    "print(f\"testing {depth} {lr}: \",xgb_model.score(X_test, Y_test) )"
   ]
  },
  {
   "cell_type": "code",
   "execution_count": null,
   "id": "62e6d7b6-aac7-4300-ad85-d70b8738cbbf",
   "metadata": {},
   "outputs": [
    {
     "name": "stderr",
     "output_type": "stream",
     "text": [
      "/tmp/ipykernel_155618/2726865445.py:5: DataConversionWarning: A column-vector y was passed when a 1d array was expected. Please change the shape of y to (n_samples,), for example using ravel().\n",
      "  regr.fit(X_train, Y_train)\n"
     ]
    }
   ],
   "source": [
    "# for i in range(5, 20):\n",
    "\n",
    "i = 18\n",
    "regr = RandomForestRegressor(max_depth=i, random_state=0)\n",
    "regr.fit(X_train, Y_train)\n",
    "print(f\"training {i}: \",regr.score(X_train, Y_train) )\n",
    "print(f\"testing {i}: \",regr.score(X_test, Y_test) )"
   ]
  },
  {
   "cell_type": "code",
   "execution_count": 19,
   "id": "d8132e1b-db69-49f4-ab84-20f0967c0d1f",
   "metadata": {},
   "outputs": [],
   "source": [
    "import tensorflow as tf\n",
    "from tensorflow.keras.models import Sequential\n",
    "from tensorflow.keras.layers import Dense, Dropout\n"
   ]
  },
  {
   "cell_type": "code",
   "execution_count": 55,
   "id": "916067b5-c068-474f-b9aa-ec02939881cc",
   "metadata": {},
   "outputs": [
    {
     "name": "stdout",
     "output_type": "stream",
     "text": [
      "Model: \"sequential_1\"\n",
      "_________________________________________________________________\n",
      " Layer (type)                Output Shape              Param #   \n",
      "=================================================================\n",
      " dense_4 (Dense)             (None, 128)               2944      \n",
      "                                                                 \n",
      " dropout_2 (Dropout)         (None, 128)               0         \n",
      "                                                                 \n",
      " dense_5 (Dense)             (None, 64)                8256      \n",
      "                                                                 \n",
      " dropout_3 (Dropout)         (None, 64)                0         \n",
      "                                                                 \n",
      " dense_6 (Dense)             (None, 32)                2080      \n",
      "                                                                 \n",
      " dense_7 (Dense)             (None, 1)                 33        \n",
      "                                                                 \n",
      "=================================================================\n",
      "Total params: 13,313\n",
      "Trainable params: 13,313\n",
      "Non-trainable params: 0\n",
      "_________________________________________________________________\n",
      "Epoch 1/50\n",
      "271/271 [==============================] - 2s 6ms/step - loss: 18744216.0000 - val_loss: 12087107.0000\n",
      "Epoch 2/50\n",
      "271/271 [==============================] - 1s 5ms/step - loss: 10414349.0000 - val_loss: 7923656.5000\n",
      "Epoch 3/50\n",
      "271/271 [==============================] - 1s 5ms/step - loss: 8387808.0000 - val_loss: 7301121.0000\n",
      "Epoch 4/50\n",
      "271/271 [==============================] - 1s 5ms/step - loss: 7866379.0000 - val_loss: 6958586.0000\n",
      "Epoch 5/50\n",
      "271/271 [==============================] - 1s 5ms/step - loss: 7551037.0000 - val_loss: 6688398.0000\n",
      "Epoch 6/50\n",
      "271/271 [==============================] - 1s 5ms/step - loss: 7273003.0000 - val_loss: 6330289.0000\n",
      "Epoch 7/50\n",
      "271/271 [==============================] - 1s 5ms/step - loss: 7008696.0000 - val_loss: 6122890.5000\n",
      "Epoch 8/50\n",
      "271/271 [==============================] - 1s 5ms/step - loss: 6840631.0000 - val_loss: 5971096.5000\n",
      "Epoch 9/50\n",
      "271/271 [==============================] - 1s 5ms/step - loss: 6630741.5000 - val_loss: 5679232.0000\n",
      "Epoch 10/50\n",
      "271/271 [==============================] - 1s 5ms/step - loss: 6507143.0000 - val_loss: 5626369.5000\n",
      "Epoch 11/50\n",
      "271/271 [==============================] - 1s 5ms/step - loss: 6392190.5000 - val_loss: 5610645.0000\n",
      "Epoch 12/50\n",
      "271/271 [==============================] - 1s 5ms/step - loss: 6333586.5000 - val_loss: 5449090.5000\n",
      "Epoch 13/50\n",
      "271/271 [==============================] - 1s 5ms/step - loss: 6228814.5000 - val_loss: 5265437.0000\n",
      "Epoch 14/50\n",
      "271/271 [==============================] - 1s 5ms/step - loss: 6171591.0000 - val_loss: 5257408.0000\n",
      "Epoch 15/50\n",
      "271/271 [==============================] - 1s 5ms/step - loss: 6125129.0000 - val_loss: 5158869.0000\n",
      "Epoch 16/50\n",
      "271/271 [==============================] - 1s 5ms/step - loss: 6084753.0000 - val_loss: 5209550.0000\n",
      "Epoch 17/50\n",
      "271/271 [==============================] - 1s 5ms/step - loss: 6034515.5000 - val_loss: 5132226.5000\n",
      "Epoch 18/50\n",
      "271/271 [==============================] - 1s 5ms/step - loss: 5996414.5000 - val_loss: 5036734.5000\n",
      "Epoch 19/50\n",
      "271/271 [==============================] - 1s 5ms/step - loss: 5936322.0000 - val_loss: 5006718.0000\n",
      "Epoch 20/50\n",
      "271/271 [==============================] - 1s 5ms/step - loss: 5903806.0000 - val_loss: 4963559.5000\n",
      "Epoch 21/50\n",
      "271/271 [==============================] - 1s 5ms/step - loss: 5860277.5000 - val_loss: 4889927.0000\n",
      "Epoch 22/50\n",
      "271/271 [==============================] - 1s 5ms/step - loss: 5838085.0000 - val_loss: 4904503.0000\n",
      "Epoch 23/50\n",
      "271/271 [==============================] - 1s 5ms/step - loss: 5831035.5000 - val_loss: 4868977.5000\n",
      "Epoch 24/50\n",
      "271/271 [==============================] - 1s 5ms/step - loss: 5795686.0000 - val_loss: 5049809.0000\n",
      "Epoch 25/50\n",
      "271/271 [==============================] - 1s 5ms/step - loss: 5791809.5000 - val_loss: 5305806.0000\n",
      "Epoch 26/50\n",
      "271/271 [==============================] - 1s 5ms/step - loss: 5745500.0000 - val_loss: 4799369.5000\n",
      "Epoch 27/50\n",
      "271/271 [==============================] - 1s 5ms/step - loss: 5737781.0000 - val_loss: 5059617.5000\n",
      "Epoch 28/50\n",
      "271/271 [==============================] - 1s 5ms/step - loss: 5747299.0000 - val_loss: 5004742.5000\n",
      "Epoch 29/50\n",
      "271/271 [==============================] - 1s 5ms/step - loss: 5723693.0000 - val_loss: 4940825.5000\n",
      "Epoch 30/50\n",
      "271/271 [==============================] - 1s 5ms/step - loss: 5701937.0000 - val_loss: 4755396.5000\n",
      "Epoch 31/50\n",
      "271/271 [==============================] - 1s 5ms/step - loss: 5674121.0000 - val_loss: 4785285.0000\n",
      "Epoch 32/50\n",
      "271/271 [==============================] - 1s 5ms/step - loss: 5641911.5000 - val_loss: 4793875.0000\n",
      "Epoch 33/50\n",
      "271/271 [==============================] - 1s 5ms/step - loss: 5665858.0000 - val_loss: 4768439.5000\n",
      "Epoch 34/50\n",
      "271/271 [==============================] - 1s 5ms/step - loss: 5655599.0000 - val_loss: 4708747.5000\n",
      "Epoch 35/50\n",
      "271/271 [==============================] - 1s 5ms/step - loss: 5631064.0000 - val_loss: 4759670.0000\n",
      "Epoch 36/50\n",
      "271/271 [==============================] - 1s 5ms/step - loss: 5584643.5000 - val_loss: 5118605.0000\n",
      "Epoch 37/50\n",
      "271/271 [==============================] - 1s 5ms/step - loss: 5630485.5000 - val_loss: 4692811.5000\n",
      "Epoch 38/50\n",
      "271/271 [==============================] - 1s 5ms/step - loss: 5587682.0000 - val_loss: 4637960.0000\n",
      "Epoch 39/50\n",
      "271/271 [==============================] - 1s 5ms/step - loss: 5576727.0000 - val_loss: 4659908.5000\n",
      "Epoch 40/50\n",
      "271/271 [==============================] - 1s 5ms/step - loss: 5567811.5000 - val_loss: 4953488.5000\n",
      "Epoch 41/50\n",
      "271/271 [==============================] - 1s 5ms/step - loss: 5568309.5000 - val_loss: 4748949.5000\n",
      "Epoch 42/50\n",
      "271/271 [==============================] - 1s 5ms/step - loss: 5534068.5000 - val_loss: 4729526.5000\n",
      "Epoch 43/50\n",
      "271/271 [==============================] - 1s 5ms/step - loss: 5550893.5000 - val_loss: 4614469.0000\n",
      "Epoch 44/50\n",
      "271/271 [==============================] - 1s 5ms/step - loss: 5508067.5000 - val_loss: 4953499.5000\n",
      "Epoch 45/50\n",
      "271/271 [==============================] - 1s 5ms/step - loss: 5526724.0000 - val_loss: 4606920.5000\n",
      "Epoch 46/50\n",
      "271/271 [==============================] - 1s 5ms/step - loss: 5501857.0000 - val_loss: 4806809.5000\n",
      "Epoch 47/50\n",
      "271/271 [==============================] - 1s 5ms/step - loss: 5519868.0000 - val_loss: 4697169.0000\n",
      "Epoch 48/50\n",
      "271/271 [==============================] - 1s 5ms/step - loss: 5477752.5000 - val_loss: 4761571.0000\n",
      "Epoch 49/50\n",
      "271/271 [==============================] - 1s 5ms/step - loss: 5482565.0000 - val_loss: 4608271.0000\n",
      "Epoch 50/50\n",
      "271/271 [==============================] - 1s 5ms/step - loss: 5493229.0000 - val_loss: 4672814.5000\n"
     ]
    },
    {
     "data": {
      "text/plain": [
       "<keras.callbacks.History at 0x14c9eee88760>"
      ]
     },
     "execution_count": 55,
     "metadata": {},
     "output_type": "execute_result"
    }
   ],
   "source": [
    "\n",
    "# Example model architecture\n",
    "model = Sequential()\n",
    "# Input layer and first hidden layer\n",
    "model.add(Dense(128, input_dim=22, activation='relu'))  # First hidden layer with 128 neurons\n",
    "model.add(Dropout(0.3))                                 # Dropout layer to reduce overfitting (30% dropout)\n",
    "\n",
    "# Second hidden layer\n",
    "model.add(Dense(64, activation='relu'))                 # Second hidden layer with 64 neurons\n",
    "model.add(Dropout(0.3))                                 # Another dropout layer\n",
    "\n",
    "# Third hidden layer\n",
    "model.add(Dense(32, activation='relu'))                 # Third hidden layer with 32 neurons\n",
    "\n",
    "# Output layer for regression\n",
    "model.add(Dense(1))\n",
    "\n",
    "# Compile the model\n",
    "model.compile(optimizer='adam', loss='mse')\n",
    "\n",
    "# Summary of the model\n",
    "model.summary()\n",
    "\n",
    "# Assuming you have your data in variables X (features) and y (target)\n",
    "# Fit the model\n",
    "model.fit(X_train, Y_train, epochs=50, batch_size=1024, validation_split=0.2, callbacks=[tf.keras.callbacks.EarlyStopping(monitor='val_loss', patience=10)])"
   ]
  },
  {
   "cell_type": "code",
   "execution_count": 56,
   "id": "f5133dfa-2e71-40aa-8803-c419b252b62d",
   "metadata": {},
   "outputs": [
    {
     "name": "stdout",
     "output_type": "stream",
     "text": [
      "97370/97370 [==============================] - 73s 749us/step\n",
      "R²: 0.7769180850443543\n",
      "RMSE: 2152.76862554213\n"
     ]
    }
   ],
   "source": [
    "Y_test=Y_test.reshape(len(Y_test),1)\n",
    "# Step 1: Predict on the validation set\n",
    "y_pred = model.predict(X_test)\n",
    "\n",
    "# Step 2: Calculate R²\n",
    "r2 = r2_score(Y_test, y_pred)\n",
    "print(f'R²: {r2}')\n",
    "\n",
    "# Step 3: Calculate RMSE\n",
    "rmse = np.sqrt(np.mean((y_pred - Y_test) ** 2))\n",
    "print(f'RMSE: {rmse}')"
   ]
  },
  {
   "cell_type": "code",
   "execution_count": 23,
   "id": "384d1d28-ac20-45e7-8317-005e1785ad13",
   "metadata": {},
   "outputs": [
    {
     "data": {
      "text/plain": [
       "(1038606, 1)"
      ]
     },
     "execution_count": 23,
     "metadata": {},
     "output_type": "execute_result"
    }
   ],
   "source": [
    "y_pred.shape"
   ]
  },
  {
   "cell_type": "code",
   "execution_count": 24,
   "id": "42694b05-fc8c-4387-a2b2-c65f80cb3312",
   "metadata": {},
   "outputs": [
    {
     "data": {
      "text/plain": [
       "(1038606,)"
      ]
     },
     "execution_count": 24,
     "metadata": {},
     "output_type": "execute_result"
    }
   ],
   "source": [
    "Y_test.shape"
   ]
  },
  {
   "cell_type": "code",
   "execution_count": 27,
   "id": "82e7269d-1967-43cf-8980-d09edc64073c",
   "metadata": {},
   "outputs": [],
   "source": []
  },
  {
   "cell_type": "code",
   "execution_count": 71,
   "id": "99b72087-6383-4a1a-8598-10e877b39222",
   "metadata": {},
   "outputs": [],
   "source": [
    "# rng = np.random.default_rng(1234)\n",
    "# n_inducing = 500\n",
    "# inducing_variable = rng.choice(X, size=n_inducing, replace=False)\n"
   ]
  },
  {
   "cell_type": "code",
   "execution_count": 34,
   "id": "d8715c71-7f75-471f-98a9-7d206fa7abba",
   "metadata": {},
   "outputs": [
    {
     "data": {
      "text/plain": [
       "240"
      ]
     },
     "execution_count": 34,
     "metadata": {},
     "output_type": "execute_result"
    }
   ],
   "source": [
    "6*40"
   ]
  },
  {
   "cell_type": "code",
   "execution_count": 29,
   "id": "b383390a-e359-443c-bb33-69ef2b422ae0",
   "metadata": {},
   "outputs": [],
   "source": [
    "# Define the features and target variable\n",
    "X = np.array(temperate_coniferous_model_data[['ordinal_stand_age'\n",
    "                         , 'tswrf_v11_avg', 'tswrf_v11_min',\n",
    "       'tswrf_v11_max', 'tmp_avg', 'tmp_min', 'tmp_max', 'precip_avg',\n",
    "       'precip_min', 'precip_max', 'dtr_avg', 'dtr_min', 'dtr_max', 'vpr_avg',\n",
    "       'vpr_min', 'vpr_max', 'wind_avg', 'wind_min', 'wind_max','s1', 's2', 'co2']])\n",
    "Y = np.array(temperate_coniferous_model_data[' VEGC '])\n",
    "\n",
    "# Split the data into training and testing sets (80% train, 20% test)\n",
    "# randomness can be controlled with a defined `random_state`\n",
    "X_train, X_test, Y_train, Y_test = train_test_split(X, Y, test_size=0.9, random_state=42)\n",
    "# Y = np.array(\n",
    "#     model_data.loc[:, 'monthly_mean_ratio']\n",
    "# )\n",
    "# X = np.array(\n",
    "#      # model_data.loc[model_data['year']>=2020,['ordinal_stand_age']]\n",
    "#      model_data.loc[:,['ordinal_stand_age','tmp_ratio']]\n",
    "# )\n",
    "Y = Y.reshape(len(Y),1)\n"
   ]
  },
  {
   "cell_type": "code",
   "execution_count": 30,
   "id": "5e13d4d4-45c5-48b3-ab59-0277a8824b26",
   "metadata": {},
   "outputs": [
    {
     "data": {
      "text/plain": [
       "(346201,)"
      ]
     },
     "execution_count": 30,
     "metadata": {},
     "output_type": "execute_result"
    }
   ],
   "source": [
    "Y_train.shape"
   ]
  },
  {
   "cell_type": "code",
   "execution_count": 31,
   "id": "029930db-6452-4547-b9c0-af00e8d5b7cb",
   "metadata": {},
   "outputs": [
    {
     "name": "stdout",
     "output_type": "stream",
     "text": [
      "[    0.      93.99   651.31  2520.79  5808.63 10741.31 33846.79]\n",
      "[[     0      6     32 ... 346141 346143 346199]]\n",
      "[[     1      3     11 ... 346190 346194 346200]]\n",
      "[[     2     18     19 ... 346192 346197 346198]]\n",
      "[[     5      8     10 ... 346181 346185 346189]]\n",
      "[[     9     16     34 ... 346193 346195 346196]]\n",
      "[[     4      7     12 ... 346152 346166 346187]]\n"
     ]
    }
   ],
   "source": [
    "rng = np.random.default_rng(12345)\n",
    "bin_size = 40\n",
    "# Calculate the percentile values on Y\n",
    "percentiles = [0, 10, 25, 50, 75, 90, 100]\n",
    "percentile_values = np.percentile(Y_train, percentiles)\n",
    "print(percentile_values)\n",
    "# Initialize a list to store the indices of the subsets\n",
    "subset_indices = np.array([])\n",
    "# subset_indices= subset_indices.reshape((0, 1))\n",
    "# For each pair of percentile values, select the indices of 100 points from within that range\n",
    "for i in range(len(percentile_values) - 1):\n",
    "    # Get the value range for the current bin\n",
    "    low, high = percentile_values[i], percentile_values[i+1]\n",
    "    \n",
    "    # Find the indices where Y falls within the current percentile range \n",
    "    # Assuming Y is 1D and has the same length as the rows or columns of X\n",
    "    in_range_indices = np.array(np.where((Y_train >= low) & (Y_train < high)))\n",
    "    print(in_range_indices)\n",
    "    in_range_indices=in_range_indices.reshape(in_range_indices.shape[1],1)\n",
    "    # Randomly select up to 100 indices within this range\n",
    "    # Here we are careful to only take as many indices as are available if there are fewer than 100\n",
    "    selected_indices = rng.choice(in_range_indices, size= bin_size, replace=False)\n",
    "    # selected_indices=selected_indices.reshape()\n",
    "    # Extend the subset_indices list with the selected indices\n",
    "    if (i==0):\n",
    "        subset_indices=selected_indices\n",
    "    else:\n",
    "        subset_indices=np.vstack([subset_indices,selected_indices])\n",
    "# subset_indices.shape\n",
    "# Using the selected indices, we can now reference the corresponding rows from X\n",
    "inducing_variable = X_train[subset_indices.flatten(),:]"
   ]
  },
  {
   "cell_type": "code",
   "execution_count": 32,
   "id": "88c3d371-4e5a-45aa-a7bb-bd0a880c5ae8",
   "metadata": {},
   "outputs": [],
   "source": [
    "# inducing_variable\n",
    "Y_train = Y_train.reshape(len(Y_train),1)\n",
    "Y_test = Y_test.reshape(len(Y_test),1)"
   ]
  },
  {
   "cell_type": "code",
   "execution_count": 33,
   "id": "47374a40-d1c5-4ec5-81ba-1493d339c4bc",
   "metadata": {},
   "outputs": [],
   "source": [
    "model = gpflow.models.SGPR(\n",
    "    (X_train, Y_train),\n",
    "    kernel=gpflow.kernels.RBF(),\n",
    "    # kernel=gpflow.kernels.SquaredExponential(),\n",
    "    inducing_variable=inducing_variable,\n",
    "        # noise_variance=1.0  # Set to some reasonable initial value\n",
    ")"
   ]
  },
  {
   "cell_type": "code",
   "execution_count": 34,
   "id": "895c39ff-f09b-42e9-affe-18f63b06f4ea",
   "metadata": {},
   "outputs": [
    {
     "data": {
      "text/html": [
       "<table>\n",
       "<thead>\n",
       "<tr><th>name                    </th><th>class    </th><th>transform       </th><th>prior  </th><th>trainable  </th><th>shape    </th><th>dtype  </th><th>value                 </th></tr>\n",
       "</thead>\n",
       "<tbody>\n",
       "<tr><td>SGPR.kernel.variance    </td><td>Parameter</td><td>Softplus        </td><td>       </td><td>True       </td><td>()       </td><td>float64</td><td>1.0                   </td></tr>\n",
       "<tr><td>SGPR.kernel.lengthscales</td><td>Parameter</td><td>Softplus        </td><td>       </td><td>True       </td><td>()       </td><td>float64</td><td>1.0                   </td></tr>\n",
       "<tr><td>SGPR.likelihood.variance</td><td>Parameter</td><td>Softplus + Shift</td><td>       </td><td>True       </td><td>()       </td><td>float64</td><td>1.0                   </td></tr>\n",
       "<tr><td>SGPR.inducing_variable.Z</td><td>Parameter</td><td>Identity        </td><td>       </td><td>True       </td><td>(240, 22)</td><td>float64</td><td>[[0., 134.53, 23.52...</td></tr>\n",
       "</tbody>\n",
       "</table>"
      ],
      "text/plain": [
       "<IPython.core.display.HTML object>"
      ]
     },
     "metadata": {},
     "output_type": "display_data"
    },
    {
     "name": "stdout",
     "output_type": "stream",
     "text": [
      "None\n"
     ]
    }
   ],
   "source": [
    "print(gpflow.utilities.print_summary(model, \"notebook\"))"
   ]
  },
  {
   "cell_type": "code",
   "execution_count": 35,
   "id": "3a8ad6de-5bd4-4ed7-be44-cfdc41fd1ff3",
   "metadata": {},
   "outputs": [
    {
     "name": "stdout",
     "output_type": "stream",
     "text": [
      "0\n",
      "Elapsed time: 0.32 minutes\n"
     ]
    },
    {
     "ename": "KeyboardInterrupt",
     "evalue": "",
     "output_type": "error",
     "traceback": [
      "\u001b[0;31m---------------------------------------------------------------------------\u001b[0m",
      "\u001b[0;31mKeyboardInterrupt\u001b[0m                         Traceback (most recent call last)",
      "\u001b[0;32m/tmp/ipykernel_155618/641149758.py\u001b[0m in \u001b[0;36m<cell line: 10>\u001b[0;34m()\u001b[0m\n\u001b[1;32m      9\u001b[0m \u001b[0mnum_iterations\u001b[0m \u001b[0;34m=\u001b[0m \u001b[0;36m1000\u001b[0m  \u001b[0;31m# Choose an appropriate number of iterations for your problem\u001b[0m\u001b[0;34m\u001b[0m\u001b[0;34m\u001b[0m\u001b[0m\n\u001b[1;32m     10\u001b[0m \u001b[0;32mfor\u001b[0m \u001b[0mi\u001b[0m \u001b[0;32min\u001b[0m \u001b[0mrange\u001b[0m\u001b[0;34m(\u001b[0m\u001b[0mnum_iterations\u001b[0m\u001b[0;34m)\u001b[0m\u001b[0;34m:\u001b[0m\u001b[0;34m\u001b[0m\u001b[0;34m\u001b[0m\u001b[0m\n\u001b[0;32m---> 11\u001b[0;31m     \u001b[0madam_optimizer\u001b[0m\u001b[0;34m.\u001b[0m\u001b[0mminimize\u001b[0m\u001b[0;34m(\u001b[0m\u001b[0mmodel\u001b[0m\u001b[0;34m.\u001b[0m\u001b[0mtraining_loss\u001b[0m\u001b[0;34m,\u001b[0m \u001b[0mmodel\u001b[0m\u001b[0;34m.\u001b[0m\u001b[0mtrainable_variables\u001b[0m\u001b[0;34m)\u001b[0m\u001b[0;34m\u001b[0m\u001b[0;34m\u001b[0m\u001b[0m\n\u001b[0m\u001b[1;32m     12\u001b[0m     \u001b[0;32mif\u001b[0m \u001b[0;34m(\u001b[0m\u001b[0mi\u001b[0m \u001b[0;34m%\u001b[0m \u001b[0;36m100\u001b[0m \u001b[0;34m==\u001b[0m\u001b[0;36m0\u001b[0m\u001b[0;34m)\u001b[0m\u001b[0;34m:\u001b[0m\u001b[0;34m\u001b[0m\u001b[0;34m\u001b[0m\u001b[0m\n\u001b[1;32m     13\u001b[0m         \u001b[0mprint\u001b[0m\u001b[0;34m(\u001b[0m\u001b[0mi\u001b[0m\u001b[0;34m)\u001b[0m\u001b[0;34m\u001b[0m\u001b[0;34m\u001b[0m\u001b[0m\n",
      "\u001b[0;32m~/miniconda3/envs/condaforge/lib/python3.10/site-packages/keras/optimizers/optimizer_v2/optimizer_v2.py\u001b[0m in \u001b[0;36mminimize\u001b[0;34m(self, loss, var_list, grad_loss, name, tape)\u001b[0m\n\u001b[1;32m    574\u001b[0m \u001b[0;34m\u001b[0m\u001b[0m\n\u001b[1;32m    575\u001b[0m         \"\"\"\n\u001b[0;32m--> 576\u001b[0;31m         grads_and_vars = self._compute_gradients(\n\u001b[0m\u001b[1;32m    577\u001b[0m             \u001b[0mloss\u001b[0m\u001b[0;34m,\u001b[0m \u001b[0mvar_list\u001b[0m\u001b[0;34m=\u001b[0m\u001b[0mvar_list\u001b[0m\u001b[0;34m,\u001b[0m \u001b[0mgrad_loss\u001b[0m\u001b[0;34m=\u001b[0m\u001b[0mgrad_loss\u001b[0m\u001b[0;34m,\u001b[0m \u001b[0mtape\u001b[0m\u001b[0;34m=\u001b[0m\u001b[0mtape\u001b[0m\u001b[0;34m\u001b[0m\u001b[0;34m\u001b[0m\u001b[0m\n\u001b[1;32m    578\u001b[0m         )\n",
      "\u001b[0;32m~/miniconda3/envs/condaforge/lib/python3.10/site-packages/keras/optimizers/optimizer_v2/optimizer_v2.py\u001b[0m in \u001b[0;36m_compute_gradients\u001b[0;34m(self, loss, var_list, grad_loss, tape)\u001b[0m\n\u001b[1;32m    632\u001b[0m         \u001b[0mvar_list\u001b[0m \u001b[0;34m=\u001b[0m \u001b[0mtf\u001b[0m\u001b[0;34m.\u001b[0m\u001b[0mnest\u001b[0m\u001b[0;34m.\u001b[0m\u001b[0mflatten\u001b[0m\u001b[0;34m(\u001b[0m\u001b[0mvar_list\u001b[0m\u001b[0;34m)\u001b[0m\u001b[0;34m\u001b[0m\u001b[0;34m\u001b[0m\u001b[0m\n\u001b[1;32m    633\u001b[0m         \u001b[0;32mwith\u001b[0m \u001b[0mtf\u001b[0m\u001b[0;34m.\u001b[0m\u001b[0mname_scope\u001b[0m\u001b[0;34m(\u001b[0m\u001b[0mself\u001b[0m\u001b[0;34m.\u001b[0m\u001b[0m_name\u001b[0m \u001b[0;34m+\u001b[0m \u001b[0;34m\"/gradients\"\u001b[0m\u001b[0;34m)\u001b[0m\u001b[0;34m:\u001b[0m\u001b[0;34m\u001b[0m\u001b[0;34m\u001b[0m\u001b[0m\n\u001b[0;32m--> 634\u001b[0;31m             grads_and_vars = self._get_gradients(\n\u001b[0m\u001b[1;32m    635\u001b[0m                 \u001b[0mtape\u001b[0m\u001b[0;34m,\u001b[0m \u001b[0mloss\u001b[0m\u001b[0;34m,\u001b[0m \u001b[0mvar_list\u001b[0m\u001b[0;34m,\u001b[0m \u001b[0mgrad_loss\u001b[0m\u001b[0;34m\u001b[0m\u001b[0;34m\u001b[0m\u001b[0m\n\u001b[1;32m    636\u001b[0m             )\n",
      "\u001b[0;32m~/miniconda3/envs/condaforge/lib/python3.10/site-packages/keras/optimizers/optimizer_v2/optimizer_v2.py\u001b[0m in \u001b[0;36m_get_gradients\u001b[0;34m(self, tape, loss, var_list, grad_loss)\u001b[0m\n\u001b[1;32m    508\u001b[0m     \u001b[0;32mdef\u001b[0m \u001b[0m_get_gradients\u001b[0m\u001b[0;34m(\u001b[0m\u001b[0mself\u001b[0m\u001b[0;34m,\u001b[0m \u001b[0mtape\u001b[0m\u001b[0;34m,\u001b[0m \u001b[0mloss\u001b[0m\u001b[0;34m,\u001b[0m \u001b[0mvar_list\u001b[0m\u001b[0;34m,\u001b[0m \u001b[0mgrad_loss\u001b[0m\u001b[0;34m=\u001b[0m\u001b[0;32mNone\u001b[0m\u001b[0;34m)\u001b[0m\u001b[0;34m:\u001b[0m\u001b[0;34m\u001b[0m\u001b[0;34m\u001b[0m\u001b[0m\n\u001b[1;32m    509\u001b[0m         \u001b[0;34m\"\"\"Called in `minimize` to compute gradients from loss.\"\"\"\u001b[0m\u001b[0;34m\u001b[0m\u001b[0;34m\u001b[0m\u001b[0m\n\u001b[0;32m--> 510\u001b[0;31m         \u001b[0mgrads\u001b[0m \u001b[0;34m=\u001b[0m \u001b[0mtape\u001b[0m\u001b[0;34m.\u001b[0m\u001b[0mgradient\u001b[0m\u001b[0;34m(\u001b[0m\u001b[0mloss\u001b[0m\u001b[0;34m,\u001b[0m \u001b[0mvar_list\u001b[0m\u001b[0;34m,\u001b[0m \u001b[0mgrad_loss\u001b[0m\u001b[0;34m)\u001b[0m\u001b[0;34m\u001b[0m\u001b[0;34m\u001b[0m\u001b[0m\n\u001b[0m\u001b[1;32m    511\u001b[0m         \u001b[0;32mreturn\u001b[0m \u001b[0mlist\u001b[0m\u001b[0;34m(\u001b[0m\u001b[0mzip\u001b[0m\u001b[0;34m(\u001b[0m\u001b[0mgrads\u001b[0m\u001b[0;34m,\u001b[0m \u001b[0mvar_list\u001b[0m\u001b[0;34m)\u001b[0m\u001b[0;34m)\u001b[0m\u001b[0;34m\u001b[0m\u001b[0;34m\u001b[0m\u001b[0m\n\u001b[1;32m    512\u001b[0m \u001b[0;34m\u001b[0m\u001b[0m\n",
      "\u001b[0;32m~/miniconda3/envs/condaforge/lib/python3.10/site-packages/tensorflow/python/eager/backprop.py\u001b[0m in \u001b[0;36mgradient\u001b[0;34m(self, target, sources, output_gradients, unconnected_gradients)\u001b[0m\n\u001b[1;32m   1111\u001b[0m                           for x in output_gradients]\n\u001b[1;32m   1112\u001b[0m \u001b[0;34m\u001b[0m\u001b[0m\n\u001b[0;32m-> 1113\u001b[0;31m     flat_grad = imperative_grad.imperative_grad(\n\u001b[0m\u001b[1;32m   1114\u001b[0m         \u001b[0mself\u001b[0m\u001b[0;34m.\u001b[0m\u001b[0m_tape\u001b[0m\u001b[0;34m,\u001b[0m\u001b[0;34m\u001b[0m\u001b[0;34m\u001b[0m\u001b[0m\n\u001b[1;32m   1115\u001b[0m         \u001b[0mflat_targets\u001b[0m\u001b[0;34m,\u001b[0m\u001b[0;34m\u001b[0m\u001b[0;34m\u001b[0m\u001b[0m\n",
      "\u001b[0;32m~/miniconda3/envs/condaforge/lib/python3.10/site-packages/tensorflow/python/eager/imperative_grad.py\u001b[0m in \u001b[0;36mimperative_grad\u001b[0;34m(tape, target, sources, output_gradients, sources_raw, unconnected_gradients)\u001b[0m\n\u001b[1;32m     65\u001b[0m         \"Unknown value for unconnected_gradients: %r\" % unconnected_gradients)\n\u001b[1;32m     66\u001b[0m \u001b[0;34m\u001b[0m\u001b[0m\n\u001b[0;32m---> 67\u001b[0;31m   return pywrap_tfe.TFE_Py_TapeGradient(\n\u001b[0m\u001b[1;32m     68\u001b[0m       \u001b[0mtape\u001b[0m\u001b[0;34m.\u001b[0m\u001b[0m_tape\u001b[0m\u001b[0;34m,\u001b[0m  \u001b[0;31m# pylint: disable=protected-access\u001b[0m\u001b[0;34m\u001b[0m\u001b[0;34m\u001b[0m\u001b[0m\n\u001b[1;32m     69\u001b[0m       \u001b[0mtarget\u001b[0m\u001b[0;34m,\u001b[0m\u001b[0;34m\u001b[0m\u001b[0;34m\u001b[0m\u001b[0m\n",
      "\u001b[0;32m~/miniconda3/envs/condaforge/lib/python3.10/site-packages/tensorflow/python/eager/backprop.py\u001b[0m in \u001b[0;36m_gradient_function\u001b[0;34m(op_name, attr_tuple, num_inputs, inputs, outputs, out_grads, skip_input_indices, forward_pass_name_scope)\u001b[0m\n\u001b[1;32m    158\u001b[0m       \u001b[0mgradient_name_scope\u001b[0m \u001b[0;34m+=\u001b[0m \u001b[0mforward_pass_name_scope\u001b[0m \u001b[0;34m+\u001b[0m \u001b[0;34m\"/\"\u001b[0m\u001b[0;34m\u001b[0m\u001b[0;34m\u001b[0m\u001b[0m\n\u001b[1;32m    159\u001b[0m     \u001b[0;32mwith\u001b[0m \u001b[0mops\u001b[0m\u001b[0;34m.\u001b[0m\u001b[0mname_scope\u001b[0m\u001b[0;34m(\u001b[0m\u001b[0mgradient_name_scope\u001b[0m\u001b[0;34m)\u001b[0m\u001b[0;34m:\u001b[0m\u001b[0;34m\u001b[0m\u001b[0;34m\u001b[0m\u001b[0m\n\u001b[0;32m--> 160\u001b[0;31m       \u001b[0;32mreturn\u001b[0m \u001b[0mgrad_fn\u001b[0m\u001b[0;34m(\u001b[0m\u001b[0mmock_op\u001b[0m\u001b[0;34m,\u001b[0m \u001b[0;34m*\u001b[0m\u001b[0mout_grads\u001b[0m\u001b[0;34m)\u001b[0m\u001b[0;34m\u001b[0m\u001b[0;34m\u001b[0m\u001b[0m\n\u001b[0m\u001b[1;32m    161\u001b[0m   \u001b[0;32melse\u001b[0m\u001b[0;34m:\u001b[0m\u001b[0;34m\u001b[0m\u001b[0;34m\u001b[0m\u001b[0m\n\u001b[1;32m    162\u001b[0m     \u001b[0;32mreturn\u001b[0m \u001b[0mgrad_fn\u001b[0m\u001b[0;34m(\u001b[0m\u001b[0mmock_op\u001b[0m\u001b[0;34m,\u001b[0m \u001b[0;34m*\u001b[0m\u001b[0mout_grads\u001b[0m\u001b[0;34m)\u001b[0m\u001b[0;34m\u001b[0m\u001b[0;34m\u001b[0m\u001b[0m\n",
      "\u001b[0;32m~/miniconda3/envs/condaforge/lib/python3.10/site-packages/tensorflow/python/ops/math_grad.py\u001b[0m in \u001b[0;36m_RealDivGrad\u001b[0;34m(op, grad)\u001b[0m\n\u001b[1;32m   1464\u001b[0m           array_ops.reshape(\n\u001b[1;32m   1465\u001b[0m               math_ops.reduce_sum(\n\u001b[0;32m-> 1466\u001b[0;31m                   grad * math_ops.realdiv(math_ops.realdiv(-x, y), y), ry), sy))  # pylint: disable=invalid-unary-operand-type\n\u001b[0m\u001b[1;32m   1467\u001b[0m \u001b[0;34m\u001b[0m\u001b[0m\n\u001b[1;32m   1468\u001b[0m \u001b[0;34m\u001b[0m\u001b[0m\n",
      "\u001b[0;32m~/miniconda3/envs/condaforge/lib/python3.10/site-packages/tensorflow/python/ops/gen_math_ops.py\u001b[0m in \u001b[0;36mreal_div\u001b[0;34m(x, y, name)\u001b[0m\n\u001b[1;32m   7869\u001b[0m   \u001b[0;32mif\u001b[0m \u001b[0mtld\u001b[0m\u001b[0;34m.\u001b[0m\u001b[0mis_eager\u001b[0m\u001b[0;34m:\u001b[0m\u001b[0;34m\u001b[0m\u001b[0;34m\u001b[0m\u001b[0m\n\u001b[1;32m   7870\u001b[0m     \u001b[0;32mtry\u001b[0m\u001b[0;34m:\u001b[0m\u001b[0;34m\u001b[0m\u001b[0;34m\u001b[0m\u001b[0m\n\u001b[0;32m-> 7871\u001b[0;31m       _result = pywrap_tfe.TFE_Py_FastPathExecute(\n\u001b[0m\u001b[1;32m   7872\u001b[0m         _ctx, \"RealDiv\", name, x, y)\n\u001b[1;32m   7873\u001b[0m       \u001b[0;32mreturn\u001b[0m \u001b[0m_result\u001b[0m\u001b[0;34m\u001b[0m\u001b[0;34m\u001b[0m\u001b[0m\n",
      "\u001b[0;31mKeyboardInterrupt\u001b[0m: "
     ]
    }
   ],
   "source": [
    "import tensorflow as tf\n",
    "\n",
    "start_time = time.time()\n",
    "# Instantiate an Adam optimizer with a set learning rate\n",
    "adam_optimizer = tf.optimizers.Adam(learning_rate=0.1)\n",
    "\n",
    "# Run the optimization loop\n",
    "# Perform a number of optimization steps\n",
    "num_iterations = 1000  # Choose an appropriate number of iterations for your problem\n",
    "for i in range(num_iterations):\n",
    "    adam_optimizer.minimize(model.training_loss, model.trainable_variables)\n",
    "    if (i % 100 ==0):\n",
    "        print(i)\n",
    "        elapsed_time_minutes = (time.time() - start_time) / 60\n",
    "        print(f\"Elapsed time: {elapsed_time_minutes:.2f} minutes\")"
   ]
  },
  {
   "cell_type": "code",
   "execution_count": 36,
   "id": "2f6f2026-6ccc-4963-a9d0-9467aeedd48b",
   "metadata": {},
   "outputs": [
    {
     "data": {
      "text/plain": [
       "22"
      ]
     },
     "execution_count": 36,
     "metadata": {},
     "output_type": "execute_result"
    }
   ],
   "source": [
    "X_train.shape[1]"
   ]
  },
  {
   "cell_type": "code",
   "execution_count": 37,
   "id": "ef1dccb1-52c0-4b30-916f-69794e2cf8fb",
   "metadata": {},
   "outputs": [
    {
     "data": {
      "text/plain": [
       "28"
      ]
     },
     "execution_count": 37,
     "metadata": {},
     "output_type": "execute_result"
    }
   ],
   "source": [
    "i"
   ]
  },
  {
   "cell_type": "code",
   "execution_count": 32,
   "id": "fbf41335-cf28-4ea4-b297-f1a49db54fc5",
   "metadata": {},
   "outputs": [
    {
     "data": {
      "text/html": [
       "<table>\n",
       "<thead>\n",
       "<tr><th>name                    </th><th>class    </th><th>transform       </th><th>prior  </th><th>trainable  </th><th>shape  </th><th>dtype  </th><th>value                                                 </th></tr>\n",
       "</thead>\n",
       "<tbody>\n",
       "<tr><td>SGPR.kernel.variance    </td><td>Parameter</td><td>Softplus        </td><td>       </td><td>True       </td><td>()     </td><td>float64</td><td>10.20754                                              </td></tr>\n",
       "<tr><td>SGPR.kernel.lengthscales</td><td>Parameter</td><td>Softplus        </td><td>       </td><td>True       </td><td>()     </td><td>float64</td><td>12.64812                                              </td></tr>\n",
       "<tr><td>SGPR.likelihood.variance</td><td>Parameter</td><td>Softplus + Shift</td><td>       </td><td>True       </td><td>()     </td><td>float64</td><td>7.36865                                               </td></tr>\n",
       "<tr><td>SGPR.inducing_variable.Z</td><td>Parameter</td><td>Identity        </td><td>       </td><td>True       </td><td>(72, 8)</td><td>float64</td><td>[[-2.38590000e+00, -8.24101000e+00, -4.74807000e+00...</td></tr>\n",
       "</tbody>\n",
       "</table>"
      ],
      "text/plain": [
       "<IPython.core.display.HTML object>"
      ]
     },
     "metadata": {},
     "output_type": "display_data"
    },
    {
     "name": "stdout",
     "output_type": "stream",
     "text": [
      "None\n",
      "INFO:tensorflow:Assets written to: /home/smmrrr/TEM_Analysis/TEM_Analysis/models/test_gp/assets\n"
     ]
    }
   ],
   "source": [
    "print(gpflow.utilities.print_summary(model, \"notebook\"))\n",
    "###save model\n",
    "model.compiled_predict_f = tf.function(\n",
    "    lambda Xnew: model.predict_f(Xnew, full_cov=False),\n",
    "    input_signature=[tf.TensorSpec(shape=[None, X_train.shape[1]], dtype=tf.float64)],\n",
    ")\n",
    "model.compiled_predict_y = tf.function(\n",
    "    lambda Xnew: model.predict_y(Xnew, full_cov=False),\n",
    "    input_signature=[tf.TensorSpec(shape=[None, X_train.shape[1]], dtype=tf.float64)],\n",
    ")\n",
    "\n",
    "save_dir = \"/home/smmrrr/TEM_Analysis/TEM_Analysis/models/\"\n",
    "save_name = \"test_gp\"\n",
    "tf.saved_model.save(model, save_dir+save_name)\n"
   ]
  },
  {
   "cell_type": "code",
   "execution_count": 28,
   "id": "3f53ff7d-1700-457a-b68c-c0372835b4f7",
   "metadata": {},
   "outputs": [],
   "source": [
    "# loaded_model = tf.saved_model.load( save_dir+save_name)"
   ]
  },
  {
   "cell_type": "code",
   "execution_count": 38,
   "id": "6ca24128-0790-40bc-a809-6aa324c56293",
   "metadata": {},
   "outputs": [
    {
     "ename": "MemoryError",
     "evalue": "Unable to allocate 70.6 TiB for an array with shape (3115816, 3115816) and data type float64",
     "output_type": "error",
     "traceback": [
      "\u001b[0;31m---------------------------------------------------------------------------\u001b[0m",
      "\u001b[0;31mMemoryError\u001b[0m                               Traceback (most recent call last)",
      "\u001b[0;32m/tmp/ipykernel_155618/3938286459.py\u001b[0m in \u001b[0;36m<cell line: 9>\u001b[0;34m()\u001b[0m\n\u001b[1;32m      7\u001b[0m \u001b[0;34m\u001b[0m\u001b[0m\n\u001b[1;32m      8\u001b[0m \u001b[0;31m# Calculate the sum of squares of residuals\u001b[0m\u001b[0;34m\u001b[0m\u001b[0;34m\u001b[0m\u001b[0m\n\u001b[0;32m----> 9\u001b[0;31m \u001b[0mSS_res\u001b[0m \u001b[0;34m=\u001b[0m \u001b[0mnp\u001b[0m\u001b[0;34m.\u001b[0m\u001b[0msum\u001b[0m\u001b[0;34m(\u001b[0m\u001b[0;34m(\u001b[0m\u001b[0mY_test\u001b[0m \u001b[0;34m-\u001b[0m \u001b[0mY_pred\u001b[0m\u001b[0;34m)\u001b[0m \u001b[0;34m**\u001b[0m \u001b[0;36m2\u001b[0m\u001b[0;34m)\u001b[0m\u001b[0;34m\u001b[0m\u001b[0;34m\u001b[0m\u001b[0m\n\u001b[0m\u001b[1;32m     10\u001b[0m \u001b[0;34m\u001b[0m\u001b[0m\n\u001b[1;32m     11\u001b[0m \u001b[0;31m# Calculate the total sum of squares\u001b[0m\u001b[0;34m\u001b[0m\u001b[0;34m\u001b[0m\u001b[0m\n",
      "\u001b[0;31mMemoryError\u001b[0m: Unable to allocate 70.6 TiB for an array with shape (3115816, 3115816) and data type float64"
     ]
    }
   ],
   "source": [
    "mean, var =  model.predict_y(\n",
    "X_test\n",
    ")\n",
    "\n",
    "Y_pred = mean.numpy().flatten()\n",
    "# Y_test = np.array(model_data.loc[model_data['year'].between(1950,2020),'monthly_mean_ratio'])\n",
    "\n",
    "# Calculate the sum of squares of residuals\n",
    "# SS_res = np.sum((Y_test - Y_pred) ** 2)\n",
    "\n",
    "# # Calculate the total sum of squares\n",
    "# SS_tot = np.sum((Y_test - np.mean(Y_test)) ** 2)\n",
    "# rmse = np.sqrt(SS_res/len(Y_test))\n",
    "# # Calculate the R² score\n",
    "# r2_score = 1 - (SS_res / SS_tot)\n",
    "# print(\"Test RMSE: \",rmse)\n",
    "# print(\"Test R2: \",r2_score)\n",
    "\n"
   ]
  },
  {
   "cell_type": "code",
   "execution_count": 43,
   "id": "f1831ca1-05e8-411f-bc9f-192ebcec0fba",
   "metadata": {},
   "outputs": [
    {
     "data": {
      "text/plain": [
       "(3115816, 22)"
      ]
     },
     "execution_count": 43,
     "metadata": {},
     "output_type": "execute_result"
    }
   ],
   "source": [
    "X_test.shape"
   ]
  },
  {
   "cell_type": "code",
   "execution_count": 49,
   "id": "01fdfded-1705-4e20-aa15-b75db80708c2",
   "metadata": {},
   "outputs": [],
   "source": [
    "mean, var =  model.predict_y(\n",
    "X_test\n",
    ")\n"
   ]
  },
  {
   "cell_type": "code",
   "execution_count": 50,
   "id": "9cd7ae91-8230-405c-8a66-401627f72001",
   "metadata": {},
   "outputs": [],
   "source": [
    "mean=np.array(mean)"
   ]
  },
  {
   "cell_type": "code",
   "execution_count": 53,
   "id": "a976a2b0-8e5e-4a1f-8d32-58c9bd2869ad",
   "metadata": {},
   "outputs": [
    {
     "data": {
      "text/plain": [
       "1.2684391502320138"
      ]
     },
     "execution_count": 53,
     "metadata": {},
     "output_type": "execute_result"
    }
   ],
   "source": [
    "mean.mean()"
   ]
  },
  {
   "cell_type": "code",
   "execution_count": 54,
   "id": "2df20f45-a9af-40fd-90dc-f2e1ea659b22",
   "metadata": {},
   "outputs": [
    {
     "data": {
      "text/plain": [
       "4065.522745486254"
      ]
     },
     "execution_count": 54,
     "metadata": {},
     "output_type": "execute_result"
    }
   ],
   "source": [
    "Y_test.mean()"
   ]
  },
  {
   "cell_type": "code",
   "execution_count": 51,
   "id": "bcba498f-499a-4608-9148-80c84fe8ac11",
   "metadata": {},
   "outputs": [
    {
     "name": "stdout",
     "output_type": "stream",
     "text": [
      "R²: -0.7948079932275038\n"
     ]
    }
   ],
   "source": [
    "# Step 2: Calculate R²\n",
    "r2 = r2_score(Y_test, mean)\n",
    "print(f'R²: {r2}')\n",
    "\n",
    "# # Step 3: Calculate RMSE\n",
    "# rmse = np.sqrt(np.mean((y_pred - Y_test) ** 2))\n",
    "# print(f'RMSE: {rmse}')"
   ]
  },
  {
   "cell_type": "code",
   "execution_count": 20,
   "id": "a13818ba-3cd5-4104-9fef-aa605099d7be",
   "metadata": {},
   "outputs": [
    {
     "name": "stdout",
     "output_type": "stream",
     "text": [
      "Train RMSE:  2753.2375472308922\n",
      "Train R2:  0.06238171334554565\n"
     ]
    }
   ],
   "source": [
    "mean, var = model.predict_y(\n",
    "#     np.array(\n",
    "#      model_data.loc[model_data['year'].between(1950,2020),[['tmp_ratio', 'co2_ratio', 'ordinal_stand_age']]]\n",
    "# )\n",
    "X_train\n",
    ")\n",
    "\n",
    "Y_pred = mean.numpy().flatten()\n",
    "# Y_test = np.array(model_data.loc[model_data['year'].between(1950,2020),'monthly_mean_ratio'])\n",
    "\n",
    "# Calculate the sum of squares of residuals\n",
    "SS_res = np.sum((Y_train - Y_pred) ** 2)\n",
    "\n",
    "# Calculate the total sum of squares\n",
    "SS_tot = np.sum((Y_train - np.mean(Y_train)) ** 2)\n",
    "rmse = np.sqrt(SS_res/len(Y_test))\n",
    "# Calculate the R² score\n",
    "r2_score = 1 - (SS_res / SS_tot)\n",
    "print(\"Train RMSE: \",rmse)\n",
    "print(\"Train R2: \",r2_score)\n",
    "\n"
   ]
  }
 ],
 "metadata": {
  "kernelspec": {
   "display_name": "condaforge",
   "language": "python",
   "name": "condaforge"
  },
  "language_info": {
   "codemirror_mode": {
    "name": "ipython",
    "version": 3
   },
   "file_extension": ".py",
   "mimetype": "text/x-python",
   "name": "python",
   "nbconvert_exporter": "python",
   "pygments_lexer": "ipython3",
   "version": "3.10.14"
  }
 },
 "nbformat": 4,
 "nbformat_minor": 5
}
